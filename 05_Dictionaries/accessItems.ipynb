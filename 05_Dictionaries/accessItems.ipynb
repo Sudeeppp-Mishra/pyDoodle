{
 "cells": [
  {
   "cell_type": "markdown",
   "id": "82d9db56",
   "metadata": {},
   "source": [
    "## Accessing Items\n",
    "- items can be accessed using key name, inside square brackets"
   ]
  },
  {
   "cell_type": "code",
   "execution_count": 1,
   "id": "67797f62",
   "metadata": {},
   "outputs": [
    {
     "name": "stdout",
     "output_type": "stream",
     "text": [
      "Ram\n"
     ]
    }
   ],
   "source": [
    "newdict = {\n",
    "    \"name\": \"Ram\",\n",
    "    \"age\": 19\n",
    "}\n",
    "name = newdict[\"name\"]\n",
    "print(name)"
   ]
  },
  {
   "cell_type": "markdown",
   "id": "21bfb5ec",
   "metadata": {},
   "source": [
    "We can also use the method `get()` that gives us the same result"
   ]
  },
  {
   "cell_type": "code",
   "execution_count": 2,
   "id": "b68bc1e8",
   "metadata": {},
   "outputs": [
    {
     "name": "stdout",
     "output_type": "stream",
     "text": [
      "Ram\n"
     ]
    }
   ],
   "source": [
    "nameee = newdict.get(\"name\")\n",
    "print(nameee)"
   ]
  },
  {
   "cell_type": "markdown",
   "id": "a31223db",
   "metadata": {},
   "source": [
    "## Get Keys\n",
    "- `keys()` method returns a list of all the keys in the dictionary"
   ]
  },
  {
   "cell_type": "code",
   "execution_count": 4,
   "id": "fff86c04",
   "metadata": {},
   "outputs": [
    {
     "name": "stdout",
     "output_type": "stream",
     "text": [
      "dict_keys(['Name', 'Country', 'Percentage'])\n"
     ]
    }
   ],
   "source": [
    "newdict1 = {\n",
    "    \"Name\": \"Krishna\",\n",
    "    \"Country\": \"Nepal\",\n",
    "    \"Percentage\": 100\n",
    "}\n",
    "dictKeys = newdict1.keys();\n",
    "print(dictKeys)"
   ]
  },
  {
   "cell_type": "markdown",
   "id": "d39c4b70",
   "metadata": {},
   "source": [
    "Also any changes in the dictionary will also be reflected in the keys list and we get to see the update as well..."
   ]
  },
  {
   "cell_type": "code",
   "execution_count": 6,
   "id": "64eeda79",
   "metadata": {},
   "outputs": [
    {
     "name": "stdout",
     "output_type": "stream",
     "text": [
      "dict_keys(['Name', 'Age'])\n",
      "dict_keys(['Name', 'Age', 'Color'])\n"
     ]
    }
   ],
   "source": [
    "newdict2 = {\n",
    "    \"Name\": \"Ram\",\n",
    "    \"Age\": 18\n",
    "}\n",
    "dictKeys = newdict2.keys();\n",
    "print(dictKeys)\n",
    "\n",
    "newdict2[\"Color\"]=\"Blue\"\n",
    "print(dictKeys)"
   ]
  },
  {
   "cell_type": "markdown",
   "id": "e928da94",
   "metadata": {},
   "source": [
    "## Get Values\n",
    "`values()` method returns a lit fo all values in the dictionary"
   ]
  },
  {
   "cell_type": "code",
   "execution_count": 7,
   "id": "fa75f20c",
   "metadata": {},
   "outputs": [
    {
     "name": "stdout",
     "output_type": "stream",
     "text": [
      "dict_values(['Ram', 18, 'Blue'])\n"
     ]
    }
   ],
   "source": [
    "dictValues = newdict2.values()\n",
    "print(dictValues)"
   ]
  },
  {
   "cell_type": "markdown",
   "id": "60f0aa9f",
   "metadata": {},
   "source": [
    "Here also any change will be reflected on value list as well..."
   ]
  },
  {
   "cell_type": "code",
   "execution_count": 8,
   "id": "c2e013f0",
   "metadata": {},
   "outputs": [
    {
     "name": "stdout",
     "output_type": "stream",
     "text": [
      "dict_values(['Ram', 18, 'Blue'])\n",
      "dict_values(['Ram', 18, 'Blue', 'CS'])\n"
     ]
    }
   ],
   "source": [
    "dictValues = newdict2.values()\n",
    "print(dictValues)\n",
    "\n",
    "newdict2[\"Subject\"]=\"CS\"\n",
    "\n",
    "print(dictValues)"
   ]
  },
  {
   "cell_type": "markdown",
   "id": "a7fc6037",
   "metadata": {},
   "source": [
    "## Get Items\n",
    "`items()` method returns each itm in a dictionary, as tuples in a list."
   ]
  },
  {
   "cell_type": "code",
   "execution_count": 14,
   "id": "47549324",
   "metadata": {},
   "outputs": [
    {
     "name": "stdout",
     "output_type": "stream",
     "text": [
      "dict_items([('College', 'ABC'), ('Faculty', 'Science'), ('Year', 2018)])\n"
     ]
    }
   ],
   "source": [
    "newdict3 = {\n",
    "    \"College\": \"ABC\",\n",
    "    \"Faculty\": \"Science\",\n",
    "    \"Year\": 2018\n",
    "}\n",
    "dictItems = newdict3.items()\n",
    "print(dictItems)"
   ]
  },
  {
   "cell_type": "markdown",
   "id": "b42f1b4d",
   "metadata": {},
   "source": [
    "here as well like the changes will be reflected on the items.."
   ]
  },
  {
   "cell_type": "code",
   "execution_count": 16,
   "id": "169616f9",
   "metadata": {},
   "outputs": [
    {
     "name": "stdout",
     "output_type": "stream",
     "text": [
      "dict_items([('College', 'ABC'), ('Faculty', 'Science'), ('Year', 2018)])\n",
      "dict_items([('College', 'ABC'), ('Faculty', 'Science'), ('Year', 2018), ('Pass Pecentage', 90)])\n",
      "dict_items([('College', 'DEF'), ('Faculty', 'Science'), ('Year', 2018), ('Pass Pecentage', 90)])\n"
     ]
    }
   ],
   "source": [
    "dictItems = newdict3.items()\n",
    "print(dictItems)\n",
    "newdict3[\"Pass Pecentage\"]=90\n",
    "print(dictItems)\n",
    "newdict3[\"College\"]=\"DEF\"\n",
    "print(dictItems)"
   ]
  },
  {
   "cell_type": "markdown",
   "id": "d0ee2619",
   "metadata": {},
   "source": [
    "## Checking if Key exists\n",
    "`in` keyword can be used"
   ]
  },
  {
   "cell_type": "code",
   "execution_count": 18,
   "id": "f3356bf2",
   "metadata": {},
   "outputs": [
    {
     "name": "stdout",
     "output_type": "stream",
     "text": [
      "Yes, 'Python' one of the keys\n"
     ]
    }
   ],
   "source": [
    "dictMarks = {\n",
    "    \"Maths\": 90,\n",
    "    \"Sci\": 95,\n",
    "    \"Java\": 99,\n",
    "    \"Python\": 100\n",
    "}\n",
    "if \"Python\" in dictMarks:\n",
    "    print(\"Yes, 'Python' one of the keys\")"
   ]
  }
 ],
 "metadata": {
  "kernelspec": {
   "display_name": "Python 3",
   "language": "python",
   "name": "python3"
  },
  "language_info": {
   "codemirror_mode": {
    "name": "ipython",
    "version": 3
   },
   "file_extension": ".py",
   "mimetype": "text/x-python",
   "name": "python",
   "nbconvert_exporter": "python",
   "pygments_lexer": "ipython3",
   "version": "3.11.4"
  }
 },
 "nbformat": 4,
 "nbformat_minor": 5
}
