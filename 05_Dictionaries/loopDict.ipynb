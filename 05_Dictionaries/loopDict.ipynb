{
 "cells": [
  {
   "cell_type": "markdown",
   "id": "6853c843",
   "metadata": {},
   "source": [
    "## Loop through a Dictionary\n",
    "we can loop using  `for` loop\n",
    "\n",
    "When looping through a dictionary, the return value are the keys of the dictionary, but there are methods to return the values as well"
   ]
  },
  {
   "cell_type": "markdown",
   "id": "2f15a0bc",
   "metadata": {},
   "source": [
    "### Printing keys"
   ]
  },
  {
   "cell_type": "code",
   "execution_count": 1,
   "id": "34cc2987",
   "metadata": {},
   "outputs": [
    {
     "name": "stdout",
     "output_type": "stream",
     "text": [
      "name\n",
      "age\n"
     ]
    }
   ],
   "source": [
    "thisdict = {\n",
    "    \"name\": \"Krishna\", \n",
    "    \"age\": 18\n",
    "}\n",
    "for x in thisdict:\n",
    "    print(x)"
   ]
  },
  {
   "cell_type": "markdown",
   "id": "bfd89979",
   "metadata": {},
   "source": [
    "### Priniting values"
   ]
  },
  {
   "cell_type": "code",
   "execution_count": 2,
   "id": "6ab57adf",
   "metadata": {},
   "outputs": [
    {
     "name": "stdout",
     "output_type": "stream",
     "text": [
      "Krishna\n",
      "18\n"
     ]
    }
   ],
   "source": [
    "for x in thisdict:\n",
    "    print(thisdict[x])"
   ]
  },
  {
   "cell_type": "markdown",
   "id": "b44d5189",
   "metadata": {},
   "source": [
    "we can also use `values()` method to return values of a dictionary and `keys()` method to return the keys of a dicitonary"
   ]
  },
  {
   "cell_type": "code",
   "execution_count": 3,
   "id": "58b2b94d",
   "metadata": {},
   "outputs": [
    {
     "name": "stdout",
     "output_type": "stream",
     "text": [
      "Krishna\n",
      "18\n"
     ]
    }
   ],
   "source": [
    "for x in thisdict.values():\n",
    "    print(x)"
   ]
  },
  {
   "cell_type": "code",
   "execution_count": 4,
   "id": "d5f567a8",
   "metadata": {},
   "outputs": [
    {
     "name": "stdout",
     "output_type": "stream",
     "text": [
      "name\n",
      "age\n"
     ]
    }
   ],
   "source": [
    "for x in thisdict.keys():\n",
    "    print(x)"
   ]
  },
  {
   "cell_type": "markdown",
   "id": "028b721c",
   "metadata": {},
   "source": [
    "We can loop through both keys and values by using the  `items()` method"
   ]
  },
  {
   "cell_type": "code",
   "execution_count": 5,
   "id": "f6085725",
   "metadata": {},
   "outputs": [
    {
     "name": "stdout",
     "output_type": "stream",
     "text": [
      "name Krishna\n",
      "age 18\n"
     ]
    }
   ],
   "source": [
    "for x, y in thisdict.items():\n",
    "    print(x, y)"
   ]
  }
 ],
 "metadata": {
  "kernelspec": {
   "display_name": "Python 3",
   "language": "python",
   "name": "python3"
  },
  "language_info": {
   "codemirror_mode": {
    "name": "ipython",
    "version": 3
   },
   "file_extension": ".py",
   "mimetype": "text/x-python",
   "name": "python",
   "nbconvert_exporter": "python",
   "pygments_lexer": "ipython3",
   "version": "3.11.4"
  }
 },
 "nbformat": 4,
 "nbformat_minor": 5
}
