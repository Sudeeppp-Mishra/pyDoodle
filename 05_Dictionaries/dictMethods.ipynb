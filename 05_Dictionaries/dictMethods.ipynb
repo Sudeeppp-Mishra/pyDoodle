{
 "cells": [
  {
   "cell_type": "markdown",
   "id": "7d1215c3",
   "metadata": {},
   "source": [
    "# Built-in methods we can use on dictionaries\n",
    "\n",
    "### - `clear()` : Removes all the elements from the dictioanry\n",
    "### - `copy()` : Returns a copy of the dictionary\n",
    "### - `fromkeys()` : Returns a dictionary with the specified keys and value\n",
    "### - `get()` : Returns the value of the specified key\n",
    "### - `items()` : Returns a list containing a tuple for each key value pair\n",
    "### - `keys()` : Returns a list containing a tuple for each key value pair\n",
    "### - `pop()` : Removes the element with the specified key\n",
    "### - `popitem()` : Removes the last inserted key-value pair\n",
    "### - `setdefault()` : Returns the value of the specified key. If the key does not exist: insert the key, with the specified value\n",
    "### - `update()` : Updates the dictionary with the specified key-value pairs\n",
    "### - `values()` : Returns a list of all the values in the dictionary"
   ]
  }
 ],
 "metadata": {
  "language_info": {
   "name": "python"
  }
 },
 "nbformat": 4,
 "nbformat_minor": 5
}
