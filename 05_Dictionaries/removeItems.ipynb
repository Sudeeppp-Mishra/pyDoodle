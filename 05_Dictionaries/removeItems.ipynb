{
 "cells": [
  {
   "cell_type": "markdown",
   "id": "151b2746",
   "metadata": {},
   "source": [
    "# Removing Items"
   ]
  },
  {
   "cell_type": "markdown",
   "id": "cc92296e",
   "metadata": {},
   "source": [
    "`pop()` removes the item with the specified key name"
   ]
  },
  {
   "cell_type": "code",
   "execution_count": 1,
   "id": "06921540",
   "metadata": {},
   "outputs": [],
   "source": [
    "thisdict = {\n",
    "    \"brand\": \"Ford\",\n",
    "    \"model\": \"Mustag\",\n",
    "    \"year\": 1964\n",
    "}"
   ]
  },
  {
   "cell_type": "code",
   "execution_count": 2,
   "id": "70c88fb2",
   "metadata": {},
   "outputs": [
    {
     "data": {
      "text/plain": [
       "'Mustag'"
      ]
     },
     "execution_count": 2,
     "metadata": {},
     "output_type": "execute_result"
    }
   ],
   "source": [
    "thisdict.pop(\"model\")"
   ]
  },
  {
   "cell_type": "code",
   "execution_count": 3,
   "id": "f07b8e65",
   "metadata": {},
   "outputs": [
    {
     "name": "stdout",
     "output_type": "stream",
     "text": [
      "{'brand': 'Ford', 'year': 1964}\n"
     ]
    }
   ],
   "source": [
    "print(thisdict)"
   ]
  },
  {
   "cell_type": "markdown",
   "id": "5fbe207b",
   "metadata": {},
   "source": [
    "`popitem()` removes the last inserted item"
   ]
  },
  {
   "cell_type": "code",
   "execution_count": 4,
   "id": "d2785660",
   "metadata": {},
   "outputs": [
    {
     "name": "stdout",
     "output_type": "stream",
     "text": [
      "{'name': 'ram'}\n"
     ]
    }
   ],
   "source": [
    "newdict = {\n",
    "    'name': 'ram',\n",
    "    'age': 18\n",
    "}\n",
    "\n",
    "newdict.popitem();\n",
    "print(newdict)"
   ]
  },
  {
   "cell_type": "markdown",
   "id": "aa8c039a",
   "metadata": {},
   "source": [
    "`del` keyword removes the item with the specified key name"
   ]
  },
  {
   "cell_type": "code",
   "execution_count": 5,
   "id": "24eee87c",
   "metadata": {},
   "outputs": [
    {
     "name": "stdout",
     "output_type": "stream",
     "text": [
      "{'name': 'krishna', 'facutly': 'sci'}\n"
     ]
    }
   ],
   "source": [
    "dictionary = {\n",
    "    \"name\": \"krishna\",\n",
    "    \"age\": 18,\n",
    "    \"facutly\": \"sci\"\n",
    "}\n",
    "\n",
    "del dictionary[\"age\"]\n",
    "print(dictionary)"
   ]
  },
  {
   "cell_type": "markdown",
   "id": "e852105f",
   "metadata": {},
   "source": [
    "#### `del()` keyword can also delete the dicitionary completely"
   ]
  },
  {
   "cell_type": "code",
   "execution_count": null,
   "id": "eb65ac54",
   "metadata": {},
   "outputs": [
    {
     "ename": "NameError",
     "evalue": "name 'dictionary' is not defined",
     "output_type": "error",
     "traceback": [
      "\u001b[31m---------------------------------------------------------------------------\u001b[39m",
      "\u001b[31mNameError\u001b[39m                                 Traceback (most recent call last)",
      "\u001b[36mCell\u001b[39m\u001b[36m \u001b[39m\u001b[32mIn[6]\u001b[39m\u001b[32m, line 2\u001b[39m\n\u001b[32m      1\u001b[39m \u001b[38;5;28;01mdel\u001b[39;00m dictionary\n\u001b[32m----> \u001b[39m\u001b[32m2\u001b[39m \u001b[38;5;28mprint\u001b[39m(\u001b[43mdictionary\u001b[49m)\n",
      "\u001b[31mNameError\u001b[39m: name 'dictionary' is not defined"
     ]
    }
   ],
   "source": [
    "del dictionary\n",
    "print(dictionary) # This causes an error because \"dictionary\" no logner exists"
   ]
  },
  {
   "cell_type": "markdown",
   "id": "193375fd",
   "metadata": {},
   "source": [
    "`clear() ` method empties the dictionary"
   ]
  },
  {
   "cell_type": "code",
   "execution_count": 9,
   "id": "c44d40bb",
   "metadata": {},
   "outputs": [],
   "source": [
    "thisdictionary = {\n",
    "    \"name\": \"ram\",\n",
    "    \"age\": 18\n",
    "}\n",
    "\n",
    "thisdictionary.clear()"
   ]
  },
  {
   "cell_type": "code",
   "execution_count": 10,
   "id": "2ec54157",
   "metadata": {},
   "outputs": [
    {
     "name": "stdout",
     "output_type": "stream",
     "text": [
      "{}\n"
     ]
    }
   ],
   "source": [
    "print(thisdictionary)"
   ]
  }
 ],
 "metadata": {
  "kernelspec": {
   "display_name": "Python 3",
   "language": "python",
   "name": "python3"
  },
  "language_info": {
   "codemirror_mode": {
    "name": "ipython",
    "version": 3
   },
   "file_extension": ".py",
   "mimetype": "text/x-python",
   "name": "python",
   "nbconvert_exporter": "python",
   "pygments_lexer": "ipython3",
   "version": "3.11.4"
  }
 },
 "nbformat": 4,
 "nbformat_minor": 5
}
