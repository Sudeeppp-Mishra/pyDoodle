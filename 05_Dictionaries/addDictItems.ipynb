{
 "cells": [
  {
   "cell_type": "markdown",
   "id": "79f06dea",
   "metadata": {},
   "source": [
    "# Adding Items\n",
    "using a new index key and assigning value to it"
   ]
  },
  {
   "cell_type": "code",
   "execution_count": 1,
   "id": "a2123288",
   "metadata": {},
   "outputs": [
    {
     "name": "stdout",
     "output_type": "stream",
     "text": [
      "{'name': 'Ram', 'age': 19, 'fav color': 'Blue'}\n"
     ]
    }
   ],
   "source": [
    "thisDict = {\n",
    "    \"name\": \"Ram\",\n",
    "    \"age\": 19\n",
    "}\n",
    "thisDict[\"fav color\"]=\"Blue\"\n",
    "print(thisDict)"
   ]
  },
  {
   "cell_type": "markdown",
   "id": "1b69f6a7",
   "metadata": {},
   "source": [
    "## Update Dict\n",
    "`update()` method also updates the dictionary wtih the items from a given argument. If the item does not exist, the item will be added\n",
    "The arguement must be a dictionary, or an iterable object with key:value pairs."
   ]
  },
  {
   "cell_type": "code",
   "execution_count": 3,
   "id": "3598a341",
   "metadata": {},
   "outputs": [
    {
     "name": "stdout",
     "output_type": "stream",
     "text": [
      "{'name': 'Ram', 'age': 19, 'fav color': 'Blue', 'hobby': 'Singing'}\n"
     ]
    }
   ],
   "source": [
    "thisDict.update({\"hobby\": \"Singing\"})\n",
    "print(thisDict)"
   ]
  }
 ],
 "metadata": {
  "kernelspec": {
   "display_name": "Python 3",
   "language": "python",
   "name": "python3"
  },
  "language_info": {
   "codemirror_mode": {
    "name": "ipython",
    "version": 3
   },
   "file_extension": ".py",
   "mimetype": "text/x-python",
   "name": "python",
   "nbconvert_exporter": "python",
   "pygments_lexer": "ipython3",
   "version": "3.11.4"
  }
 },
 "nbformat": 4,
 "nbformat_minor": 5
}
