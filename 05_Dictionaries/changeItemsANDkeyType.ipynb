{
 "cells": [
  {
   "cell_type": "markdown",
   "id": "f987474d",
   "metadata": {},
   "source": [
    "## Change Dictionary Items\n",
    "### Change Values - by refferint to its key name"
   ]
  },
  {
   "cell_type": "code",
   "execution_count": 1,
   "id": "56a3f4e4",
   "metadata": {},
   "outputs": [
    {
     "name": "stdout",
     "output_type": "stream",
     "text": [
      "{'Ram': 'Hari', 'Age': 140}\n",
      "{'Ram': 'Hari', 'Age': 14}\n"
     ]
    }
   ],
   "source": [
    "newDict = {\n",
    "    \"Ram\": \"Hari\",\n",
    "    \"Age\": 140\n",
    "}\n",
    "print(newDict)\n",
    "newDict[\"Age\"] = 14\n",
    "print(newDict)"
   ]
  },
  {
   "cell_type": "markdown",
   "id": "475df879",
   "metadata": {},
   "source": [
    "## Update Dictionry\n",
    "`update()` method updates the dictionry with the items from given argument.\n",
    "The argument must be a dictionary, or an iterable object with key:value pairs."
   ]
  },
  {
   "cell_type": "code",
   "execution_count": 2,
   "id": "aa3530c2",
   "metadata": {},
   "outputs": [
    {
     "name": "stdout",
     "output_type": "stream",
     "text": [
      "{'name': 'Shiva', 'class': 20, 'age': 19}\n"
     ]
    }
   ],
   "source": [
    "newDict1 = {\n",
    "    \"name\": \"Shiva\",\n",
    "    \"class\": \"not known\",\n",
    "    \"age\": 19\n",
    "}\n",
    "newDict1.update({\"class\": 20})\n",
    "print(newDict1)"
   ]
  },
  {
   "cell_type": "markdown",
   "id": "3c0c0f25",
   "metadata": {},
   "source": [
    "Printing types of value and keys"
   ]
  },
  {
   "cell_type": "code",
   "execution_count": 9,
   "id": "e14d7f9f",
   "metadata": {},
   "outputs": [
    {
     "name": "stdout",
     "output_type": "stream",
     "text": [
      "Key: name, Type of key: <class 'str'>, Value: Shiva, Type of value: <class 'str'>\n",
      "Key: class, Type of key: <class 'str'>, Value: 20, Type of value: <class 'int'>\n",
      "Key: age, Type of key: <class 'str'>, Value: 19, Type of value: <class 'int'>\n"
     ]
    }
   ],
   "source": [
    "for key, value in newDict1.items():\n",
    "    print(f\"Key: {key}, Type of key: {type(key)}, Value: {value}, Type of value: {type(value)}\")"
   ]
  },
  {
   "cell_type": "markdown",
   "id": "45dc0d80",
   "metadata": {},
   "source": [
    "## dictionary with different type of keys"
   ]
  },
  {
   "cell_type": "code",
   "execution_count": 10,
   "id": "ca0ae0a1",
   "metadata": {},
   "outputs": [
    {
     "name": "stdout",
     "output_type": "stream",
     "text": [
      "{'name': 'Alice', 42: 'Answer', 3.14: 'pi', (1, 2): 'tuple key'}\n"
     ]
    }
   ],
   "source": [
    "example = {\n",
    "    'name': 'Alice',     # string\n",
    "    42: 'Answer',         # int\n",
    "    3.14: 'pi',           # float\n",
    "    (1, 2): 'tuple key'   # tuple\n",
    "}\n",
    "print(example)"
   ]
  },
  {
   "cell_type": "markdown",
   "id": "df2b70ac",
   "metadata": {},
   "source": [
    "# Key type can't be mutable types like lists, dicts"
   ]
  },
  {
   "cell_type": "code",
   "execution_count": 11,
   "id": "c382a9a8",
   "metadata": {},
   "outputs": [
    {
     "ename": "TypeError",
     "evalue": "unhashable type: 'list'",
     "output_type": "error",
     "traceback": [
      "\u001b[31m---------------------------------------------------------------------------\u001b[39m",
      "\u001b[31mTypeError\u001b[39m                                 Traceback (most recent call last)",
      "\u001b[36mCell\u001b[39m\u001b[36m \u001b[39m\u001b[32mIn[11]\u001b[39m\u001b[32m, line 1\u001b[39m\n\u001b[32m----> \u001b[39m\u001b[32m1\u001b[39m my_dict = {[\u001b[32m1\u001b[39m, \u001b[32m2\u001b[39m]: \u001b[33m'\u001b[39m\u001b[33mList as key\u001b[39m\u001b[33m'\u001b[39m}  \u001b[38;5;66;03m# ❌ Error!\u001b[39;00m\n\u001b[32m      2\u001b[39m my_dict = {{\u001b[33m'\u001b[39m\u001b[33ma\u001b[39m\u001b[33m'\u001b[39m: \u001b[32m1\u001b[39m}: \u001b[33m'\u001b[39m\u001b[33mDict as key\u001b[39m\u001b[33m'\u001b[39m}  \u001b[38;5;66;03m# ❌ Error!my_dict = {[1, 2]: 'List as key'}  # ❌ Error!\u001b[39;00m\n\u001b[32m      3\u001b[39m my_dict = {{\u001b[33m'\u001b[39m\u001b[33ma\u001b[39m\u001b[33m'\u001b[39m: \u001b[32m1\u001b[39m}: \u001b[33m'\u001b[39m\u001b[33mDict as key\u001b[39m\u001b[33m'\u001b[39m}  \u001b[38;5;66;03m# ❌ Error!\u001b[39;00m\n",
      "\u001b[31mTypeError\u001b[39m: unhashable type: 'list'"
     ]
    }
   ],
   "source": [
    "my_dict = {[1, 2]: 'List as key'}  # ❌ Error!\n",
    "my_dict = {{'a': 1}: 'Dict as key'}  # ❌ Error!my_dict = {[1, 2]: 'List as key'}  # ❌ Error!\n",
    "my_dict = {{'a': 1}: 'Dict as key'}  # ❌ Error!"
   ]
  }
 ],
 "metadata": {
  "kernelspec": {
   "display_name": "Python 3",
   "language": "python",
   "name": "python3"
  },
  "language_info": {
   "codemirror_mode": {
    "name": "ipython",
    "version": 3
   },
   "file_extension": ".py",
   "mimetype": "text/x-python",
   "name": "python",
   "nbconvert_exporter": "python",
   "pygments_lexer": "ipython3",
   "version": "3.11.4"
  }
 },
 "nbformat": 4,
 "nbformat_minor": 5
}
