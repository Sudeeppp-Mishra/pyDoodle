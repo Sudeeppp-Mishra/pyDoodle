{
 "cells": [
  {
   "cell_type": "markdown",
   "id": "255081e2",
   "metadata": {},
   "source": [
    "## Dictionary\n",
    "Dictionaries are used to store data values in key:value pairs\n",
    "\n",
    "A dictionary is a collection which is ordered*, changeable and do not allow duplicats."
   ]
  },
  {
   "cell_type": "markdown",
   "id": "079f7f43",
   "metadata": {},
   "source": [
    "## Creating a dictionary"
   ]
  },
  {
   "cell_type": "code",
   "execution_count": 1,
   "id": "a757b33b",
   "metadata": {},
   "outputs": [
    {
     "name": "stdout",
     "output_type": "stream",
     "text": [
      "{'brand': 'Apple', 'model': 'M4', 'year': 2024}\n"
     ]
    }
   ],
   "source": [
    "thisdict = {\n",
    "    \"brand\": \"Apple\",\n",
    "    \"model\": \"M4\",\n",
    "    \"year\": 2024\n",
    "}\n",
    "print(thisdict)"
   ]
  },
  {
   "cell_type": "markdown",
   "id": "0bfc38d5",
   "metadata": {},
   "source": [
    "## Dictionary Items\n",
    "- ordered\n",
    "- changeable\n",
    "- no duplicates\n",
    "\n",
    "presented in key:value pairs, and can be referred to by using the key name"
   ]
  },
  {
   "cell_type": "code",
   "execution_count": 2,
   "id": "3ac09542",
   "metadata": {},
   "outputs": [
    {
     "name": "stdout",
     "output_type": "stream",
     "text": [
      "18\n"
     ]
    }
   ],
   "source": [
    "thisdict = {\n",
    "    \"name\": \"Ram\",\n",
    "    \"age\": 18\n",
    "}\n",
    "print(thisdict[\"age\"])"
   ]
  },
  {
   "cell_type": "markdown",
   "id": "5fa76803",
   "metadata": {},
   "source": [
    "## Changeable\n",
    "- we can change, add or remove items after dictionary has been created"
   ]
  },
  {
   "cell_type": "code",
   "execution_count": 3,
   "id": "1ee17c62",
   "metadata": {},
   "outputs": [
    {
     "name": "stdout",
     "output_type": "stream",
     "text": [
      "{'name': 'Ram', 'age': 20}\n"
     ]
    }
   ],
   "source": [
    "thisdict = {\n",
    "    \"name\": \"Ram\",\n",
    "    \"age\": 19\n",
    "}\n",
    "thisdict[\"age\"] = 20\n",
    "print(thisdict)"
   ]
  },
  {
   "cell_type": "markdown",
   "id": "32a36807",
   "metadata": {},
   "source": [
    "## Duplicates not allowed\n",
    "can't have two items with the same key"
   ]
  },
  {
   "cell_type": "code",
   "execution_count": 5,
   "id": "252ed1f1",
   "metadata": {},
   "outputs": [
    {
     "name": "stdout",
     "output_type": "stream",
     "text": [
      "{'name': 'Ram', 'age': 18}\n"
     ]
    }
   ],
   "source": [
    "thisdictt = {\n",
    "    \"name\": \"Ram\",\n",
    "    \"age\": 19,\n",
    "    \"age\": 18\n",
    "}\n",
    "print(thisdictt)"
   ]
  },
  {
   "cell_type": "markdown",
   "id": "5188c005",
   "metadata": {},
   "source": [
    "## Dictionary Length\n",
    "- using `len()` function"
   ]
  },
  {
   "cell_type": "code",
   "execution_count": 7,
   "id": "33ce6bef",
   "metadata": {},
   "outputs": [
    {
     "name": "stdout",
     "output_type": "stream",
     "text": [
      "2\n",
      "2\n"
     ]
    }
   ],
   "source": [
    "print(len(thisdict))\n",
    "print(len(thisdictt))"
   ]
  },
  {
   "cell_type": "markdown",
   "id": "398f1e68",
   "metadata": {},
   "source": [
    "Values in dictionary items can have any data types..."
   ]
  },
  {
   "cell_type": "code",
   "execution_count": 8,
   "id": "1d2fc00d",
   "metadata": {},
   "outputs": [
    {
     "name": "stdout",
     "output_type": "stream",
     "text": [
      "{'name': 'ram', 'studies': True, 'year': 2, 'fav color': ['red', 'blue']}\n"
     ]
    }
   ],
   "source": [
    "thisdict = {\n",
    "    \"name\": \"ram\",\n",
    "    \"studies\": True,\n",
    "    \"year\": 2,\n",
    "    \"fav color\":['red', 'blue']\n",
    "}\n",
    "print(thisdict)"
   ]
  },
  {
   "cell_type": "markdown",
   "id": "5ea15748",
   "metadata": {},
   "source": [
    "## `type()`\n",
    "dictionaries are defined as objects with the data type 'dict':"
   ]
  },
  {
   "cell_type": "code",
   "execution_count": 9,
   "id": "deaa967b",
   "metadata": {},
   "outputs": [
    {
     "name": "stdout",
     "output_type": "stream",
     "text": [
      "<class 'dict'>\n"
     ]
    }
   ],
   "source": [
    "print(type(thisdict))"
   ]
  },
  {
   "cell_type": "markdown",
   "id": "a10ac463",
   "metadata": {},
   "source": [
    "Dictionary can be made with the use of `dict()` constructor"
   ]
  },
  {
   "cell_type": "code",
   "execution_count": 10,
   "id": "f59bf667",
   "metadata": {},
   "outputs": [
    {
     "name": "stdout",
     "output_type": "stream",
     "text": [
      "{'name': 'ram', 'age': 18, 'country': 'Nepal'}\n"
     ]
    }
   ],
   "source": [
    "newdict = dict(name=\"ram\", age=18, country=\"Nepal\")\n",
    "print(newdict)"
   ]
  }
 ],
 "metadata": {
  "kernelspec": {
   "display_name": "Python 3",
   "language": "python",
   "name": "python3"
  },
  "language_info": {
   "codemirror_mode": {
    "name": "ipython",
    "version": 3
   },
   "file_extension": ".py",
   "mimetype": "text/x-python",
   "name": "python",
   "nbconvert_exporter": "python",
   "pygments_lexer": "ipython3",
   "version": "3.11.4"
  }
 },
 "nbformat": 4,
 "nbformat_minor": 5
}
