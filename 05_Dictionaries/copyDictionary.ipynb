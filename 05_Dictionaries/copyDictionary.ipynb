{
 "cells": [
  {
   "cell_type": "markdown",
   "id": "3fe6a77b",
   "metadata": {},
   "source": [
    "### Copy a Dictionary\n",
    "\n",
    "We cannot copy a dictionary simply by typing `dict2 = dict2`, cuz: `dict2` will only be a reference to `dict1`, and changes made in `dict1` will automatically also be in `dict2`.\n",
    "\n",
    "## Using built-in Dictionary method `copy()`"
   ]
  },
  {
   "cell_type": "code",
   "execution_count": 1,
   "id": "45fb218c",
   "metadata": {},
   "outputs": [
    {
     "name": "stdout",
     "output_type": "stream",
     "text": [
      "{'name': 'SM', 'age': 18}\n"
     ]
    }
   ],
   "source": [
    "newdict = {\n",
    "    \"name\": \"SM\",\n",
    "    \"age\": 18\n",
    "}\n",
    "\n",
    "copydict = newdict.copy()\n",
    "\n",
    "print(copydict)"
   ]
  },
  {
   "cell_type": "markdown",
   "id": "276ba3bb",
   "metadata": {},
   "source": [
    "Another way is to use built-in function `dict()`"
   ]
  },
  {
   "cell_type": "code",
   "execution_count": 2,
   "id": "26dc05c3",
   "metadata": {},
   "outputs": [
    {
     "name": "stdout",
     "output_type": "stream",
     "text": [
      "{'Brand': 'apple', 'chip': 'M3'}\n"
     ]
    }
   ],
   "source": [
    "thisdict = {\n",
    "    \"Brand\": \"apple\",\n",
    "    \"chip\": \"M3\"\n",
    "}\n",
    "\n",
    "copydict1 = dict(thisdict)\n",
    "print(copydict1)"
   ]
  }
 ],
 "metadata": {
  "kernelspec": {
   "display_name": "Python 3",
   "language": "python",
   "name": "python3"
  },
  "language_info": {
   "codemirror_mode": {
    "name": "ipython",
    "version": 3
   },
   "file_extension": ".py",
   "mimetype": "text/x-python",
   "name": "python",
   "nbconvert_exporter": "python",
   "pygments_lexer": "ipython3",
   "version": "3.11.4"
  }
 },
 "nbformat": 4,
 "nbformat_minor": 5
}
