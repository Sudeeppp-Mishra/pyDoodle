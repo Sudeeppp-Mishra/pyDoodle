{
 "cells": [
  {
   "cell_type": "markdown",
   "id": "84262237",
   "metadata": {},
   "source": [
    "## Nested Dictionaries\n",
    "Dictionary can contain dictionaries called as nesting of dictionaries"
   ]
  },
  {
   "cell_type": "markdown",
   "id": "2ea29b5d",
   "metadata": {},
   "source": [
    "### Example: creating a dictionary containing three dictionaries"
   ]
  },
  {
   "cell_type": "code",
   "execution_count": 1,
   "id": "e3f60db6",
   "metadata": {},
   "outputs": [],
   "source": [
    "family = {\n",
    "    \"father\": {\n",
    "        \"name\": \"DM\",\n",
    "        \"age\": 43\n",
    "    },\n",
    "    \"mother\": {\n",
    "        \"name\": \"SKM\",\n",
    "        \"age\": 38\n",
    "    },\n",
    "    \"child\": {\n",
    "        \"name\": \"SM\",\n",
    "        \"age\": 19\n",
    "    }\n",
    "}"
   ]
  },
  {
   "cell_type": "markdown",
   "id": "8d814a92",
   "metadata": {},
   "source": [
    "If we want to add three dictionaries to another new dictionary then:"
   ]
  },
  {
   "cell_type": "code",
   "execution_count": 2,
   "id": "4ab0b7f2",
   "metadata": {},
   "outputs": [],
   "source": [
    "father= {\n",
    "        \"name\": \"DM\",\n",
    "        \"age\": 43\n",
    "    }\n",
    "\n",
    "mother= {\n",
    "        \"name\": \"SKM\",\n",
    "        \"age\": 39\n",
    "    }\n",
    "\n",
    "child= {\n",
    "        \"name\": \"SM\",\n",
    "        \"age\": 19\n",
    "    }\n",
    "\n",
    "\n",
    "family = {\n",
    "    \"father\": father,\n",
    "    \"mother\": mother,\n",
    "    \"child\": child\n",
    "}"
   ]
  },
  {
   "cell_type": "markdown",
   "id": "9ca940bb",
   "metadata": {},
   "source": [
    "## Access items in nested dictionaries\n",
    "\n",
    "To access items from a nested dictionary, we use the name of the dictionaries, starting with the outer dictionary:"
   ]
  },
  {
   "cell_type": "code",
   "execution_count": 3,
   "id": "bbf2b65e",
   "metadata": {},
   "outputs": [
    {
     "name": "stdout",
     "output_type": "stream",
     "text": [
      "DM\n"
     ]
    }
   ],
   "source": [
    "print(family[\"father\"][\"name\"]) # prints father's name"
   ]
  },
  {
   "cell_type": "markdown",
   "id": "1b8bd4e0",
   "metadata": {},
   "source": [
    "## Loop through a dictionary by using the  `items()` method:"
   ]
  },
  {
   "cell_type": "code",
   "execution_count": 7,
   "id": "746739bf",
   "metadata": {},
   "outputs": [
    {
     "name": "stdout",
     "output_type": "stream",
     "text": [
      "father {'name': 'DM', 'age': 43}\n",
      "name: DM\n",
      "age: 43\n",
      "mother {'name': 'SKM', 'age': 39}\n",
      "name: SKM\n",
      "age: 39\n",
      "child {'name': 'SM', 'age': 19}\n",
      "name: SM\n",
      "age: 19\n"
     ]
    }
   ],
   "source": [
    "for x, obj in family.items():\n",
    "    print(x, obj)\n",
    "    \n",
    "    for y in obj:\n",
    "        print(y+':', obj[y])"
   ]
  }
 ],
 "metadata": {
  "kernelspec": {
   "display_name": "Python 3",
   "language": "python",
   "name": "python3"
  },
  "language_info": {
   "codemirror_mode": {
    "name": "ipython",
    "version": 3
   },
   "file_extension": ".py",
   "mimetype": "text/x-python",
   "name": "python",
   "nbconvert_exporter": "python",
   "pygments_lexer": "ipython3",
   "version": "3.11.4"
  }
 },
 "nbformat": 4,
 "nbformat_minor": 5
}
