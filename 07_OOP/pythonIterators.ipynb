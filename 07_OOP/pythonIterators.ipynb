{
 "cells": [
  {
   "cell_type": "markdown",
   "id": "4b4bdf5d",
   "metadata": {},
   "source": [
    "## Python Iterators\n",
    "\n",
    "An iterator is an object that contains a countable number of values.\n",
    "\n",
    "An iterator is an object that can be iterated upon, meaning that you traverse through all the values.\n",
    "\n",
    "Technically, in Python, an iterator is an object which implements the iterator protocol, which consists of the methods `__iter__()` and `__next__()`."
   ]
  },
  {
   "cell_type": "markdown",
   "id": "93a96a7b",
   "metadata": {},
   "source": [
    "## Iterator vs Iterable\n",
    "\n",
    "Lists, tuples, dictionaries, and sets are all iterable objects. They are iterable *containers* which you can get an iterator from.\n",
    "\n",
    "All these objects have a `iter()` method which is used to get an iterator:"
   ]
  },
  {
   "cell_type": "markdown",
   "id": "bb4085b3",
   "metadata": {},
   "source": [
    "Example: Return an iterator from a tuple, and print each value:"
   ]
  },
  {
   "cell_type": "code",
   "execution_count": 1,
   "id": "6e03e146",
   "metadata": {},
   "outputs": [
    {
     "name": "stdout",
     "output_type": "stream",
     "text": [
      "apple\n",
      "banana\n",
      "strawberry\n"
     ]
    }
   ],
   "source": [
    "mytuple = (\"apple\", \"banana\", \"strawberry\")\n",
    "\n",
    "myitr = iter(mytuple)\n",
    "\n",
    "print(next(myitr))\n",
    "print(next(myitr))\n",
    "print(next(myitr))"
   ]
  },
  {
   "cell_type": "markdown",
   "id": "2e65464a",
   "metadata": {},
   "source": [
    "Even strings are iterable objects, and can return an iterator:"
   ]
  },
  {
   "cell_type": "code",
   "execution_count": 2,
   "id": "f2b23300",
   "metadata": {},
   "outputs": [
    {
     "name": "stdout",
     "output_type": "stream",
     "text": [
      "p\n",
      "d\n",
      "f\n",
      "f\n",
      "f\n"
     ]
    }
   ],
   "source": [
    "mystr = \"pdfff\"\n",
    "myitr = iter(mystr)\n",
    "\n",
    "print(next(myitr))\n",
    "print(next(myitr))\n",
    "print(next(myitr))\n",
    "print(next(myitr))\n",
    "print(next(myitr))"
   ]
  },
  {
   "cell_type": "markdown",
   "id": "efca36fb",
   "metadata": {},
   "source": [
    "## Looping through an Iterator\n",
    "\n",
    "can use `for` loop to iterate through an iterable object:"
   ]
  },
  {
   "cell_type": "code",
   "execution_count": 3,
   "id": "57d7a007",
   "metadata": {},
   "outputs": [
    {
     "name": "stdout",
     "output_type": "stream",
     "text": [
      "apple\n",
      "banana\n",
      "strawberry\n"
     ]
    }
   ],
   "source": [
    "mytuple = (\"apple\", \"banana\", \"strawberry\")\n",
    "\n",
    "for x in mytuple:\n",
    "    print(x)"
   ]
  },
  {
   "cell_type": "markdown",
   "id": "5be5a564",
   "metadata": {},
   "source": [
    "iterate the characters of a string:"
   ]
  },
  {
   "cell_type": "code",
   "execution_count": 4,
   "id": "5f24b4ed",
   "metadata": {},
   "outputs": [
    {
     "name": "stdout",
     "output_type": "stream",
     "text": [
      "p\n",
      "d\n",
      "f\n",
      "f\n",
      "f\n"
     ]
    }
   ],
   "source": [
    "mystr = \"pdfff\"\n",
    "\n",
    "for x in mystr:\n",
    "    print(x)"
   ]
  },
  {
   "cell_type": "markdown",
   "id": "29ab7729",
   "metadata": {},
   "source": [
    "The `for` loop actually creates an iterator object and executes the `next()` method for each loop."
   ]
  },
  {
   "cell_type": "markdown",
   "id": "a005b78f",
   "metadata": {},
   "source": [
    "## Create an Iterator\n",
    "\n",
    "To create an object/class as an iterator you have to implement the methods `__iter__()` and `__next__()` to your object.\n",
    "\n",
    "The `__iter__()` method acts similar as `__init__()`, we can do operations (initializing etc.), but must always return the iterator object itself.\n",
    "\n",
    "The `__next__()` method also allows you to do operations, and must return the next item in the sequence."
   ]
  },
  {
   "cell_type": "markdown",
   "id": "bad92d17",
   "metadata": {},
   "source": [
    "Example: create an iterator that returns numbers, starting with 1, and each sequence will increase by one (returning 1, 2, 3...):"
   ]
  },
  {
   "cell_type": "code",
   "execution_count": null,
   "id": "27c37e02",
   "metadata": {},
   "outputs": [
    {
     "name": "stdout",
     "output_type": "stream",
     "text": [
      "1\n",
      "2\n",
      "3\n"
     ]
    }
   ],
   "source": [
    "class MyNumbers:\n",
    "    def __iter__(self):\n",
    "        self.a = 1\n",
    "        return self\n",
    "    \n",
    "    def __next__(self):\n",
    "        # If we do this sequence will be 2, 3, ... cuz it will direclty increment the value at first and then return\n",
    "        # self.a += 1\n",
    "        # return self.a \n",
    "        \n",
    "        x = self.a\n",
    "        self.a += 1\n",
    "        return x\n",
    "    \n",
    "myclass = MyNumbers()\n",
    "myiter = iter(myclass)\n",
    "\n",
    "print(next(myiter))\n",
    "print(next(myiter))\n",
    "print(next(myiter))\n"
   ]
  },
  {
   "cell_type": "markdown",
   "id": "38f21d16",
   "metadata": {},
   "source": [
    "## StopIteration\n",
    "\n",
    "The above example could continue forever if we had enough next() statements, or if it was used in a for loop.\n",
    "\n",
    "To prenvent the iteration from going on forever, we can use the `StopIteration` statement.\n",
    "\n",
    "In the `__next__()` method, we can add a terminating condition to raise an error if the iteration is done a specified no of times:"
   ]
  },
  {
   "cell_type": "code",
   "execution_count": 9,
   "id": "e84a0cdd",
   "metadata": {},
   "outputs": [
    {
     "name": "stdout",
     "output_type": "stream",
     "text": [
      "1\n",
      "2\n",
      "3\n",
      "4\n",
      "5\n",
      "6\n",
      "7\n",
      "8\n",
      "9\n",
      "10\n",
      "11\n",
      "12\n",
      "13\n",
      "14\n",
      "15\n",
      "16\n",
      "17\n",
      "18\n",
      "19\n",
      "20\n"
     ]
    }
   ],
   "source": [
    "class MyNumbers:\n",
    "    def __iter__(self):\n",
    "        self.a = 1\n",
    "        return self\n",
    "    \n",
    "    def __next__(self):\n",
    "        if self.a<=20:\n",
    "            x = self.a\n",
    "            self.a += 1\n",
    "            return x\n",
    "        else:\n",
    "            raise StopIteration\n",
    "            \n",
    "myclass = MyNumbers()\n",
    "myiter = iter(myclass)\n",
    "\n",
    "for x in myiter:\n",
    "    print(x)\n",
    "    "
   ]
  }
 ],
 "metadata": {
  "kernelspec": {
   "display_name": "Python 3",
   "language": "python",
   "name": "python3"
  },
  "language_info": {
   "codemirror_mode": {
    "name": "ipython",
    "version": 3
   },
   "file_extension": ".py",
   "mimetype": "text/x-python",
   "name": "python",
   "nbconvert_exporter": "python",
   "pygments_lexer": "ipython3",
   "version": "3.11.4"
  }
 },
 "nbformat": 4,
 "nbformat_minor": 5
}
