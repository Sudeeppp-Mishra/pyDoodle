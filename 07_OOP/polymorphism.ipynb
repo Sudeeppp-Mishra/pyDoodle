{
 "cells": [
  {
   "cell_type": "markdown",
   "id": "f28fcfa0",
   "metadata": {},
   "source": [
    "## Polymorphism\n",
    "\n",
    "poly -> many \n",
    "morph -> forms\n",
    "\n",
    "Polymorphism -> many forms\n",
    "\n",
    "and in programming it refers to methods/functions/operators with the same name that can be executed on many objects or classes."
   ]
  },
  {
   "cell_type": "markdown",
   "id": "1b4ec2e4",
   "metadata": {},
   "source": [
    "## Function Polymorphism\n",
    "\n",
    "An example of a Python function that can be used on different objects is the `len()` function.\n",
    "\n",
    "### String\n",
    "\n",
    "For strings `len()` returns the number of characters:"
   ]
  },
  {
   "cell_type": "code",
   "execution_count": 1,
   "id": "609f6192",
   "metadata": {},
   "outputs": [
    {
     "name": "stdout",
     "output_type": "stream",
     "text": [
      "5\n"
     ]
    }
   ],
   "source": [
    "x = \"Hiiii\"\n",
    "print(len(x))"
   ]
  },
  {
   "cell_type": "markdown",
   "id": "ba0229e7",
   "metadata": {},
   "source": [
    "### Tuple\n",
    "\n",
    "For tuples `len()` returns the number of items in the tuple:"
   ]
  },
  {
   "cell_type": "code",
   "execution_count": 2,
   "id": "0ac0cc2c",
   "metadata": {},
   "outputs": [
    {
     "name": "stdout",
     "output_type": "stream",
     "text": [
      "3\n"
     ]
    }
   ],
   "source": [
    "mytuple = (\"s\", 1, \"M\")\n",
    "\n",
    "print(len(mytuple))"
   ]
  },
  {
   "cell_type": "markdown",
   "id": "4e9595e9",
   "metadata": {},
   "source": [
    "### Dictionary\n",
    "\n",
    "For dictionaries `len()` returns the number of key/value pairs in the dictionary:"
   ]
  },
  {
   "cell_type": "code",
   "execution_count": 3,
   "id": "0b75beb5",
   "metadata": {},
   "outputs": [
    {
     "name": "stdout",
     "output_type": "stream",
     "text": [
      "2\n"
     ]
    }
   ],
   "source": [
    "mydict = {\n",
    "    \"Name\": \"Ram\",\n",
    "    \"Age\": 18\n",
    "}\n",
    "\n",
    "print(len(mydict))"
   ]
  },
  {
   "cell_type": "markdown",
   "id": "4b4aa695",
   "metadata": {},
   "source": [
    "## Class Polymorphism\n",
    "\n",
    "Polymorphism is often used in Class methods, where we can have multiple classes with the same method name.\n",
    "\n",
    "For example, say we have three classes: Car, Boat, and Plane, and they all have a method called `move()`"
   ]
  },
  {
   "cell_type": "code",
   "execution_count": null,
   "id": "9d69f22a",
   "metadata": {},
   "outputs": [
    {
     "name": "stdout",
     "output_type": "stream",
     "text": [
      "Drive!\n",
      "Sail!\n",
      "Fly!\n"
     ]
    }
   ],
   "source": [
    "class Car:\n",
    "    def __init__(self, brand):\n",
    "        self.brand = brand\n",
    "        \n",
    "    def move(self):\n",
    "        print(\"Drive!\")\n",
    "        \n",
    "class Boat:\n",
    "    def __init__(self, brand):\n",
    "        self.brand = brand\n",
    "        \n",
    "    def move(self):\n",
    "        print(\"Sail!\")\n",
    "        \n",
    "class Plane:\n",
    "    def __init__(self, brand):\n",
    "        self.brand = brand\n",
    "        \n",
    "    def move(self):\n",
    "        print(\"Fly!\")\n",
    "        \n",
    "\n",
    "car1 = Car(\"BMW\")\n",
    "boat1 = Boat(\"Ibiza\")\n",
    "plane1 = Plane(\"Boeing\")\n",
    "\n",
    "for x in (car1, boat1, plane1): #tuple iteration\n",
    "    x.move()"
   ]
  },
  {
   "cell_type": "markdown",
   "id": "da2c30c3",
   "metadata": {},
   "source": [
    "Look at the for loop at the end. Because of polymorphism we can execute the same method for all three classes."
   ]
  },
  {
   "cell_type": "markdown",
   "id": "ecb89f9d",
   "metadata": {},
   "source": [
    "## Inheritance Class Polymorphism\n",
    "\n",
    "What about classes with child classes with the same naem? Can we use polymorphism there?\n",
    "\n",
    "Yes. If we use the example above and make a parent class called Vehicle, and make Car, Boat, Plane child classes of Vehicle, the child classes inherits the Vehicle methods, but can override them:"
   ]
  },
  {
   "cell_type": "code",
   "execution_count": 6,
   "id": "026c964d",
   "metadata": {},
   "outputs": [
    {
     "name": "stdout",
     "output_type": "stream",
     "text": [
      "Move!\n",
      "Sail!\n",
      "Fly!\n"
     ]
    }
   ],
   "source": [
    "class Vehicle:\n",
    "    def __init__(self, brand):\n",
    "        self.brand = brand\n",
    "        \n",
    "    def move(self):\n",
    "        print(\"Move!\")\n",
    "        \n",
    "class Car(Vehicle):\n",
    "    pass\n",
    "\n",
    "class Boat(Vehicle):\n",
    "    def move(self):\n",
    "        print(\"Sail!\")\n",
    "        \n",
    "class Plane(Vehicle):\n",
    "    def move(self):\n",
    "        print(\"Fly!\")\n",
    "        \n",
    "car1 = Car(\"Ford\")\n",
    "boat1 = Boat(\"M\")\n",
    "plane1 = Plane(\"Boeing\")\n",
    "\n",
    "for x in (car1, boat1, plane1):\n",
    "    x.move()"
   ]
  }
 ],
 "metadata": {
  "kernelspec": {
   "display_name": "Python 3",
   "language": "python",
   "name": "python3"
  },
  "language_info": {
   "codemirror_mode": {
    "name": "ipython",
    "version": 3
   },
   "file_extension": ".py",
   "mimetype": "text/x-python",
   "name": "python",
   "nbconvert_exporter": "python",
   "pygments_lexer": "ipython3",
   "version": "3.11.4"
  }
 },
 "nbformat": 4,
 "nbformat_minor": 5
}
