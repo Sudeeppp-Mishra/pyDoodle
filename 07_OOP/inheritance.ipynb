{
 "cells": [
  {
   "cell_type": "markdown",
   "id": "743c3e33",
   "metadata": {},
   "source": [
    "## Inheritance\n",
    "\n",
    "allows us to define a class that inherits all the methods and properties from another class.\n",
    "\n",
    "__Parent class__ is the class being inherited from, also called base class.\n",
    "\n",
    "**Child class** is the class that inherits from another class, also called derived class."
   ]
  },
  {
   "cell_type": "markdown",
   "id": "140b2370",
   "metadata": {},
   "source": [
    "## Creating a  Parent class"
   ]
  },
  {
   "cell_type": "code",
   "execution_count": 2,
   "id": "0c379553",
   "metadata": {},
   "outputs": [
    {
     "name": "stdout",
     "output_type": "stream",
     "text": [
      "Bibek Subedi\n"
     ]
    }
   ],
   "source": [
    "class Person:\n",
    "    def __init__(self, fname, lname):\n",
    "        self.fname = fname\n",
    "        self.lname = lname\n",
    "        \n",
    "    def printname(self):\n",
    "        print(self.fname, self.lname)\n",
    "        \n",
    "x = Person(\"Bibek\", \"Subedi\")\n",
    "x.printname()"
   ]
  },
  {
   "cell_type": "markdown",
   "id": "0a0b45e2",
   "metadata": {},
   "source": [
    "## Creating a Child Class\n",
    "\n",
    "To create a class that inherits the functionality from another class, send the parent class as a parameter when creating the child class"
   ]
  },
  {
   "cell_type": "code",
   "execution_count": 3,
   "id": "100d66f6",
   "metadata": {},
   "outputs": [],
   "source": [
    "class Student(Person):\n",
    "    pass"
   ]
  },
  {
   "cell_type": "markdown",
   "id": "c22e2149",
   "metadata": {},
   "source": [
    "> Note: Use the `pass` keyword when you do not want to add any other properties or methods to the class"
   ]
  },
  {
   "cell_type": "code",
   "execution_count": 4,
   "id": "0c195091",
   "metadata": {},
   "outputs": [
    {
     "name": "stdout",
     "output_type": "stream",
     "text": [
      "Pdfff Pdfff\n"
     ]
    }
   ],
   "source": [
    "x = Student(\"Pdfff\", \"Pdfff\")\n",
    "x.printname()"
   ]
  },
  {
   "cell_type": "markdown",
   "id": "5ef47457",
   "metadata": {},
   "source": [
    "## Add the \\_\\_init\\_\\_() function\n",
    "\n",
    "Now we wanna add the `__init__()` function to the child class (instead of `pass` keyword)"
   ]
  },
  {
   "cell_type": "code",
   "execution_count": null,
   "id": "45306883",
   "metadata": {},
   "outputs": [],
   "source": [
    "class Student(Person):\n",
    "    def __init__(self, fname, lname):\n",
    "        #add properties"
   ]
  },
  {
   "cell_type": "markdown",
   "id": "aba57df7",
   "metadata": {},
   "source": [
    "When we add the `__init__()` function, the child class will no longer inherit the parent's `__init__()` function.\n",
    "\n",
    "> Note: the child's `__init__()` function __overrides__ the inheritance of the parent's `__init__()` function.\n",
    "\n",
    "To keep the inheritance of the parent's `__init_()` function, add a call to the parent's `__init__()` function"
   ]
  },
  {
   "cell_type": "code",
   "execution_count": null,
   "id": "bb9526b2",
   "metadata": {},
   "outputs": [],
   "source": [
    "class Student(Person):\n",
    "    def __init__(self, fname, lname):\n",
    "        Person.__init__(self, fname, lname)"
   ]
  },
  {
   "cell_type": "markdown",
   "id": "a91e4b46",
   "metadata": {},
   "source": [
    "## Use the super() Function\n",
    "\n",
    "Python has a `super()` function that will make the child class inherit all the methods and properties from its parent:"
   ]
  },
  {
   "cell_type": "code",
   "execution_count": 5,
   "id": "1f76437a",
   "metadata": {},
   "outputs": [],
   "source": [
    "class Student(Person):\n",
    "    def __init__(self, fname, lname):\n",
    "        super().__init__(fname, lname)"
   ]
  },
  {
   "cell_type": "markdown",
   "id": "cef272c9",
   "metadata": {},
   "source": [
    "By using the `super()` function, you do not have to use the name of the parent element, it will automatically inherit the methods and properties from its parent."
   ]
  },
  {
   "cell_type": "markdown",
   "id": "3e52ef57",
   "metadata": {},
   "source": [
    "## Add Properties"
   ]
  },
  {
   "cell_type": "code",
   "execution_count": 6,
   "id": "e0d3582d",
   "metadata": {},
   "outputs": [],
   "source": [
    "class Student(Person):\n",
    "    def __init__(self, fname, lname):\n",
    "        super().__init__(fname, lname)\n",
    "        self.graduationyear = 2019"
   ]
  },
  {
   "cell_type": "markdown",
   "id": "a221b514",
   "metadata": {},
   "source": [
    "In this example below, the year 2019 should be a variable, and passed into the Student calss when creating student objects. To do so, add another parameter in the `__init__()` function:"
   ]
  },
  {
   "cell_type": "code",
   "execution_count": 7,
   "id": "fc30b733",
   "metadata": {},
   "outputs": [],
   "source": [
    "class Student(Person):\n",
    "    def __init__(self, fname, lname, year):\n",
    "        super().__init__(fname, lname)\n",
    "        self.graduationyear = year\n",
    "x = Student(\"Oshan\", \"B\", 2018)"
   ]
  },
  {
   "cell_type": "markdown",
   "id": "5bbcc2f2",
   "metadata": {},
   "source": [
    "## Add Methods"
   ]
  },
  {
   "cell_type": "code",
   "execution_count": 8,
   "id": "0fdbe5e4",
   "metadata": {},
   "outputs": [
    {
     "name": "stdout",
     "output_type": "stream",
     "text": [
      "Welcome Ram Sha to the class of 2025\n"
     ]
    }
   ],
   "source": [
    "class Student(Person):\n",
    "    def __init__(self, fname, lname, year):\n",
    "        super().__init__(fname, lname)\n",
    "        self.graduationyear = year\n",
    "    \n",
    "    def welcome(self):\n",
    "        print(\"Welcome\", self.fname, self.lname, \"to the class of\", self.graduationyear)\n",
    "        \n",
    "x = Student(\"Ram\", \"Sha\", 2025)\n",
    "x.welcome()"
   ]
  },
  {
   "cell_type": "markdown",
   "id": "7833d76d",
   "metadata": {},
   "source": [
    ">If you add a method in the child class with the same name as a function in the parent class, the inheritance of the parent method will be overridden."
   ]
  },
  {
   "cell_type": "code",
   "execution_count": 10,
   "id": "9020d07e",
   "metadata": {},
   "outputs": [
    {
     "name": "stdout",
     "output_type": "stream",
     "text": [
      "From Child\n"
     ]
    }
   ],
   "source": [
    "class Parent:\n",
    "    def show(self):\n",
    "        print(\"From Parent\")\n",
    "        \n",
    "class Child(Parent):\n",
    "    def show(self):\n",
    "        print(\"From Child\")\n",
    "        \n",
    "c = Child()\n",
    "c.show() # the show() of child is overriding that of parent"
   ]
  },
  {
   "cell_type": "code",
   "execution_count": null,
   "id": "3d235a51",
   "metadata": {},
   "outputs": [
    {
     "name": "stdout",
     "output_type": "stream",
     "text": [
      "From Parent\n",
      "From Child\n"
     ]
    }
   ],
   "source": [
    "class Parent:\n",
    "    def show(self):\n",
    "        print(\"From Parent\")\n",
    "        \n",
    "class Child(Parent):\n",
    "    def show(self):\n",
    "        super().show() # it calls the show() of parent as well\n",
    "        print(\"From Child\")\n",
    "        \n",
    "c = Child()\n",
    "c.show() # the show() of child is overriding that of parent"
   ]
  },
  {
   "cell_type": "markdown",
   "id": "b5b07615",
   "metadata": {},
   "source": [
    "## A normal method, staticmethod and classmethod"
   ]
  },
  {
   "cell_type": "code",
   "execution_count": 15,
   "id": "3b2ad231",
   "metadata": {},
   "outputs": [
    {
     "name": "stdout",
     "output_type": "stream",
     "text": [
      "Hello, I'm an object of Demo\n",
      "\n",
      "\n",
      "This is class: Demo\n",
      "This is class: Demo\n",
      "\n",
      "\n",
      "8\n",
      "8\n"
     ]
    }
   ],
   "source": [
    "class Demo:\n",
    "    # 1. Normal Method (needs self -> works on object data)\n",
    "    def greet(self):\n",
    "        print(f'Hello, I\\'m an object of {self.__class__.__name__}')\n",
    "        \n",
    "    # 2. Class Method (needs cls -> works on class itself)\n",
    "    @classmethod\n",
    "    def describe_class(cls):\n",
    "        print(f\"This is class: {cls.__name__}\")\n",
    "        \n",
    "    # 3. Static Method (no self/cls -> just a utility function)\n",
    "    @staticmethod\n",
    "    def add(a, b):\n",
    "        return a+b\n",
    "    \n",
    "d = Demo()\n",
    "\n",
    "# 1. Normal Method\n",
    "d.greet()\n",
    "\n",
    "print(\"\\n\")\n",
    "# 2. Class Method\n",
    "d.describe_class() # works through object\n",
    "Demo.describe_class() # also works through class\n",
    "\n",
    "print(\"\\n\")\n",
    "# 3. Static Method\n",
    "print(Demo.add(5,3))\n",
    "print(d.add(5, 3)) # also works, but no self involved\n"
   ]
  },
  {
   "cell_type": "markdown",
   "id": "840a1634",
   "metadata": {},
   "source": [
    "1.\tNormal methods → use self, work on object instance data.\n",
    "\n",
    "\t-\tExample: self.name, self.age.\n",
    "\t- \tCalled with object.method().\n",
    "\n",
    "2.\tClass methods → use cls, work on the class itself.\n",
    "\n",
    "\t-\tGood for alternate constructors or class-level info.\n",
    "\t-\tCalled with Class.method() or object.method().\n",
    "\n",
    "3.\tStatic methods → don’t use self or cls, just a function inside the class.\n",
    "\n",
    "\t-\tUsed for helper/utility stuff.\n",
    "\t-\tCan be called with Class.method() or object.method()."
   ]
  },
  {
   "cell_type": "markdown",
   "id": "3e3387bd",
   "metadata": {},
   "source": [
    "1. self (instance method)\n",
    "\t-\tself means “this specific object”.\n",
    "\t-\tEvery object has its own copy of variables (attributes).\n",
    "\n",
    "2. cls (class method)\n",
    "\t-\tcls means “the class itself”, not one object.\n",
    "\t-\tVariables defined at the class level are shared by all objects.\n",
    "\n",
    "#### Where to Use Them\n",
    "\n",
    "#### Use self (instance methods)\n",
    "when your method works on data that belongs to a specific object.\n",
    "Example: a student’s name, marks, ID, etc.\n",
    "\n",
    "#### Use cls (class methods)\n",
    "when your method works on data that is common to all objects of the class.\n",
    "Example: the school name, total number of students, settings/configs, etc.\n"
   ]
  },
  {
   "cell_type": "markdown",
   "id": "7f9fec52",
   "metadata": {},
   "source": [
    "## Use of normal method (self)"
   ]
  },
  {
   "cell_type": "code",
   "execution_count": 16,
   "id": "06b57a1b",
   "metadata": {},
   "outputs": [
    {
     "name": "stdout",
     "output_type": "stream",
     "text": [
      "My name is:  Ram\n",
      "My name is:  Krishna\n"
     ]
    }
   ],
   "source": [
    "class Student:\n",
    "    def __init__(self, name):\n",
    "        self.name = name # each student gets their own name\n",
    "        \n",
    "    def show_name(self): # uses self -> works on ONE object\n",
    "        print(\"My name is: \", self.name)\n",
    "        \n",
    "s1 = Student(\"Ram\")\n",
    "s2 = Student(\"Krishna\")\n",
    "\n",
    "s1.show_name()\n",
    "s2.show_name()"
   ]
  },
  {
   "cell_type": "markdown",
   "id": "42d24cf0",
   "metadata": {},
   "source": [
    "## Use of class methos (cls)"
   ]
  },
  {
   "cell_type": "code",
   "execution_count": 17,
   "id": "9d5732f3",
   "metadata": {},
   "outputs": [
    {
     "name": "stdout",
     "output_type": "stream",
     "text": [
      "School name:  SM\n"
     ]
    }
   ],
   "source": [
    "class Student:\n",
    "    school_name = \"SM\" # shared by all students\n",
    "    \n",
    "    @classmethod\n",
    "    def show_school(cls): # uses cls -> works on the whole class\n",
    "        print(\"School name: \", cls.school_name)\n",
    "        \n",
    "Student.show_school()"
   ]
  },
  {
   "cell_type": "markdown",
   "id": "483fa10e",
   "metadata": {},
   "source": [
    "### self (instance methods)\n",
    "→ Refers to the object.\n",
    "→ Works with instance variables (each object has its own copy).\n",
    "→ Can also access class (global) variables, but only through an object.\n",
    "\n",
    "→ Example:\n",
    "```python\n",
    "def show_school(self):\n",
    "    print(self.school_name) # need object\n",
    "```\n",
    "\n",
    "\n",
    "### cls (class methods)\n",
    "→ Refers to the class itself.\n",
    "→ Works with class variables (shared by all objects).\n",
    "→ Doesn’t need any object to access them.\n",
    "\n",
    "→ Example:\n",
    "```python\n",
    "@classmethod\n",
    "def show_school(cls):\n",
    "    print(cls.school_name) # directly via class\n",
    "```\n",
    "\n",
    "\n",
    "#### **Rule of thumb**:\n",
    "- Use self → when method is about one object’s data.\n",
    "- Use cls → when method is about the class’s shared data (no object needed).\n"
   ]
  }
 ],
 "metadata": {
  "kernelspec": {
   "display_name": "Python 3",
   "language": "python",
   "name": "python3"
  },
  "language_info": {
   "codemirror_mode": {
    "name": "ipython",
    "version": 3
   },
   "file_extension": ".py",
   "mimetype": "text/x-python",
   "name": "python",
   "nbconvert_exporter": "python",
   "pygments_lexer": "ipython3",
   "version": "3.11.4"
  }
 },
 "nbformat": 4,
 "nbformat_minor": 5
}
