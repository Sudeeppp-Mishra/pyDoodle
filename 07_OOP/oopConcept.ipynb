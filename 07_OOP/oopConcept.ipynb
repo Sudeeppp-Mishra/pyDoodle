{
 "cells": [
  {
   "cell_type": "markdown",
   "id": "01bb9664",
   "metadata": {},
   "source": [
    "# OOP"
   ]
  },
  {
   "cell_type": "markdown",
   "id": "35b4623b",
   "metadata": {},
   "source": [
    "Python is an objec-oriented language, allowing you to structure your code using classes and objects for better organization and reusability.\n",
    "\n",
    "### Advantages of OOP\n",
    "- Provides a clear structure to programs\n",
    "- Makes code easier to maintain, reuse, and debug\n",
    "- Helps keep your code DRY (Don't Repeat Yourself)\n",
    "- Allows you to build reusable applications with less code\n",
    "\n",
    ">Tip: The DRY principle means you should avoid writing the same code more than once. Move repeated code into functions or classes and reuse it."
   ]
  },
  {
   "cell_type": "markdown",
   "id": "104de756",
   "metadata": {},
   "source": [
    "### What are Classes and Objects?\n",
    "Classes and objects are the two core concepts in object-oriented programming.\n",
    "\n",
    "A class defines what an object should look like, and an object is created based on that class.\n",
    "\n",
    "When you create an object from a class, it inherits all the variables and functions defined inside that class.\n",
    "\n",
    "Almost everything in Python is an object, with its properties and methods.\n",
    "A Class is like an object constructor, or a \"blueprint\" for creating objects."
   ]
  },
  {
   "cell_type": "markdown",
   "id": "666dea18",
   "metadata": {},
   "source": [
    "## Creating a Class"
   ]
  },
  {
   "cell_type": "code",
   "execution_count": 1,
   "id": "7fbf2b37",
   "metadata": {},
   "outputs": [],
   "source": [
    "class MyClass:\n",
    "    x = 5"
   ]
  },
  {
   "cell_type": "markdown",
   "id": "d0456700",
   "metadata": {},
   "source": [
    "## Creating an Object"
   ]
  },
  {
   "cell_type": "code",
   "execution_count": 2,
   "id": "0c3cba1f",
   "metadata": {},
   "outputs": [
    {
     "name": "stdout",
     "output_type": "stream",
     "text": [
      "5\n"
     ]
    }
   ],
   "source": [
    "obj = MyClass()\n",
    "print(obj.x)"
   ]
  },
  {
   "cell_type": "markdown",
   "id": "df0ed596",
   "metadata": {},
   "source": [
    "## The `__init__()` Method\n",
    "\n",
    "To understand the meaning of classes we need to understand the built-in `__init__()` method.\n",
    "\n",
    "All classes have a method called `__init__()`, which is always executed when the class is being initiated.\n",
    "\n",
    "Use the `__init__()` method to assing values to object properties, or other operations that are necessary to do when the object is being created"
   ]
  },
  {
   "cell_type": "markdown",
   "id": "f511e659",
   "metadata": {},
   "source": [
    "Example: Creating a class named Person, using the __init__() method to assign values for name and age:"
   ]
  },
  {
   "cell_type": "code",
   "execution_count": 3,
   "id": "7ebf0493",
   "metadata": {},
   "outputs": [
    {
     "name": "stdout",
     "output_type": "stream",
     "text": [
      "Ram\n",
      "18\n"
     ]
    }
   ],
   "source": [
    "class Person:\n",
    "    def __init__(self, name, age):\n",
    "        self.name = name\n",
    "        self.age = age\n",
    "        \n",
    "p1 = Person(\"Ram\", 18)\n",
    "\n",
    "print(p1.name)\n",
    "print(p1.age)"
   ]
  },
  {
   "cell_type": "markdown",
   "id": "6b8f689a",
   "metadata": {},
   "source": [
    ">Note: The `__init__()` method is called automatically every time the class is being used to create a new object"
   ]
  },
  {
   "cell_type": "markdown",
   "id": "8ffcfd34",
   "metadata": {},
   "source": [
    "## The `__str__()` Method\n",
    "\n",
    "The `__str__()` method controls what should be returned when the class object is represented as a string.\n",
    "\n",
    "If the `__str__()` method is not set, the string representation of the object is returned\n",
    "\n",
    "\n",
    "Example: The string representation of an ojbect WITHOUT the `__str__()` method:"
   ]
  },
  {
   "cell_type": "code",
   "execution_count": 4,
   "id": "b811106a",
   "metadata": {},
   "outputs": [
    {
     "name": "stdout",
     "output_type": "stream",
     "text": [
      "<__main__.Person object at 0x106564150>\n"
     ]
    }
   ],
   "source": [
    "class Person:\n",
    "    def __init__(self, name, age):\n",
    "        self.name = name\n",
    "        self.age = age\n",
    "        \n",
    "        \n",
    "p1 = Person(\"Ram\", 18)\n",
    "print(p1)"
   ]
  },
  {
   "cell_type": "markdown",
   "id": "f5a580d8",
   "metadata": {},
   "source": [
    "Example: The string representation of an ojbect WITH the `__str__()` method:"
   ]
  },
  {
   "cell_type": "code",
   "execution_count": 5,
   "id": "0988ec52",
   "metadata": {},
   "outputs": [
    {
     "name": "stdout",
     "output_type": "stream",
     "text": [
      "Ram(18)\n"
     ]
    }
   ],
   "source": [
    "class Person:\n",
    "    def __init__(self, name, age):\n",
    "        self.name = name\n",
    "        self.age = age\n",
    "        \n",
    "    def __str__(self):\n",
    "        return f'{self.name}({self.age})'\n",
    "        \n",
    "        \n",
    "p1 = Person(\"Ram\", 18)\n",
    "print(p1)"
   ]
  },
  {
   "cell_type": "markdown",
   "id": "4bfffa39",
   "metadata": {},
   "source": [
    "## Create Methods\n",
    "\n",
    "You can created your own methods inside objects. Methods in objects are functions that belong to the object."
   ]
  },
  {
   "cell_type": "code",
   "execution_count": 6,
   "id": "f607076a",
   "metadata": {},
   "outputs": [
    {
     "name": "stdout",
     "output_type": "stream",
     "text": [
      "Hello my name is Ram\n"
     ]
    }
   ],
   "source": [
    "class Person:\n",
    "    def __init__(self, name, age):\n",
    "        self.name = name\n",
    "        self.age = age\n",
    "        \n",
    "    def myfunction(self):\n",
    "        print(\"Hello my name is \"+self.name)\n",
    "        \n",
    "        \n",
    "p1 = Person(\"Ram\", 18)\n",
    "p1.myfunction()"
   ]
  },
  {
   "cell_type": "markdown",
   "id": "e98303f2",
   "metadata": {},
   "source": [
    ">Note: The self parameter is a reference to the current instance of the class, and is used to access variables that belong to the class."
   ]
  },
  {
   "cell_type": "markdown",
   "id": "00a71ed4",
   "metadata": {},
   "source": [
    "## The self Parameter\n",
    "\n",
    "The `self` parameter is a reference to the current instance of the class, and is used ot access variables that belong to the class.\n",
    "\n",
    "It does not have to be named `self`, you can call it whatever you like, but it has to be the first parameter of any function in the class"
   ]
  },
  {
   "cell_type": "code",
   "execution_count": 13,
   "id": "b6197824",
   "metadata": {},
   "outputs": [
    {
     "name": "stdout",
     "output_type": "stream",
     "text": [
      "Hello my name is John\n",
      "John(36)\n"
     ]
    }
   ],
   "source": [
    "class Person:\n",
    "    def __init__(mysillyobject, name, age):\n",
    "        mysillyobject.name = name\n",
    "        mysillyobject.age = age\n",
    "    \n",
    "    def __str__(self):\n",
    "        return f\"{self.name}({self.age})\"\n",
    "    \n",
    "    def myfunc(abc):\n",
    "        print(\"Hello my name is \" + abc.name)\n",
    "\n",
    "p1 = Person(\"John\", 36)\n",
    "p1.myfunc()\n",
    "print(p1)"
   ]
  },
  {
   "cell_type": "markdown",
   "id": "3aec4f4c",
   "metadata": {},
   "source": [
    "## Modify Object Properties"
   ]
  },
  {
   "cell_type": "code",
   "execution_count": 12,
   "id": "9a4718f2",
   "metadata": {},
   "outputs": [
    {
     "name": "stdout",
     "output_type": "stream",
     "text": [
      "John(18)\n"
     ]
    }
   ],
   "source": [
    "p1.age = 18\n",
    "print(p1)\n"
   ]
  },
  {
   "cell_type": "markdown",
   "id": "ed66fbac",
   "metadata": {},
   "source": [
    "## Delete Object Properties\n",
    "\n",
    "`del` keyword is used"
   ]
  },
  {
   "cell_type": "code",
   "execution_count": null,
   "id": "6b72fe5e",
   "metadata": {},
   "outputs": [
    {
     "ename": "AttributeError",
     "evalue": "'Person' object has no attribute 'age'",
     "output_type": "error",
     "traceback": [
      "\u001b[31m---------------------------------------------------------------------------\u001b[39m",
      "\u001b[31mAttributeError\u001b[39m                            Traceback (most recent call last)",
      "\u001b[36mCell\u001b[39m\u001b[36m \u001b[39m\u001b[32mIn[15]\u001b[39m\u001b[32m, line 1\u001b[39m\n\u001b[32m----> \u001b[39m\u001b[32m1\u001b[39m \u001b[38;5;28;01mdel\u001b[39;00m \u001b[43mp1\u001b[49m\u001b[43m.\u001b[49m\u001b[43mage\u001b[49m\n\u001b[32m      2\u001b[39m \u001b[38;5;28mprint\u001b[39m(p1.age)\n",
      "\u001b[31mAttributeError\u001b[39m: 'Person' object has no attribute 'age'"
     ]
    }
   ],
   "source": [
    "del p1.age\n",
    "print(p1.age) # err cuz age is not an attribute of the class now"
   ]
  },
  {
   "cell_type": "markdown",
   "id": "5cb80341",
   "metadata": {},
   "source": [
    "## Delete Objects\n",
    "\n",
    "`del` keyword"
   ]
  },
  {
   "cell_type": "code",
   "execution_count": null,
   "id": "832efa9d",
   "metadata": {},
   "outputs": [
    {
     "ename": "NameError",
     "evalue": "name 'p1' is not defined",
     "output_type": "error",
     "traceback": [
      "\u001b[31m---------------------------------------------------------------------------\u001b[39m",
      "\u001b[31mNameError\u001b[39m                                 Traceback (most recent call last)",
      "\u001b[36mCell\u001b[39m\u001b[36m \u001b[39m\u001b[32mIn[18]\u001b[39m\u001b[32m, line 1\u001b[39m\n\u001b[32m----> \u001b[39m\u001b[32m1\u001b[39m \u001b[38;5;28;01mdel\u001b[39;00m \u001b[43mp1\u001b[49m\n\u001b[32m      2\u001b[39m \u001b[38;5;28mprint\u001b[39m(p1)\n",
      "\u001b[31mNameError\u001b[39m: name 'p1' is not defined"
     ]
    }
   ],
   "source": [
    "del p1\n",
    "print(p1) # err cuz p1 is no longer there"
   ]
  },
  {
   "cell_type": "markdown",
   "id": "ef722d97",
   "metadata": {},
   "source": [
    "## The pass Statement\n",
    "\n",
    "class definitions cannot be empty, but if you for some reason have a class definition without content, put the `pass` statement to avoid getting an error"
   ]
  },
  {
   "cell_type": "code",
   "execution_count": null,
   "id": "1d1bb547",
   "metadata": {},
   "outputs": [
    {
     "ename": "SyntaxError",
     "evalue": "incomplete input (3523702532.py, line 1)",
     "output_type": "error",
     "traceback": [
      "  \u001b[36mCell\u001b[39m\u001b[36m \u001b[39m\u001b[32mIn[20]\u001b[39m\u001b[32m, line 1\u001b[39m\n\u001b[31m    \u001b[39m\u001b[31mclass Person:\u001b[39m\n                 ^\n\u001b[31mSyntaxError\u001b[39m\u001b[31m:\u001b[39m incomplete input\n"
     ]
    }
   ],
   "source": [
    "class Person: #err"
   ]
  },
  {
   "cell_type": "code",
   "execution_count": 21,
   "id": "dca1bb94",
   "metadata": {},
   "outputs": [],
   "source": [
    "class Person:\n",
    "    pass"
   ]
  }
 ],
 "metadata": {
  "kernelspec": {
   "display_name": "Python 3",
   "language": "python",
   "name": "python3"
  },
  "language_info": {
   "codemirror_mode": {
    "name": "ipython",
    "version": 3
   },
   "file_extension": ".py",
   "mimetype": "text/x-python",
   "name": "python",
   "nbconvert_exporter": "python",
   "pygments_lexer": "ipython3",
   "version": "3.11.4"
  }
 },
 "nbformat": 4,
 "nbformat_minor": 5
}
