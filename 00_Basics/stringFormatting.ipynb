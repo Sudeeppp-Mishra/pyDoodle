{
 "cells": [
  {
   "cell_type": "markdown",
   "id": "c848a005",
   "metadata": {},
   "source": [
    "# Python String Formatting\n",
    "\n",
    "F-String was introduced in Python 3.6, and is now the preferred way of formattting strings.\n",
    "\n",
    "Before Python 3.6 we had to use the `format()` method.\n",
    "\n",
    "## F-Strings\n",
    "\n",
    "F-string allows you to format selected parts of a sting.\n",
    "\n",
    "To specify a string as an f-string, simply put an `f` in front of the string literal"
   ]
  },
  {
   "cell_type": "code",
   "execution_count": 1,
   "id": "67d97ad4",
   "metadata": {},
   "outputs": [
    {
     "name": "stdout",
     "output_type": "stream",
     "text": [
      "The price is Rs 10\n"
     ]
    }
   ],
   "source": [
    "txt = f\"The price is Rs 10\"\n",
    "print(txt)"
   ]
  },
  {
   "cell_type": "markdown",
   "id": "091314c6",
   "metadata": {},
   "source": [
    "## Placeholders and Modifiers\n",
    "\n",
    "To format values in an f-string, add placeholders `{}`, a placeholder can contain variables, operations, functions, and modifiers to format the value."
   ]
  },
  {
   "cell_type": "code",
   "execution_count": 2,
   "id": "81efbdee",
   "metadata": {},
   "outputs": [
    {
     "name": "stdout",
     "output_type": "stream",
     "text": [
      "The price is 90 rupees\n"
     ]
    }
   ],
   "source": [
    "price = 90\n",
    "\n",
    "txt = f\"The price is {price} rupees\"\n",
    "print(txt)"
   ]
  },
  {
   "cell_type": "markdown",
   "id": "9276cbce",
   "metadata": {},
   "source": [
    "A placeholder can also include a *modifier* to format the value.\n",
    "\n",
    "A modifier is included by adding a colon `:` followed by a legal formating type, like `.2f` which means fixed point number with 2 decimals."
   ]
  },
  {
   "cell_type": "code",
   "execution_count": 3,
   "id": "11894d37",
   "metadata": {},
   "outputs": [
    {
     "name": "stdout",
     "output_type": "stream",
     "text": [
      "The price is 34.00 rupees\n"
     ]
    }
   ],
   "source": [
    "price = 34\n",
    "txt = f\"The price is {price:.2f} rupees\"\n",
    "print(txt)"
   ]
  },
  {
   "cell_type": "markdown",
   "id": "44848512",
   "metadata": {},
   "source": [
    "You can also format a value directly without keeping it in a variable."
   ]
  },
  {
   "cell_type": "code",
   "execution_count": 4,
   "id": "e921d47c",
   "metadata": {},
   "outputs": [
    {
     "name": "stdout",
     "output_type": "stream",
     "text": [
      "The price is 34.00 dollars\n"
     ]
    }
   ],
   "source": [
    "txt = f\"The price is {34:.2f} dollars\"\n",
    "print(txt)"
   ]
  },
  {
   "cell_type": "markdown",
   "id": "30a73e41",
   "metadata": {},
   "source": [
    "## Perform Operations in F-Strings\n",
    "\n",
    "You can perfomr Python operations inside the placeholders.\n",
    "\n",
    "You can do math operations"
   ]
  },
  {
   "cell_type": "code",
   "execution_count": 5,
   "id": "076fbbc5",
   "metadata": {},
   "outputs": [
    {
     "name": "stdout",
     "output_type": "stream",
     "text": [
      "The price is 55 dollars\n",
      "The prics is 15.0 dollars\n"
     ]
    }
   ],
   "source": [
    "txt = f\"The price is {20+35} dollars\"\n",
    "print(txt)\n",
    "\n",
    "price = 12\n",
    "tax = 0.25\n",
    "txt1 = f\"The prics is {price+(price*tax)} dollars\"\n",
    "print(txt1)"
   ]
  },
  {
   "cell_type": "markdown",
   "id": "4ad495e6",
   "metadata": {},
   "source": [
    "You can perform `if...else` statements inside the placeholders."
   ]
  },
  {
   "cell_type": "code",
   "execution_count": 6,
   "id": "3d5855ab",
   "metadata": {},
   "outputs": [
    {
     "name": "stdout",
     "output_type": "stream",
     "text": [
      "It is very Cheap\n"
     ]
    }
   ],
   "source": [
    "price = 35\n",
    "txt = f\"It is very {'Expensive' if price>40 else 'Cheap'}\"\n",
    "\n",
    "print(txt)"
   ]
  },
  {
   "cell_type": "markdown",
   "id": "d66a3312",
   "metadata": {},
   "source": [
    "## Execute Functions in F-Strings\n",
    "\n",
    "You can execute funcitons inside the placeholder.\n",
    "\n",
    "Eg: Use teh string method `upper()` to convert a value into upper case letters."
   ]
  },
  {
   "cell_type": "code",
   "execution_count": 7,
   "id": "1c9ef424",
   "metadata": {},
   "outputs": [
    {
     "name": "stdout",
     "output_type": "stream",
     "text": [
      "I love STRAWBERRY\n"
     ]
    }
   ],
   "source": [
    "fruit = \"strawberry\"\n",
    "txt = f\"I love {fruit.upper()}\"\n",
    "print(txt)"
   ]
  },
  {
   "cell_type": "markdown",
   "id": "f2e66457",
   "metadata": {},
   "source": [
    "The function does not have to be a built-in Python method, you can create your own functions and use them"
   ]
  },
  {
   "cell_type": "code",
   "execution_count": 9,
   "id": "965777d0",
   "metadata": {},
   "outputs": [
    {
     "name": "stdout",
     "output_type": "stream",
     "text": [
      "The plane is flying at 9144.0 meter altitude\n"
     ]
    }
   ],
   "source": [
    "def myconverter(x):\n",
    "    return x * 0.3048 # converst feet into meters\n",
    "\n",
    "txt = f\"The plane is flying at {myconverter(30000)} meter altitude\"\n",
    "print(txt)"
   ]
  },
  {
   "cell_type": "markdown",
   "id": "33ab983f",
   "metadata": {},
   "source": [
    "## More Modifiers\n",
    "\n",
    "There are several otehr modifiers that can be used to format values."
   ]
  },
  {
   "cell_type": "code",
   "execution_count": 10,
   "id": "63da64a2",
   "metadata": {},
   "outputs": [
    {
     "name": "stdout",
     "output_type": "stream",
     "text": [
      "The price is 59,000 dollars\n"
     ]
    }
   ],
   "source": [
    "price = 59000\n",
    "txt = f\"The price is {price:,} dollars\"\n",
    "print(txt)"
   ]
  },
  {
   "cell_type": "markdown",
   "id": "0d122ac6",
   "metadata": {},
   "source": [
    "### List of all the formatting types:\n",
    "\n",
    "# Python String Formatting Types\n",
    "\n",
    "| Format Specifier | Description |\n",
    "|-----------------|-------------|\n",
    "| `:<`  | Left aligns the result (within the available space) |\n",
    "| `:>`  | Right aligns the result (within the available space) |\n",
    "| `:^`  | Center aligns the result (within the available space) |\n",
    "| `:=`  | Places the sign to the left most position |\n",
    "| `:+`  | Use a plus sign to indicate if the result is positive or negative |\n",
    "| `:-`  | Use a minus sign for negative values only |\n",
    "| `:`   | Use a space to insert an extra space before positive numbers (and a minus sign before negative numbers) |\n",
    "| `:,`  | Use a comma as a thousand separator |\n",
    "| `:_`  | Use an underscore as a thousand separator |\n",
    "| `:b`  | Binary format |\n",
    "| `:c`  | Converts the value into the corresponding Unicode character |\n",
    "| `:d`  | Decimal format |\n",
    "| `:e`  | Scientific format, with a lower case e |\n",
    "| `:E`  | Scientific format, with an upper case E |\n",
    "| `:f`  | Fixed point number format |\n",
    "| `:F`  | Fixed point number format, in uppercase format (show INF and NAN as INF and NAN) |\n",
    "| `:g`  | General format |\n",
    "| `:G`  | General format (using an upper case E for scientific notations) |\n",
    "| `:o`  | Octal format |\n",
    "| `:x`  | Hex format, lower case |\n",
    "| `:X`  | Hex format, upper case |\n",
    "| `:n`  | Number format |\n",
    "| `:%`  | Percentage format |\n"
   ]
  },
  {
   "cell_type": "markdown",
   "id": "6980b20a",
   "metadata": {},
   "source": [
    "## String format()\n",
    "\n",
    "Befor Python 3.6 we used the `format()` method to format strings.\n",
    "\n",
    "The `format()` method can still be used, but f-strings are faster and the preferred way to format strings.\n",
    "\n",
    "The `format()` method also uses curly brackets as placeholder `{}`, but the syntax is slightly different."
   ]
  },
  {
   "cell_type": "code",
   "execution_count": 11,
   "id": "d28885e5",
   "metadata": {},
   "outputs": [
    {
     "name": "stdout",
     "output_type": "stream",
     "text": [
      "The price is 38 dollars\n"
     ]
    }
   ],
   "source": [
    "price = 38\n",
    "txt = \"The price is {} dollars\"\n",
    "print(txt.format(price))"
   ]
  },
  {
   "cell_type": "markdown",
   "id": "ce2cd15d",
   "metadata": {},
   "source": [
    "You can add paramters inside the curly brackets to specify how to convert the value."
   ]
  },
  {
   "cell_type": "code",
   "execution_count": 12,
   "id": "5e534240",
   "metadata": {},
   "outputs": [
    {
     "name": "stdout",
     "output_type": "stream",
     "text": [
      "The price is 38.00 dollars\n"
     ]
    }
   ],
   "source": [
    "txt = \"The price is {:.2f} dollars\"\n",
    "print(txt.format(price))"
   ]
  },
  {
   "cell_type": "markdown",
   "id": "03a8b090",
   "metadata": {},
   "source": [
    "## Multiple Values\n",
    "\n",
    "If you want to use more values, just add more values to the `format()` method:"
   ]
  },
  {
   "cell_type": "code",
   "execution_count": 13,
   "id": "ee69eac8",
   "metadata": {},
   "outputs": [
    {
     "name": "stdout",
     "output_type": "stream",
     "text": [
      "I want 3 pieces of item number 38 for 30.00 dollars\n"
     ]
    }
   ],
   "source": [
    "quantity = 3\n",
    "itemno = 38\n",
    "price = 30\n",
    "myorder = \"I want {} pieces of item number {} for {:.2f} dollars\"\n",
    "print(myorder.format(quantity, itemno, price))"
   ]
  },
  {
   "cell_type": "markdown",
   "id": "146c4e1d",
   "metadata": {},
   "source": [
    "## Index Numbers\n",
    "\n",
    "You can use index numbers (a number inside the curly brackets {0}) to be sure the values are placed in teh correct placeholders:"
   ]
  },
  {
   "cell_type": "code",
   "execution_count": 14,
   "id": "9200a106",
   "metadata": {},
   "outputs": [
    {
     "name": "stdout",
     "output_type": "stream",
     "text": [
      "I want 3 pieces of item number 30 for 38.00 dollars\n"
     ]
    }
   ],
   "source": [
    "quantity = 3\n",
    "itemno = 30\n",
    "price = 38\n",
    "myorder = \"I want {0} pieces of item number {1} for {2:.2f} dollars\"\n",
    "print(myorder.format(quantity, itemno, price))"
   ]
  },
  {
   "cell_type": "markdown",
   "id": "ab030165",
   "metadata": {},
   "source": [
    "Also, if you want to refer to the same value more than once, use the index number."
   ]
  },
  {
   "cell_type": "code",
   "execution_count": 16,
   "id": "fd7862a8",
   "metadata": {},
   "outputs": [
    {
     "name": "stdout",
     "output_type": "stream",
     "text": [
      "his name is Ram. Ram is 36 years old\n"
     ]
    }
   ],
   "source": [
    "age = 36\n",
    "name = \"Ram\"\n",
    "txt = \"his name is {1}. {1} is {0} years old\"\n",
    "print(txt.format(age, name))"
   ]
  },
  {
   "cell_type": "markdown",
   "id": "bfa4d4db",
   "metadata": {},
   "source": [
    "## Named Indexes\n",
    "\n",
    "You can also use named indexes by entering a name inside the curly brackets `{carnames}`, but then you must use names when you pass the parameter values `txt.format(carname=\"Ford\")`."
   ]
  },
  {
   "cell_type": "code",
   "execution_count": 17,
   "id": "62f1d247",
   "metadata": {},
   "outputs": [
    {
     "name": "stdout",
     "output_type": "stream",
     "text": [
      "I have a Ford, it is a Mustang\n"
     ]
    }
   ],
   "source": [
    "myorder = \"I have a {carname}, it is a {model}\"\n",
    "print(myorder.format(carname=\"Ford\", model =\"Mustang\"))"
   ]
  },
  {
   "cell_type": "code",
   "execution_count": null,
   "id": "cc7a0b5b",
   "metadata": {},
   "outputs": [],
   "source": []
  }
 ],
 "metadata": {
  "kernelspec": {
   "display_name": "Python 3",
   "language": "python",
   "name": "python3"
  },
  "language_info": {
   "codemirror_mode": {
    "name": "ipython",
    "version": 3
   },
   "file_extension": ".py",
   "mimetype": "text/x-python",
   "name": "python",
   "nbconvert_exporter": "python",
   "pygments_lexer": "ipython3",
   "version": "3.11.4"
  }
 },
 "nbformat": 4,
 "nbformat_minor": 5
}
