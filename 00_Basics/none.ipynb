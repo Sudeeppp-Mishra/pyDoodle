{
 "cells": [
  {
   "cell_type": "markdown",
   "id": "0f24eae6",
   "metadata": {},
   "source": [
    "## Python None\n",
    "\n",
    "`None` is a special constant in Python that represents the absence of a value.\n",
    "\n",
    "Its data type is `NoneType`, and `None` is the only instance of a `NoneType` object.\n",
    "\n",
    "## NoneType\n",
    "\n",
    "Variables can be assigned `None` to indicate \"no value\" or \"not set\"."
   ]
  },
  {
   "cell_type": "markdown",
   "id": "72233d8a",
   "metadata": {},
   "source": [
    "Eg: Assign and display a `None` value"
   ]
  },
  {
   "cell_type": "code",
   "execution_count": 2,
   "id": "b1c9f29a",
   "metadata": {},
   "outputs": [
    {
     "name": "stdout",
     "output_type": "stream",
     "text": [
      "None\n"
     ]
    }
   ],
   "source": [
    "x = None\n",
    "print(x)"
   ]
  },
  {
   "cell_type": "markdown",
   "id": "9e065729",
   "metadata": {},
   "source": [
    "Use `type()` to see the type of a `None` value."
   ]
  },
  {
   "cell_type": "code",
   "execution_count": 3,
   "id": "aac3b7d0",
   "metadata": {},
   "outputs": [
    {
     "name": "stdout",
     "output_type": "stream",
     "text": [
      "<class 'NoneType'>\n"
     ]
    }
   ],
   "source": [
    "x = None\n",
    "print(type(x))"
   ]
  },
  {
   "cell_type": "markdown",
   "id": "c48a54ed",
   "metadata": {},
   "source": [
    "## Comparing to None\n",
    "\n",
    "To compare a value to `None`, use the identify operator `is` or `is not`"
   ]
  },
  {
   "cell_type": "code",
   "execution_count": 4,
   "id": "b1af9b0b",
   "metadata": {},
   "outputs": [
    {
     "name": "stdout",
     "output_type": "stream",
     "text": [
      "No result yet\n"
     ]
    }
   ],
   "source": [
    "result = None\n",
    "\n",
    "if result is None:\n",
    "    print(\"No result yet\")\n",
    "else:\n",
    "    print(\"Result is ready\")"
   ]
  },
  {
   "cell_type": "code",
   "execution_count": 5,
   "id": "1076701b",
   "metadata": {},
   "outputs": [
    {
     "name": "stdout",
     "output_type": "stream",
     "text": [
      "No result yet\n"
     ]
    }
   ],
   "source": [
    "result = None\n",
    "\n",
    "if result is not None:\n",
    "    print(\"Result is ready\")\n",
    "else:\n",
    "    print(\"No result yet\")"
   ]
  },
  {
   "cell_type": "markdown",
   "id": "fa494dc8",
   "metadata": {},
   "source": [
    "## True or False\n",
    "\n",
    "`None` evaluates to `False` in a boolean context."
   ]
  },
  {
   "cell_type": "markdown",
   "id": "a554d9b8",
   "metadata": {},
   "source": [
    "Eg: truthiness:"
   ]
  },
  {
   "cell_type": "code",
   "execution_count": 6,
   "id": "85c7e841",
   "metadata": {},
   "outputs": [
    {
     "name": "stdout",
     "output_type": "stream",
     "text": [
      "False\n"
     ]
    }
   ],
   "source": [
    "print(bool(None))"
   ]
  },
  {
   "cell_type": "markdown",
   "id": "cc08506f",
   "metadata": {},
   "source": [
    "## Functions returning None\n",
    "\n",
    "Funcitons that do not explicitly return a value return `None` by default."
   ]
  },
  {
   "cell_type": "code",
   "execution_count": 7,
   "id": "bfa0c7ac",
   "metadata": {},
   "outputs": [
    {
     "name": "stdout",
     "output_type": "stream",
     "text": [
      "None\n"
     ]
    }
   ],
   "source": [
    "def myfunc():\n",
    "    x = 5\n",
    "    \n",
    "x = myfunc()\n",
    "print(x)"
   ]
  },
  {
   "cell_type": "code",
   "execution_count": null,
   "id": "ad4cc11f",
   "metadata": {},
   "outputs": [],
   "source": []
  }
 ],
 "metadata": {
  "kernelspec": {
   "display_name": "Python 3",
   "language": "python",
   "name": "python3"
  },
  "language_info": {
   "codemirror_mode": {
    "name": "ipython",
    "version": 3
   },
   "file_extension": ".py",
   "mimetype": "text/x-python",
   "name": "python",
   "nbconvert_exporter": "python",
   "pygments_lexer": "ipython3",
   "version": "3.11.4"
  }
 },
 "nbformat": 4,
 "nbformat_minor": 5
}
