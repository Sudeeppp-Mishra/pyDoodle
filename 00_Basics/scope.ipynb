{
 "cells": [
  {
   "cell_type": "markdown",
   "id": "ce438c79",
   "metadata": {},
   "source": [
    "## Scope\n",
    "\n",
    "A variable is only available from inside the region it it created. This is called **scope**."
   ]
  },
  {
   "cell_type": "markdown",
   "id": "89e407f6",
   "metadata": {},
   "source": [
    "## Local Scope\n",
    "\n",
    "A variable created inside a function belongs to the local scope of that function, and can only be used inside that function."
   ]
  },
  {
   "cell_type": "code",
   "execution_count": 1,
   "id": "4c7812a2",
   "metadata": {},
   "outputs": [
    {
     "name": "stdout",
     "output_type": "stream",
     "text": [
      "200\n"
     ]
    }
   ],
   "source": [
    "def myfun():\n",
    "    x = 200\n",
    "    print(x)\n",
    "\n",
    "myfun()"
   ]
  },
  {
   "cell_type": "markdown",
   "id": "33a09786",
   "metadata": {},
   "source": [
    "### Function Inside Funciton\n",
    "\n",
    "As explained in above example, the var `x` is not available outside the function, but it is available for any function inside the function:"
   ]
  },
  {
   "cell_type": "code",
   "execution_count": 2,
   "id": "7661c45a",
   "metadata": {},
   "outputs": [
    {
     "name": "stdout",
     "output_type": "stream",
     "text": [
      "200\n"
     ]
    }
   ],
   "source": [
    "def myfun():\n",
    "    x = 200\n",
    "    def myinnerfun():\n",
    "        print(x)\n",
    "    myinnerfun()\n",
    "    \n",
    "myfun()"
   ]
  },
  {
   "cell_type": "markdown",
   "id": "7359200f",
   "metadata": {},
   "source": [
    "## Global Scope\n",
    "\n",
    "A var created in the main body of the Python code is a global var and belongs to the global scope.\n",
    "\n",
    "Global variables are available from within any scope, global and local."
   ]
  },
  {
   "cell_type": "code",
   "execution_count": 3,
   "id": "c2847534",
   "metadata": {},
   "outputs": [
    {
     "name": "stdout",
     "output_type": "stream",
     "text": [
      "200\n",
      "200\n"
     ]
    }
   ],
   "source": [
    "x = 200\n",
    "\n",
    "def myfun():\n",
    "    print(x)\n",
    "    \n",
    "myfun()\n",
    "\n",
    "print(x)"
   ]
  },
  {
   "cell_type": "markdown",
   "id": "4f855733",
   "metadata": {},
   "source": [
    "### Naming Variables\n",
    "\n",
    "If you operate with the same variable name inside and outside of a function, Python will treat them as two separate variables, one available in global scope (outside the funciton) and one availabel in the local scope (inside the function):"
   ]
  },
  {
   "cell_type": "code",
   "execution_count": 4,
   "id": "a8bc3187",
   "metadata": {},
   "outputs": [
    {
     "name": "stdout",
     "output_type": "stream",
     "text": [
      "20\n",
      "400\n"
     ]
    }
   ],
   "source": [
    "x = 400\n",
    "\n",
    "def myfun():\n",
    "    x = 20\n",
    "    print(x)\n",
    "    \n",
    "myfun()\n",
    "\n",
    "print(x)"
   ]
  },
  {
   "cell_type": "markdown",
   "id": "0e14f8da",
   "metadata": {},
   "source": [
    "## Global Keyword\n",
    "\n",
    "If you need to create a global varaible, but are stuck in the local scope, you can use the `global` keyword.\n",
    "\n",
    "The `global` keyword makes the variable global."
   ]
  },
  {
   "cell_type": "code",
   "execution_count": 5,
   "id": "d1e3f92f",
   "metadata": {},
   "outputs": [
    {
     "name": "stdout",
     "output_type": "stream",
     "text": [
      "200\n"
     ]
    }
   ],
   "source": [
    "def myfun():\n",
    "    global x\n",
    "    x=200\n",
    "    \n",
    "myfun()\n",
    "print(x)"
   ]
  },
  {
   "cell_type": "markdown",
   "id": "f0664040",
   "metadata": {},
   "source": [
    "Also, use the `global` keyword if you want to make a change to a global variable inside a function."
   ]
  },
  {
   "cell_type": "code",
   "execution_count": 6,
   "id": "de7f461c",
   "metadata": {},
   "outputs": [
    {
     "name": "stdout",
     "output_type": "stream",
     "text": [
      "40\n"
     ]
    }
   ],
   "source": [
    "x = 200\n",
    "\n",
    "def myfun():\n",
    "    global x \n",
    "    x = 40\n",
    "    \n",
    "myfun()\n",
    "print(x)"
   ]
  },
  {
   "cell_type": "markdown",
   "id": "099f2291",
   "metadata": {},
   "source": [
    "## Nonlocal Keyword\n",
    "\n",
    "the `nonlocal` keyword is used to work with variables inside nested fucntions\n",
    "\n",
    "the `nonlocal` keyword makes the variable belong to the outer function"
   ]
  },
  {
   "cell_type": "code",
   "execution_count": 7,
   "id": "d35c2e93",
   "metadata": {},
   "outputs": [
    {
     "name": "stdout",
     "output_type": "stream",
     "text": [
      "Krishna\n"
     ]
    }
   ],
   "source": [
    "def myfunc1():\n",
    "    x = \"Ram\"\n",
    "    def myfunc2():\n",
    "        nonlocal x\n",
    "        x = \"Krishna\"\n",
    "    myfunc2()\n",
    "    return x\n",
    "\n",
    "print(myfunc1())"
   ]
  }
 ],
 "metadata": {
  "kernelspec": {
   "display_name": "Python 3",
   "language": "python",
   "name": "python3"
  },
  "language_info": {
   "codemirror_mode": {
    "name": "ipython",
    "version": 3
   },
   "file_extension": ".py",
   "mimetype": "text/x-python",
   "name": "python",
   "nbconvert_exporter": "python",
   "pygments_lexer": "ipython3",
   "version": "3.11.4"
  }
 },
 "nbformat": 4,
 "nbformat_minor": 5
}
