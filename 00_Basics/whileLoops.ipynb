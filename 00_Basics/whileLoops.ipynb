{
 "cells": [
  {
   "cell_type": "markdown",
   "id": "8373a01b",
   "metadata": {},
   "source": [
    "## Python Loops\n",
    "Python has two primitive loop commands:\n",
    "```python\n",
    "    - while loops\n",
    "    - for loops\n",
    "```\n",
    "\n",
    "### The `while` loop\n",
    "With the `while` loop we can execute a set of statemnts as long as a condition is `true`."
   ]
  },
  {
   "cell_type": "code",
   "execution_count": 1,
   "id": "d07ab97f",
   "metadata": {},
   "outputs": [
    {
     "name": "stdout",
     "output_type": "stream",
     "text": [
      "1\n",
      "2\n",
      "3\n",
      "4\n",
      "5\n"
     ]
    }
   ],
   "source": [
    "i = 1\n",
    "while i<6:\n",
    "    print(i)\n",
    "    i+=1"
   ]
  },
  {
   "cell_type": "markdown",
   "id": "41421beb",
   "metadata": {},
   "source": [
    "> *NOTE: Remember to increment the loop variable (i.e., i in this case), else the loop will continue forever (infinite loop)...also we need a relevant variables to be ready just like i in this case"
   ]
  },
  {
   "cell_type": "markdown",
   "id": "4f478c26",
   "metadata": {},
   "source": [
    "## The break statement\n",
    "\n",
    "`break` statement can stop the loop even if the while condition is true`"
   ]
  },
  {
   "cell_type": "code",
   "execution_count": 2,
   "id": "2f056943",
   "metadata": {},
   "outputs": [
    {
     "name": "stdout",
     "output_type": "stream",
     "text": [
      "1\n",
      "2\n",
      "3\n",
      "4\n"
     ]
    }
   ],
   "source": [
    "i = 1\n",
    "while i<=5:\n",
    "    print(i)\n",
    "    if i==4:\n",
    "        break\n",
    "    i+=1"
   ]
  },
  {
   "cell_type": "markdown",
   "id": "de5eb879",
   "metadata": {},
   "source": [
    "## The continue Statement\n",
    "\n",
    "`continue` statement can stop the current iteration, and continue with the next means that it will just skip that one iteration running other iterations as it is"
   ]
  },
  {
   "cell_type": "code",
   "execution_count": 4,
   "id": "b2d31682",
   "metadata": {},
   "outputs": [
    {
     "name": "stdout",
     "output_type": "stream",
     "text": [
      "1\n",
      "2\n",
      "4\n",
      "5\n",
      "6\n"
     ]
    }
   ],
   "source": [
    "i = 0\n",
    "while i<6:\n",
    "    i+=1\n",
    "    if i==3:\n",
    "        continue # Skips i==3 condition and moves on to next iterations\n",
    "    print(i)"
   ]
  },
  {
   "cell_type": "markdown",
   "id": "aa1a942c",
   "metadata": {},
   "source": [
    "## The eles statment\n",
    "With the `else` statement we can run a block of code once when the condition no longer is true"
   ]
  },
  {
   "cell_type": "code",
   "execution_count": 5,
   "id": "b76e7ae5",
   "metadata": {},
   "outputs": [
    {
     "name": "stdout",
     "output_type": "stream",
     "text": [
      "1\n",
      "2\n",
      "3\n",
      "4\n",
      "5\n",
      "i is no longer less than 6\n"
     ]
    }
   ],
   "source": [
    "i = 1\n",
    "while i<6:\n",
    "    print(i)\n",
    "    i+=1\n",
    "else:\n",
    "    print(\"i is no longer less than 6\")"
   ]
  }
 ],
 "metadata": {
  "kernelspec": {
   "display_name": "Python 3",
   "language": "python",
   "name": "python3"
  },
  "language_info": {
   "codemirror_mode": {
    "name": "ipython",
    "version": 3
   },
   "file_extension": ".py",
   "mimetype": "text/x-python",
   "name": "python",
   "nbconvert_exporter": "python",
   "pygments_lexer": "ipython3",
   "version": "3.11.4"
  }
 },
 "nbformat": 4,
 "nbformat_minor": 5
}
