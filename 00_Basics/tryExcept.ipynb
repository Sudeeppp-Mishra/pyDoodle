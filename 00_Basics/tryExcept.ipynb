{
 "cells": [
  {
   "cell_type": "markdown",
   "id": "f9641f59",
   "metadata": {},
   "source": [
    "# Python Try Except\n",
    "\n",
    "The `try` block lets you test a block of code for errors.\n",
    "\n",
    "The `except` block lets you handle the error.\n",
    "\n",
    "The `else` blcok lets you execute code when there is no error.\n",
    "\n",
    "The `finally` block lets you execute code, regardless of the result of the try- and except blocks\n",
    "\n",
    "## Exception Handling\n",
    "\n",
    "When an error occurs, or exceptions as we call it, Python will normally stop and generate an error message.\n",
    "\n",
    "These exceptions can be handled using the `try` statement."
   ]
  },
  {
   "cell_type": "markdown",
   "id": "18ca6086",
   "metadata": {},
   "source": [
    "eg: The `try` block will generate an exception, cuz `x` is not defined:"
   ]
  },
  {
   "cell_type": "code",
   "execution_count": 1,
   "id": "990dfbf7",
   "metadata": {},
   "outputs": [
    {
     "name": "stdout",
     "output_type": "stream",
     "text": [
      "An exception occurred\n"
     ]
    }
   ],
   "source": [
    "try:\n",
    "    print(x)\n",
    "except:\n",
    "    print(\"An exception occurred\")"
   ]
  },
  {
   "cell_type": "markdown",
   "id": "5941927d",
   "metadata": {},
   "source": [
    "Since the try block raises an error, the except block will be executed.\n",
    "\n",
    "Without the try block, the program will crash and raise an error."
   ]
  },
  {
   "cell_type": "code",
   "execution_count": 3,
   "id": "76e49e86",
   "metadata": {},
   "outputs": [
    {
     "ename": "NameError",
     "evalue": "name 'x' is not defined",
     "output_type": "error",
     "traceback": [
      "\u001b[31m---------------------------------------------------------------------------\u001b[39m",
      "\u001b[31mNameError\u001b[39m                                 Traceback (most recent call last)",
      "\u001b[36mCell\u001b[39m\u001b[36m \u001b[39m\u001b[32mIn[3]\u001b[39m\u001b[32m, line 1\u001b[39m\n\u001b[32m----> \u001b[39m\u001b[32m1\u001b[39m \u001b[38;5;28mprint\u001b[39m(\u001b[43mx\u001b[49m) \u001b[38;5;66;03m# it raise an error, because x is not defined\u001b[39;00m\n",
      "\u001b[31mNameError\u001b[39m: name 'x' is not defined"
     ]
    }
   ],
   "source": [
    "print(x) # it raise an error, because x is not defined"
   ]
  },
  {
   "cell_type": "markdown",
   "id": "fe468cf2",
   "metadata": {},
   "source": [
    "## Many Exception\n",
    "\n",
    "You can define as many exception blocks as you want, e.g. if you want to execute a special block of code for a specail kind of error:\n",
    "\n",
    "Eg: Print one message if teh try block raises a `NameError` and another for other errors:"
   ]
  },
  {
   "cell_type": "code",
   "execution_count": 4,
   "id": "4a60209b",
   "metadata": {},
   "outputs": [
    {
     "name": "stdout",
     "output_type": "stream",
     "text": [
      "Variable x is not defined\n"
     ]
    }
   ],
   "source": [
    "try:\n",
    "    print(x)\n",
    "except NameError:\n",
    "    print(\"Variable x is not defined\")\n",
    "except:\n",
    "    print(\"Something else went wrong\")"
   ]
  },
  {
   "cell_type": "markdown",
   "id": "f50854fd",
   "metadata": {},
   "source": [
    "## Built-in Exceptions\n",
    "\n",
    "The table below shows built-in exceptions that are usually raised in Python:\n",
    "\n",
    "| Exception | Description |\n",
    "|-----------|-------------|\n",
    "| ArithmeticError | Raised when an error occurs in numeric calculations |\n",
    "| AssertionError | Raised when an assert statement fails |\n",
    "| AttributeError | Raised when attribute reference or assignment fails |\n",
    "| Exception | Base class for all exceptions |\n",
    "| EOFError | Raised when the input() method hits an \"end of file\" condition (EOF) |\n",
    "| FloatingPointError | Raised when a floating point calculation fails |\n",
    "| GeneratorExit | Raised when a generator is closed (with the close() method) |\n",
    "| ImportError | Raised when an imported module does not exist |\n",
    "| IndentationError | Raised when indentation is not correct |\n",
    "| IndexError | Raised when an index of a sequence does not exist |\n",
    "| KeyError | Raised when a key does not exist in a dictionary |\n",
    "| KeyboardInterrupt | Raised when the user presses Ctrl+c, Ctrl+z or Delete |\n",
    "| LookupError | Raised when errors raised can't be found |\n",
    "| MemoryError | Raised when a program runs out of memory |\n",
    "| NameError | Raised when a variable does not exist |\n",
    "| NotImplementedError | Raised when an abstract method requires an inherited class to override the method |\n",
    "| OSError | Raised when a system related operation causes an error |\n",
    "| OverflowError | Raised when the result of a numeric calculation is too large |\n",
    "| ReferenceError | Raised when a weak reference object does not exist |\n",
    "| RuntimeError | Raised when an error occurs that does not belong to any specific exceptions |\n",
    "| StopIteration | Raised when the next() method of an iterator has no further values |\n",
    "| SyntaxError | Raised when a syntax error occurs |\n",
    "| TabError | Raised when indentation consists of tabs or spaces |\n",
    "| SystemError | Raised when a system error occurs |\n",
    "| SystemExit | Raised when the sys.exit() function is called |\n",
    "| TypeError | Raised when two different types are combined |\n",
    "| UnboundLocalError | Raised when a local variable is referenced before assignment |\n",
    "| UnicodeError | Raised when a unicode problem occurs |\n",
    "| UnicodeEncodeError | Raised when a unicode encoding problem occurs |\n",
    "| UnicodeDecodeError | Raised when a unicode decoding problem occurs |\n",
    "| UnicodeTranslateError | Raised when a unicode translation problem occurs |\n",
    "| ValueError | Raised when there is a wrong value in a specified data type |\n",
    "| ZeroDivisionError | Raised when the second operator in a division is zero |"
   ]
  },
  {
   "cell_type": "markdown",
   "id": "dc1fc6d0",
   "metadata": {},
   "source": [
    "## Else\n",
    "\n",
    "You can use the `else` keyword to define a block of code to be executed if no errors were raised:"
   ]
  },
  {
   "cell_type": "code",
   "execution_count": 5,
   "id": "b41be593",
   "metadata": {},
   "outputs": [
    {
     "name": "stdout",
     "output_type": "stream",
     "text": [
      "Hello\n",
      "Nothing went wrong\n"
     ]
    }
   ],
   "source": [
    "try:\n",
    "    print(\"Hello\")\n",
    "except:\n",
    "    print(\"Something went wrong\")\n",
    "else:\n",
    "    print(\"Nothing went wrong\")"
   ]
  },
  {
   "cell_type": "markdown",
   "id": "3d9e4984",
   "metadata": {},
   "source": [
    "## Finally\n",
    "\n",
    "The `finally` block, if specified, will be executed regardless if the try block raises an error or not."
   ]
  },
  {
   "cell_type": "code",
   "execution_count": 6,
   "id": "c60f485a",
   "metadata": {},
   "outputs": [
    {
     "name": "stdout",
     "output_type": "stream",
     "text": [
      "Something went wrong\n",
      "The 'try except' is finished\n"
     ]
    }
   ],
   "source": [
    "try:\n",
    "    print(x)\n",
    "except:\n",
    "    print(\"Something went wrong\")\n",
    "finally:\n",
    "    print(\"The 'try except' is finished\")"
   ]
  },
  {
   "cell_type": "markdown",
   "id": "85486f87",
   "metadata": {},
   "source": [
    "this can be useful to close objects and clean up resources"
   ]
  },
  {
   "cell_type": "code",
   "execution_count": 7,
   "id": "f55c64d9",
   "metadata": {},
   "outputs": [
    {
     "name": "stdout",
     "output_type": "stream",
     "text": [
      "Something went wrong when opening the file\n"
     ]
    }
   ],
   "source": [
    "try:\n",
    "    f = open(\"demofile.txt\")\n",
    "    try:\n",
    "        f.write(\"Hiii\")\n",
    "    except:\n",
    "        print(\"Something went wrong when writing to the file\")\n",
    "    finally:\n",
    "        f.close()\n",
    "except:\n",
    "    print(\"Something went wrong when opening the file\")"
   ]
  },
  {
   "cell_type": "markdown",
   "id": "0b4e270a",
   "metadata": {},
   "source": [
    "The program can continue, without leaving the file object open"
   ]
  },
  {
   "cell_type": "markdown",
   "id": "6f4e30f0",
   "metadata": {},
   "source": [
    "## Raise an exception\n",
    "\n",
    "As a Pythion developer you can choose to throw an exception if a condtion occurs.\n",
    "\n",
    "To throw (or raise) an exception, use the `raise` keyword."
   ]
  },
  {
   "cell_type": "code",
   "execution_count": 8,
   "id": "c649f471",
   "metadata": {},
   "outputs": [
    {
     "ename": "Exception",
     "evalue": "Sorry, no numbers below zero",
     "output_type": "error",
     "traceback": [
      "\u001b[31m---------------------------------------------------------------------------\u001b[39m",
      "\u001b[31mException\u001b[39m                                 Traceback (most recent call last)",
      "\u001b[36mCell\u001b[39m\u001b[36m \u001b[39m\u001b[32mIn[8]\u001b[39m\u001b[32m, line 4\u001b[39m\n\u001b[32m      1\u001b[39m x = -\u001b[32m1\u001b[39m\n\u001b[32m      3\u001b[39m \u001b[38;5;28;01mif\u001b[39;00m x<\u001b[32m0\u001b[39m:\n\u001b[32m----> \u001b[39m\u001b[32m4\u001b[39m     \u001b[38;5;28;01mraise\u001b[39;00m \u001b[38;5;167;01mException\u001b[39;00m(\u001b[33m\"\u001b[39m\u001b[33mSorry, no numbers below zero\u001b[39m\u001b[33m\"\u001b[39m)\n",
      "\u001b[31mException\u001b[39m: Sorry, no numbers below zero"
     ]
    }
   ],
   "source": [
    "x = -1\n",
    "\n",
    "if x<0:\n",
    "    raise Exception(\"Sorry, no numbers below zero\")"
   ]
  },
  {
   "cell_type": "markdown",
   "id": "0d5ebf0f",
   "metadata": {},
   "source": [
    "The `raise` keyword is used to raise an exception.\n",
    "\n",
    "You can define what kind of error to raise, and the text to print to the user."
   ]
  },
  {
   "cell_type": "markdown",
   "id": "83d0abf1",
   "metadata": {},
   "source": [
    "Eg: Raise a TypeError if x is not an integer:"
   ]
  },
  {
   "cell_type": "code",
   "execution_count": 9,
   "id": "b378d6e7",
   "metadata": {},
   "outputs": [
    {
     "ename": "TypeError",
     "evalue": "Only integers are allowed",
     "output_type": "error",
     "traceback": [
      "\u001b[31m---------------------------------------------------------------------------\u001b[39m",
      "\u001b[31mTypeError\u001b[39m                                 Traceback (most recent call last)",
      "\u001b[36mCell\u001b[39m\u001b[36m \u001b[39m\u001b[32mIn[9]\u001b[39m\u001b[32m, line 4\u001b[39m\n\u001b[32m      1\u001b[39m x = \u001b[33m\"\u001b[39m\u001b[33mhello\u001b[39m\u001b[33m\"\u001b[39m\n\u001b[32m      3\u001b[39m \u001b[38;5;28;01mif\u001b[39;00m \u001b[38;5;129;01mnot\u001b[39;00m \u001b[38;5;28mtype\u001b[39m(x) \u001b[38;5;129;01mis\u001b[39;00m \u001b[38;5;28mint\u001b[39m:\n\u001b[32m----> \u001b[39m\u001b[32m4\u001b[39m     \u001b[38;5;28;01mraise\u001b[39;00m \u001b[38;5;167;01mTypeError\u001b[39;00m(\u001b[33m\"\u001b[39m\u001b[33mOnly integers are allowed\u001b[39m\u001b[33m\"\u001b[39m)\n",
      "\u001b[31mTypeError\u001b[39m: Only integers are allowed"
     ]
    }
   ],
   "source": [
    "x = \"hello\"\n",
    "\n",
    "if not type(x) is int:\n",
    "    raise TypeError(\"Only integers are allowed\")"
   ]
  }
 ],
 "metadata": {
  "kernelspec": {
   "display_name": "Python 3",
   "language": "python",
   "name": "python3"
  },
  "language_info": {
   "codemirror_mode": {
    "name": "ipython",
    "version": 3
   },
   "file_extension": ".py",
   "mimetype": "text/x-python",
   "name": "python",
   "nbconvert_exporter": "python",
   "pygments_lexer": "ipython3",
   "version": "3.11.4"
  }
 },
 "nbformat": 4,
 "nbformat_minor": 5
}
