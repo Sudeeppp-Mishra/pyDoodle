{
 "cells": [
  {
   "cell_type": "markdown",
   "id": "f8de2136",
   "metadata": {},
   "source": [
    "## Python Match Statement\n",
    "\n",
    "`match` statement is used to perform different actions based on different conditions\n",
    "\n",
    "- Instead of writing many `if...else` statements, we can use the `match` statement\n",
    "\n",
    "The `match` statements selects one of many code blocks to be executed\n",
    "\n",
    "\n",
    "### Syntax:\n",
    "\n",
    "```python\n",
    "match expression:\n",
    "    case x:\n",
    "        code block\n",
    "    case y:\n",
    "        code block\n",
    "    case z:\n",
    "        code block\n",
    "```\n",
    "\n",
    "How it works?\n",
    "- the `match` expression is evaluated once.\n",
    "- the value of the expression is compared with the values of each `case`.\n",
    "- if there is a match, the associated block of code is executed."
   ]
  },
  {
   "cell_type": "code",
   "execution_count": 1,
   "id": "c7a903b0",
   "metadata": {},
   "outputs": [
    {
     "name": "stdout",
     "output_type": "stream",
     "text": [
      "Monday\n"
     ]
    }
   ],
   "source": [
    "day = 2\n",
    "match day:\n",
    "    case 1:\n",
    "        print(\"Sunday\")\n",
    "    case 2:\n",
    "        print(\"Monday\")\n",
    "    case 3:\n",
    "        print(\"Tuesday\")\n",
    "    case 4:\n",
    "        print(\"Wednesday\")\n",
    "    case 5:\n",
    "        print(\"Thrusday\")\n",
    "    case 6:\n",
    "        print(\"Friday\")\n",
    "    case 7:\n",
    "        print(\"Saturday\")"
   ]
  },
  {
   "cell_type": "markdown",
   "id": "4e40422c",
   "metadata": {},
   "source": [
    "## Default Value\n",
    "Use the underscore character `_` as the last case value if you want a code block to execute when there are no other matches:"
   ]
  },
  {
   "cell_type": "code",
   "execution_count": 2,
   "id": "37c5eadb",
   "metadata": {},
   "outputs": [
    {
     "name": "stdout",
     "output_type": "stream",
     "text": [
      "Invalid choice\n"
     ]
    }
   ],
   "source": [
    "day = 10\n",
    "match day:\n",
    "    case 4:\n",
    "        print(\"Today is Wednesday\")\n",
    "    case 2:\n",
    "        print(\"Today is Monday\")\n",
    "    case _:\n",
    "        print(\"Invalid choice\")"
   ]
  },
  {
   "cell_type": "markdown",
   "id": "79842a62",
   "metadata": {},
   "source": [
    "The value `_` will always match, so it is important to place it as the last `case` to make it behave as a default `case`"
   ]
  },
  {
   "cell_type": "markdown",
   "id": "ffe082d9",
   "metadata": {},
   "source": [
    "## Combine Values\n",
    "\n",
    "Use the pipe character `|` as an `or` operator in the `case` evaluation to check fo rmore than one value mactch in one case:"
   ]
  },
  {
   "cell_type": "code",
   "execution_count": 3,
   "id": "ef1dfb81",
   "metadata": {},
   "outputs": [
    {
     "name": "stdout",
     "output_type": "stream",
     "text": [
      "Today is a weekday\n"
     ]
    }
   ],
   "source": [
    "day = 1\n",
    "match day:\n",
    "  case 1 | 2 | 3 | 4 | 5 | 6:\n",
    "    print(\"Today is a weekday\")\n",
    "  case 7:\n",
    "    print(\"I love weekends!\")"
   ]
  },
  {
   "cell_type": "markdown",
   "id": "82eb0bc8",
   "metadata": {},
   "source": [
    "## If Statements as Guards\n",
    "\n",
    "We can add `if` statements in the case evaluation as an extra condition-check:"
   ]
  },
  {
   "cell_type": "code",
   "execution_count": 4,
   "id": "abb1d5f0",
   "metadata": {},
   "outputs": [
    {
     "name": "stdout",
     "output_type": "stream",
     "text": [
      "A weekday in February\n"
     ]
    }
   ],
   "source": [
    "month = 2\n",
    "day = 2\n",
    "match day:\n",
    "    case 1|2|3|4|5|6 if month==2:\n",
    "        print(\"A weekday in February\")\n",
    "    case 1|2|3|4|5|6 if month==12:\n",
    "        print(\"A weekday in December\")\n",
    "    case _:\n",
    "        print(\"No match\")"
   ]
  }
 ],
 "metadata": {
  "kernelspec": {
   "display_name": "Python 3",
   "language": "python",
   "name": "python3"
  },
  "language_info": {
   "codemirror_mode": {
    "name": "ipython",
    "version": 3
   },
   "file_extension": ".py",
   "mimetype": "text/x-python",
   "name": "python",
   "nbconvert_exporter": "python",
   "pygments_lexer": "ipython3",
   "version": "3.11.4"
  }
 },
 "nbformat": 4,
 "nbformat_minor": 5
}
