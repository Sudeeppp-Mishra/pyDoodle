{
 "cells": [
  {
   "cell_type": "markdown",
   "id": "8f06861e",
   "metadata": {},
   "source": [
    "## Conitions and If statements\n",
    "\n",
    "### Logical Conditions\n",
    "- Equals: `a==b`\n",
    "- Not equals: `a!=b`\n",
    "- Less than: `a<b`\n",
    "- Less than or equals to: `a<=b`\n",
    "- Greater than: `a>b`\n",
    "- Greater than or equal to: `a>=b`\n",
    "\n",
    "These conditions can be used in several ways, most commonly in \"if statements\" and in loops...\n",
    "\n",
    "\"if statements\" is written by using the `if` keyword`"
   ]
  },
  {
   "cell_type": "code",
   "execution_count": 2,
   "id": "67d6fd53",
   "metadata": {},
   "outputs": [
    {
     "name": "stdout",
     "output_type": "stream",
     "text": [
      "b is greater than a\n"
     ]
    }
   ],
   "source": [
    "a = 10\n",
    "b = 450\n",
    "if b>a:\n",
    "    print(\"b is greater than a\")"
   ]
  },
  {
   "cell_type": "markdown",
   "id": "c650db7c",
   "metadata": {},
   "source": [
    "## Elif\n",
    "`elif` keyword is Python's way of saying \"if the previous conditons were not rue, then try this condition\""
   ]
  },
  {
   "cell_type": "code",
   "execution_count": 5,
   "id": "89940fe2",
   "metadata": {},
   "outputs": [
    {
     "name": "stdout",
     "output_type": "stream",
     "text": [
      "a anb b are equal\n"
     ]
    }
   ],
   "source": [
    "a = 10\n",
    "b = 10\n",
    "if b>a:\n",
    "    print(\"b is greater than a\")\n",
    "elif a == b:\n",
    "    print(\"a anb b are equal\")"
   ]
  },
  {
   "cell_type": "markdown",
   "id": "3efe37b1",
   "metadata": {},
   "source": [
    "## Else\n",
    "`else` keyword catches anything which isn't caught by the preceding conditons"
   ]
  },
  {
   "cell_type": "code",
   "execution_count": 6,
   "id": "20bff6f5",
   "metadata": {},
   "outputs": [
    {
     "name": "stdout",
     "output_type": "stream",
     "text": [
      "a is greater than b\n"
     ]
    }
   ],
   "source": [
    "a = 200\n",
    "b = 40\n",
    "if b>a:\n",
    "    print(\"b is greater than a\")\n",
    "elif a == b:\n",
    "    print(\"a and b are equal\")\n",
    "else:\n",
    "    print(\"a is greater than b\")"
   ]
  },
  {
   "cell_type": "markdown",
   "id": "8da17175",
   "metadata": {},
   "source": [
    "we can also have an `else` without the `elif`"
   ]
  },
  {
   "cell_type": "code",
   "execution_count": 7,
   "id": "98e9b36c",
   "metadata": {},
   "outputs": [
    {
     "name": "stdout",
     "output_type": "stream",
     "text": [
      "b is not greater than a\n"
     ]
    }
   ],
   "source": [
    "a = 200\n",
    "b = 40\n",
    "if b>a:\n",
    "    print(\"b is greater than a\")\n",
    "else:\n",
    "    print(\"b is not greater than a\")"
   ]
  },
  {
   "cell_type": "markdown",
   "id": "157bb032",
   "metadata": {},
   "source": [
    "## Short Hand If\n",
    "If you have only one statement to execute, you can put it on the same lie as the if statement"
   ]
  },
  {
   "cell_type": "code",
   "execution_count": 8,
   "id": "bd851cf6",
   "metadata": {},
   "outputs": [
    {
     "name": "stdout",
     "output_type": "stream",
     "text": [
      "a is greater than b\n"
     ]
    }
   ],
   "source": [
    "if a>b: print(\"a is greater than b\")"
   ]
  },
  {
   "cell_type": "markdown",
   "id": "ceefb813",
   "metadata": {},
   "source": [
    "## Short Hand If ... Else\n",
    "\n",
    "If we only have one statement to execure, one for if, and one for else, we can put it all on the same line:"
   ]
  },
  {
   "cell_type": "markdown",
   "id": "1d5058d1",
   "metadata": {},
   "source": [
    "> This technique is known as **Ternary Operators**, or **Conditional Expressions**."
   ]
  },
  {
   "cell_type": "code",
   "execution_count": 9,
   "id": "5a190acc",
   "metadata": {},
   "outputs": [
    {
     "name": "stdout",
     "output_type": "stream",
     "text": [
      "B\n"
     ]
    }
   ],
   "source": [
    "a = 2\n",
    "b = 94\n",
    "print(\"A\") if a>b else print(\"B\")"
   ]
  },
  {
   "cell_type": "markdown",
   "id": "7287cdaf",
   "metadata": {},
   "source": [
    "We can also have multiple else statement with 3 conditions:"
   ]
  },
  {
   "cell_type": "code",
   "execution_count": 10,
   "id": "3c8e4de2",
   "metadata": {},
   "outputs": [
    {
     "name": "stdout",
     "output_type": "stream",
     "text": [
      "=\n"
     ]
    }
   ],
   "source": [
    "a = 4\n",
    "b = 4\n",
    "print(\"A\") if a>b else print(\"=\") if a==b else print(\"B\")"
   ]
  },
  {
   "cell_type": "markdown",
   "id": "0beb436b",
   "metadata": {},
   "source": [
    "## And\n",
    "the `and` keyword is logical operator, and is used to combine conditional statements"
   ]
  },
  {
   "cell_type": "code",
   "execution_count": 11,
   "id": "e9e538bc",
   "metadata": {},
   "outputs": [
    {
     "name": "stdout",
     "output_type": "stream",
     "text": [
      "Both conditions are True\n"
     ]
    }
   ],
   "source": [
    "a = 200\n",
    "b = 40\n",
    "c = 500\n",
    "\n",
    "if a>b and c>b:\n",
    "    print(\"Both conditions are True\")"
   ]
  },
  {
   "cell_type": "markdown",
   "id": "e3f0ea11",
   "metadata": {},
   "source": [
    "## Or"
   ]
  },
  {
   "cell_type": "code",
   "execution_count": 12,
   "id": "72955899",
   "metadata": {},
   "outputs": [
    {
     "name": "stdout",
     "output_type": "stream",
     "text": [
      "At least one of the conditions is True\n"
     ]
    }
   ],
   "source": [
    "if a>b or a>c:\n",
    "    print(\"At least one of the conditions is True\")"
   ]
  },
  {
   "cell_type": "markdown",
   "id": "9313997b",
   "metadata": {},
   "source": [
    "# Not"
   ]
  },
  {
   "cell_type": "code",
   "execution_count": 13,
   "id": "bba51a11",
   "metadata": {},
   "outputs": [
    {
     "name": "stdout",
     "output_type": "stream",
     "text": [
      "a is NOT greater than b\n"
     ]
    }
   ],
   "source": [
    "a = 33\n",
    "b = 200\n",
    "if not a>b:\n",
    "    print(\"a is NOT greater than b\")"
   ]
  },
  {
   "cell_type": "markdown",
   "id": "0a95e7ab",
   "metadata": {},
   "source": [
    "## Nested If\n",
    "we can have `if` statements inside `if` statements, known as nested `if` statements"
   ]
  },
  {
   "cell_type": "code",
   "execution_count": 15,
   "id": "63e714c8",
   "metadata": {},
   "outputs": [
    {
     "name": "stdout",
     "output_type": "stream",
     "text": [
      "Above ten, \n",
      "and also above 20!\n"
     ]
    }
   ],
   "source": [
    "x = 41\n",
    "if x>10:\n",
    "    print(\"Above ten, \")\n",
    "    if x>20:\n",
    "        print(\"and also above 20!\")\n",
    "    else:\n",
    "        print(\"but not above 20.\")"
   ]
  },
  {
   "cell_type": "markdown",
   "id": "e0cfb9be",
   "metadata": {},
   "source": [
    "## The pass Statement\n",
    "`if` statements cannot be empty, but if you for some reason have an `if` statement with no content, put in the `pass` statement to avoid getting an err..."
   ]
  },
  {
   "cell_type": "code",
   "execution_count": 16,
   "id": "d4a1af50",
   "metadata": {},
   "outputs": [],
   "source": [
    "a = 21\n",
    "b = 49\n",
    "if b>a:\n",
    "    pass"
   ]
  }
 ],
 "metadata": {
  "kernelspec": {
   "display_name": "Python 3",
   "language": "python",
   "name": "python3"
  },
  "language_info": {
   "codemirror_mode": {
    "name": "ipython",
    "version": 3
   },
   "file_extension": ".py",
   "mimetype": "text/x-python",
   "name": "python",
   "nbconvert_exporter": "python",
   "pygments_lexer": "ipython3",
   "version": "3.11.4"
  }
 },
 "nbformat": 4,
 "nbformat_minor": 5
}
