{
 "cells": [
  {
   "cell_type": "markdown",
   "id": "a3c5ca45",
   "metadata": {},
   "source": [
    "# Python Arrays\n",
    "\n",
    "> NOTE: Python does not have built-in support for Arrays, but Python Lists can be used instead..."
   ]
  },
  {
   "cell_type": "markdown",
   "id": "29e7200b",
   "metadata": {},
   "source": [
    "Arrays are used to store multiple values in one single variable:"
   ]
  },
  {
   "cell_type": "code",
   "execution_count": 2,
   "id": "3df2acbe",
   "metadata": {},
   "outputs": [],
   "source": [
    "cars = [\"Ford\", \"Volvo\", \"BMW\"] # an array containing car names"
   ]
  },
  {
   "cell_type": "markdown",
   "id": "e4f0fbe9",
   "metadata": {},
   "source": [
    "### What is an array?\n",
    "\n",
    "An array is a special variable, which can hold more than one value at a time."
   ]
  },
  {
   "cell_type": "markdown",
   "id": "b6244b4e",
   "metadata": {},
   "source": [
    "## Access the Elements of an Array\n",
    "\n",
    "You refer to an array element by referring to the index number."
   ]
  },
  {
   "cell_type": "markdown",
   "id": "d5371c08",
   "metadata": {},
   "source": [
    "Example: accessing first array item"
   ]
  },
  {
   "cell_type": "code",
   "execution_count": 4,
   "id": "4680a711",
   "metadata": {},
   "outputs": [
    {
     "name": "stdout",
     "output_type": "stream",
     "text": [
      "Ford\n"
     ]
    }
   ],
   "source": [
    "x = cars[0]\n",
    "\n",
    "print(x)"
   ]
  },
  {
   "cell_type": "markdown",
   "id": "9d835a83",
   "metadata": {},
   "source": [
    "Example: Modifiying the value of first array item"
   ]
  },
  {
   "cell_type": "code",
   "execution_count": 6,
   "id": "d223174c",
   "metadata": {},
   "outputs": [
    {
     "data": {
      "text/plain": [
       "['Tata', 'Volvo', 'BMW']"
      ]
     },
     "execution_count": 6,
     "metadata": {},
     "output_type": "execute_result"
    }
   ],
   "source": [
    "cars[0] = \"Tata\"\n",
    "cars"
   ]
  },
  {
   "cell_type": "markdown",
   "id": "2f25cba2",
   "metadata": {},
   "source": [
    "## Length of an array\n",
    "`len()` method is used to return the length of an array (the no. of elements in an array)"
   ]
  },
  {
   "cell_type": "code",
   "execution_count": 7,
   "id": "f3b67042",
   "metadata": {},
   "outputs": [
    {
     "name": "stdout",
     "output_type": "stream",
     "text": [
      "3\n"
     ]
    }
   ],
   "source": [
    "x = len(cars)\n",
    "print(x)"
   ]
  },
  {
   "cell_type": "markdown",
   "id": "c3408c61",
   "metadata": {},
   "source": [
    "## Looping Array Elements\n",
    "\n",
    "we can nuse the `for in` loop to loop through all the elements of an array"
   ]
  },
  {
   "cell_type": "code",
   "execution_count": 8,
   "id": "dd9ffa5b",
   "metadata": {},
   "outputs": [
    {
     "name": "stdout",
     "output_type": "stream",
     "text": [
      "Tata\n",
      "Volvo\n",
      "BMW\n"
     ]
    }
   ],
   "source": [
    "for x in cars:\n",
    "    print(x)"
   ]
  },
  {
   "cell_type": "markdown",
   "id": "86dd8525",
   "metadata": {},
   "source": [
    "## Adding array elemts\n",
    "`append()` method is used"
   ]
  },
  {
   "cell_type": "code",
   "execution_count": 9,
   "id": "7b4deb90",
   "metadata": {},
   "outputs": [
    {
     "data": {
      "text/plain": [
       "['Tata', 'Volvo', 'BMW', 'honda']"
      ]
     },
     "execution_count": 9,
     "metadata": {},
     "output_type": "execute_result"
    }
   ],
   "source": [
    "cars.append(\"honda\")\n",
    "cars"
   ]
  },
  {
   "cell_type": "markdown",
   "id": "f235bab7",
   "metadata": {},
   "source": [
    "## Removing Array Elements\n",
    "`pop()` method can be used"
   ]
  },
  {
   "cell_type": "code",
   "execution_count": 10,
   "id": "90f1f3cf",
   "metadata": {},
   "outputs": [
    {
     "data": {
      "text/plain": [
       "'Volvo'"
      ]
     },
     "execution_count": 10,
     "metadata": {},
     "output_type": "execute_result"
    }
   ],
   "source": [
    "cars.pop(1)"
   ]
  },
  {
   "cell_type": "code",
   "execution_count": 11,
   "id": "6ed1e251",
   "metadata": {},
   "outputs": [
    {
     "data": {
      "text/plain": [
       "['Tata', 'BMW', 'honda']"
      ]
     },
     "execution_count": 11,
     "metadata": {},
     "output_type": "execute_result"
    }
   ],
   "source": [
    "cars"
   ]
  },
  {
   "cell_type": "markdown",
   "id": "c594ad2b",
   "metadata": {},
   "source": [
    "We can also use `remove()` method to remove an element"
   ]
  },
  {
   "cell_type": "code",
   "execution_count": 12,
   "id": "5c68f69c",
   "metadata": {},
   "outputs": [],
   "source": [
    "cars.remove(\"BMW\")"
   ]
  },
  {
   "cell_type": "code",
   "execution_count": 13,
   "id": "19dbb175",
   "metadata": {},
   "outputs": [
    {
     "data": {
      "text/plain": [
       "['Tata', 'honda']"
      ]
     },
     "execution_count": 13,
     "metadata": {},
     "output_type": "execute_result"
    }
   ],
   "source": [
    "cars"
   ]
  },
  {
   "cell_type": "markdown",
   "id": "2a15eef4",
   "metadata": {},
   "source": [
    ">Note: The list's remove() method only removes the first occurrence of the specified value."
   ]
  },
  {
   "cell_type": "markdown",
   "id": "4b817431",
   "metadata": {},
   "source": [
    "## Array Methods\n",
    "\n",
    "- `append()`: Adds an element at the end of the list\n",
    "- `clear()`: Removes all the elements from the list\n",
    "- `copy()`: Returns a copy of the list\n",
    "- `count()`: Returns the no. of elements with the specified value\n",
    "- `extend()`: Add the elements of a list (or any iterable), to the end of the current list\n",
    "- `index()`: Returns the index of the first element with the specified value\n",
    "- `insert()`: Adds an element at the specified position\n",
    "- `pop()`: Removes the element at the specified position\n",
    "- `remove()`: Removes the first item with the specified value\n",
    "- `reverse()`: Reverses the order of the list\n",
    "- `sort()`: Sorts the list\n"
   ]
  },
  {
   "cell_type": "markdown",
   "id": "e6c978aa",
   "metadata": {},
   "source": []
  }
 ],
 "metadata": {
  "kernelspec": {
   "display_name": "Python 3",
   "language": "python",
   "name": "python3"
  },
  "language_info": {
   "codemirror_mode": {
    "name": "ipython",
    "version": 3
   },
   "file_extension": ".py",
   "mimetype": "text/x-python",
   "name": "python",
   "nbconvert_exporter": "python",
   "pygments_lexer": "ipython3",
   "version": "3.11.4"
  }
 },
 "nbformat": 4,
 "nbformat_minor": 5
}
