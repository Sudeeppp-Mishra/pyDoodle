{
 "cells": [
  {
   "cell_type": "markdown",
   "id": "3f1cb84e",
   "metadata": {},
   "source": [
    "## Python For Loops\n",
    "\n",
    "`for` loop is used for iteration over a sequence (that is either a list, a tuple, a dictionary, a set, or a string).\n",
    "\n",
    "This is less like the `for` keyword in other programming languages, and works more like an _**iterator**_ method as found in other OOP languages.\n",
    "\n",
    "With the `for` loop we can execute a set of statements, once for each item in a list, tuple, set etc."
   ]
  },
  {
   "cell_type": "code",
   "execution_count": 2,
   "id": "25166140",
   "metadata": {},
   "outputs": [
    {
     "name": "stdout",
     "output_type": "stream",
     "text": [
      "Apple\n",
      "Banana\n",
      "Pomegranate\n",
      "Dragon Fruit\n"
     ]
    }
   ],
   "source": [
    "fruits = [\"Apple\", \"Banana\", \"Pomegranate\", \"Dragon Fruit\"]\n",
    "for x in fruits:\n",
    "    print(x)"
   ]
  },
  {
   "cell_type": "markdown",
   "id": "f1de840d",
   "metadata": {},
   "source": [
    "> `for` loop does not require an indexing variable to set beforehand"
   ]
  },
  {
   "cell_type": "markdown",
   "id": "c094313f",
   "metadata": {},
   "source": [
    "## Looping through a string\n",
    "\n",
    "even string are iterable objects, they contain sequence of characters:"
   ]
  },
  {
   "cell_type": "code",
   "execution_count": 3,
   "id": "4a693c9b",
   "metadata": {},
   "outputs": [
    {
     "name": "stdout",
     "output_type": "stream",
     "text": [
      "b\n",
      "a\n",
      "n\n",
      "a\n",
      "n\n",
      "a\n"
     ]
    }
   ],
   "source": [
    "for x in \"banana\":\n",
    "    print(x)"
   ]
  },
  {
   "cell_type": "markdown",
   "id": "62730b79",
   "metadata": {},
   "source": [
    "## `break` statement"
   ]
  },
  {
   "cell_type": "code",
   "execution_count": 4,
   "id": "cfcf0e6d",
   "metadata": {},
   "outputs": [
    {
     "name": "stdout",
     "output_type": "stream",
     "text": [
      "Apple\n"
     ]
    }
   ],
   "source": [
    "fruits = [\"Apple\", \"banana\"]\n",
    "\n",
    "for x in fruits:\n",
    "    print(x)\n",
    "    if x==\"Apple\":\n",
    "        break"
   ]
  },
  {
   "cell_type": "markdown",
   "id": "89ec7aae",
   "metadata": {},
   "source": [
    "## `continue` statement"
   ]
  },
  {
   "cell_type": "code",
   "execution_count": 5,
   "id": "62e03777",
   "metadata": {},
   "outputs": [
    {
     "name": "stdout",
     "output_type": "stream",
     "text": [
      "apple\n",
      "strawberry\n"
     ]
    }
   ],
   "source": [
    "fruits = [\"apple\", \"banana\", \"strawberry\"]\n",
    "for x in fruits:\n",
    "    if x==\"banana\":\n",
    "        continue\n",
    "    print(x)"
   ]
  },
  {
   "cell_type": "markdown",
   "id": "17cf61ce",
   "metadata": {},
   "source": [
    "## The `range()` function\n",
    "\n",
    "To loop through a set of code a specified number of times, we can use the `range()` funcion.\n",
    "\n",
    "The `range()` function returns a sequence of numbers, starting form 0 by default, and increments by 1 (by default), and ends at a specific number."
   ]
  },
  {
   "cell_type": "code",
   "execution_count": 6,
   "id": "1f9d7e24",
   "metadata": {},
   "outputs": [
    {
     "name": "stdout",
     "output_type": "stream",
     "text": [
      "0\n",
      "1\n",
      "2\n",
      "3\n",
      "4\n",
      "5\n"
     ]
    }
   ],
   "source": [
    "for x in range(6):\n",
    "    print(x)"
   ]
  },
  {
   "cell_type": "markdown",
   "id": "0e566d1e",
   "metadata": {},
   "source": [
    "> *Note that `range(6)` is not the values of 0 to 6, but the values 0 to 5.\n",
    "\n",
    "`range()` defaults to 0 as starting value, but we can specify the starting value by adding a parameter: `range(2,6)`, which means values form 2 to 6(excluding 6)"
   ]
  },
  {
   "cell_type": "code",
   "execution_count": 7,
   "id": "04cacd4f",
   "metadata": {},
   "outputs": [
    {
     "name": "stdout",
     "output_type": "stream",
     "text": [
      "2\n",
      "3\n",
      "4\n",
      "5\n"
     ]
    }
   ],
   "source": [
    "for x in range(2, 6):\n",
    "    print(x)"
   ]
  },
  {
   "cell_type": "markdown",
   "id": "e0ef847f",
   "metadata": {},
   "source": [
    "Also `range()` function defaults to increment the sequence by 1, however it is possible to specify the increment value by adding a third parameter: `range(2, 30, 3)`"
   ]
  },
  {
   "cell_type": "code",
   "execution_count": 8,
   "id": "eac72700",
   "metadata": {},
   "outputs": [
    {
     "name": "stdout",
     "output_type": "stream",
     "text": [
      "2\n",
      "5\n",
      "8\n",
      "11\n",
      "14\n",
      "17\n",
      "20\n",
      "23\n",
      "26\n",
      "29\n"
     ]
    }
   ],
   "source": [
    "for x in range(2, 30, 3):\n",
    "    print(x)"
   ]
  },
  {
   "cell_type": "markdown",
   "id": "25e25ffa",
   "metadata": {},
   "source": [
    "## Else in For Loop\n",
    "\n",
    "the `else` keyword in a `for` loop specifies a block of code to be executed when the loop is finished:"
   ]
  },
  {
   "cell_type": "code",
   "execution_count": 9,
   "id": "8f9de0ca",
   "metadata": {},
   "outputs": [
    {
     "name": "stdout",
     "output_type": "stream",
     "text": [
      "0\n",
      "1\n",
      "2\n",
      "3\n",
      "4\n",
      "Finally finished!\n"
     ]
    }
   ],
   "source": [
    "for x in range(5):\n",
    "    print(x)\n",
    "else:\n",
    "    print(\"Finally finished!\")"
   ]
  },
  {
   "cell_type": "markdown",
   "id": "3d07101b",
   "metadata": {},
   "source": [
    "> *NOTE: the `else` block will NOT be executed if the loop is stopped by a `break` statementtt"
   ]
  },
  {
   "cell_type": "code",
   "execution_count": 10,
   "id": "2ec88013",
   "metadata": {},
   "outputs": [
    {
     "name": "stdout",
     "output_type": "stream",
     "text": [
      "0\n",
      "1\n"
     ]
    }
   ],
   "source": [
    "for x in range(3):\n",
    "    if x == 2: break\n",
    "    print(x)\n",
    "else:\n",
    "    print(\"Finally finished\")"
   ]
  },
  {
   "cell_type": "markdown",
   "id": "f993005c",
   "metadata": {},
   "source": [
    "## Nested Loops\n",
    "\n",
    "A nested loop is a lopp inside a loop obviouslyyy\n",
    "\n",
    "The \"inner loop\" will be executed one time for each iteration fo the \"outer loop\":"
   ]
  },
  {
   "cell_type": "markdown",
   "id": "532b222e",
   "metadata": {},
   "source": [
    "### Printing each adjective for every fruit:"
   ]
  },
  {
   "cell_type": "code",
   "execution_count": 11,
   "id": "30c52691",
   "metadata": {},
   "outputs": [
    {
     "name": "stdout",
     "output_type": "stream",
     "text": [
      "red apple\n",
      "red cherry\n",
      "red strawberry\n",
      "big apple\n",
      "big cherry\n",
      "big strawberry\n",
      "tasty apple\n",
      "tasty cherry\n",
      "tasty strawberry\n"
     ]
    }
   ],
   "source": [
    "adj = [\"red\", \"big\", \"tasty\"]\n",
    "fruits = [\"apple\", \"cherry\", \"strawberry\"]\n",
    "\n",
    "for x in adj:\n",
    "    for y in fruits:\n",
    "        print(x, y)"
   ]
  },
  {
   "cell_type": "markdown",
   "id": "c502f5d8",
   "metadata": {},
   "source": [
    "## The pass Statement\n",
    "`for` loops cannot be empty, but if you for some reason have a `for` loop with no content, put in the `pass` statement to avoid getting an error"
   ]
  },
  {
   "cell_type": "code",
   "execution_count": 12,
   "id": "d233e5ba",
   "metadata": {},
   "outputs": [],
   "source": [
    "for x in [0, 1, 2]:\n",
    "    pass"
   ]
  }
 ],
 "metadata": {
  "kernelspec": {
   "display_name": "Python 3",
   "language": "python",
   "name": "python3"
  },
  "language_info": {
   "codemirror_mode": {
    "name": "ipython",
    "version": 3
   },
   "file_extension": ".py",
   "mimetype": "text/x-python",
   "name": "python",
   "nbconvert_exporter": "python",
   "pygments_lexer": "ipython3",
   "version": "3.11.4"
  }
 },
 "nbformat": 4,
 "nbformat_minor": 5
}
