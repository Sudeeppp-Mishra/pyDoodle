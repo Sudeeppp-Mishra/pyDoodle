{
 "cells": [
  {
   "cell_type": "markdown",
   "id": "aef3c192",
   "metadata": {},
   "source": [
    "## Python frozenset\n",
    "\n",
    "`frozenset` is an immutable version of a set.\n",
    "\n",
    "Like sets, it contains unique, unordered, unchangeable elements.\n",
    "\n",
    "Unlkike sets, elements cannot be added or removed from a frozenset.\n",
    "\n",
    "## Creating a frozenset\n",
    "\n",
    "Use the `frozenset()` constructor to create a frozenset from any iterable."
   ]
  },
  {
   "cell_type": "code",
   "execution_count": 1,
   "id": "84a5ed2f",
   "metadata": {},
   "outputs": [
    {
     "name": "stdout",
     "output_type": "stream",
     "text": [
      "frozenset({'apple', 'banana', 'cherry'})\n",
      "<class 'frozenset'>\n"
     ]
    }
   ],
   "source": [
    "x = frozenset({\"apple\", \"banana\", \"cherry\"})\n",
    "print(x)\n",
    "print(type(x))"
   ]
  },
  {
   "cell_type": "markdown",
   "id": "9bdc470e",
   "metadata": {},
   "source": [
    "## Frozenset Methods\n",
    "\n",
    "# Frozenset Methods\n",
    "\n",
    "| Method                 | Shortcut   | Description                                               |\n",
    "|------------------------|-----------|-----------------------------------------------------------|\n",
    "| `copy()`               |           | Returns a shallow copy                                    |\n",
    "| `difference()`         | -         | Returns a new frozenset with the difference              |\n",
    "| `intersection()`       | &         | Returns a new frozenset with the intersection            |\n",
    "| `isdisjoint()`         |           | Returns whether two frozensets have an intersection      |\n",
    "| `issubset()`           | <= / <    | Returns True if this frozenset is a (proper) subset of another |\n",
    "| `issuperset()`         | >= / >    | Returns True if this frozenset is a (proper) superset of another |\n",
    "| `symmetric_difference()` | ^       | Returns a new frozenset with the symmetric differences  |\n",
    "| `union()`              | \\|        | Returns a new frozenset containing the union             |"
   ]
  }
 ],
 "metadata": {
  "kernelspec": {
   "display_name": "Python 3",
   "language": "python",
   "name": "python3"
  },
  "language_info": {
   "codemirror_mode": {
    "name": "ipython",
    "version": 3
   },
   "file_extension": ".py",
   "mimetype": "text/x-python",
   "name": "python",
   "nbconvert_exporter": "python",
   "pygments_lexer": "ipython3",
   "version": "3.11.4"
  }
 },
 "nbformat": 4,
 "nbformat_minor": 5
}
