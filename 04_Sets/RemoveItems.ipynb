{
 "cells": [
  {
   "cell_type": "markdown",
   "id": "75e99db1",
   "metadata": {},
   "source": [
    "## Remote Item\n",
    "To remove an item in a set, we use `remove()`, or the `discard()` method"
   ]
  },
  {
   "cell_type": "code",
   "execution_count": 1,
   "id": "bcdb0f23",
   "metadata": {},
   "outputs": [
    {
     "name": "stdout",
     "output_type": "stream",
     "text": [
      "{'banana', 'cherry'}\n"
     ]
    }
   ],
   "source": [
    "thisSet = {\"apple\", \"banana\", \"cherry\"}\n",
    "\n",
    "thisSet.remove(\"apple\")\n",
    "print(thisSet)"
   ]
  },
  {
   "cell_type": "markdown",
   "id": "3e8a6978",
   "metadata": {},
   "source": [
    "> Note: If the item to remove does not exist, `remove()` will raise an error. So we can use `discard()` method which will not raise an error."
   ]
  },
  {
   "cell_type": "code",
   "execution_count": 2,
   "id": "e4ec11b4",
   "metadata": {},
   "outputs": [
    {
     "name": "stdout",
     "output_type": "stream",
     "text": [
      "{'banana'}\n"
     ]
    }
   ],
   "source": [
    "thisSet.discard(\"cherry\")\n",
    "print(thisSet)"
   ]
  },
  {
   "cell_type": "markdown",
   "id": "d2d7a8d9",
   "metadata": {},
   "source": [
    "We can also use `pop()` method to remove an item, but this method will remove a random item, so we cannot be sure what item that gets removed.\n",
    "\n",
    "The return value of `pop()` method is the removed item."
   ]
  },
  {
   "cell_type": "code",
   "execution_count": 3,
   "id": "942eebbf",
   "metadata": {},
   "outputs": [
    {
     "name": "stdout",
     "output_type": "stream",
     "text": [
      "apple\n",
      "{'banana', 'cherry'}\n"
     ]
    }
   ],
   "source": [
    "thisSet = {\"apple\", \"banana\", \"cherry\"}\n",
    "x = thisSet.pop()\n",
    "print(x)\n",
    "print(thisSet)"
   ]
  },
  {
   "cell_type": "markdown",
   "id": "6a345af9",
   "metadata": {},
   "source": [
    "> Note: as sets are unordered, we don't know which item gets removed wile using `pop()` method"
   ]
  },
  {
   "cell_type": "markdown",
   "id": "f77f9d5c",
   "metadata": {},
   "source": [
    "The `clear()` method empties the set"
   ]
  },
  {
   "cell_type": "code",
   "execution_count": null,
   "id": "99e9dee6",
   "metadata": {},
   "outputs": [
    {
     "name": "stdout",
     "output_type": "stream",
     "text": [
      "set()\n"
     ]
    }
   ],
   "source": [
    "thisSet = {1, 2, 4}\n",
    "thisSet.clear()\n",
    "print(thisSet) # Empty set"
   ]
  },
  {
   "cell_type": "markdown",
   "id": "7613512c",
   "metadata": {},
   "source": [
    "The `del` keyword will delete the set completedy"
   ]
  },
  {
   "cell_type": "code",
   "execution_count": null,
   "id": "a56cd3a9",
   "metadata": {},
   "outputs": [
    {
     "ename": "NameError",
     "evalue": "name 'thisSet' is not defined",
     "output_type": "error",
     "traceback": [
      "\u001b[31m---------------------------------------------------------------------------\u001b[39m",
      "\u001b[31mNameError\u001b[39m                                 Traceback (most recent call last)",
      "\u001b[36mCell\u001b[39m\u001b[36m \u001b[39m\u001b[32mIn[5]\u001b[39m\u001b[32m, line 3\u001b[39m\n\u001b[32m      1\u001b[39m thisSet = {\u001b[32m3\u001b[39m, \u001b[32m4\u001b[39m, \u001b[32m6\u001b[39m}\n\u001b[32m      2\u001b[39m \u001b[38;5;28;01mdel\u001b[39;00m thisSet\n\u001b[32m----> \u001b[39m\u001b[32m3\u001b[39m \u001b[38;5;28mprint\u001b[39m(\u001b[43mthisSet\u001b[49m)\n",
      "\u001b[31mNameError\u001b[39m: name 'thisSet' is not defined"
     ]
    }
   ],
   "source": [
    "thisSet = {3, 4, 6}\n",
    "del thisSet\n",
    "print(thisSet) # Error: as thisSet is already deleted completely"
   ]
  }
 ],
 "metadata": {
  "kernelspec": {
   "display_name": "Python 3",
   "language": "python",
   "name": "python3"
  },
  "language_info": {
   "codemirror_mode": {
    "name": "ipython",
    "version": 3
   },
   "file_extension": ".py",
   "mimetype": "text/x-python",
   "name": "python",
   "nbconvert_exporter": "python",
   "pygments_lexer": "ipython3",
   "version": "3.11.4"
  }
 },
 "nbformat": 4,
 "nbformat_minor": 5
}
