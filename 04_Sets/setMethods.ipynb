{
 "cells": [
  {
   "cell_type": "markdown",
   "id": "7d23a467",
   "metadata": {},
   "source": [
    "# Python Set Methods\n",
    "\n",
    "| Method                     | Shortcut | Description                                                                 |\n",
    "|----------------------------|---------|-----------------------------------------------------------------------------|\n",
    "| `add()`                     |         | Adds an element to the set                                                  |\n",
    "| `clear()`                   |         | Removes all the elements from the set                                       |\n",
    "| `copy()`                    |         | Returns a copy of the set                                                   |\n",
    "| `difference()`              | -       | Returns a set containing the difference between two or more sets           |\n",
    "| `difference_update()`       | -=      | Removes the items in this set that are also included in another specified set |\n",
    "| `discard()`                 |         | Remove the specified item                                                   |\n",
    "| `intersection()`            | &       | Returns a set that is the intersection of two other sets                   |\n",
    "| `intersection_update()`     | &=      | Removes the items in this set that are not present in other specified set(s) |\n",
    "| `isdisjoint()`              |         | Returns whether two sets have an intersection or not                       |\n",
    "| `issubset()`                | <=      | Returns True if all items of this set are present in another set           |\n",
    "|                             | <       | Returns True if all items of this set are present in another, larger set   |\n",
    "| `issuperset()`              | >=      | Returns True if all items of another set are present in this set           |\n",
    "|                             | >       | Returns True if all items of another, smaller set are present in this set  |\n",
    "| `pop()`                     |         | Removes an element from the set                                             |\n",
    "| `remove()`                  |         | Removes the specified element                                               |\n",
    "| `symmetric_difference()`    | ^       | Returns a set with the symmetric differences of two sets                   |\n",
    "| `symmetric_difference_update()` | ^=   | Inserts the symmetric differences from this set and another                |\n",
    "| `union()`                   | \\|      | Returns a set containing the union of sets                                  |\n",
    "| `update()`                  | \\|=      | Updates the set with the union of this set and others                       |"
   ]
  },
  {
   "cell_type": "markdown",
   "id": "fe17e070",
   "metadata": {},
   "source": []
  }
 ],
 "metadata": {
  "language_info": {
   "name": "python"
  }
 },
 "nbformat": 4,
 "nbformat_minor": 5
}
