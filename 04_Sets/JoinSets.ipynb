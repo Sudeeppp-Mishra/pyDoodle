{
 "cells": [
  {
   "cell_type": "markdown",
   "id": "99b146f3",
   "metadata": {},
   "source": [
    "## Join Sets\n",
    "There are sever ways to join two or more sets:\n",
    "- `union()` and `update` -> joins all items from both sets\n",
    "\n",
    "- `intersection()` -> keeps ONLY the items which are on both sets\n",
    "\n",
    "- `difference()` -> keeps items from the first set that are not in other set(s)\n",
    "\n",
    "- `symmetric_difference()` -> keeps all items EXCEPT the duplicates"
   ]
  },
  {
   "cell_type": "markdown",
   "id": "7eb67582",
   "metadata": {},
   "source": [
    "## Union\n",
    "- `union()` method returns a new set with all items from both sets"
   ]
  },
  {
   "cell_type": "code",
   "execution_count": 16,
   "id": "ef932cfe",
   "metadata": {},
   "outputs": [
    {
     "name": "stdout",
     "output_type": "stream",
     "text": [
      "{1, 2, 3, 'q', 'p', 'r'}\n"
     ]
    }
   ],
   "source": [
    "set1 = {1, 2, 3}\n",
    "set2 = {'p', 'q', 'r'}\n",
    "\n",
    "set3 = set1.union(set2)\n",
    "print(set3)"
   ]
  },
  {
   "cell_type": "markdown",
   "id": "41aabd47",
   "metadata": {},
   "source": [
    "##### We can use the `|` operator instead of the `union()` method, we will get the smae result"
   ]
  },
  {
   "cell_type": "code",
   "execution_count": 17,
   "id": "cab12b42",
   "metadata": {},
   "outputs": [
    {
     "name": "stdout",
     "output_type": "stream",
     "text": [
      "{1, 2, 3, 'q', 'p'}\n"
     ]
    }
   ],
   "source": [
    "set1 = {1, 2, 3}\n",
    "set2 = {'p', 'q'}\n",
    "\n",
    "set3 = set1 | set2\n",
    "print(set3)"
   ]
  },
  {
   "cell_type": "markdown",
   "id": "2c8b6c02",
   "metadata": {},
   "source": [
    "## Join Multiple Sets\n",
    "all the joining methods and operators can be used to join multiple sets.\n",
    "\n",
    "Wehn using a method, we just add more sets in the parentheses, separated by commas:"
   ]
  },
  {
   "cell_type": "code",
   "execution_count": 18,
   "id": "e08f2c63",
   "metadata": {},
   "outputs": [
    {
     "name": "stdout",
     "output_type": "stream",
     "text": [
      "{'c', 1, 2, 3, 'Ram', 'Krishna', 'java', 'b', 'a'}\n"
     ]
    }
   ],
   "source": [
    "set1 = {\"a\", 'b', 'c'}\n",
    "set2 = {1, 2, 3}\n",
    "set3 = {\"Ram\", \"Krishna\"}\n",
    "set4 = {\"c\", \"java\"}\n",
    "\n",
    "myset = set1.union(set2, set3, set4)\n",
    "print(myset)"
   ]
  },
  {
   "cell_type": "markdown",
   "id": "4edf5ed5",
   "metadata": {},
   "source": [
    "When using the `|` operator, separate the sets with more `|` operators:"
   ]
  },
  {
   "cell_type": "code",
   "execution_count": 19,
   "id": "fd2a294a",
   "metadata": {},
   "outputs": [
    {
     "name": "stdout",
     "output_type": "stream",
     "text": [
      "{'c', 'Ram', 'Krishna', 11, 'q', 'p', 'r', 22, 'java'}\n"
     ]
    }
   ],
   "source": [
    "set1 = {\"p\", 'q', 'r'}\n",
    "set2 = {11, 22}\n",
    "set3 = {\"Ram\", \"Krishna\"}\n",
    "set4 = {\"c\", \"java\"}\n",
    "\n",
    "myset = set1 | set2 | set3 | set4\n",
    "print(myset)"
   ]
  },
  {
   "cell_type": "markdown",
   "id": "400fcaba",
   "metadata": {},
   "source": [
    "## Join a set and a Tuple\n",
    "\n",
    "##### The `union()` method allows us to join a set with other data types, like lists or tuples.\n",
    "\n",
    "##### The result will be a set"
   ]
  },
  {
   "cell_type": "code",
   "execution_count": 20,
   "id": "3e7bbc84",
   "metadata": {},
   "outputs": [
    {
     "name": "stdout",
     "output_type": "stream",
     "text": [
      "{'c', 2, 1, 4, 'b', 'a'}\n"
     ]
    }
   ],
   "source": [
    "x = {'a', 'b', 'c'}\n",
    "y = (1, 2, 4)\n",
    "\n",
    "z = x.union(y)\n",
    "print(z)"
   ]
  },
  {
   "cell_type": "markdown",
   "id": "8fe01af8",
   "metadata": {},
   "source": [
    "> Note: The `|` operator only allows us to join sets with sets..."
   ]
  },
  {
   "cell_type": "markdown",
   "id": "83490c2e",
   "metadata": {},
   "source": [
    "## Update\n",
    "##### The `update()` method inserts all items form one set into another. It changes the original set, and does not return a new set."
   ]
  },
  {
   "cell_type": "code",
   "execution_count": 21,
   "id": "568f1a9f",
   "metadata": {},
   "outputs": [
    {
     "name": "stdout",
     "output_type": "stream",
     "text": [
      "{'c', 1, 2, 3, 'b', 'a'}\n"
     ]
    }
   ],
   "source": [
    "set1 = {'a', 'b', 'c'}\n",
    "set2 = {1, 2, 3}\n",
    "\n",
    "set1.update(set2)\n",
    "print(set1)"
   ]
  },
  {
   "cell_type": "markdown",
   "id": "ce3e9a98",
   "metadata": {},
   "source": [
    "> Note: Both `union()` and `update()` will exclude any duplicate items."
   ]
  },
  {
   "cell_type": "markdown",
   "id": "e243c16e",
   "metadata": {},
   "source": [
    "## Intersection\n",
    "### Returns a new set, that only contains the items that are present in both sets."
   ]
  },
  {
   "cell_type": "code",
   "execution_count": 22,
   "id": "f993f74a",
   "metadata": {},
   "outputs": [
    {
     "name": "stdout",
     "output_type": "stream",
     "text": [
      "{'apple'}\n"
     ]
    }
   ],
   "source": [
    "set1 = {\"apple\", \"banana\", \"cherry\"}\n",
    "set2 = {\"google\", \"microsoft\", \"apple\"}\n",
    "\n",
    "set3 = set1.intersection(set2)\n",
    "print(set3)"
   ]
  },
  {
   "cell_type": "markdown",
   "id": "c7e98ab4",
   "metadata": {},
   "source": [
    "##### We can use the `&` operator instead of the `intersection()` method..."
   ]
  },
  {
   "cell_type": "code",
   "execution_count": 23,
   "id": "f084fd82",
   "metadata": {},
   "outputs": [
    {
     "name": "stdout",
     "output_type": "stream",
     "text": [
      "{'apple'}\n"
     ]
    }
   ],
   "source": [
    "set1 = {\"apple\", \"banana\", \"cherry\"}\n",
    "set2 = {\"google\", \"microsoft\", \"apple\"}\n",
    "\n",
    "set3 = set1 & set2\n",
    "print(set3)"
   ]
  },
  {
   "cell_type": "markdown",
   "id": "51b01480",
   "metadata": {},
   "source": [
    "> Note: The `&` operator only allows us to join sets with sets, and not other data types like we can with `intersection()` method"
   ]
  },
  {
   "cell_type": "markdown",
   "id": "f4660e9c",
   "metadata": {},
   "source": [
    "##### The `intersection_update()` method will also keep ONLY the duplicates, but it will change the original set instead of returning a new set."
   ]
  },
  {
   "cell_type": "code",
   "execution_count": 24,
   "id": "549253b5",
   "metadata": {},
   "outputs": [
    {
     "name": "stdout",
     "output_type": "stream",
     "text": [
      "{'apple'}\n"
     ]
    }
   ],
   "source": [
    "set1 = {\"apple\", \"banana\", \"cherry\"}\n",
    "set2 = {\"google\", \"microsoft\", \"apple\"}\n",
    "\n",
    "set1.intersection_update(set2)\n",
    "\n",
    "print(set1)"
   ]
  },
  {
   "cell_type": "markdown",
   "id": "92cf34da",
   "metadata": {},
   "source": [
    "The values True and 1 are considered the same value. The same goes for False and 0.\n",
    "\n",
    "Join sets that contains the values True, False, 1, and 0, and see what is considered as duplicates:"
   ]
  },
  {
   "cell_type": "code",
   "execution_count": 25,
   "id": "b5caed0a",
   "metadata": {},
   "outputs": [
    {
     "name": "stdout",
     "output_type": "stream",
     "text": [
      "{False, 1, 'apple'}\n"
     ]
    }
   ],
   "source": [
    "set1 = {\"apple\", 1,  \"banana\", 0, \"cherry\"}\n",
    "set2 = {False, \"google\", 1, \"apple\", 2, True}\n",
    "\n",
    "set3 = set1.intersection(set2)\n",
    "\n",
    "print(set3)"
   ]
  },
  {
   "cell_type": "markdown",
   "id": "f06162df",
   "metadata": {},
   "source": [
    "## Difference \n",
    " will return a new set that will contain only the items from the first set that are not present in the other set."
   ]
  },
  {
   "cell_type": "code",
   "execution_count": 26,
   "id": "aa55e099",
   "metadata": {},
   "outputs": [
    {
     "name": "stdout",
     "output_type": "stream",
     "text": [
      "{'cherry', 'banana'}\n"
     ]
    }
   ],
   "source": [
    "set1 = {\"apple\", \"banana\", \"cherry\"}\n",
    "set2 = {\"google\", \"microsoft\", \"apple\"}\n",
    "\n",
    "set3 = set1.difference(set2)\n",
    "\n",
    "print(set3)"
   ]
  },
  {
   "cell_type": "markdown",
   "id": "1008eb2a",
   "metadata": {},
   "source": [
    "You can use the `-` operator instead of the `difference()` method, and you will get the same result."
   ]
  },
  {
   "cell_type": "code",
   "execution_count": 27,
   "id": "7aa595a1",
   "metadata": {},
   "outputs": [
    {
     "name": "stdout",
     "output_type": "stream",
     "text": [
      "{'cherry', 'banana'}\n"
     ]
    }
   ],
   "source": [
    "set1 = {\"apple\", \"banana\", \"cherry\"}\n",
    "set2 = {\"google\", \"microsoft\", \"apple\"}\n",
    "\n",
    "set3 = set1 - set2\n",
    "print(set3)"
   ]
  },
  {
   "cell_type": "markdown",
   "id": "de4604f9",
   "metadata": {},
   "source": [
    ">Note: The `-` operator only allows you to join sets with sets, and not with other data types like you can with the `difference()` method."
   ]
  },
  {
   "cell_type": "markdown",
   "id": "d69e7c1e",
   "metadata": {},
   "source": [
    "### The `difference_update()` method will also keep the items from the first set that are not in the other set, but it will change the original set instead of returning a new set.\n",
    "\n"
   ]
  },
  {
   "cell_type": "code",
   "execution_count": 28,
   "id": "03510820",
   "metadata": {},
   "outputs": [
    {
     "name": "stdout",
     "output_type": "stream",
     "text": [
      "{'cherry', 'banana'}\n"
     ]
    }
   ],
   "source": [
    "set1 = {\"apple\", \"banana\", \"cherry\"}\n",
    "set2 = {\"google\", \"microsoft\", \"apple\"}\n",
    "\n",
    "set1.difference_update(set2)\n",
    "\n",
    "print(set1)"
   ]
  },
  {
   "cell_type": "markdown",
   "id": "f2e5c392",
   "metadata": {},
   "source": [
    "## Symmetric Differences\n",
    "The `symmetric_difference()` method will keep only the elements that are NOT present in both sets."
   ]
  },
  {
   "cell_type": "code",
   "execution_count": 29,
   "id": "2e6e499d",
   "metadata": {},
   "outputs": [
    {
     "name": "stdout",
     "output_type": "stream",
     "text": [
      "{'google', 'banana', 'cherry', 'microsoft'}\n"
     ]
    }
   ],
   "source": [
    "set1 = {\"apple\", \"banana\", \"cherry\"}\n",
    "set2 = {\"google\", \"microsoft\", \"apple\"}\n",
    "\n",
    "set3 = set1.symmetric_difference(set2)\n",
    "\n",
    "print(set3)"
   ]
  },
  {
   "cell_type": "markdown",
   "id": "f0b43b0f",
   "metadata": {},
   "source": [
    "You can use the `^` operator instead of the `symmetric_difference()` method, and you will get the same result."
   ]
  },
  {
   "cell_type": "code",
   "execution_count": 30,
   "id": "bc33b362",
   "metadata": {},
   "outputs": [
    {
     "name": "stdout",
     "output_type": "stream",
     "text": [
      "{'google', 'banana', 'cherry', 'microsoft'}\n"
     ]
    }
   ],
   "source": [
    "set1 = {\"apple\", \"banana\", \"cherry\"}\n",
    "set2 = {\"google\", \"microsoft\", \"apple\"}\n",
    "\n",
    "set3 = set1 ^ set2\n",
    "print(set3)"
   ]
  },
  {
   "cell_type": "markdown",
   "id": "f4f63bdf",
   "metadata": {},
   "source": [
    ">Note: The `^` operator only allows you to join sets with sets, and not with other data types like you can with the `symmetric_difference()` method.> Note: "
   ]
  },
  {
   "cell_type": "markdown",
   "id": "d6a6c345",
   "metadata": {},
   "source": [
    "The `symmetric_difference_update()` method will also keep all but the duplicates, but it will change the original set instead of returning a new set."
   ]
  },
  {
   "cell_type": "code",
   "execution_count": 31,
   "id": "595f249e",
   "metadata": {},
   "outputs": [
    {
     "name": "stdout",
     "output_type": "stream",
     "text": [
      "{'google', 'banana', 'cherry', 'microsoft'}\n"
     ]
    }
   ],
   "source": [
    "set1 = {\"apple\", \"banana\", \"cherry\"}\n",
    "set2 = {\"google\", \"microsoft\", \"apple\"}\n",
    "\n",
    "set1.symmetric_difference_update(set2)\n",
    "\n",
    "print(set1)"
   ]
  }
 ],
 "metadata": {
  "kernelspec": {
   "display_name": "Python 3",
   "language": "python",
   "name": "python3"
  },
  "language_info": {
   "codemirror_mode": {
    "name": "ipython",
    "version": 3
   },
   "file_extension": ".py",
   "mimetype": "text/x-python",
   "name": "python",
   "nbconvert_exporter": "python",
   "pygments_lexer": "ipython3",
   "version": "3.11.4"
  }
 },
 "nbformat": 4,
 "nbformat_minor": 5
}
