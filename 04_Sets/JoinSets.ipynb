{
 "cells": [
  {
   "cell_type": "markdown",
   "id": "99b146f3",
   "metadata": {},
   "source": [
    "## Join Sets\n",
    "There are sever ways to join two or more sets:\n",
    "- `union()` and `update` -> joins all items from both sets\n",
    "\n",
    "- `intersection()` -> keeps ONLY the items which are on both sets\n",
    "\n",
    "- `difference()` -> keeps items from the first set that are not in other set(s)\n",
    "\n",
    "- `symmetric_difference()` -> keeps all items EXCEPT the duplicates"
   ]
  },
  {
   "cell_type": "markdown",
   "id": "7eb67582",
   "metadata": {},
   "source": [
    "## Union\n",
    "- `union()` method returns a new set with all items from both sets"
   ]
  },
  {
   "cell_type": "code",
   "execution_count": 1,
   "id": "ef932cfe",
   "metadata": {},
   "outputs": [
    {
     "name": "stdout",
     "output_type": "stream",
     "text": [
      "{1, 2, 3, 'q', 'p', 'r'}\n"
     ]
    }
   ],
   "source": [
    "set1 = {1, 2, 3}\n",
    "set2 = {'p', 'q', 'r'}\n",
    "\n",
    "set3 = set1.union(set2)\n",
    "print(set3)"
   ]
  },
  {
   "cell_type": "markdown",
   "id": "41aabd47",
   "metadata": {},
   "source": [
    "##### We can use the `|` operator instead of the `union()` method, we will get the smae result"
   ]
  },
  {
   "cell_type": "code",
   "execution_count": 3,
   "id": "cab12b42",
   "metadata": {},
   "outputs": [
    {
     "name": "stdout",
     "output_type": "stream",
     "text": [
      "{1, 2, 3, 'q', 'p'}\n"
     ]
    }
   ],
   "source": [
    "set1 = {1, 2, 3}\n",
    "set2 = {'p', 'q'}\n",
    "\n",
    "set3 = set1 | set2\n",
    "print(set3)"
   ]
  },
  {
   "cell_type": "markdown",
   "id": "2c8b6c02",
   "metadata": {},
   "source": [
    "## Join Multiple Sets\n",
    "all the joining methods and operators can be used to join multiple sets.\n",
    "\n",
    "Wehn using a method, we just add more sets in the parentheses, separated by commas:"
   ]
  },
  {
   "cell_type": "code",
   "execution_count": 5,
   "id": "e08f2c63",
   "metadata": {},
   "outputs": [
    {
     "name": "stdout",
     "output_type": "stream",
     "text": [
      "{'c', 1, 2, 3, 'Ram', 'Krishna', 'java', 'b', 'a'}\n"
     ]
    }
   ],
   "source": [
    "set1 = {\"a\", 'b', 'c'}\n",
    "set2 = {1, 2, 3}\n",
    "set3 = {\"Ram\", \"Krishna\"}\n",
    "set4 = {\"c\", \"java\"}\n",
    "\n",
    "myset = set1.union(set2, set3, set4)\n",
    "print(myset)"
   ]
  },
  {
   "cell_type": "markdown",
   "id": "4edf5ed5",
   "metadata": {},
   "source": [
    "When using the `|` operator, separate the sets with more `|` operators:"
   ]
  },
  {
   "cell_type": "code",
   "execution_count": 6,
   "id": "fd2a294a",
   "metadata": {},
   "outputs": [
    {
     "name": "stdout",
     "output_type": "stream",
     "text": [
      "{'c', 'Ram', 'Krishna', 11, 'q', 'p', 'r', 22, 'java'}\n"
     ]
    }
   ],
   "source": [
    "set1 = {\"p\", 'q', 'r'}\n",
    "set2 = {11, 22}\n",
    "set3 = {\"Ram\", \"Krishna\"}\n",
    "set4 = {\"c\", \"java\"}\n",
    "\n",
    "myset = set1 | set2 | set3 | set4\n",
    "print(myset)"
   ]
  },
  {
   "cell_type": "markdown",
   "id": "400fcaba",
   "metadata": {},
   "source": [
    "## Join a set and a Tuple\n",
    "\n",
    "##### The `union()` method allows us to join a set with other data types, like lists or tuples.\n",
    "\n",
    "##### The result will be a set"
   ]
  },
  {
   "cell_type": "code",
   "execution_count": 7,
   "id": "3e7bbc84",
   "metadata": {},
   "outputs": [
    {
     "name": "stdout",
     "output_type": "stream",
     "text": [
      "{'c', 2, 1, 4, 'b', 'a'}\n"
     ]
    }
   ],
   "source": [
    "x = {'a', 'b', 'c'}\n",
    "y = (1, 2, 4)\n",
    "\n",
    "z = x.union(y)\n",
    "print(z)"
   ]
  },
  {
   "cell_type": "markdown",
   "id": "8fe01af8",
   "metadata": {},
   "source": [
    "> Note: The `|` operator only allows us to join sets with sets..."
   ]
  },
  {
   "cell_type": "markdown",
   "id": "83490c2e",
   "metadata": {},
   "source": [
    "## Update\n",
    "##### The `update()` method inserts all items form one set into another. It changes the original set, and does not return a new set."
   ]
  },
  {
   "cell_type": "code",
   "execution_count": 8,
   "id": "568f1a9f",
   "metadata": {},
   "outputs": [
    {
     "name": "stdout",
     "output_type": "stream",
     "text": [
      "{'c', 1, 2, 3, 'b', 'a'}\n"
     ]
    }
   ],
   "source": [
    "set1 = {'a', 'b', 'c'}\n",
    "set2 = {1, 2, 3}\n",
    "\n",
    "set1.update(set2)\n",
    "print(set1)"
   ]
  },
  {
   "cell_type": "markdown",
   "id": "ce3e9a98",
   "metadata": {},
   "source": [
    "> Note: Both `union()` and `update()` will exclude any duplicate items."
   ]
  },
  {
   "cell_type": "markdown",
   "id": "e243c16e",
   "metadata": {},
   "source": [
    "## Intersection\n",
    "### Returns a new set, that only contains the items that are present in both sets."
   ]
  },
  {
   "cell_type": "code",
   "execution_count": 9,
   "id": "f993f74a",
   "metadata": {},
   "outputs": [
    {
     "name": "stdout",
     "output_type": "stream",
     "text": [
      "{'apple'}\n"
     ]
    }
   ],
   "source": [
    "set1 = {\"apple\", \"banana\", \"cherry\"}\n",
    "set2 = {\"google\", \"microsoft\", \"apple\"}\n",
    "\n",
    "set3 = set1.intersection(set2)\n",
    "print(set3)"
   ]
  },
  {
   "cell_type": "markdown",
   "id": "c7e98ab4",
   "metadata": {},
   "source": [
    "##### We can use the `&` operator instead of the `intersection()` method..."
   ]
  },
  {
   "cell_type": "code",
   "execution_count": 10,
   "id": "f084fd82",
   "metadata": {},
   "outputs": [
    {
     "name": "stdout",
     "output_type": "stream",
     "text": [
      "{'apple'}\n"
     ]
    }
   ],
   "source": [
    "set1 = {\"apple\", \"banana\", \"cherry\"}\n",
    "set2 = {\"google\", \"microsoft\", \"apple\"}\n",
    "\n",
    "set3 = set1 & set2\n",
    "print(set3)"
   ]
  },
  {
   "cell_type": "markdown",
   "id": "51b01480",
   "metadata": {},
   "source": [
    "> Note: The `&` operator only allows us to join sets with sets, and not other data types like we can with `intersection()` method"
   ]
  },
  {
   "cell_type": "markdown",
   "id": "f4660e9c",
   "metadata": {},
   "source": [
    "##### The `intersection_update()` method will also keep ONLY the duplicates, but it will change the original set instead of returning a new set"
   ]
  },
  {
   "cell_type": "code",
   "execution_count": null,
   "id": "549253b5",
   "metadata": {},
   "outputs": [],
   "source": []
  }
 ],
 "metadata": {
  "kernelspec": {
   "display_name": "Python 3",
   "language": "python",
   "name": "python3"
  },
  "language_info": {
   "codemirror_mode": {
    "name": "ipython",
    "version": 3
   },
   "file_extension": ".py",
   "mimetype": "text/x-python",
   "name": "python",
   "nbconvert_exporter": "python",
   "pygments_lexer": "ipython3",
   "version": "3.11.4"
  }
 },
 "nbformat": 4,
 "nbformat_minor": 5
}
