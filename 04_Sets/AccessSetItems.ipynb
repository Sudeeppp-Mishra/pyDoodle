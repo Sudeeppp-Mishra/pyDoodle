{
 "cells": [
  {
   "cell_type": "markdown",
   "id": "d3766ed3",
   "metadata": {},
   "source": [
    "## Access Items\n",
    "We cannot access items in a set by referring to an index or a key.\n",
    "But we can loop through the set using a `for` loop, and `in` keyword"
   ]
  },
  {
   "cell_type": "code",
   "execution_count": 1,
   "id": "124b46b5",
   "metadata": {},
   "outputs": [
    {
     "name": "stdout",
     "output_type": "stream",
     "text": [
      "Banana\n",
      "cherry\n",
      "Apple\n"
     ]
    }
   ],
   "source": [
    "thisSet = {\"Apple\", \"Banana\", \"cherry\"}\n",
    "\n",
    "for x in thisSet:\n",
    "    print(x)"
   ]
  },
  {
   "cell_type": "markdown",
   "id": "8c4df78c",
   "metadata": {},
   "source": [
    "Checking if \"Apple\" is present in the set:"
   ]
  },
  {
   "cell_type": "code",
   "execution_count": 2,
   "id": "e4c22a04",
   "metadata": {},
   "outputs": [
    {
     "name": "stdout",
     "output_type": "stream",
     "text": [
      "True\n"
     ]
    }
   ],
   "source": [
    "print(\"Apple\" in thisSet)"
   ]
  },
  {
   "cell_type": "markdown",
   "id": "5a095eb5",
   "metadata": {},
   "source": [
    "Checking if \"Apple\" is NOT present in the set:"
   ]
  },
  {
   "cell_type": "code",
   "execution_count": 3,
   "id": "336d3f7d",
   "metadata": {},
   "outputs": [
    {
     "name": "stdout",
     "output_type": "stream",
     "text": [
      "False\n"
     ]
    }
   ],
   "source": [
    "print(\"Apple\" not in thisSet)"
   ]
  }
 ],
 "metadata": {
  "kernelspec": {
   "display_name": "Python 3",
   "language": "python",
   "name": "python3"
  },
  "language_info": {
   "codemirror_mode": {
    "name": "ipython",
    "version": 3
   },
   "file_extension": ".py",
   "mimetype": "text/x-python",
   "name": "python",
   "nbconvert_exporter": "python",
   "pygments_lexer": "ipython3",
   "version": "3.11.4"
  }
 },
 "nbformat": 4,
 "nbformat_minor": 5
}
