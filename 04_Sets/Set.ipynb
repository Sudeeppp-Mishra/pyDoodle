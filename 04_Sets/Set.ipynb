{
 "cells": [
  {
   "cell_type": "markdown",
   "id": "eab6b2e5",
   "metadata": {},
   "source": [
    "### Sets are used to store multiple items in a single variable. A set is a collection which is _unordered_, _unchangeable*_, and _unindexed_.\n",
    "> *Note: Set items are unchangeable, but we can remove items and add new items."
   ]
  },
  {
   "cell_type": "markdown",
   "id": "dc6e4c9b",
   "metadata": {},
   "source": [
    "## Creating a set:"
   ]
  },
  {
   "cell_type": "code",
   "execution_count": 1,
   "id": "e91f4ea1",
   "metadata": {},
   "outputs": [
    {
     "name": "stdout",
     "output_type": "stream",
     "text": [
      "{'c', 'b', 'a'}\n"
     ]
    }
   ],
   "source": [
    "newSet = {\"a\", \"b\", \"c\"}\n",
    "print(newSet)"
   ]
  },
  {
   "cell_type": "markdown",
   "id": "21028d03",
   "metadata": {},
   "source": [
    "> Note: Sets are unordered, so we cannot be sure in which order the itmes will appear."
   ]
  },
  {
   "cell_type": "markdown",
   "id": "c52d1b56",
   "metadata": {},
   "source": [
    "## Set Items\n",
    "Set items are unordered, unchangeable, and do not allow duplicate values"
   ]
  },
  {
   "cell_type": "markdown",
   "id": "4bef7f17",
   "metadata": {},
   "source": [
    "## Unordered\n",
    "They do not have a defined order.\n",
    "Set items can appear in a different order every time we use them, and cannot be referred by any index or key."
   ]
  },
  {
   "cell_type": "markdown",
   "id": "7f510b79",
   "metadata": {},
   "source": [
    "## Unchangeable\n",
    "Set items are unchangeable, meaning that we cannot change the items after the set has been created, but we can remove and add items."
   ]
  },
  {
   "cell_type": "markdown",
   "id": "b00fbe7e",
   "metadata": {},
   "source": [
    "## Duplicates Not Allowed\n",
    "Duplicate values will be ignored:"
   ]
  },
  {
   "cell_type": "code",
   "execution_count": 2,
   "id": "36565ace",
   "metadata": {},
   "outputs": [
    {
     "name": "stdout",
     "output_type": "stream",
     "text": [
      "{'cherry', 'apple', 'banana'}\n"
     ]
    }
   ],
   "source": [
    "newSet = {\"apple\", \"banana\", \"cherry\", \"apple\"}\n",
    "\n",
    "print(newSet)"
   ]
  },
  {
   "cell_type": "code",
   "execution_count": null,
   "id": "c4ee5615",
   "metadata": {},
   "outputs": [
    {
     "name": "stdout",
     "output_type": "stream",
     "text": [
      "{True, 2, 'apple', 'cherry', 'banana'}\n"
     ]
    }
   ],
   "source": [
    "Sett = {\"apple\", \"banana\", \"cherry\", True, 1, 2}\n",
    "print(Sett)"
   ]
  },
  {
   "cell_type": "markdown",
   "id": "1c26fbdd",
   "metadata": {},
   "source": [
    "> Note: the values `True` and `1` are considered the same value in sets, and are treated as duplicates."
   ]
  },
  {
   "cell_type": "code",
   "execution_count": 4,
   "id": "d71469a3",
   "metadata": {},
   "outputs": [
    {
     "name": "stdout",
     "output_type": "stream",
     "text": [
      "{1, 2, 'apple', 'banana'}\n"
     ]
    }
   ],
   "source": [
    "Sett = {\"apple\", \"banana\", 1, True, 2}\n",
    "print(Sett)"
   ]
  },
  {
   "cell_type": "markdown",
   "id": "380e060c",
   "metadata": {},
   "source": [
    "From this we see the first duplicate remains as it is and next duplicate is removed..."
   ]
  },
  {
   "cell_type": "code",
   "execution_count": 5,
   "id": "82b1fa71",
   "metadata": {},
   "outputs": [
    {
     "name": "stdout",
     "output_type": "stream",
     "text": [
      "{False, 'apple'}\n"
     ]
    }
   ],
   "source": [
    "newSet = {\"apple\", False, 0}\n",
    "print(newSet)"
   ]
  },
  {
   "cell_type": "markdown",
   "id": "34b0eb0e",
   "metadata": {},
   "source": [
    ">Note: also the alues `False` and `0` are considered the same"
   ]
  },
  {
   "cell_type": "markdown",
   "id": "4ac3e4c2",
   "metadata": {},
   "source": [
    "## Get the length of a set - len() method is used"
   ]
  },
  {
   "cell_type": "code",
   "execution_count": 6,
   "id": "7f706993",
   "metadata": {},
   "outputs": [
    {
     "name": "stdout",
     "output_type": "stream",
     "text": [
      "3\n"
     ]
    }
   ],
   "source": [
    "thisSet = {\"java\", \"javascript\", \"c\"}\n",
    "print(len(thisSet))"
   ]
  },
  {
   "cell_type": "markdown",
   "id": "048aae3f",
   "metadata": {},
   "source": [
    "## Set Items - Data Types (Can be of any data type)"
   ]
  },
  {
   "cell_type": "code",
   "execution_count": 7,
   "id": "5a3e0069",
   "metadata": {},
   "outputs": [
    {
     "name": "stdout",
     "output_type": "stream",
     "text": [
      "{'b', 'a'}\n",
      "{1, 2}\n",
      "{False, True}\n"
     ]
    }
   ],
   "source": [
    "set1 = {'a', 'b'}\n",
    "set2 = {1, 2}\n",
    "set3 = {True, False, False}\n",
    "print(set1)\n",
    "print(set2)\n",
    "print(set3)"
   ]
  },
  {
   "cell_type": "markdown",
   "id": "5e06e5a2",
   "metadata": {},
   "source": [
    "Also a set can contain different data types:"
   ]
  },
  {
   "cell_type": "code",
   "execution_count": 8,
   "id": "b5da19d0",
   "metadata": {},
   "outputs": [
    {
     "name": "stdout",
     "output_type": "stream",
     "text": [
      "{1, 'abc', 'wohoh', 20}\n"
     ]
    }
   ],
   "source": [
    "sett = {\"abc\", 1, True, 20, \"wohoh\"}\n",
    "print(sett)"
   ]
  },
  {
   "cell_type": "markdown",
   "id": "30de38c6",
   "metadata": {},
   "source": [
    "## The set() Constructor\n",
    "we can use `set()` constructor to make a set."
   ]
  },
  {
   "cell_type": "code",
   "execution_count": null,
   "id": "d96ba740",
   "metadata": {},
   "outputs": [
    {
     "name": "stdout",
     "output_type": "stream",
     "text": [
      "{'apple', 'banana'}\n"
     ]
    }
   ],
   "source": [
    "thisSet = set((\"apple\", \"banana\")) # use double round-brackets\n",
    "print(thisSet)"
   ]
  },
  {
   "cell_type": "markdown",
   "id": "46d0f05c",
   "metadata": {},
   "source": [
    "## Loop Items"
   ]
  },
  {
   "cell_type": "code",
   "execution_count": 10,
   "id": "e90c9119",
   "metadata": {},
   "outputs": [
    {
     "name": "stdout",
     "output_type": "stream",
     "text": [
      "c\n",
      "b\n",
      "a\n"
     ]
    }
   ],
   "source": [
    "thisSet = {\"a\", \"b\", \"c\"}\n",
    "for x in thisSet:\n",
    "    print(x)"
   ]
  }
 ],
 "metadata": {
  "kernelspec": {
   "display_name": "Python 3",
   "language": "python",
   "name": "python3"
  },
  "language_info": {
   "codemirror_mode": {
    "name": "ipython",
    "version": 3
   },
   "file_extension": ".py",
   "mimetype": "text/x-python",
   "name": "python",
   "nbconvert_exporter": "python",
   "pygments_lexer": "ipython3",
   "version": "3.11.4"
  }
 },
 "nbformat": 4,
 "nbformat_minor": 5
}
