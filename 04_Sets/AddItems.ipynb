{
 "cells": [
  {
   "cell_type": "markdown",
   "id": "1b9d1ce3",
   "metadata": {},
   "source": [
    "## Add Items - use `add()` method\n",
    "We cannot change its items once a set is created, but we can add new items."
   ]
  },
  {
   "cell_type": "code",
   "execution_count": 1,
   "id": "4eda0220",
   "metadata": {},
   "outputs": [
    {
     "name": "stdout",
     "output_type": "stream",
     "text": [
      "{'C', 'a', 'b', 'd'}\n"
     ]
    }
   ],
   "source": [
    "newSet = {\"a\", \"b\", \"C\"}\n",
    "\n",
    "newSet.add(\"d\")\n",
    "print(newSet)"
   ]
  },
  {
   "cell_type": "markdown",
   "id": "7f867f60",
   "metadata": {},
   "source": [
    "## Add Sets\n",
    "To add items from another set into the current set, we use the `update()` method"
   ]
  },
  {
   "cell_type": "code",
   "execution_count": 2,
   "id": "c53e7a65",
   "metadata": {},
   "outputs": [
    {
     "name": "stdout",
     "output_type": "stream",
     "text": [
      "{'C', 'f', 'b', 'd', 'e', 'a'}\n"
     ]
    }
   ],
   "source": [
    "set1 = {\"a\", \"b\", \"C\"}\n",
    "set2 = {\"d\", \"e\", \"f\"}\n",
    "\n",
    "set1.update(set2)\n",
    "print(set1)"
   ]
  },
  {
   "cell_type": "markdown",
   "id": "b2ac495f",
   "metadata": {},
   "source": [
    "## Add Any Iterable\n",
    "the object in the `update()` method does not have to be a set, it can be any iterable objects (tuples, lists, dictionaries etc.)"
   ]
  },
  {
   "cell_type": "code",
   "execution_count": 3,
   "id": "db38c675",
   "metadata": {},
   "outputs": [
    {
     "name": "stdout",
     "output_type": "stream",
     "text": [
      "{'dragon fruit', 'strawberry', 'kiwi', 'mango'}\n"
     ]
    }
   ],
   "source": [
    "newSet = {\"mango\", \"strawberry\"}\n",
    "newList = [\"kiwi\", \"dragon fruit\"]\n",
    "\n",
    "newSet.update(newList)\n",
    "print(newSet)"
   ]
  }
 ],
 "metadata": {
  "kernelspec": {
   "display_name": "Python 3",
   "language": "python",
   "name": "python3"
  },
  "language_info": {
   "codemirror_mode": {
    "name": "ipython",
    "version": 3
   },
   "file_extension": ".py",
   "mimetype": "text/x-python",
   "name": "python",
   "nbconvert_exporter": "python",
   "pygments_lexer": "ipython3",
   "version": "3.11.4"
  }
 },
 "nbformat": 4,
 "nbformat_minor": 5
}
