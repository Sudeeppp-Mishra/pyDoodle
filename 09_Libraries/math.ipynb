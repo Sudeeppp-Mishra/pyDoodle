{
 "cells": [
  {
   "cell_type": "markdown",
   "id": "e4a9a577",
   "metadata": {},
   "source": [
    "# Python Math\n",
    "\n",
    "Python has a set of built-int math functions, including an extensive math module, that allows you to perform mathematical tasks on numbers.\n",
    "\n",
    "## Built-in Math Functions\n",
    "\n",
    "The `min()` and `max()` functions can be used to find the lowest or highest value in an iterable:"
   ]
  },
  {
   "cell_type": "code",
   "execution_count": 1,
   "id": "16c1d285",
   "metadata": {},
   "outputs": [
    {
     "name": "stdout",
     "output_type": "stream",
     "text": [
      "5\n",
      "100\n"
     ]
    }
   ],
   "source": [
    "x = min(5, 10, 100)\n",
    "y = max(5, 10, 100)\n",
    "\n",
    "print(x)\n",
    "print(y)"
   ]
  },
  {
   "cell_type": "markdown",
   "id": "01757f43",
   "metadata": {},
   "source": [
    "The `abs()` function returns the absolute (positive) value of the specified number:"
   ]
  },
  {
   "cell_type": "code",
   "execution_count": 3,
   "id": "e9068d5d",
   "metadata": {},
   "outputs": [
    {
     "name": "stdout",
     "output_type": "stream",
     "text": [
      "8.3\n"
     ]
    }
   ],
   "source": [
    "x = abs(-8.30)\n",
    "\n",
    "print(x)"
   ]
  },
  {
   "cell_type": "markdown",
   "id": "9dde35c5",
   "metadata": {},
   "source": [
    "The `pow(x,y)` function returns the value of x to the power of y (x<sup>y</sup>)"
   ]
  },
  {
   "cell_type": "code",
   "execution_count": 4,
   "id": "9a8d50a0",
   "metadata": {},
   "outputs": [
    {
     "name": "stdout",
     "output_type": "stream",
     "text": [
      "32\n"
     ]
    }
   ],
   "source": [
    "x = pow(2, 5)\n",
    "\n",
    "print(x)"
   ]
  },
  {
   "cell_type": "markdown",
   "id": "486d2c4f",
   "metadata": {},
   "source": [
    "# The Math Module\n",
    "\n",
    "Python has also a built-in module called `math`, which extends the list of mathematical functions.\n",
    "\n",
    "To use it, you must import the `math` module.\n",
    "\n",
    "When you have imported the `math` module, you can start using methods and constants of the module.\n",
    "\n",
    "The `math.sqrt()` method for example, retuns the square root of a number:"
   ]
  },
  {
   "cell_type": "code",
   "execution_count": 5,
   "id": "ad3cf1d7",
   "metadata": {},
   "outputs": [
    {
     "name": "stdout",
     "output_type": "stream",
     "text": [
      "8.0\n"
     ]
    }
   ],
   "source": [
    "import math\n",
    "\n",
    "x = math.sqrt(64)\n",
    "\n",
    "print(x)"
   ]
  },
  {
   "cell_type": "markdown",
   "id": "5363aac7",
   "metadata": {},
   "source": [
    "The `math.ceil()` method rounds a number upwards to its nearest integer, and the `math.floor()` method rounds a number downwards to its nearest integer, and returns the result:"
   ]
  },
  {
   "cell_type": "code",
   "execution_count": 6,
   "id": "7193476d",
   "metadata": {},
   "outputs": [
    {
     "name": "stdout",
     "output_type": "stream",
     "text": [
      "2\n",
      "8\n"
     ]
    }
   ],
   "source": [
    "import math\n",
    "\n",
    "x = math.ceil(1.3)\n",
    "y = math.floor(8.8)\n",
    "\n",
    "print(x)\n",
    "print(y)"
   ]
  },
  {
   "cell_type": "markdown",
   "id": "280ea486",
   "metadata": {},
   "source": [
    "The `math.pi` constant, returns the value of PI (3.14...):"
   ]
  },
  {
   "cell_type": "code",
   "execution_count": 7,
   "id": "3c437ea9",
   "metadata": {},
   "outputs": [
    {
     "name": "stdout",
     "output_type": "stream",
     "text": [
      "3.141592653589793\n"
     ]
    }
   ],
   "source": [
    "import math\n",
    "\n",
    "x = math.pi\n",
    "\n",
    "print(x)"
   ]
  },
  {
   "cell_type": "markdown",
   "id": "084120be",
   "metadata": {},
   "source": [
    "## Python `math` Module Functions\n",
    "\n",
    "| Function | Description |\n",
    "|----------|-------------|\n",
    "| `math.acos()` | Returns the arc cosine of a number |\n",
    "| `math.acosh()` | Returns the inverse hyperbolic cosine of a number |\n",
    "| `math.asin()` | Returns the arc sine of a number |\n",
    "| `math.asinh()` | Returns the inverse hyperbolic sine of a number |\n",
    "| `math.atan()` | Returns the arc tangent of a number in radians |\n",
    "| `math.atan2()` | Returns the arc tangent of y/x in radians |\n",
    "| `math.atanh()` | Returns the inverse hyperbolic tangent of a number |\n",
    "| `math.ceil()` | Rounds a number up to the nearest integer |\n",
    "| `math.comb()` | Returns the number of ways to choose k items from n items without repetition and order |\n",
    "| `math.copysign()` | Returns a float with value of first parameter and sign of second |\n",
    "| `math.cos()` | Returns the cosine of a number |\n",
    "| `math.cosh()` | Returns the hyperbolic cosine of a number |\n",
    "| `math.degrees()` | Converts an angle from radians to degrees |\n",
    "| `math.dist()` | Returns the Euclidean distance between two points |\n",
    "| `math.erf()` | Returns the error function of a number |\n",
    "| `math.erfc()` | Returns the complementary error function of a number |\n",
    "| `math.exp()` | Returns E raised to the power of x |\n",
    "| `math.expm1()` | Returns e^x - 1 |\n",
    "| `math.fabs()` | Returns the absolute value of a number |\n",
    "| `math.factorial()` | Returns the factorial of a number |\n",
    "| `math.floor()` | Rounds a number down to the nearest integer |\n",
    "| `math.fmod()` | Returns the remainder of x/y |\n",
    "| `math.frexp()` | Returns the mantissa and exponent of a number |\n",
    "| `math.fsum()` | Returns the sum of all items in an iterable |\n",
    "| `math.gamma()` | Returns the gamma function of x |\n",
    "| `math.gcd()` | Returns the greatest common divisor of two integers |\n",
    "| `math.hypot()` | Returns the Euclidean norm |\n",
    "| `math.isclose()` | Checks whether two values are close |\n",
    "| `math.isfinite()` | Checks whether a number is finite |\n",
    "| `math.isinf()` | Checks whether a number is infinite |\n",
    "| `math.isnan()` | Checks whether a value is NaN |\n",
    "| `math.isqrt()` | Returns the integer square root of a number |\n",
    "| `math.ldexp()` | Returns x * (2**i), inverse of `frexp()` |\n",
    "| `math.lgamma()` | Returns the natural log of the gamma function of x |\n",
    "| `math.log()` | Returns the natural logarithm or logarithm to specified base |\n",
    "| `math.log10()` | Returns the base-10 logarithm |\n",
    "| `math.log1p()` | Returns ln(1 + x) |\n",
    "| `math.log2()` | Returns the base-2 logarithm |\n",
    "| `math.perm()` | Returns number of ways to choose k items from n with order |\n",
    "| `math.pow()` | Returns x raised to the power y |\n",
    "| `math.prod()` | Returns the product of all elements in an iterable |\n",
    "| `math.radians()` | Converts degrees to radians |\n",
    "| `math.remainder()` | Returns the closest value divisible by denominator |\n",
    "| `math.sin()` | Returns the sine of a number |\n",
    "| `math.sinh()` | Returns the hyperbolic sine of a number |\n",
    "| `math.sqrt()` | Returns the square root of a number |\n",
    "| `math.tan()` | Returns the tangent of a number |\n",
    "| `math.tanh()` | Returns the hyperbolic tangent of a number |\n",
    "| `math.trunc()` | Returns the truncated integer parts of a number |\n",
    "\n",
    "\n",
    "\n",
    "\n",
    "## Python `math` Module Constants\n",
    "\n",
    "| Constant | Description |\n",
    "|----------|-------------|\n",
    "| `math.e` | Returns Euler's number (2.7182...) |\n",
    "| `math.inf` | Returns a floating-point positive infinity |\n",
    "| `math.nan` | Returns a floating-point NaN (Not a Number) value |\n",
    "| `math.pi` | Returns π (3.1415...) |\n",
    "| `math.tau` | Returns tau (6.2831...) |\n"
   ]
  }
 ],
 "metadata": {
  "kernelspec": {
   "display_name": "Python 3",
   "language": "python",
   "name": "python3"
  },
  "language_info": {
   "codemirror_mode": {
    "name": "ipython",
    "version": 3
   },
   "file_extension": ".py",
   "mimetype": "text/x-python",
   "name": "python",
   "nbconvert_exporter": "python",
   "pygments_lexer": "ipython3",
   "version": "3.11.4"
  }
 },
 "nbformat": 4,
 "nbformat_minor": 5
}
