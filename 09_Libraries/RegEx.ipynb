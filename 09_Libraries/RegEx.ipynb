{
 "cells": [
  {
   "cell_type": "markdown",
   "id": "a199d0f9",
   "metadata": {},
   "source": [
    "# Python RegEX\n",
    "\n",
    "A RegEx, or Regular Expression, is a sequence of characters that forms a search pattern.\n",
    "\n",
    "RegEx can be used to check if a string contains the specified search pattern.\n",
    "\n",
    "## RegEx Module\n",
    "\n",
    "Python has a built-in package called `re`, which can be used to work with Regular Expression.\n",
    "\n",
    "## RegEx in Python\n",
    "\n",
    "When you have imported the `re` module, you can start using regular expressions:"
   ]
  },
  {
   "cell_type": "markdown",
   "id": "b0c02f10",
   "metadata": {},
   "source": [
    "Eg: Search the string to see if it starts with \"The\" and ends with \"Spain\":"
   ]
  },
  {
   "cell_type": "code",
   "execution_count": 4,
   "id": "d5cc4aed",
   "metadata": {},
   "outputs": [
    {
     "name": "stdout",
     "output_type": "stream",
     "text": [
      "Match Found!\n"
     ]
    }
   ],
   "source": [
    "import re\n",
    "\n",
    "txt = \"The rain in Spain\"\n",
    "\n",
    "# ^ Mathes the *start of the string*\n",
    "# .* Matches any character (.) 0 or more times (*). Basically, it matches everything in between\n",
    "# $ Matches the *end of the string*\n",
    "x = re.search(\"^The.*Spain$\", txt)\n",
    "\n",
    "if x:\n",
    "    print(\"Match Found!\")\n",
    "else:\n",
    "    print(\"Match not Found!\")"
   ]
  },
  {
   "cell_type": "markdown",
   "id": "9f88fb39",
   "metadata": {},
   "source": [
    "## RegEx Functions\n",
    "\n",
    "The `re` module offers a set of functions that allows us to search a string for a match:\n",
    "\n",
    "| Function | Description |\n",
    "|----------|-------------|\n",
    "| `findall`|Returns a list containing all matches|\n",
    "| `search`|Returns a `Match object` if there is a match anywhere in the string|\n",
    "| `split`|Returns a list where the string has been slplit at each match|\n",
    "| `sub`| Replacces one or many matches with a string|"
   ]
  },
  {
   "cell_type": "markdown",
   "id": "4b901b45",
   "metadata": {},
   "source": [
    "## Metacharacters\n",
    "\n",
    "Metacharacters are characters with a special meaning:\n",
    "\n",
    "## Common Regex Characters in Python\n",
    "| Character | Description | Example |\n",
    "|-----------|-------------|---------|\n",
    "| `[]`      | A set of characters | `\"[a-m]\"` |\n",
    "| `\\`       | Signals a special sequence (or escapes special characters) | `\"\\d\"` |\n",
    "| `.`       | Any character (except newline) | `\"he..o\"` |\n",
    "| `^`       | Starts with | `\"^hello\"` |\n",
    "| `$`       | Ends with | `\"planet$\"` |\n",
    "| `*`       | Zero or more occurrences | `\"he.*o\"` |\n",
    "| `+`       | One or more occurrences | `\"he.+o\"` |\n",
    "| `?`       | Zero or one occurrences | `\"he.?o\"` |\n",
    "| `{}`      | Exactly the specified number of occurrences | `\"he.{2}o\"` |\n",
    "| `\\|`       | Either/or | `\"falls\\|stays\"` |\n",
    "| `()`      | Capture and group | `\"(abc)\"` |\n"
   ]
  },
  {
   "cell_type": "markdown",
   "id": "3eea5a0d",
   "metadata": {},
   "source": [
    "## Flags\n",
    "\n",
    "You can add flags to the pattern when using regular expressions.\n",
    "\n",
    "## Common Regex Flags in Python\n",
    "\n",
    "| Flag | Shorthand | Description |\n",
    "|------|-----------|-------------|\n",
    "| `re.ASCII` | `re.A` | Returns only ASCII matches |\n",
    "| `re.DEBUG` |  | Returns debug information |\n",
    "| `re.DOTALL` | `re.S` | Makes the `.` character match all characters (including newline) |\n",
    "| `re.IGNORECASE` | `re.I` | Case-insensitive matching |\n",
    "| `re.MULTILINE` | `re.M` | Allows `^` and `$` to match the start and end of each line |\n",
    "| `re.NOFLAG` |  | Specifies that no flag is set for this pattern |\n",
    "| `re.UNICODE` | `re.U` | Returns Unicode matches (default in Python 3; in Python 2, use this for Unicode) |\n",
    "| `re.VERBOSE` | `re.X` | Allows whitespaces and comments inside patterns, making them more readable |"
   ]
  },
  {
   "cell_type": "markdown",
   "id": "d61afb21",
   "metadata": {},
   "source": [
    "## Special Sequences\n",
    "\n",
    "A special sequence is a `\\` followed by one of the characters in the list below, and has a special meaning:\n",
    "\n",
    "## Common Regex Special Sequences in Python\n",
    "\n",
    "| Character | Description | Example |\n",
    "|-----------|-------------|---------|\n",
    "| `\\A` | Returns a match if the specified characters are at the **beginning** of the string | `\\AThe` |\n",
    "| `\\b` | Returns a match where the specified characters are at the **beginning or end of a word** (use raw string `r\"\"`) | `r\"\\bain\"` <br> `r\"ain\\b\"` |\n",
    "| `\\B` | Returns a match where the specified characters are present, **but NOT at the beginning or end of a word** (use raw string `r\"\"`) | `r\"\\Bain\"` <br> `r\"ain\\B\"` |\n",
    "| `\\d` | Returns a match where the string contains **digits** (0–9) | `\\d` |\n",
    "| `\\D` | Returns a match where the string **does NOT contain digits** | `\\D` |\n",
    "| `\\s` | Returns a match where the string contains a **whitespace character** | `\\s` |\n",
    "| `\\S` | Returns a match where the string **does NOT contain a whitespace character** | `\\S` |\n",
    "| `\\w` | Returns a match where the string contains any **word character** (a–Z, 0–9, `_`) | `\\w` |\n",
    "| `\\W` | Returns a match where the string **does NOT contain any word character** | `\\W` |\n",
    "| `\\Z` | Returns a match if the specified characters are at the **end** of the string | `Spain\\Z` |"
   ]
  },
  {
   "cell_type": "markdown",
   "id": "a36dab42",
   "metadata": {},
   "source": [
    "## Sets\n",
    "\n",
    "A set is a set of characters inside a pair of square brackets `[]` with a special meaning:\n",
    "\n",
    "## Common Regex Sets in Python\n",
    "\n",
    "| Set | Description |\n",
    "|-----|-------------|\n",
    "| `[arn]` | Returns a match where **one of the specified characters** (a, r, or n) is present |\n",
    "| `[a-n]` | Returns a match for **any lowercase character** alphabetically between a and n |\n",
    "| `[^arn]` | Returns a match for **any character EXCEPT** a, r, and n |\n",
    "| `[0123]` | Returns a match where **any of the specified digits** (0, 1, 2, or 3) are present |\n",
    "| `[0-9]` | Returns a match for **any digit** between 0 and 9 |\n",
    "| `[0-5][0-9]` | Returns a match for **any two-digit numbers** from 00 to 59 |\n",
    "| `[a-zA-Z]` | Returns a match for **any character alphabetically between a and z**, lower or upper case |\n",
    "| `[+]` | In sets, `+`, `*`, `.`, `\\|`, `()`, `$`, `{}` have **no special meaning**, so `[+]` matches the literal `+` character |"
   ]
  },
  {
   "cell_type": "markdown",
   "id": "c64853ba",
   "metadata": {},
   "source": [
    "## The findall() Function\n",
    "\n",
    "The `findall()` function returns a list containing all matches."
   ]
  },
  {
   "cell_type": "code",
   "execution_count": 5,
   "id": "e0ad789c",
   "metadata": {},
   "outputs": [
    {
     "name": "stdout",
     "output_type": "stream",
     "text": [
      "['ai', 'ai']\n"
     ]
    }
   ],
   "source": [
    "import re\n",
    "\n",
    "txt = \"The rain in Spain\"\n",
    "x = re.findall(\"ai\", txt)\n",
    "print(x)"
   ]
  },
  {
   "cell_type": "markdown",
   "id": "58f07613",
   "metadata": {},
   "source": [
    "The list contains the matches in the order they are found.\n",
    "\n",
    "If no matches are found, an empty list is returned:"
   ]
  },
  {
   "cell_type": "code",
   "execution_count": 6,
   "id": "de698b98",
   "metadata": {},
   "outputs": [
    {
     "name": "stdout",
     "output_type": "stream",
     "text": [
      "[]\n"
     ]
    }
   ],
   "source": [
    "x = re.findall(\"Nepal\", txt)\n",
    "print(x)"
   ]
  },
  {
   "cell_type": "markdown",
   "id": "bfb309f7",
   "metadata": {},
   "source": [
    "## The search() Function\n",
    "\n",
    "The `search()` function searches the string for a match, and returns a Match object if there is a match. \n",
    "\n",
    "If there is more than one match, only the first occurrence of teh match will be returned:\n",
    "\n",
    "Eg: Search for the first white-space character in the string:"
   ]
  },
  {
   "cell_type": "code",
   "execution_count": 7,
   "id": "10c485e1",
   "metadata": {},
   "outputs": [
    {
     "name": "stdout",
     "output_type": "stream",
     "text": [
      "The first white-space character is located in position:  3\n"
     ]
    }
   ],
   "source": [
    "import re\n",
    "\n",
    "txt = \"The rain in Spain\"\n",
    "x = re.search(\"\\s\", txt)\n",
    "\n",
    "print(\"The first white-space character is located in position: \", x.start())"
   ]
  },
  {
   "cell_type": "markdown",
   "id": "7ed4068b",
   "metadata": {},
   "source": [
    "If no matches are found, the value `None` is returned."
   ]
  },
  {
   "cell_type": "code",
   "execution_count": 10,
   "id": "e507ae27",
   "metadata": {},
   "outputs": [
    {
     "name": "stdout",
     "output_type": "stream",
     "text": [
      "None\n"
     ]
    }
   ],
   "source": [
    "import re\n",
    "\n",
    "txt = \"Hii\"\n",
    "x = re.search(\"Hello\", txt)\n",
    "print(x)"
   ]
  },
  {
   "cell_type": "markdown",
   "id": "ea4130c4",
   "metadata": {},
   "source": [
    "## The split() Function\n",
    "\n",
    "The `split()` function returns a list where the string has been split at each match.\n",
    "\n",
    "Eg: Split at each white-space character:"
   ]
  },
  {
   "cell_type": "code",
   "execution_count": 11,
   "id": "2b3421c7",
   "metadata": {},
   "outputs": [
    {
     "name": "stdout",
     "output_type": "stream",
     "text": [
      "['The', 'rain', 'in', 'Spain']\n"
     ]
    }
   ],
   "source": [
    "import re\n",
    "\n",
    "txt = \"The rain in Spain\"\n",
    "x = re.split(\"\\s\", txt)\n",
    "print(x)"
   ]
  },
  {
   "cell_type": "markdown",
   "id": "c0d416d7",
   "metadata": {},
   "source": [
    "You can control the no of occurrences by specifying the `maxsplit` parameter.\n",
    "\n",
    "Eg: Split the string only at the first occurrence:"
   ]
  },
  {
   "cell_type": "code",
   "execution_count": 12,
   "id": "35320e96",
   "metadata": {},
   "outputs": [
    {
     "name": "stdout",
     "output_type": "stream",
     "text": [
      "['The', 'rain in Spain']\n"
     ]
    }
   ],
   "source": [
    "import re\n",
    "\n",
    "txt = \"The rain in Spain\"\n",
    "x = re.split(\"\\s\", txt, 1)\n",
    "print(x)"
   ]
  },
  {
   "cell_type": "markdown",
   "id": "65117018",
   "metadata": {},
   "source": [
    "## The sub() function\n",
    "\n",
    "The `sub()` function replaces the matches with the text of your choice.\n",
    "\n",
    "Eg: Replace every white-space character with the no. 9"
   ]
  },
  {
   "cell_type": "code",
   "execution_count": 14,
   "id": "e3a254aa",
   "metadata": {},
   "outputs": [
    {
     "name": "stdout",
     "output_type": "stream",
     "text": [
      "The9rain9in9Spain\n"
     ]
    }
   ],
   "source": [
    "import re\n",
    "\n",
    "txt = \"The rain in Spain\"\n",
    "x = re.sub(\"\\s\", \"9\", txt)\n",
    "print(x)"
   ]
  },
  {
   "cell_type": "markdown",
   "id": "9a12207b",
   "metadata": {},
   "source": [
    "You can control the no. of replacements by specifying the `count` parameter:\n",
    "\n",
    "Eg: Replace the first 2 occurrences:"
   ]
  },
  {
   "cell_type": "code",
   "execution_count": 15,
   "id": "671ced54",
   "metadata": {},
   "outputs": [
    {
     "name": "stdout",
     "output_type": "stream",
     "text": [
      "The9rain9in Spain\n"
     ]
    }
   ],
   "source": [
    "import re\n",
    "\n",
    "txt = \"The rain in Spain\"\n",
    "x = re.sub(\"\\s\", \"9\", txt, 2)\n",
    "print(x)"
   ]
  },
  {
   "cell_type": "markdown",
   "id": "878a53b9",
   "metadata": {},
   "source": [
    "## Match Object\n",
    "\n",
    "A Match Object is an object containing info about the search and the result.\n",
    "\n",
    ">Note: If there is no match, the value `None` will be returned, instead of the Match Object.\n",
    "\n",
    "Eg: Do a search that will return a Match Object:"
   ]
  },
  {
   "cell_type": "code",
   "execution_count": 16,
   "id": "66f14f63",
   "metadata": {},
   "outputs": [
    {
     "name": "stdout",
     "output_type": "stream",
     "text": [
      "<re.Match object; span=(5, 7), match='ai'>\n"
     ]
    }
   ],
   "source": [
    "import re\n",
    "\n",
    "txt = \"The rain in Spain\"\n",
    "x = re.search(\"ai\", txt)\n",
    "print(x) # this will print an object"
   ]
  },
  {
   "cell_type": "markdown",
   "id": "7d0a0898",
   "metadata": {},
   "source": [
    "The Match Object has properties and methods used to retrieve info about the search, and the result:\n",
    "\n",
    "`.span()` returns a tuple containing the start-, and end positions of the match.\n",
    "\n",
    "`.string` returns teh string passed into the function\n",
    "\n",
    "`.group()` returns the part of the string where there was a match"
   ]
  },
  {
   "cell_type": "markdown",
   "id": "273111ae",
   "metadata": {},
   "source": [
    "Eg: Print the position (start- and end-position) of the first match occurrence.\n",
    "\n",
    "The regurlar expression looks for any words that starts with an upper case \"S\":"
   ]
  },
  {
   "cell_type": "code",
   "execution_count": 17,
   "id": "26a95084",
   "metadata": {},
   "outputs": [
    {
     "name": "stdout",
     "output_type": "stream",
     "text": [
      "(12, 17)\n"
     ]
    }
   ],
   "source": [
    "import re\n",
    "\n",
    "txt = \"The rain in Spain\"\n",
    "x = re.search(r\"\\bS\\w+\", txt)\n",
    "print(x.span())"
   ]
  },
  {
   "cell_type": "markdown",
   "id": "251df1c5",
   "metadata": {},
   "source": [
    "Eg: Print the string passed into the function"
   ]
  },
  {
   "cell_type": "code",
   "execution_count": 18,
   "id": "344ba295",
   "metadata": {},
   "outputs": [
    {
     "name": "stdout",
     "output_type": "stream",
     "text": [
      "The rain in Spain\n"
     ]
    }
   ],
   "source": [
    "import re\n",
    "\n",
    "txt = \"The rain in Spain\"\n",
    "x = re.search(r\"\\bS\\w+\", txt)\n",
    "print(x.string)"
   ]
  },
  {
   "cell_type": "markdown",
   "id": "e53ffad0",
   "metadata": {},
   "source": [
    "Eg: Print the part of the string where there was a match\n",
    "\n",
    "The regular expression looks for any words that starts with an upper case \"S\":"
   ]
  },
  {
   "cell_type": "code",
   "execution_count": 19,
   "id": "09e05160",
   "metadata": {},
   "outputs": [
    {
     "name": "stdout",
     "output_type": "stream",
     "text": [
      "Spain\n"
     ]
    }
   ],
   "source": [
    "import re\n",
    "\n",
    "txt = \"The rain in Spain\"\n",
    "x = re.search(r\"\\bS\\w+\", txt)\n",
    "print(x.group())"
   ]
  },
  {
   "cell_type": "markdown",
   "id": "aee1bbf9",
   "metadata": {},
   "source": [
    ">Note: If there is no match, the value `None` will be returened, instead of the Match Object"
   ]
  }
 ],
 "metadata": {
  "kernelspec": {
   "display_name": "Python 3",
   "language": "python",
   "name": "python3"
  },
  "language_info": {
   "codemirror_mode": {
    "name": "ipython",
    "version": 3
   },
   "file_extension": ".py",
   "mimetype": "text/x-python",
   "name": "python",
   "nbconvert_exporter": "python",
   "pygments_lexer": "ipython3",
   "version": "3.11.4"
  }
 },
 "nbformat": 4,
 "nbformat_minor": 5
}
