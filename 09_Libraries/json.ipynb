{
 "cells": [
  {
   "cell_type": "markdown",
   "id": "7de7d404",
   "metadata": {},
   "source": [
    "# Python JSON\n",
    "\n",
    "JSON is a syntax for storing and exchanging data.\n",
    "\n",
    "JSON is text, written with JavaScript Object Notation.\n",
    "\n",
    "## JSON in Python\n",
    "\n",
    "Python has a built-in package called `json`, which can be used to work with JSON data."
   ]
  },
  {
   "cell_type": "markdown",
   "id": "cb00cc83",
   "metadata": {},
   "source": [
    "## Parse JSON - Convert from JSON to Python\n",
    "\n",
    "If you have a JSON string, you can parse it by using the `json.loads()` method\n",
    "\n",
    "> The result will be a Python dictionary\n",
    "\n",
    "Eg: Convert from JSON to Python:"
   ]
  },
  {
   "cell_type": "code",
   "execution_count": 1,
   "id": "9f252cfa",
   "metadata": {},
   "outputs": [
    {
     "name": "stdout",
     "output_type": "stream",
     "text": [
      "18\n"
     ]
    }
   ],
   "source": [
    "import json\n",
    "\n",
    "# some JSON:\n",
    "x = '{\"name\": \"Ram\", \"age\": 18, \"city\":\"kathmandu\"}'\n",
    "\n",
    "# parse x:\n",
    "y = json.loads(x)\n",
    "\n",
    "#the result is a Python dictionary:\n",
    "print(y[\"age\"])"
   ]
  },
  {
   "cell_type": "markdown",
   "id": "2069c462",
   "metadata": {},
   "source": [
    "## Convert from Python to JSON\n",
    "\n",
    "If you have a Python object, you can convert it into a JSON string by using the `json.dumps()` method.\n",
    "\n",
    "Eg: Convert from Python to JSON:"
   ]
  },
  {
   "cell_type": "code",
   "execution_count": 2,
   "id": "e6424896",
   "metadata": {},
   "outputs": [
    {
     "name": "stdout",
     "output_type": "stream",
     "text": [
      "{\"name\": \"SM\", \"age\": 19, \"city\": \"Ktm\"}\n"
     ]
    }
   ],
   "source": [
    "import json\n",
    "\n",
    "# a Python object (dict):\n",
    "x = {\n",
    "    \"name\": \"SM\",\n",
    "    \"age\": 19,\n",
    "    \"city\": \"Ktm\"\n",
    "}\n",
    "\n",
    "# convert into JSON:\n",
    "y = json.dumps(x)\n",
    "\n",
    "# the result is a JSON string:\n",
    "print(y)"
   ]
  },
  {
   "cell_type": "markdown",
   "id": "adffaf69",
   "metadata": {},
   "source": [
    "You can covnert Python objects of the following types, into JSON strings:\n",
    "\n",
    "- dict\n",
    "- list\n",
    "- tuple\n",
    "- string\n",
    "- int\n",
    "- float\n",
    "- True\n",
    "- False\n",
    "- None"
   ]
  },
  {
   "cell_type": "markdown",
   "id": "187483c8",
   "metadata": {},
   "source": [
    "Eg: Convert Python objects into JSON strings, and print the values:"
   ]
  },
  {
   "cell_type": "code",
   "execution_count": 3,
   "id": "247a4d87",
   "metadata": {},
   "outputs": [
    {
     "name": "stdout",
     "output_type": "stream",
     "text": [
      "{\"name\": \"Ram\", \"age\": 18}\n",
      "[\"apple\", \"banana\"]\n",
      "[\"apple\", \"banana\"]\n",
      "\"hello\"\n",
      "42\n",
      "35.38\n",
      "true\n",
      "false\n",
      "null\n"
     ]
    }
   ],
   "source": [
    "import json\n",
    "\n",
    "print(json.dumps({\"name\": \"Ram\", \"age\": 18}))\n",
    "print(json.dumps([\"apple\", \"banana\"]))\n",
    "print(json.dumps((\"apple\", \"banana\")))\n",
    "print(json.dumps(\"hello\"))\n",
    "print(json.dumps(42))\n",
    "print(json.dumps(35.38))\n",
    "print(json.dumps(True))\n",
    "print(json.dumps(False))\n",
    "print(json.dumps(None))"
   ]
  },
  {
   "cell_type": "markdown",
   "id": "5471b652",
   "metadata": {},
   "source": [
    "## Python to JSON Conversion\n",
    "\n",
    "| Python | JSON |\n",
    "|--------|------|\n",
    "| `dict` | Object |\n",
    "| `list` | Array |\n",
    "| `tuple` | Array |\n",
    "| `str` | String |\n",
    "| `int` | Number |\n",
    "| `float` | Number |\n",
    "| `True` | true |\n",
    "| `False` | false |\n",
    "| `None` | null |"
   ]
  },
  {
   "cell_type": "markdown",
   "id": "66731ac4",
   "metadata": {},
   "source": [
    "Eg: Convert a Python object containing all the legal data types:"
   ]
  },
  {
   "cell_type": "code",
   "execution_count": 4,
   "id": "3a25cae1",
   "metadata": {},
   "outputs": [
    {
     "name": "stdout",
     "output_type": "stream",
     "text": [
      "{\"name\": \"Ram\", \"age\": 18, \"married\": true, \"divorced\": false, \"children\": [\"Sita\", \"Krishna\"], \"pets\": null, \"cars\": [{\"model\": \"BMW\", \"mpg\": 28}, {\"model\": \"Ford\", \"mpg\": 21.5}]}\n"
     ]
    }
   ],
   "source": [
    "import json\n",
    "\n",
    "x = {\n",
    "    \"name\": \"Ram\",\n",
    "    \"age\": 18,\n",
    "    \"married\": True,\n",
    "    \"divorced\": False,\n",
    "    \"children\": (\"Sita\", \"Krishna\"),\n",
    "    \"pets\": None,\n",
    "    \"cars\":[\n",
    "        {\"model\": \"BMW\", \"mpg\": 28},\n",
    "        {\"model\": \"Ford\", \"mpg\": 21.5}\n",
    "    ]\n",
    "}\n",
    "\n",
    "print(json.dumps(x))"
   ]
  },
  {
   "cell_type": "markdown",
   "id": "bb9231d8",
   "metadata": {},
   "source": [
    "## Format the Result\n",
    "\n",
    "The exmaple above prints a JSON string, but it is not very easy to read, with no indentations and line breaks.\n",
    "\n",
    "The `json.dumps()` method has parameters to make it easier to read the result:\n",
    "\n",
    "Eg: Use `indent` parameter to define the numbers of indents:\n",
    "\n",
    "```python\n",
    "json.dumps(x, indent = 4)\n",
    "```\n",
    "\n",
    "You can also define the separators, default value is (\",\", \":\"), which means using a comma and a space to separate each object, and a colon and a space to separate keys from values:\n",
    "\n",
    "Use the `separators` parameter to change the default separator."
   ]
  },
  {
   "cell_type": "code",
   "execution_count": 7,
   "id": "91a52546",
   "metadata": {},
   "outputs": [
    {
     "name": "stdout",
     "output_type": "stream",
     "text": [
      "{\n",
      "    \"name\": \"Ram\",\n",
      "    \"age\": 18,\n",
      "    \"married\": true,\n",
      "    \"divorced\": false,\n",
      "    \"children\": [\n",
      "        \"Sita\",\n",
      "        \"Krishna\"\n",
      "    ],\n",
      "    \"pets\": null,\n",
      "    \"cars\": [\n",
      "        {\n",
      "            \"model\": \"BMW\",\n",
      "            \"mpg\": 28\n",
      "        },\n",
      "        {\n",
      "            \"model\": \"Ford\",\n",
      "            \"mpg\": 21.5\n",
      "        }\n",
      "    ]\n",
      "}\n"
     ]
    }
   ],
   "source": [
    "print(json.dumps(x, indent=4))"
   ]
  },
  {
   "cell_type": "code",
   "execution_count": 9,
   "id": "211f062b",
   "metadata": {},
   "outputs": [
    {
     "name": "stdout",
     "output_type": "stream",
     "text": [
      "{\n",
      "    \"name\"=\"Ram\".\n",
      "    \"age\"=18.\n",
      "    \"married\"=true.\n",
      "    \"divorced\"=false.\n",
      "    \"children\"=[\n",
      "        \"Sita\".\n",
      "        \"Krishna\"\n",
      "    ].\n",
      "    \"pets\"=null.\n",
      "    \"cars\"=[\n",
      "        {\n",
      "            \"model\"=\"BMW\".\n",
      "            \"mpg\"=28\n",
      "        }.\n",
      "        {\n",
      "            \"model\"=\"Ford\".\n",
      "            \"mpg\"=21.5\n",
      "        }\n",
      "    ]\n",
      "}\n"
     ]
    }
   ],
   "source": [
    "print(json.dumps(x, indent=4, separators=(\".\", \"=\")))"
   ]
  },
  {
   "cell_type": "markdown",
   "id": "1a05f760",
   "metadata": {},
   "source": [
    "## Order the Result\n",
    "\n",
    "The `json.dumps()` method has parameters to order the keys in the result.\n",
    "\n",
    "Use the `sort_keys` parameter to specify if the result should be sorted or not:"
   ]
  },
  {
   "cell_type": "code",
   "execution_count": 14,
   "id": "d938237c",
   "metadata": {},
   "outputs": [
    {
     "name": "stdout",
     "output_type": "stream",
     "text": [
      "{\n",
      "  \"age\": 18,\n",
      "  \"cars\": [\n",
      "    {\n",
      "      \"model\": \"BMW\",\n",
      "      \"mpg\": 28\n",
      "    },\n",
      "    {\n",
      "      \"model\": \"Ford\",\n",
      "      \"mpg\": 21.5\n",
      "    }\n",
      "  ],\n",
      "  \"children\": [\n",
      "    \"Sita\",\n",
      "    \"Krishna\"\n",
      "  ],\n",
      "  \"divorced\": false,\n",
      "  \"married\": true,\n",
      "  \"name\": \"Ram\",\n",
      "  \"pets\": null\n",
      "}\n"
     ]
    }
   ],
   "source": [
    "print(json.dumps(x, indent=2, sort_keys=True))"
   ]
  }
 ],
 "metadata": {
  "kernelspec": {
   "display_name": "Python 3",
   "language": "python",
   "name": "python3"
  },
  "language_info": {
   "codemirror_mode": {
    "name": "ipython",
    "version": 3
   },
   "file_extension": ".py",
   "mimetype": "text/x-python",
   "name": "python",
   "nbconvert_exporter": "python",
   "pygments_lexer": "ipython3",
   "version": "3.11.4"
  }
 },
 "nbformat": 4,
 "nbformat_minor": 5
}
