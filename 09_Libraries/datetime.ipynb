{
 "cells": [
  {
   "cell_type": "markdown",
   "id": "b6a0a66d",
   "metadata": {},
   "source": [
    "# Module vs Library\n",
    "\n",
    "| Feature             | Module                                   | Library                                       |\n",
    "|--------------------|-----------------------------------------|-----------------------------------------------|\n",
    "| Definition          | A single Python file (.py) containing functions, classes, or variables | A collection of modules grouped together to provide related functionality |\n",
    "| Example             | `math.py`, `datetime.py`, `json.py`     | Python Standard Library (contains math, datetime, json, etc.) |\n",
    "| Purpose             | Organize code into a single file for reuse | Organize related modules to provide more complete functionality |\n",
    "| Size/Scope          | Small (one file)                         | Larger (many modules in a package or library) |\n",
    "| Usage               | Imported using `import module_name`      | Imported using `import module_name` (modules inside the library) |\n",
    "| Custom or Standard  | Can be standard or user-created          | Usually standard library or external library (like NumPy) |\n",
    "\n",
    "**Note:**  \n",
    "- In Python, when you say “library,” it often refers to a **collection of modules**, not necessarily a single file.  \n",
    "- Modules are the building blocks of libraries."
   ]
  },
  {
   "cell_type": "markdown",
   "id": "271b765d",
   "metadata": {},
   "source": [
    "# Python Daytime\n",
    "\n",
    "## Python Dates\n",
    "\n",
    "A date in Python is not a data type of its own, but we can import a module named `datetime` to work with dates as data objects"
   ]
  },
  {
   "cell_type": "markdown",
   "id": "148df621",
   "metadata": {},
   "source": [
    "Eg: Import the datetime module and display the current date:"
   ]
  },
  {
   "cell_type": "code",
   "execution_count": 1,
   "id": "3a280984",
   "metadata": {},
   "outputs": [
    {
     "name": "stdout",
     "output_type": "stream",
     "text": [
      "2025-09-24 15:22:21.349006\n"
     ]
    }
   ],
   "source": [
    "import datetime\n",
    "\n",
    "x = datetime.datetime.now()\n",
    "print(x)"
   ]
  },
  {
   "cell_type": "markdown",
   "id": "d0b3beb5",
   "metadata": {},
   "source": [
    "## Date O/P\n",
    "\n",
    "When we execute the code from the example above the result will be:\n",
    "\n",
    "`2025-09-24 15:22:21.349006`\n",
    "\n",
    "The date contains year, month, day, hour, minute, second, and microsecond.\n",
    "\n",
    "The datetime module has many methods to return information about the date object.\n"
   ]
  },
  {
   "cell_type": "markdown",
   "id": "2c47d009",
   "metadata": {},
   "source": [
    "Eg: return the year and name of weekday:"
   ]
  },
  {
   "cell_type": "code",
   "execution_count": null,
   "id": "092071f8",
   "metadata": {},
   "outputs": [
    {
     "name": "stdout",
     "output_type": "stream",
     "text": [
      "2025\n",
      "Wednesday\n"
     ]
    }
   ],
   "source": [
    "import datetime\n",
    "\n",
    "x = datetime.datetime.now()\n",
    "\n",
    "print(x.year)\n",
    "\n",
    "# strftime() formats date/time into a readable string\n",
    "# %A gives the full weekday name (e.g., Monday, Tuesday)\n",
    "print(x.strftime(\"%A\"))"
   ]
  },
  {
   "cell_type": "markdown",
   "id": "60b4dd53",
   "metadata": {},
   "source": [
    "\n",
    "## ===============================\n",
    "## DATETIME Cheat Sheet\n",
    "## ===============================\n",
    "\n",
    "### 1. strftime() -> datetime object to formatted string\n",
    "####    Use to display a datetime in a readable format\n",
    "####    Example: x.strftime(\"%A, %d-%B-%Y %H:%M:%S\")\n",
    "\n",
    "## Common format codes:\n",
    "```python\n",
    "%a  -> Abbreviated weekday name      (Mon, Tue)\n",
    "%A  -> Full weekday name             (Monday, Tuesday)\n",
    "%w  -> Weekday as number             (0=Sunday, 6=Saturday)\n",
    "\n",
    "%d  -> Day of month (01-31)\n",
    "%b  -> Abbreviated month name        (Jan, Feb)\n",
    "%B  -> Full month name               (January, February)\n",
    "%m  -> Month as number (01-12)\n",
    "\n",
    "%y  -> Year without century          (23 for 2023)\n",
    "%Y  -> Year with century             (2023)\n",
    "\n",
    "%H  -> Hour (24-hour, 00-23)\n",
    "%I  -> Hour (12-hour, 01-12)\n",
    "%p  -> AM/PM\n",
    "\n",
    "%M  -> Minute (00-59)\n",
    "%S  -> Second (00-59)\n",
    "%f  -> Microsecond (000000-999999)\n",
    "%j  -> Day of the year (001-366)\n",
    "%U  -> Week number (Sunday first)\n",
    "%W  -> Week number (Monday first)\n",
    "```\n",
    "\n",
    "### 2. strptime() -> string to datetime object\n",
    "###    Use to parse a string representing a date/time into a datetime object\n",
    "###    Example:\n",
    "###    date_string = \"24-09-2025 13:30\"\n",
    "###    date_object = datetime.datetime.strptime(date_string, \"%d-%m-%Y %H:%M\")\n",
    "###    print(date_object)  # 2025-09-24 13:30:00\n",
    "\n",
    "### Key difference:\n",
    "#### - strftime() = datetime -> string\n",
    "#### - strptime() = string -> datetime\n",
    "#### - Both use the same format codes above"
   ]
  },
  {
   "cell_type": "code",
   "execution_count": 3,
   "id": "0be235ad",
   "metadata": {},
   "outputs": [
    {
     "name": "stdout",
     "output_type": "stream",
     "text": [
      "2025-09-24 13:30:00\n"
     ]
    }
   ],
   "source": [
    "import datetime\n",
    "\n",
    "# strptime() = \"string parse time\"\n",
    "# It converts a string representing a date/time into a datetime object\n",
    "# You must provide the format of the string using the same codes as strftime\n",
    "\n",
    "date_string = \"24-09-2025 13:30\"\n",
    "date_object = datetime.datetime.strptime(date_string, \"%d-%m-%Y %H:%M\")\n",
    "\n",
    "print(date_object)  # 2025-09-24 13:30:00"
   ]
  },
  {
   "cell_type": "markdown",
   "id": "057dc3bb",
   "metadata": {},
   "source": [
    "## Creating Date Objects\n",
    "\n",
    "To create a date, we can use the `datetime()` class(constructor) of the `datetime` module.\n",
    "\n",
    "The `datetime()` class requires three parameters to create a date: year, month, day."
   ]
  },
  {
   "cell_type": "code",
   "execution_count": 4,
   "id": "742fc306",
   "metadata": {},
   "outputs": [
    {
     "name": "stdout",
     "output_type": "stream",
     "text": [
      "2024-02-19 00:00:00\n"
     ]
    }
   ],
   "source": [
    "import datetime\n",
    "x = datetime.datetime(2024, 2, 19)\n",
    "\n",
    "print(x)"
   ]
  },
  {
   "cell_type": "markdown",
   "id": "1ea408bc",
   "metadata": {},
   "source": [
    "The `datetime()` class also takes parameters for time and timezone (hour, minute, second, microsecond, tzone), but they are optional, and has a default value of `0`, (`None` for timezone)."
   ]
  },
  {
   "cell_type": "markdown",
   "id": "e1493616",
   "metadata": {},
   "source": [
    "## The strftime() Method\n",
    "\n",
    "The `datetime` object has a method for formatting date objects into readable strings.\n",
    "\n",
    "The method is called `strftime()`, and takes one parameter, `format`, to specify the format of the returned string:"
   ]
  },
  {
   "cell_type": "markdown",
   "id": "66595e4f",
   "metadata": {},
   "source": [
    "Eg: Display the name of the month:"
   ]
  },
  {
   "cell_type": "code",
   "execution_count": 5,
   "id": "5f7a17d4",
   "metadata": {},
   "outputs": [
    {
     "name": "stdout",
     "output_type": "stream",
     "text": [
      "February\n"
     ]
    }
   ],
   "source": [
    "import datetime\n",
    "\n",
    "x = datetime.datetime(2025, 2, 28)\n",
    "\n",
    "print(x.strftime(\"%B\"))"
   ]
  }
 ],
 "metadata": {
  "kernelspec": {
   "display_name": "Python 3",
   "language": "python",
   "name": "python3"
  },
  "language_info": {
   "codemirror_mode": {
    "name": "ipython",
    "version": 3
   },
   "file_extension": ".py",
   "mimetype": "text/x-python",
   "name": "python",
   "nbconvert_exporter": "python",
   "pygments_lexer": "ipython3",
   "version": "3.11.4"
  }
 },
 "nbformat": 4,
 "nbformat_minor": 5
}
