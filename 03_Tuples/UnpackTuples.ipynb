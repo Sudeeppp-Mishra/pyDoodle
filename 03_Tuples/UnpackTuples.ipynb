{
 "cells": [
  {
   "cell_type": "markdown",
   "id": "69e33ce8",
   "metadata": {},
   "source": [
    "# Unpack Tuples\n",
    "\n",
    "When we create a tuple, we normally assing values to it. This is called \"packing\" a tuple"
   ]
  },
  {
   "cell_type": "markdown",
   "id": "88d6cb48",
   "metadata": {},
   "source": [
    "# Packing a tuple:"
   ]
  },
  {
   "cell_type": "code",
   "execution_count": 1,
   "id": "dcd72d4f",
   "metadata": {},
   "outputs": [],
   "source": [
    "fruits = (\"apple\",  \"banana\", \"cherry\")"
   ]
  },
  {
   "cell_type": "markdown",
   "id": "c4efa7a1",
   "metadata": {},
   "source": [
    "But, in Python, we are also allowed to extract the values back into variables. Which is called \"unpacking\""
   ]
  },
  {
   "cell_type": "markdown",
   "id": "b3c16213",
   "metadata": {},
   "source": [
    "# Unpacking a tuple:"
   ]
  },
  {
   "cell_type": "code",
   "execution_count": 2,
   "id": "1591a3e0",
   "metadata": {},
   "outputs": [
    {
     "name": "stdout",
     "output_type": "stream",
     "text": [
      "apple\n",
      "Banana\n",
      "cherry\n"
     ]
    }
   ],
   "source": [
    "fruits = (\"apple\", \"Banana\", \"cherry\")\n",
    "\n",
    "(green, yellow, red) = fruits\n",
    "\n",
    "print(green)\n",
    "print(yellow)\n",
    "print(red)"
   ]
  },
  {
   "cell_type": "markdown",
   "id": "15e678d2",
   "metadata": {},
   "source": [
    "> **Note:** The number of variables must match the number of values in the tuple, if not, you must use an asterist to collect the remaining values as a list."
   ]
  },
  {
   "cell_type": "markdown",
   "id": "0857270b",
   "metadata": {},
   "source": [
    "# Using Asterisk `*`"
   ]
  },
  {
   "cell_type": "markdown",
   "id": "eefcf24f",
   "metadata": {},
   "source": [
    "If the number of variables is less than the number of values, we can add an `*` to the variable name and the values will be assigned to the variables as a list:"
   ]
  },
  {
   "cell_type": "markdown",
   "id": "339724a6",
   "metadata": {},
   "source": [
    "### *Assign the rest of the values as a list called \"red\":*"
   ]
  },
  {
   "cell_type": "code",
   "execution_count": 4,
   "id": "ef2cf11b",
   "metadata": {},
   "outputs": [
    {
     "name": "stdout",
     "output_type": "stream",
     "text": [
      "apple\n",
      "banana\n",
      "['strawberry', 'cherry', 'raspberry']\n"
     ]
    }
   ],
   "source": [
    "fruits = (\"apple\", \"banana\", \"strawberry\", \"cherry\", \"raspberry\")\n",
    "\n",
    "(green, yellow, *red) = fruits\n",
    "\n",
    "print(green)\n",
    "print(yellow)\n",
    "print(red)"
   ]
  },
  {
   "cell_type": "markdown",
   "id": "b0b64c8c",
   "metadata": {},
   "source": [
    "If the asterisk is added to another variable name than the last, Python will assign values to the variable until the number of values left matches the number of variables left."
   ]
  },
  {
   "cell_type": "markdown",
   "id": "b85a8089",
   "metadata": {},
   "source": [
    "### *Add a list of values to the \"tropic\" variable:*"
   ]
  },
  {
   "cell_type": "code",
   "execution_count": 5,
   "id": "00b4ffd6",
   "metadata": {},
   "outputs": [
    {
     "name": "stdout",
     "output_type": "stream",
     "text": [
      "Apple\n",
      "['mango', 'banana', 'papaya']\n",
      "cherry\n"
     ]
    }
   ],
   "source": [
    "fruits = (\"Apple\", \"mango\", \"banana\", \"papaya\", \"cherry\")\n",
    "\n",
    "(green, *tropic, red) = fruits\n",
    "\n",
    "print(green)\n",
    "print(tropic)\n",
    "print(red)"
   ]
  }
 ],
 "metadata": {
  "kernelspec": {
   "display_name": "Python 3",
   "language": "python",
   "name": "python3"
  },
  "language_info": {
   "codemirror_mode": {
    "name": "ipython",
    "version": 3
   },
   "file_extension": ".py",
   "mimetype": "text/x-python",
   "name": "python",
   "nbconvert_exporter": "python",
   "pygments_lexer": "ipython3",
   "version": "3.11.4"
  }
 },
 "nbformat": 4,
 "nbformat_minor": 5
}
