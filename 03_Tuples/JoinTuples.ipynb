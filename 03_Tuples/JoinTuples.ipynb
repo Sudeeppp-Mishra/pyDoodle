{
 "cells": [
  {
   "cell_type": "markdown",
   "id": "0690465c",
   "metadata": {},
   "source": [
    "# Join Tuples"
   ]
  },
  {
   "cell_type": "markdown",
   "id": "9c60ad82",
   "metadata": {},
   "source": [
    "### Join Two Tuples\n",
    "To join two or more tuples we can use the `+` operator:"
   ]
  },
  {
   "cell_type": "code",
   "execution_count": 1,
   "id": "7abba0e5",
   "metadata": {},
   "outputs": [
    {
     "name": "stdout",
     "output_type": "stream",
     "text": [
      "('a', 'b', 'c', 'd', 1, 2, 4)\n"
     ]
    }
   ],
   "source": [
    "tuple1 = ('a', 'b', 'c', 'd')\n",
    "tuple2 = (1, 2, 4)\n",
    "\n",
    "tuple3 = tuple1 + tuple2\n",
    "print(tuple3)"
   ]
  },
  {
   "cell_type": "markdown",
   "id": "095ec5b3",
   "metadata": {},
   "source": [
    "# Multiply Tuples\n",
    "If we want to multiply the content of a buple by a gien number, we can use the `*` operator:"
   ]
  },
  {
   "cell_type": "code",
   "execution_count": 2,
   "id": "6a3e4d7c",
   "metadata": {},
   "outputs": [
    {
     "name": "stdout",
     "output_type": "stream",
     "text": [
      "('a', 'b', 'c', 'a', 'b', 'c')\n"
     ]
    }
   ],
   "source": [
    "fruits = (\"a\", \"b\", \"c\")\n",
    "myTuple = fruits * 2\n",
    "print(myTuple)"
   ]
  }
 ],
 "metadata": {
  "kernelspec": {
   "display_name": "Python 3",
   "language": "python",
   "name": "python3"
  },
  "language_info": {
   "codemirror_mode": {
    "name": "ipython",
    "version": 3
   },
   "file_extension": ".py",
   "mimetype": "text/x-python",
   "name": "python",
   "nbconvert_exporter": "python",
   "pygments_lexer": "ipython3",
   "version": "3.11.4"
  }
 },
 "nbformat": 4,
 "nbformat_minor": 5
}
