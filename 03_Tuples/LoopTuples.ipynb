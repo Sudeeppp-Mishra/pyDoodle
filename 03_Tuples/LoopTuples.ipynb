{
 "cells": [
  {
   "cell_type": "markdown",
   "id": "3b4b74b6",
   "metadata": {},
   "source": [
    "# Loop Tuples"
   ]
  },
  {
   "cell_type": "markdown",
   "id": "5f6a5fad",
   "metadata": {},
   "source": [
    "### Loop Through a Tuple\n",
    "You can loop through the tuple items by using a for loop."
   ]
  },
  {
   "cell_type": "markdown",
   "id": "9e28c9fa",
   "metadata": {},
   "source": [
    "### Iterate through the items and print the values:"
   ]
  },
  {
   "cell_type": "code",
   "execution_count": 1,
   "id": "11e53384",
   "metadata": {},
   "outputs": [
    {
     "name": "stdout",
     "output_type": "stream",
     "text": [
      "apple\n",
      "banana\n",
      "cherry\n"
     ]
    }
   ],
   "source": [
    "thisTupe = (\"apple\", \"banana\", \"cherry\")\n",
    "for x in thisTupe:\n",
    "    print(x)"
   ]
  },
  {
   "cell_type": "markdown",
   "id": "9ba12b78",
   "metadata": {},
   "source": [
    "## Loop Through the Index Numbers\n",
    "We can also loop through the tuple items by reffering to their index numbers.\n",
    "Use the    `range()` and `len()` functions to create a suitable iterable."
   ]
  },
  {
   "cell_type": "markdown",
   "id": "625dacb9",
   "metadata": {},
   "source": [
    "##### Print all items by referring to their index number:"
   ]
  },
  {
   "cell_type": "code",
   "execution_count": 5,
   "id": "c560ed14",
   "metadata": {},
   "outputs": [
    {
     "name": "stdout",
     "output_type": "stream",
     "text": [
      "apple\n",
      "banana\n",
      "cherry\n"
     ]
    }
   ],
   "source": [
    "thisTuple = (\"apple\", \"banana\", \"cherry\")\n",
    "for i in range(len(thisTupe)):\n",
    "    print(thisTuple[i])"
   ]
  },
  {
   "cell_type": "markdown",
   "id": "bd3a8f8b",
   "metadata": {},
   "source": [
    "## Using a While Loop"
   ]
  },
  {
   "cell_type": "code",
   "execution_count": 4,
   "id": "c1d80e23",
   "metadata": {},
   "outputs": [
    {
     "name": "stdout",
     "output_type": "stream",
     "text": [
      "apple\n",
      "banana\n",
      "cherry\n",
      "strawberry\n"
     ]
    }
   ],
   "source": [
    "thisTuple = (\"apple\", \"banana\", \"cherry\", \"strawberry\")\n",
    "i = 0\n",
    "while i<len(thisTuple):\n",
    "    print(thisTuple[i])\n",
    "    i+=1"
   ]
  }
 ],
 "metadata": {
  "kernelspec": {
   "display_name": "Python 3",
   "language": "python",
   "name": "python3"
  },
  "language_info": {
   "codemirror_mode": {
    "name": "ipython",
    "version": 3
   },
   "file_extension": ".py",
   "mimetype": "text/x-python",
   "name": "python",
   "nbconvert_exporter": "python",
   "pygments_lexer": "ipython3",
   "version": "3.11.4"
  }
 },
 "nbformat": 4,
 "nbformat_minor": 5
}
