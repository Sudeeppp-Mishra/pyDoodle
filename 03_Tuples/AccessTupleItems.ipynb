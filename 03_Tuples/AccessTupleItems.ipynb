{
 "cells": [
  {
   "cell_type": "markdown",
   "id": "759cd9e5",
   "metadata": {},
   "source": [
    "# Access Tuple Items - using index number"
   ]
  },
  {
   "cell_type": "code",
   "execution_count": null,
   "id": "ecb8c8ba",
   "metadata": {},
   "outputs": [
    {
     "name": "stdout",
     "output_type": "stream",
     "text": [
      "banana\n"
     ]
    }
   ],
   "source": [
    "thistuple = (\"apple\", \"banana\", \"cherry\")\n",
    "print(thistuple[1])"
   ]
  },
  {
   "cell_type": "markdown",
   "id": "011d35f4",
   "metadata": {},
   "source": [
    "# Negative Indexing - from the end"
   ]
  },
  {
   "cell_type": "code",
   "execution_count": null,
   "id": "d0606ded",
   "metadata": {},
   "outputs": [
    {
     "name": "stdout",
     "output_type": "stream",
     "text": [
      "cherry\n"
     ]
    }
   ],
   "source": [
    "print(thistuple[-1])"
   ]
  },
  {
   "cell_type": "markdown",
   "id": "4610cc2f",
   "metadata": {},
   "source": [
    "# Range of Indexes - specify a range of indexes by specifying where to start and where to end the range - for specified items"
   ]
  },
  {
   "cell_type": "code",
   "execution_count": null,
   "id": "d1bcfe3f",
   "metadata": {},
   "outputs": [
    {
     "name": "stdout",
     "output_type": "stream",
     "text": [
      "('cherry', 'orange', 'kiwi')\n",
      "('apple', 'banana', 'cherry', 'orange')\n",
      "('cherry', 'orange', 'kiwi', 'melon', 'mango')\n"
     ]
    }
   ],
   "source": [
    "thistuple = (\"apple\", \"banana\", \"cherry\", \"orange\", \"kiwi\", \"melon\", \"mango\")\n",
    "print(thistuple[2:5])\n",
    "print(thistuple[:4])\n",
    "print(thistuple[2:])"
   ]
  },
  {
   "cell_type": "markdown",
   "id": "907ec31e",
   "metadata": {},
   "source": [
    "# Range of Negative indexes"
   ]
  },
  {
   "cell_type": "code",
   "execution_count": null,
   "id": "3f2cb780",
   "metadata": {},
   "outputs": [
    {
     "name": "stdout",
     "output_type": "stream",
     "text": [
      "('orange', 'kiwi', 'melon')\n"
     ]
    }
   ],
   "source": [
    "print(thistuple[-4:-1])"
   ]
  },
  {
   "cell_type": "markdown",
   "id": "abffd9de",
   "metadata": {},
   "source": [
    "# Checking if item exists - using in keyword"
   ]
  },
  {
   "cell_type": "code",
   "execution_count": null,
   "id": "c1c6e298",
   "metadata": {},
   "outputs": [
    {
     "name": "stdout",
     "output_type": "stream",
     "text": [
      "Yes, 'apple' is in the tuple\n"
     ]
    }
   ],
   "source": [
    "if \"apple\" in thistuple:\n",
    "    print(\"Yes, 'apple' is in the tuple\")"
   ]
  }
 ],
 "metadata": {
  "kernelspec": {
   "display_name": "Python 3",
   "language": "python",
   "name": "python3"
  },
  "language_info": {
   "codemirror_mode": {
    "name": "ipython",
    "version": 3
   },
   "file_extension": ".py",
   "mimetype": "text/x-python",
   "name": "python",
   "nbconvert_exporter": "python",
   "pygments_lexer": "ipython3",
   "version": "3.11.4"
  }
 },
 "nbformat": 4,
 "nbformat_minor": 5
}
