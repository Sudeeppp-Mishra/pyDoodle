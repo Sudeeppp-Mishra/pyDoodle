{
 "cells": [
  {
   "cell_type": "markdown",
   "id": "dd8a2f82",
   "metadata": {},
   "source": [
    "# Tuple Methods"
   ]
  },
  {
   "cell_type": "markdown",
   "id": "a626de4c",
   "metadata": {},
   "source": [
    "Python has two built-in methods that we can use on tuples.\n",
    "- count() -> Returns the number of times a specified value occurs in a tuple\n",
    "- index() -> Searches the tuple for a specified value and returns the position of where it was found"
   ]
  },
  {
   "cell_type": "code",
   "execution_count": 1,
   "id": "40720fa1",
   "metadata": {},
   "outputs": [
    {
     "name": "stdout",
     "output_type": "stream",
     "text": [
      "3\n"
     ]
    }
   ],
   "source": [
    "newTuple = (\"apple\", \"banana\", \"apple\", \"strawberry\", \"apple\")\n",
    "print(newTuple.count(\"apple\"))"
   ]
  },
  {
   "cell_type": "code",
   "execution_count": 2,
   "id": "daa421c6",
   "metadata": {},
   "outputs": [
    {
     "name": "stdout",
     "output_type": "stream",
     "text": [
      "1\n"
     ]
    }
   ],
   "source": [
    "print(newTuple.index(\"banana\"))"
   ]
  },
  {
   "cell_type": "code",
   "execution_count": 3,
   "id": "52fd9ed1",
   "metadata": {},
   "outputs": [
    {
     "name": "stdout",
     "output_type": "stream",
     "text": [
      "0\n"
     ]
    }
   ],
   "source": [
    "print(newTuple.index(\"apple\"))"
   ]
  },
  {
   "cell_type": "code",
   "execution_count": 4,
   "id": "32a154fa",
   "metadata": {},
   "outputs": [
    {
     "name": "stdout",
     "output_type": "stream",
     "text": [
      "3\n"
     ]
    }
   ],
   "source": [
    "print(newTuple.index(\"strawberry\"))"
   ]
  }
 ],
 "metadata": {
  "kernelspec": {
   "display_name": "Python 3",
   "language": "python",
   "name": "python3"
  },
  "language_info": {
   "codemirror_mode": {
    "name": "ipython",
    "version": 3
   },
   "file_extension": ".py",
   "mimetype": "text/x-python",
   "name": "python",
   "nbconvert_exporter": "python",
   "pygments_lexer": "ipython3",
   "version": "3.11.4"
  }
 },
 "nbformat": 4,
 "nbformat_minor": 5
}
