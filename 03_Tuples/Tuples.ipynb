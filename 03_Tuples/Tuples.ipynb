{
 "cells": [
  {
   "cell_type": "code",
   "execution_count": 1,
   "id": "fee4238c",
   "metadata": {},
   "outputs": [
    {
     "name": "stdout",
     "output_type": "stream",
     "text": [
      "('apple', 'banana', 'cherry')\n"
     ]
    }
   ],
   "source": [
    "# Tuples are used to store multiple items in a single variable.\n",
    "# A tuple is a collection which is ordered and unchangeable.\n",
    "thistuple = (\"apple\", \"banana\", \"cherry\")\n",
    "print(thistuple)"
   ]
  },
  {
   "cell_type": "code",
   "execution_count": 4,
   "id": "fdb343d4",
   "metadata": {},
   "outputs": [
    {
     "name": "stdout",
     "output_type": "stream",
     "text": [
      "('apple', 'banana', 'cherry', 'apple', 'cherry')\n"
     ]
    }
   ],
   "source": [
    "# Tuple Items\n",
    "# They are ordered, immutable(unchangeable), and allow duplicate values, they are also indexed\n",
    "# ORDERED - when we say tuples are ordered, it means that the items have a defined order, and that order will not change.\n",
    "# UNCHANGEABLE - they cannot be changed, add or remove items after the tuple has been created\n",
    "# ALLOW DUPLICATES - as they are indexed, they can have items with the same value:\n",
    "thistuple1 = (\"apple\", \"banana\", \"cherry\", \"apple\", \"cherry\")\n",
    "print(thistuple1)"
   ]
  },
  {
   "cell_type": "code",
   "execution_count": 5,
   "id": "6be1e348",
   "metadata": {},
   "outputs": [
    {
     "name": "stdout",
     "output_type": "stream",
     "text": [
      "3\n"
     ]
    }
   ],
   "source": [
    "# Tuple Length - len() function is used\n",
    "print(len(thistuple))"
   ]
  },
  {
   "cell_type": "code",
   "execution_count": 13,
   "id": "2833706b",
   "metadata": {},
   "outputs": [
    {
     "name": "stdout",
     "output_type": "stream",
     "text": [
      "<class 'tuple'>\n",
      "('ram',)\n",
      "<class 'str'>\n",
      "apple\n"
     ]
    }
   ],
   "source": [
    "# Creating a tuple with one item - if we want to create a tuple with only one item, we must add a comma after the item, otherwise Python won't recognize it as a tuple\n",
    "thistuple2 = (\"ram\",)\n",
    "print(type(thistuple2))\n",
    "print(thistuple2)\n",
    "\n",
    "#NOT a tuple\n",
    "thistuple2 = (\"apple\")\n",
    "print(type(thistuple2))\n",
    "print(thistuple2)"
   ]
  },
  {
   "cell_type": "code",
   "execution_count": 10,
   "id": "226783de",
   "metadata": {},
   "outputs": [
    {
     "name": "stdout",
     "output_type": "stream",
     "text": [
      "('apple', 'banana', 'cherry')\n",
      "(1, 2, 4)\n",
      "(True, False, False)\n"
     ]
    }
   ],
   "source": [
    "# Type items can be of any data type:\n",
    "tuple1 = (\"apple\", \"banana\", \"cherry\")\n",
    "tuple2 = (1,2,4)\n",
    "tuple3 = (True, False, False)\n",
    "print(tuple1)\n",
    "print(tuple2)\n",
    "print(tuple3)"
   ]
  },
  {
   "cell_type": "code",
   "execution_count": 11,
   "id": "08bc4be3",
   "metadata": {},
   "outputs": [
    {
     "name": "stdout",
     "output_type": "stream",
     "text": [
      "('abc', 1, True, 34, 'male')\n"
     ]
    }
   ],
   "source": [
    "# A tuple can be with multiple data types\n",
    "tupleeee = (\"abc\", 1, True, 34, \"male\")\n",
    "print(tupleeee)"
   ]
  },
  {
   "cell_type": "code",
   "execution_count": 14,
   "id": "fa98223c",
   "metadata": {},
   "outputs": [
    {
     "name": "stdout",
     "output_type": "stream",
     "text": [
      "('apple', 'banana')\n"
     ]
    }
   ],
   "source": [
    "# The tuple() Constructor - we can also make a tuple with the help of tuple() constructor\n",
    "thistuplee = tuple((\"apple\", \"banana\"))\n",
    "print(thistuplee)"
   ]
  }
 ],
 "metadata": {
  "kernelspec": {
   "display_name": "Python 3",
   "language": "python",
   "name": "python3"
  },
  "language_info": {
   "codemirror_mode": {
    "name": "ipython",
    "version": 3
   },
   "file_extension": ".py",
   "mimetype": "text/x-python",
   "name": "python",
   "nbconvert_exporter": "python",
   "pygments_lexer": "ipython3",
   "version": "3.11.4"
  }
 },
 "nbformat": 4,
 "nbformat_minor": 5
}
