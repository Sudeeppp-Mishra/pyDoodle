{
 "cells": [
  {
   "cell_type": "markdown",
   "id": "2ddd00e5",
   "metadata": {},
   "source": [
    "# Tuples\n",
    "Tuples are used to store multiple items in a single variable. A tuple is a collection which is ordered and unchangeable."
   ]
  },
  {
   "cell_type": "code",
   "execution_count": null,
   "id": "fee4238c",
   "metadata": {},
   "outputs": [
    {
     "name": "stdout",
     "output_type": "stream",
     "text": [
      "('apple', 'banana', 'cherry')\n"
     ]
    }
   ],
   "source": [
    "thistuple = (\"apple\", \"banana\", \"cherry\")\n",
    "print(thistuple)"
   ]
  },
  {
   "cell_type": "markdown",
   "id": "4d73bf10",
   "metadata": {},
   "source": [
    "# Tuple Items\n",
    "They are ordered, immutable(unchangeable), and allow duplicate values, they are also indexed\n",
    "- ORDERED - when we say tuples are ordered, it means that the items have a defined order, and that order will not change.\n",
    "\n",
    "- UNCHANGEABLE - they cannot be changed, add or remove items after the tuple has been created\n",
    "\n",
    "- ALLOW DUPLICATES - as they are indexed, they can have items with the same value:"
   ]
  },
  {
   "cell_type": "code",
   "execution_count": null,
   "id": "fdb343d4",
   "metadata": {},
   "outputs": [
    {
     "name": "stdout",
     "output_type": "stream",
     "text": [
      "('apple', 'banana', 'cherry', 'apple', 'cherry')\n"
     ]
    }
   ],
   "source": [
    "thistuple1 = (\"apple\", \"banana\", \"cherry\", \"apple\", \"cherry\")\n",
    "print(thistuple1)"
   ]
  },
  {
   "cell_type": "markdown",
   "id": "df65ab42",
   "metadata": {},
   "source": [
    "##### Tuple Length - len() function is used"
   ]
  },
  {
   "cell_type": "code",
   "execution_count": null,
   "id": "6be1e348",
   "metadata": {},
   "outputs": [
    {
     "name": "stdout",
     "output_type": "stream",
     "text": [
      "3\n"
     ]
    }
   ],
   "source": [
    "print(len(thistuple))"
   ]
  },
  {
   "cell_type": "markdown",
   "id": "aa07cd07",
   "metadata": {},
   "source": [
    "Creating a tuple with one item - if we want to create a tuple with only one item, we must add a comma after the item, otherwise Python won't recognize it as a tuple"
   ]
  },
  {
   "cell_type": "code",
   "execution_count": null,
   "id": "2833706b",
   "metadata": {},
   "outputs": [
    {
     "name": "stdout",
     "output_type": "stream",
     "text": [
      "<class 'tuple'>\n",
      "('ram',)\n",
      "<class 'str'>\n",
      "apple\n"
     ]
    }
   ],
   "source": [
    "thistuple2 = (\"ram\",)\n",
    "print(type(thistuple2))\n",
    "print(thistuple2)\n",
    "\n",
    "#NOT a tuple\n",
    "thistuple2 = (\"apple\")\n",
    "print(type(thistuple2))\n",
    "print(thistuple2)"
   ]
  },
  {
   "cell_type": "markdown",
   "id": "5c2bd0f0",
   "metadata": {},
   "source": [
    "#### Type items can be of any data type:"
   ]
  },
  {
   "cell_type": "code",
   "execution_count": null,
   "id": "226783de",
   "metadata": {},
   "outputs": [
    {
     "name": "stdout",
     "output_type": "stream",
     "text": [
      "('apple', 'banana', 'cherry')\n",
      "(1, 2, 4)\n",
      "(True, False, False)\n"
     ]
    }
   ],
   "source": [
    "tuple1 = (\"apple\", \"banana\", \"cherry\")\n",
    "tuple2 = (1,2,4)\n",
    "tuple3 = (True, False, False)\n",
    "print(tuple1)\n",
    "print(tuple2)\n",
    "print(tuple3)"
   ]
  },
  {
   "cell_type": "markdown",
   "id": "0649f54e",
   "metadata": {},
   "source": [
    "#### A tuple can be with multiple data types"
   ]
  },
  {
   "cell_type": "code",
   "execution_count": null,
   "id": "08bc4be3",
   "metadata": {},
   "outputs": [
    {
     "name": "stdout",
     "output_type": "stream",
     "text": [
      "('abc', 1, True, 34, 'male')\n"
     ]
    }
   ],
   "source": [
    "tupleeee = (\"abc\", 1, True, 34, \"male\")\n",
    "print(tupleeee)"
   ]
  },
  {
   "cell_type": "markdown",
   "id": "050360e1",
   "metadata": {},
   "source": [
    "#### The tuple() Constructor - we can also make a tuple with the help of tuple() constructor"
   ]
  },
  {
   "cell_type": "code",
   "execution_count": null,
   "id": "fa98223c",
   "metadata": {},
   "outputs": [
    {
     "name": "stdout",
     "output_type": "stream",
     "text": [
      "('apple', 'banana')\n"
     ]
    }
   ],
   "source": [
    "thistuplee = tuple((\"apple\", \"banana\"))\n",
    "print(thistuplee)"
   ]
  }
 ],
 "metadata": {
  "kernelspec": {
   "display_name": "Python 3",
   "language": "python",
   "name": "python3"
  },
  "language_info": {
   "codemirror_mode": {
    "name": "ipython",
    "version": 3
   },
   "file_extension": ".py",
   "mimetype": "text/x-python",
   "name": "python",
   "nbconvert_exporter": "python",
   "pygments_lexer": "ipython3",
   "version": "3.11.4"
  }
 },
 "nbformat": 4,
 "nbformat_minor": 5
}
