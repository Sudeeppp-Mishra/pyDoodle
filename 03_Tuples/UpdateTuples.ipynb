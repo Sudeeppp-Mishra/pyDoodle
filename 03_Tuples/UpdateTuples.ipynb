{
 "cells": [
  {
   "cell_type": "markdown",
   "id": "28940984",
   "metadata": {},
   "source": [
    "# Tuples are immutable, meaning we cannot change, add, or remove items once the tuple is created\n",
    "# But there are some workarounds"
   ]
  },
  {
   "cell_type": "code",
   "execution_count": null,
   "id": "a169d9ec",
   "metadata": {},
   "outputs": [
    {
     "name": "stdout",
     "output_type": "stream",
     "text": [
      "('apple', 'kiwi', 'cherry')\n"
     ]
    }
   ],
   "source": [
    "thistuple = (\"apple\", \"banana\", \"cherry\")\n",
    "y = list(thistuple)\n",
    "y[1] = \"kiwi\"\n",
    "thistuple = tuple(y)\n",
    "print(thistuple)"
   ]
  },
  {
   "cell_type": "markdown",
   "id": "b97aee79",
   "metadata": {},
   "source": [
    "# Add Items - append() method\n",
    "# Method 1: Convert into a list"
   ]
  },
  {
   "cell_type": "code",
   "execution_count": null,
   "id": "8c37007a",
   "metadata": {},
   "outputs": [
    {
     "name": "stdout",
     "output_type": "stream",
     "text": [
      "('ram', 'shyam', 'hari')\n"
     ]
    }
   ],
   "source": [
    "thistuple = (\"ram\", \"shyam\")\n",
    "y = list(thistuple)\n",
    "y.append(\"hari\")\n",
    "thistuple = tuple(y)\n",
    "print(thistuple)"
   ]
  },
  {
   "cell_type": "markdown",
   "id": "a80ea338",
   "metadata": {},
   "source": [
    "# Method 2: Add tuple to a tuple"
   ]
  },
  {
   "cell_type": "code",
   "execution_count": null,
   "id": "5dec6b0c",
   "metadata": {},
   "outputs": [
    {
     "name": "stdout",
     "output_type": "stream",
     "text": [
      "('C', 'C++', 'Java')\n"
     ]
    }
   ],
   "source": [
    "thistuple = (\"C\", \"C++\")\n",
    "y = (\"Java\",)\n",
    "thistuple += y\n",
    "print(thistuple)"
   ]
  },
  {
   "cell_type": "markdown",
   "id": "973a3192",
   "metadata": {},
   "source": [
    "# Remove Items - NOTE: You must not forget that we list is immutable"
   ]
  },
  {
   "cell_type": "code",
   "execution_count": null,
   "id": "6d9dd837",
   "metadata": {},
   "outputs": [
    {
     "name": "stdout",
     "output_type": "stream",
     "text": [
      "('C++', 'Java')\n"
     ]
    }
   ],
   "source": [
    "thistuple = (\"C\", \"C++\", \"Java\")\n",
    "y = list(thistuple)\n",
    "y.remove(\"C\")\n",
    "thistuple = tuple(y)\n",
    "print(thistuple)"
   ]
  },
  {
   "cell_type": "markdown",
   "id": "5b83e862",
   "metadata": {},
   "source": [
    "\n",
    "# OR we can delete the tuple completely - del keyword"
   ]
  },
  {
   "cell_type": "code",
   "execution_count": null,
   "id": "98a571b4",
   "metadata": {},
   "outputs": [
    {
     "ename": "NameError",
     "evalue": "name 'thistuple' is not defined",
     "output_type": "error",
     "traceback": [
      "\u001b[31m---------------------------------------------------------------------------\u001b[39m",
      "\u001b[31mNameError\u001b[39m                                 Traceback (most recent call last)",
      "\u001b[36mCell\u001b[39m\u001b[36m \u001b[39m\u001b[32mIn[8]\u001b[39m\u001b[32m, line 3\u001b[39m\n\u001b[32m      1\u001b[39m \u001b[38;5;66;03m# OR we can delete the tuple completely - del keyword\u001b[39;00m\n\u001b[32m      2\u001b[39m \u001b[38;5;28;01mdel\u001b[39;00m thistuple\n\u001b[32m----> \u001b[39m\u001b[32m3\u001b[39m \u001b[38;5;28mprint\u001b[39m(\u001b[43mthistuple\u001b[49m) \u001b[38;5;66;03m# ERROR because the tuple no longer exists\u001b[39;00m\n",
      "\u001b[31mNameError\u001b[39m: name 'thistuple' is not defined"
     ]
    }
   ],
   "source": [
    "del thistuple\n",
    "print(thistuple) # ERROR because the tuple no longer exists"
   ]
  }
 ],
 "metadata": {
  "kernelspec": {
   "display_name": "Python 3",
   "language": "python",
   "name": "python3"
  },
  "language_info": {
   "codemirror_mode": {
    "name": "ipython",
    "version": 3
   },
   "file_extension": ".py",
   "mimetype": "text/x-python",
   "name": "python",
   "nbconvert_exporter": "python",
   "pygments_lexer": "ipython3",
   "version": "3.11.4"
  }
 },
 "nbformat": 4,
 "nbformat_minor": 5
}
