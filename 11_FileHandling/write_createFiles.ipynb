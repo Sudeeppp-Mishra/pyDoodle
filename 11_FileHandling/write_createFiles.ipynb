{
 "cells": [
  {
   "cell_type": "markdown",
   "id": "fee64df2",
   "metadata": {},
   "source": [
    "## Write to an Existing File\n",
    "\n",
    "To write to an existing file, you must add a parameter to the `open()` function:\n",
    "\n",
    "`\"a\"` - Append - will append to the end of the file\n",
    "`\"w\"` - Write - will overrite any existing content"
   ]
  },
  {
   "cell_type": "markdown",
   "id": "050ffa2f",
   "metadata": {},
   "source": [
    "Eg: opening the file \"test.txt\" and appening some content"
   ]
  },
  {
   "cell_type": "code",
   "execution_count": 3,
   "id": "d67a8e63",
   "metadata": {},
   "outputs": [
    {
     "name": "stdout",
     "output_type": "stream",
     "text": [
      "Hello! Wecome to this file\n",
      "This file is for testing purpose\n",
      "Good luck!This is appened text!\n"
     ]
    }
   ],
   "source": [
    "with open(\"test.txt\", \"a\") as f:\n",
    "    f.write(\"This is appened text!\")\n",
    "    \n",
    "with open(\"test.txt\") as f:\n",
    "    print(f.read())"
   ]
  },
  {
   "cell_type": "markdown",
   "id": "61ae18ef",
   "metadata": {},
   "source": [
    "## Overwrite Existing Content\n",
    "\n",
    "To overwrite the existing content to the file, use the `w` parameter"
   ]
  },
  {
   "cell_type": "code",
   "execution_count": 4,
   "id": "58a86ff3",
   "metadata": {},
   "outputs": [
    {
     "name": "stdout",
     "output_type": "stream",
     "text": [
      "This is now overwritten content!\n"
     ]
    }
   ],
   "source": [
    "with open(\"test.txt\", \"w\") as f:\n",
    "    f.write(\"This is now overwritten content!\")\n",
    "    \n",
    "with open(\"test.txt\") as f:\n",
    "    print(f.read())"
   ]
  },
  {
   "cell_type": "markdown",
   "id": "8ac32546",
   "metadata": {},
   "source": [
    "> Note: the \"w\" method will overwrite the entire file"
   ]
  },
  {
   "cell_type": "markdown",
   "id": "373d188e",
   "metadata": {},
   "source": [
    "## Create a New File\n",
    "\n",
    "To create a new file in Python, use the `open()` method, with one fo the following parameters:\n",
    "\n",
    "`\"x\"` - Create - will create a file, returns an error if the file exists\n",
    "`\"a\"` - Append - will create a file if the specified fiel does not exists\n",
    "`\"w\"` - Write - will create a file if the specified file does not exists"
   ]
  },
  {
   "cell_type": "code",
   "execution_count": 6,
   "id": "882974bb",
   "metadata": {},
   "outputs": [],
   "source": [
    "f = open(\"newfile.txt\", \"x\") # Creates new file named \"newfile.txt\""
   ]
  },
  {
   "cell_type": "markdown",
   "id": "2ab96e85",
   "metadata": {},
   "source": [
    "## Result of it will be a new empty file\n",
    "> If the file already exist, an error will be raised."
   ]
  }
 ],
 "metadata": {
  "kernelspec": {
   "display_name": "Python 3",
   "language": "python",
   "name": "python3"
  },
  "language_info": {
   "codemirror_mode": {
    "name": "ipython",
    "version": 3
   },
   "file_extension": ".py",
   "mimetype": "text/x-python",
   "name": "python",
   "nbconvert_exporter": "python",
   "pygments_lexer": "ipython3",
   "version": "3.11.4"
  }
 },
 "nbformat": 4,
 "nbformat_minor": 5
}
