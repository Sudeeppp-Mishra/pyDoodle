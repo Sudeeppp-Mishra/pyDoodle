{
 "cells": [
  {
   "cell_type": "markdown",
   "id": "c0a34778",
   "metadata": {},
   "source": [
    "## Python File Open\n",
    "\n",
    "File handling is an important part of any web appliction.\n",
    "\n",
    "Python has several functions for creating, reading, updating, and deleting files.\n",
    "\n",
    "---\n",
    "\n",
    "## File Handling\n",
    "\n",
    "The key funciton for working with files in Python is the `open()` function.\n",
    "\n",
    "The `open()` function takes two parameters; *filename*, and *mode*.\n",
    "\n",
    "There are four different methods (modes) of opening a file:\n",
    "\n",
    "- `\"r\"` - Read - Default value. Opens a file for reading, error if the file does not exist\n",
    "- `\"a\"` - Append - Opens a file for appending, creates the file if it does not exist\n",
    "- `\"w\"` - Write - Opens a file for writing, creates the file if it does not exist\n",
    "\n",
    "In addition you can specify if the file should be handled as binary or text mode\n",
    "\n",
    "- `\"t\"` - Text - Default value. Text mode\n",
    "- `\"b\"` - Binary - Binary mode (e.g. images)\n",
    "\n",
    "---\n",
    "\n",
    "## Syntax\n",
    "\n",
    "To open a file for reading it is enough to specify the name of the file:\n",
    "\n",
    "```python\n",
    "f = open(\"demofile.txt\")\n",
    "\n",
    "The code above is same as:\n",
    "\n",
    "f = open(\"demofile.txt\", \"rt\")\n",
    "```\n",
    "Because `r` for read, the `t` for text are the default values, you do not need to specify them."
   ]
  },
  {
   "cell_type": "code",
   "execution_count": 8,
   "id": "363f70df",
   "metadata": {},
   "outputs": [
    {
     "ename": "FileNotFoundError",
     "evalue": "[Errno 2] No such file or directory: 'demofile.txt'",
     "output_type": "error",
     "traceback": [
      "\u001b[31m---------------------------------------------------------------------------\u001b[39m",
      "\u001b[31mFileNotFoundError\u001b[39m                         Traceback (most recent call last)",
      "\u001b[36mCell\u001b[39m\u001b[36m \u001b[39m\u001b[32mIn[8]\u001b[39m\u001b[32m, line 1\u001b[39m\n\u001b[32m----> \u001b[39m\u001b[32m1\u001b[39m f = \u001b[38;5;28;43mopen\u001b[39;49m\u001b[43m(\u001b[49m\u001b[33;43m\"\u001b[39;49m\u001b[33;43mdemofile.txt\u001b[39;49m\u001b[33;43m\"\u001b[39;49m\u001b[43m)\u001b[49m\n",
      "\u001b[36mFile \u001b[39m\u001b[32m~/Library/Python/3.11/lib/python/site-packages/IPython/core/interactiveshell.py:327\u001b[39m, in \u001b[36m_modified_open\u001b[39m\u001b[34m(file, *args, **kwargs)\u001b[39m\n\u001b[32m    320\u001b[39m \u001b[38;5;28;01mif\u001b[39;00m file \u001b[38;5;129;01min\u001b[39;00m {\u001b[32m0\u001b[39m, \u001b[32m1\u001b[39m, \u001b[32m2\u001b[39m}:\n\u001b[32m    321\u001b[39m     \u001b[38;5;28;01mraise\u001b[39;00m \u001b[38;5;167;01mValueError\u001b[39;00m(\n\u001b[32m    322\u001b[39m         \u001b[33mf\u001b[39m\u001b[33m\"\u001b[39m\u001b[33mIPython won\u001b[39m\u001b[33m'\u001b[39m\u001b[33mt let you open fd=\u001b[39m\u001b[38;5;132;01m{\u001b[39;00mfile\u001b[38;5;132;01m}\u001b[39;00m\u001b[33m by default \u001b[39m\u001b[33m\"\u001b[39m\n\u001b[32m    323\u001b[39m         \u001b[33m\"\u001b[39m\u001b[33mas it is likely to crash IPython. If you know what you are doing, \u001b[39m\u001b[33m\"\u001b[39m\n\u001b[32m    324\u001b[39m         \u001b[33m\"\u001b[39m\u001b[33myou can use builtins\u001b[39m\u001b[33m'\u001b[39m\u001b[33m open.\u001b[39m\u001b[33m\"\u001b[39m\n\u001b[32m    325\u001b[39m     )\n\u001b[32m--> \u001b[39m\u001b[32m327\u001b[39m \u001b[38;5;28;01mreturn\u001b[39;00m \u001b[43mio_open\u001b[49m\u001b[43m(\u001b[49m\u001b[43mfile\u001b[49m\u001b[43m,\u001b[49m\u001b[43m \u001b[49m\u001b[43m*\u001b[49m\u001b[43margs\u001b[49m\u001b[43m,\u001b[49m\u001b[43m \u001b[49m\u001b[43m*\u001b[49m\u001b[43m*\u001b[49m\u001b[43mkwargs\u001b[49m\u001b[43m)\u001b[49m\n",
      "\u001b[31mFileNotFoundError\u001b[39m: [Errno 2] No such file or directory: 'demofile.txt'"
     ]
    }
   ],
   "source": [
    "f = open(\"demofile.txt\")"
   ]
  },
  {
   "cell_type": "markdown",
   "id": "ecea2af8",
   "metadata": {},
   "source": [
    ">Note: Make sure the file exists, or else you will get an error in this mode"
   ]
  },
  {
   "cell_type": "code",
   "execution_count": 9,
   "id": "f56592f1",
   "metadata": {},
   "outputs": [],
   "source": [
    "f = open(\"demofile.txt\", \"w\") # it first creates fild named demofile.txt if not exists"
   ]
  },
  {
   "cell_type": "code",
   "execution_count": 10,
   "id": "95a0a580",
   "metadata": {},
   "outputs": [],
   "source": [
    "f = open(\"demofile.txt\") # now it won't show error cuz now demofile.txt exists"
   ]
  }
 ],
 "metadata": {
  "kernelspec": {
   "display_name": "Python 3",
   "language": "python",
   "name": "python3"
  },
  "language_info": {
   "codemirror_mode": {
    "name": "ipython",
    "version": 3
   },
   "file_extension": ".py",
   "mimetype": "text/x-python",
   "name": "python",
   "nbconvert_exporter": "python",
   "pygments_lexer": "ipython3",
   "version": "3.11.4"
  }
 },
 "nbformat": 4,
 "nbformat_minor": 5
}
