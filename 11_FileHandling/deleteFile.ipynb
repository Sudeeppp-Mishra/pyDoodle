{
 "cells": [
  {
   "cell_type": "markdown",
   "id": "a562ab84",
   "metadata": {},
   "source": [
    "## Delete a File\n",
    "\n",
    "To delete a file, you must import the OS moudel, and run its `os.remove()` function."
   ]
  },
  {
   "cell_type": "code",
   "execution_count": 1,
   "id": "15d46b8e",
   "metadata": {},
   "outputs": [],
   "source": [
    "import os\n",
    "\n",
    "os.remove(\"newfile.txt\")"
   ]
  },
  {
   "cell_type": "markdown",
   "id": "4ce19d38",
   "metadata": {},
   "source": [
    "## Check if File exist\n",
    "\n",
    "to avoid getting an error, you might want to check if the file exists before you try to delete it:"
   ]
  },
  {
   "cell_type": "code",
   "execution_count": 2,
   "id": "585a3eaf",
   "metadata": {},
   "outputs": [
    {
     "name": "stdout",
     "output_type": "stream",
     "text": [
      "The file does not exist\n"
     ]
    }
   ],
   "source": [
    "import os\n",
    "\n",
    "if os.path.exists(\"newfile.txt\"):\n",
    "    os.remove(\"newfile.txt\")\n",
    "else:\n",
    "    print(\"The file does not exist\")"
   ]
  },
  {
   "cell_type": "markdown",
   "id": "ab9d1e05",
   "metadata": {},
   "source": [
    "## Delete Folder\n",
    "\n",
    "To delete an entire folder, use teh os.rmdir() method:"
   ]
  },
  {
   "cell_type": "code",
   "execution_count": 4,
   "id": "a06d3c7f",
   "metadata": {},
   "outputs": [],
   "source": [
    "import os\n",
    "\n",
    "os.rmdir(\"myfolder\") # removes myfolder named folder"
   ]
  },
  {
   "cell_type": "markdown",
   "id": "09a77336",
   "metadata": {},
   "source": [
    "> Note: You can oly remove empty folders..."
   ]
  }
 ],
 "metadata": {
  "kernelspec": {
   "display_name": "Python 3",
   "language": "python",
   "name": "python3"
  },
  "language_info": {
   "codemirror_mode": {
    "name": "ipython",
    "version": 3
   },
   "file_extension": ".py",
   "mimetype": "text/x-python",
   "name": "python",
   "nbconvert_exporter": "python",
   "pygments_lexer": "ipython3",
   "version": "3.11.4"
  }
 },
 "nbformat": 4,
 "nbformat_minor": 5
}
