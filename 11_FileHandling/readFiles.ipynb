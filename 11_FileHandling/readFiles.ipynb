{
 "cells": [
  {
   "cell_type": "markdown",
   "id": "70e2f9dd",
   "metadata": {},
   "source": [
    "## Open a File on the Server\n",
    "\n",
    "Assume we have the follwing file, located in the same folder where our python file is:\n",
    "\n",
    "`test.txt`\n",
    "```text\n",
    "Hello! Wecome to this file\n",
    "This file is for testing purpose\n",
    "Good luck!\n",
    "```\n",
    "\n",
    "To open teh file, use the built-in `open()` function.\n",
    "\n",
    "The `open()` function returns a file object, which ahs a `read()` method for reading the content of the file."
   ]
  },
  {
   "cell_type": "code",
   "execution_count": 1,
   "id": "0cbfc7d1",
   "metadata": {},
   "outputs": [
    {
     "name": "stdout",
     "output_type": "stream",
     "text": [
      "Hello! Wecome to this file\n",
      "This file is for testing purpose\n",
      "Good luck!\n"
     ]
    }
   ],
   "source": [
    "f = open(\"test.txt\")\n",
    "print(f.read())"
   ]
  },
  {
   "cell_type": "markdown",
   "id": "dc1a7602",
   "metadata": {},
   "source": [
    "If the file is located in a different location, you will have to specify the file path, like this:\n",
    "\n",
    "```python\n",
    "\n",
    "f = open(\"D:\\\\myfiles\\welcome.txt\")\n",
    "print(f.read())\n",
    "\n",
    "```\n",
    "\n",
    "## Using the `with` statement\n",
    "\n",
    "We can also use the `with` statement when opening a file."
   ]
  },
  {
   "cell_type": "code",
   "execution_count": 2,
   "id": "84636d3b",
   "metadata": {},
   "outputs": [
    {
     "name": "stdout",
     "output_type": "stream",
     "text": [
      "Hello! Wecome to this file\n",
      "This file is for testing purpose\n",
      "Good luck!\n"
     ]
    }
   ],
   "source": [
    "with open(\"test.txt\") as f:\n",
    "    print(f.read())"
   ]
  },
  {
   "cell_type": "markdown",
   "id": "ff8a7e2e",
   "metadata": {},
   "source": [
    "Then you do not have to worry about closing your files, the `with` statement takes care of that."
   ]
  },
  {
   "cell_type": "markdown",
   "id": "534514cb",
   "metadata": {},
   "source": [
    "## Close Files\n",
    "\n",
    "It is a good practice to always close the file when you are done with it.\n",
    "\n",
    "If you are not using the `with` statement, you must write a close statement in order to close the file."
   ]
  },
  {
   "cell_type": "code",
   "execution_count": 4,
   "id": "2ca4ceb1",
   "metadata": {},
   "outputs": [
    {
     "name": "stdout",
     "output_type": "stream",
     "text": [
      "Hello! Wecome to this file\n",
      "\n"
     ]
    }
   ],
   "source": [
    "f = open(\"test.txt\")\n",
    "print(f.readline())\n",
    "f.close()"
   ]
  },
  {
   "cell_type": "markdown",
   "id": "0586d310",
   "metadata": {},
   "source": [
    "> Note: YOu should always close your files. IN some cases, due to buffering, changes made to a file may not show until you close the file."
   ]
  },
  {
   "cell_type": "markdown",
   "id": "f9bc0d15",
   "metadata": {},
   "source": [
    "## Read Only Parts of the File\n",
    "\n",
    "By default the `read()` method returns the whole text, but you can also specify how many characters you want to retun:"
   ]
  },
  {
   "cell_type": "code",
   "execution_count": 5,
   "id": "8c70cdf3",
   "metadata": {},
   "outputs": [
    {
     "name": "stdout",
     "output_type": "stream",
     "text": [
      "Hello\n"
     ]
    }
   ],
   "source": [
    "with open(\"test.txt\") as f:\n",
    "    print(f.read(5)) # read 5 first characters"
   ]
  },
  {
   "cell_type": "markdown",
   "id": "8881011a",
   "metadata": {},
   "source": [
    "## Read Lines\n",
    "\n",
    "You can return one line by using the `readline()` method."
   ]
  },
  {
   "cell_type": "code",
   "execution_count": 6,
   "id": "af713bdf",
   "metadata": {},
   "outputs": [
    {
     "name": "stdout",
     "output_type": "stream",
     "text": [
      "Hello! Wecome to this file\n",
      "\n"
     ]
    }
   ],
   "source": [
    "with open(\"test.txt\") as f:\n",
    "    print(f.readline())"
   ]
  },
  {
   "cell_type": "markdown",
   "id": "e5a98fd0",
   "metadata": {},
   "source": [
    "By calling `readling()` two times, you can read the two first lines:"
   ]
  },
  {
   "cell_type": "code",
   "execution_count": 8,
   "id": "d6787104",
   "metadata": {},
   "outputs": [
    {
     "name": "stdout",
     "output_type": "stream",
     "text": [
      "Hello! Wecome to this file\n",
      "\n",
      "This file is for testing purpose\n",
      "\n"
     ]
    }
   ],
   "source": [
    "with open(\"test.txt\") as f:\n",
    "    print(f.readline())\n",
    "    print(f.readline())"
   ]
  },
  {
   "cell_type": "markdown",
   "id": "a9fb8eb6",
   "metadata": {},
   "source": [
    "By looping through the lines of the file, you can read the whole file, line by line:"
   ]
  },
  {
   "cell_type": "code",
   "execution_count": 9,
   "id": "7e71509c",
   "metadata": {},
   "outputs": [
    {
     "name": "stdout",
     "output_type": "stream",
     "text": [
      "Hello! Wecome to this file\n",
      "\n",
      "This file is for testing purpose\n",
      "\n",
      "Good luck!\n"
     ]
    }
   ],
   "source": [
    "with open(\"test.txt\") as f:\n",
    "    for x in f:\n",
    "        print(x)"
   ]
  }
 ],
 "metadata": {
  "kernelspec": {
   "display_name": "Python 3",
   "language": "python",
   "name": "python3"
  },
  "language_info": {
   "codemirror_mode": {
    "name": "ipython",
    "version": 3
   },
   "file_extension": ".py",
   "mimetype": "text/x-python",
   "name": "python",
   "nbconvert_exporter": "python",
   "pygments_lexer": "ipython3",
   "version": "3.11.4"
  }
 },
 "nbformat": 4,
 "nbformat_minor": 5
}
