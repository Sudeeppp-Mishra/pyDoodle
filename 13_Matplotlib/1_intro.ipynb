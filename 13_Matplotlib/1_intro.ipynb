{
 "cells": [
  {
   "cell_type": "markdown",
   "id": "1380cffa",
   "metadata": {},
   "source": [
    "<img src = \"img.png\" alt=\"line\" width=\"400\">"
   ]
  },
  {
   "cell_type": "markdown",
   "id": "b8ef7b37",
   "metadata": {},
   "source": [
    "## What is Matplotlib?\n",
    "\n",
    "Matplotlib is a low level graph plotting library in python that serves as a visualization utility.\n",
    "\n",
    "Matplotlib was created by John D. Hunter.\n",
    "\n",
    "Matplotlib is open source and we can use it freely.\n",
    "\n",
    "Matplotlib is mostly written in python, a few segments are written in C, Objective-C and Javascript for Platoform compatibility.\n",
    "\n",
    "---\n",
    "\n",
    "Where is the Matplotlib Codebase?\n",
    "\n",
    "The src code for Matplotlib is located at this github repo <https://github.com/matplotlib/matplotlib>"
   ]
  }
 ],
 "metadata": {
  "language_info": {
   "name": "python"
  }
 },
 "nbformat": 4,
 "nbformat_minor": 5
}
