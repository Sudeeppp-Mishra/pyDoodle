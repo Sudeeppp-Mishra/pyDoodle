{
 "cells": [
  {
   "cell_type": "markdown",
   "id": "6242b33b",
   "metadata": {},
   "source": [
    "# Python Modules\n"
   ]
  },
  {
   "cell_type": "markdown",
   "id": "a514b336",
   "metadata": {},
   "source": [
    "## What is a Module?\n",
    "\n",
    "Conside a module to be the same as a code library.\n",
    "\n",
    "A file containing a set of functions you want to include in your application."
   ]
  },
  {
   "cell_type": "markdown",
   "id": "9452f7dd",
   "metadata": {},
   "source": [
    "## Create a Module\n",
    "\n",
    "To create a module just save the code u want in a file with the file extension `.py`:\n",
    "\n",
    "Eg:\n",
    "`mymodule.py`\n",
    "\n",
    "```python\n",
    "def greeting(name):\n",
    "    print(\"Hello, \"+name)"
   ]
  },
  {
   "cell_type": "markdown",
   "id": "cbd919c7",
   "metadata": {},
   "source": [
    "## Use a Module\n",
    "\n",
    "Now we can use the module we just created, by using the `import` statement:"
   ]
  },
  {
   "cell_type": "code",
   "execution_count": 1,
   "id": "189fbcca",
   "metadata": {},
   "outputs": [
    {
     "name": "stdout",
     "output_type": "stream",
     "text": [
      "Hello, Ram\n"
     ]
    }
   ],
   "source": [
    "import mymodule\n",
    "\n",
    "mymodule.greeting(\"Ram\")"
   ]
  },
  {
   "cell_type": "markdown",
   "id": "3fbd997b",
   "metadata": {},
   "source": [
    ">Note: When using a function from a module, use the syntax: *module_name.function_name*."
   ]
  },
  {
   "cell_type": "markdown",
   "id": "593bb845",
   "metadata": {},
   "source": [
    "## Variables in Module\n",
    "\n",
    "The moudle can contain functions, as already described, but also variables of all types (arrays, dictionaries, objects etc):\n",
    "\n",
    "eg:\n",
    "`mymodule1.py`\n",
    "\n",
    "```python\n",
    "person1 = {\n",
    "    \"name\": \"Ram\",\n",
    "    \"Age\": 18\n",
    "}"
   ]
  },
  {
   "cell_type": "code",
   "execution_count": 2,
   "id": "beca4c20",
   "metadata": {},
   "outputs": [
    {
     "name": "stdout",
     "output_type": "stream",
     "text": [
      "18\n"
     ]
    }
   ],
   "source": [
    "import mymodule1\n",
    "\n",
    "a = mymodule1.person1[\"age\"]\n",
    "print(a)"
   ]
  },
  {
   "cell_type": "markdown",
   "id": "036986ba",
   "metadata": {},
   "source": [
    "## Naming a Module\n",
    "\n",
    "You can name the module file whatever you like, but it must have the file extension `.py`\n",
    "\n",
    "## Re-nameing a Module\n",
    "\n",
    "We can create an alias when we import a module, by using the `as` keyword:"
   ]
  },
  {
   "cell_type": "code",
   "execution_count": 3,
   "id": "42dcefd0",
   "metadata": {},
   "outputs": [
    {
     "name": "stdout",
     "output_type": "stream",
     "text": [
      "Ram\n"
     ]
    }
   ],
   "source": [
    "import mymodule1 as mx\n",
    "\n",
    "a = mx.person1[\"name\"]\n",
    "print(a)"
   ]
  },
  {
   "cell_type": "markdown",
   "id": "414345e5",
   "metadata": {},
   "source": [
    "## Built-in Modules\n",
    "\n",
    "There are several built-in modules in python, which you can import whenver u like.\n",
    "\n",
    "eg:\n",
    "import and use the `platform` module:"
   ]
  },
  {
   "cell_type": "code",
   "execution_count": 4,
   "id": "e0f4d334",
   "metadata": {},
   "outputs": [
    {
     "name": "stdout",
     "output_type": "stream",
     "text": [
      "Darwin\n"
     ]
    }
   ],
   "source": [
    "import platform\n",
    "\n",
    "x = platform.system()\n",
    "print(x)"
   ]
  },
  {
   "cell_type": "markdown",
   "id": "a5bab45a",
   "metadata": {},
   "source": [
    "## Using the dir() function\n",
    "\n",
    "there is a built-in function to list all the funciton names (or variables names) in a module, the `dir()` function:"
   ]
  },
  {
   "cell_type": "code",
   "execution_count": 5,
   "id": "d049db6a",
   "metadata": {},
   "outputs": [
    {
     "name": "stdout",
     "output_type": "stream",
     "text": [
      "['_Processor', '_WIN32_CLIENT_RELEASES', '_WIN32_SERVER_RELEASES', '__builtins__', '__cached__', '__copyright__', '__doc__', '__file__', '__loader__', '__name__', '__package__', '__spec__', '__version__', '_comparable_version', '_component_re', '_default_architecture', '_follow_symlinks', '_get_machine_win32', '_ironpython26_sys_version_parser', '_ironpython_sys_version_parser', '_java_getprop', '_libc_search', '_mac_ver_xml', '_node', '_norm_version', '_os_release_cache', '_os_release_candidates', '_os_release_line', '_os_release_unescape', '_parse_os_release', '_platform', '_platform_cache', '_pypy_sys_version_parser', '_sys_version', '_sys_version_cache', '_sys_version_parser', '_syscmd_file', '_syscmd_ver', '_uname_cache', '_unknown_as_blank', '_ver_output', '_ver_stages', 'architecture', 'collections', 'freedesktop_os_release', 'functools', 'itertools', 'java_ver', 'libc_ver', 'mac_ver', 'machine', 'node', 'os', 'platform', 'processor', 'python_branch', 'python_build', 'python_compiler', 'python_implementation', 'python_revision', 'python_version', 'python_version_tuple', 're', 'release', 'sys', 'system', 'system_alias', 'uname', 'uname_result', 'version', 'win32_edition', 'win32_is_iot', 'win32_ver']\n"
     ]
    }
   ],
   "source": [
    "import platform\n",
    "\n",
    "x = dir(platform)\n",
    "print(x)"
   ]
  },
  {
   "cell_type": "code",
   "execution_count": 8,
   "id": "d29cc29a",
   "metadata": {},
   "outputs": [
    {
     "name": "stdout",
     "output_type": "stream",
     "text": [
      "['__builtins__', '__cached__', '__doc__', '__file__', '__loader__', '__name__', '__package__', '__spec__', 'greeting']\n",
      "\n",
      "['__builtins__', '__cached__', '__doc__', '__file__', '__loader__', '__name__', '__package__', '__spec__', 'person1']\n"
     ]
    }
   ],
   "source": [
    "import mymodule, mymodule1\n",
    "\n",
    "print(dir(mymodule))\n",
    "print(f\"\\n{dir(mymodule1)}\")"
   ]
  },
  {
   "cell_type": "markdown",
   "id": "0dc67d1b",
   "metadata": {},
   "source": [
    ">Note: The `dir()` function can be used on all modules, also the ones you create yourself."
   ]
  },
  {
   "cell_type": "markdown",
   "id": "84c639f4",
   "metadata": {},
   "source": [
    "## Import From Module\n",
    "\n",
    "We can choose to import only parts from a module, by using the `from` keyword.\n",
    "\n",
    "eg:\n",
    "\n",
    "`mymodule2.py`\n",
    "\n",
    "```python\n",
    "def greeting(name):\n",
    "    print(\"Hello, \"+name)\n",
    "\n",
    "person1 = {\n",
    "    \"name\": \"SM\",\n",
    "    \"age\": 19\n",
    "}"
   ]
  },
  {
   "cell_type": "markdown",
   "id": "a457de52",
   "metadata": {},
   "source": [
    "Now just importing greeting() function from the module"
   ]
  },
  {
   "cell_type": "code",
   "execution_count": 9,
   "id": "114bdc4c",
   "metadata": {},
   "outputs": [
    {
     "name": "stdout",
     "output_type": "stream",
     "text": [
      "Hello, Krishna\n"
     ]
    }
   ],
   "source": [
    "from mymodule2 import greeting\n",
    "\n",
    "greeting(\"Krishna\")"
   ]
  },
  {
   "cell_type": "code",
   "execution_count": 10,
   "id": "24574627",
   "metadata": {},
   "outputs": [
    {
     "name": "stdout",
     "output_type": "stream",
     "text": [
      "19\n"
     ]
    }
   ],
   "source": [
    "from mymodule2 import person1\n",
    "\n",
    "print(person1[\"age\"])"
   ]
  },
  {
   "cell_type": "markdown",
   "id": "6a34ecf5",
   "metadata": {},
   "source": [
    ">Note: When importing using the `from` keyword, do not use the module name when referring to elements in the module. Example: `person1[\"age\"]`, not ~~`mymodule.person1[\"age\"]`~~"
   ]
  }
 ],
 "metadata": {
  "kernelspec": {
   "display_name": "Python 3",
   "language": "python",
   "name": "python3"
  },
  "language_info": {
   "codemirror_mode": {
    "name": "ipython",
    "version": 3
   },
   "file_extension": ".py",
   "mimetype": "text/x-python",
   "name": "python",
   "nbconvert_exporter": "python",
   "pygments_lexer": "ipython3",
   "version": "3.11.4"
  }
 },
 "nbformat": 4,
 "nbformat_minor": 5
}
