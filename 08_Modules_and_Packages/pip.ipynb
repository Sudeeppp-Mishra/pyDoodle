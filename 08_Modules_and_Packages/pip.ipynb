{
 "cells": [
  {
   "cell_type": "markdown",
   "id": "5f283deb",
   "metadata": {},
   "source": [
    "# Python PIP\n",
    "\n",
    "## What is PIP?\n",
    "\n",
    "PIP is a package manager for Python packages, or modules if you like.\n",
    "\n",
    "- PIP is the package installer for Python.\n",
    "- It allows you to install, upgrade, and manage Python libraries and packages from the Python Package Index (PyPI).\n",
    "- Using pip, you can add external libraries like requests, numpy, pandas, etc., to your Python environment easily.\n",
    ">Note: If you have Python version 3.4 or later, PIP is included by default.\n",
    "\n",
    "- PIP originally stood for “Pip Installs Packages”.\n",
    "- Sometimes people also say “Pip Installs Python”, but the official meaning is “Pip Installs Packages”.\n",
    "\n",
    "## What is a Package?\n",
    "\n",
    "A package contains all the files you need for a module.\n",
    "\n",
    "Modules are Python code libraries you can include in your project.\n",
    "\n",
    "## Check if PIP is Installed\n",
    "\n",
    "Navigate your command line to a location of Python's script directory and type:\n",
    "\n",
    "`pip --version`"
   ]
  },
  {
   "cell_type": "code",
   "execution_count": 1,
   "id": "ccf728da",
   "metadata": {},
   "outputs": [
    {
     "name": "stdout",
     "output_type": "stream",
     "text": [
      "pip 25.1.1 from /Library/Frameworks/Python.framework/Versions/3.11/lib/python3.11/site-packages/pip (python 3.11)\n",
      "Note: you may need to restart the kernel to use updated packages.\n"
     ]
    }
   ],
   "source": [
    "pip --version"
   ]
  },
  {
   "cell_type": "markdown",
   "id": "754b66d4",
   "metadata": {},
   "source": [
    "## Install PIP\n",
    "\n",
    "If you do not have PIP installed, you can download and install it from this page: \n",
    "<https://pypi.org/project/pip/>"
   ]
  },
  {
   "cell_type": "markdown",
   "id": "af9c4d31",
   "metadata": {},
   "source": [
    "## Download a Package\n",
    "\n",
    "Downloading a package is very easy.\n",
    "\n",
    "Open the command line interface and tell PIP to download the package you want.\n",
    "\n",
    "`pip install camelcase`\n",
    "\n",
    "#### Install a package\n",
    "pip install package_name\n",
    "\n",
    "#### Upgrade a package\n",
    "pip install --upgrade package_name\n",
    "\n",
    "#### Uninstall a package\n",
    "pip uninstall package_name\n",
    "\n",
    "#### Show installed packages\n",
    "pip list\n",
    "\n",
    "\n",
    "## Note for macOS Users: Python & PIP\n",
    "\n",
    "On macOS, Python 2 used to be the default system Python.  \n",
    "When Python 3 is installed, it is accessed using the following commands:\n",
    "\n",
    "- **Python 3 interpreter:** `python3`  \n",
    "- **Python 3 package installer:** `pip3`  \n",
    "\n",
    "> ⚠️ Tip: Always use `python3` and `pip3` on macOS to run scripts and install packages.(if `python` and `pip` didn't work)\n",
    "> Using `python` or `pip` may refer to the older Python 2.x version.\n",
    "\n",
    "### Examples\n",
    "\n",
    "```bash\n",
    "# Run a Python 3 script\n",
    "python3 my_script.py\n",
    "\n",
    "# Install a package for Python 3\n",
    "pip3 install requests\n",
    "```\n",
    ">on Windows and most Linux systems, python and pip usually point to Python 3 if you installed it properly, so you don’t usually need python3 or pip3."
   ]
  },
  {
   "cell_type": "code",
   "execution_count": 3,
   "id": "f952bafa",
   "metadata": {},
   "outputs": [
    {
     "name": "stdout",
     "output_type": "stream",
     "text": [
      "Collecting camelcase\n",
      "  Downloading camelcase-0.2.tar.gz (1.3 kB)\n",
      "  Installing build dependencies ... \u001b[?25ldone\n",
      "\u001b[?25h  Getting requirements to build wheel ... \u001b[?25ldone\n",
      "\u001b[?25h  Preparing metadata (pyproject.toml) ... \u001b[?25ldone\n",
      "\u001b[?25hBuilding wheels for collected packages: camelcase\n",
      "  Building wheel for camelcase (pyproject.toml) ... \u001b[?25ldone\n",
      "\u001b[?25h  Created wheel for camelcase: filename=camelcase-0.2-py3-none-any.whl size=1799 sha256=758bd5566ad52ffb5c8b5b8e5007255c629aef2cb9941172cbd9caf242d28d7b\n",
      "  Stored in directory: /Users/sudeepdemishra/Library/Caches/pip/wheels/9b/03/38/e96c3419390e51c6f282e9793e392eb2996b4059eb6739165b\n",
      "Successfully built camelcase\n",
      "Installing collected packages: camelcase\n",
      "Successfully installed camelcase-0.2\n",
      "\n",
      "\u001b[1m[\u001b[0m\u001b[34;49mnotice\u001b[0m\u001b[1;39;49m]\u001b[0m\u001b[39;49m A new release of pip is available: \u001b[0m\u001b[31;49m25.1.1\u001b[0m\u001b[39;49m -> \u001b[0m\u001b[32;49m25.2\u001b[0m\n",
      "\u001b[1m[\u001b[0m\u001b[34;49mnotice\u001b[0m\u001b[1;39;49m]\u001b[0m\u001b[39;49m To update, run: \u001b[0m\u001b[32;49mpython3 -m pip install --upgrade pip\u001b[0m\n",
      "Note: you may need to restart the kernel to use updated packages.\n"
     ]
    }
   ],
   "source": [
    "pip install camelcase"
   ]
  },
  {
   "cell_type": "markdown",
   "id": "86cbe742",
   "metadata": {},
   "source": [
    "## Using a Package\n",
    "\n",
    "Once the package is installed, it is ready to use.\n",
    "\n",
    "Import the \"camelcase\" package into you project and use it"
   ]
  },
  {
   "cell_type": "code",
   "execution_count": 5,
   "id": "5e67f163",
   "metadata": {},
   "outputs": [
    {
     "name": "stdout",
     "output_type": "stream",
     "text": [
      "Hello World\n"
     ]
    }
   ],
   "source": [
    "import camelcase\n",
    "\n",
    "c = camelcase.CamelCase()\n",
    "\n",
    "txt = \"hello world\"\n",
    "\n",
    "print(c.hump(txt))"
   ]
  },
  {
   "cell_type": "markdown",
   "id": "6523d2cf",
   "metadata": {},
   "source": [
    "## Find Packages\n",
    "\n",
    "Find more packages at <https://pypi.org/>"
   ]
  },
  {
   "cell_type": "markdown",
   "id": "81e0581d",
   "metadata": {},
   "source": [
    "## Remove a Package\n",
    "\n",
    "Use the `uninstall` command to remove a package."
   ]
  },
  {
   "cell_type": "code",
   "execution_count": null,
   "id": "f55f67c4",
   "metadata": {},
   "outputs": [],
   "source": [
    "pip uninstall camelcase"
   ]
  },
  {
   "cell_type": "markdown",
   "id": "c6c2cddf",
   "metadata": {},
   "source": [
    "It will ask for confirmation so press `y` and the package will be removed."
   ]
  },
  {
   "cell_type": "markdown",
   "id": "74ae7a9a",
   "metadata": {},
   "source": [
    "# Using `%` and `!` in Jupyter Notebook and Command Line\n",
    "\n",
    "In Jupyter Notebook, you can run **shell commands** and **magic commands** directly from a notebook cell. Understanding `%` and `!` helps manage packages, run scripts, and execute system commands without leaving the notebook.\n",
    "\n",
    "---\n",
    "\n",
    "## 1. The `!` Symbol\n",
    "\n",
    "- **Purpose in Jupyter Notebook:** Runs **any shell command** as if you are in the terminal/command prompt.  \n",
    "- **Purpose in Terminal/Command Line:** Not needed; you directly type the command.  \n",
    "  - Example: In terminal, you just type `pip install camelcase` (no `!` needed).  \n",
    "\n",
    "- **Usage in Notebook:** Place `!` at the beginning of a cell.\n",
    "\n",
    "### **Examples in Jupyter Notebook**\n",
    "```python\n",
    "# Check Python version\n",
    "!python --version\n",
    "\n",
    "# Check pip version\n",
    "!pip --version\n",
    "\n",
    "# Install a package (Python)\n",
    "!pip install camelcase\n",
    "\n",
    "# Uninstall a package with automatic confirmation\n",
    "!pip uninstall camelcase -y\n",
    "\n",
    "# List files in current directory\n",
    "!ls       # macOS/Linux\n",
    "!dir      # Windows\n",
    "```\n",
    "Notes:\n",
    "-\tCommands are executed in the system shell.\n",
    "-\tInteractive prompts (like pip uninstall) won’t allow typing input, so use -y to confirm automatically.\n",
    "-\tThe ! symbol is specific to Jupyter Notebook and not required in terminal/command line.\n",
    "\n",
    "## 2. The % Symbol (Magic Commands)\n",
    "-\tPurpose: Runs Jupyter “magic commands”, special commands that enhance notebook functionality.\n",
    "-\tUsage: Place % before the command for line magic (single line).\n",
    "-\tFor cell-wide commands, use %% at the top of the cell (cell magic).\n",
    "\n",
    "```python\n",
    "# Install a package using pip (magic command)\n",
    "%pip install camelcase\n",
    "\n",
    "# Uninstall a package using pip (magic command)\n",
    "%pip uninstall camelcase -y\n",
    "\n",
    "# List all installed packages\n",
    "%pip list\n",
    "\n",
    "# Time execution of a single line\n",
    "%time sum(range(1000000))\n",
    "\n",
    "# Time execution of entire cell\n",
    "%%time\n",
    "total = 0\n",
    "for i in range(1000000):\n",
    "    total += i\n",
    "```\n",
    "Notes:\n",
    "-\t%pip ensures the package is installed in the same Python environment as the notebook.\n",
    "-\tPreferred over !pip in Jupyter notebooks.\n",
    "\n",
    "## 3. Key Differences\n",
    "\n",
    "| Symbol | Purpose | Where Used | Notes |\n",
    "|--------|---------|------------|-------|\n",
    "| `!` | Run system shell commands | Jupyter Notebook | Works like terminal; interactive prompts may not work in notebook |\n",
    "| `%` | Run Jupyter magic commands | Jupyter Notebook | Designed for notebook; `%pip` installs in notebook's Python environment |\n",
    "| None (`pip`) | Run system shell commands | Terminal / Command Line | No `!` needed here; works normally |\n",
    "\n",
    "---\n",
    "\n",
    "## 4. Tips for Installing/Uninstalling Packages in Notebook\n",
    "\n",
    "- Always use `!pip` or `%pip` in notebook cells.  \n",
    "- Use `-y` with uninstall to avoid interactive confirmation issues:\n",
    "```python\n",
    "!pip uninstall camelcase -y\n",
    "%pip uninstall camelcase -y"
   ]
  },
  {
   "cell_type": "code",
   "execution_count": null,
   "id": "15fdd5ba",
   "metadata": {},
   "outputs": [
    {
     "name": "stdout",
     "output_type": "stream",
     "text": [
      "Found existing installation: camelcase 0.2\n",
      "Uninstalling camelcase-0.2:\n",
      "  Successfully uninstalled camelcase-0.2\n"
     ]
    }
   ],
   "source": [
    "!pip3 uninstall camelcase -y # since I'm on macOS and while using ! it will be on the command line and I have to use pip3"
   ]
  },
  {
   "cell_type": "code",
   "execution_count": null,
   "id": "40f32aa0",
   "metadata": {},
   "outputs": [
    {
     "name": "stdout",
     "output_type": "stream",
     "text": [
      "\u001b[33mWARNING: Skipping camelcase as it is not installed.\u001b[0m\u001b[33m\n",
      "\u001b[0mNote: you may need to restart the kernel to use updated packages.\n"
     ]
    }
   ],
   "source": [
    "%pip uninstall camelcase -y # % runs command on jupyter notebook hence I don't have to use pip3"
   ]
  },
  {
   "cell_type": "markdown",
   "id": "2cf17082",
   "metadata": {},
   "source": [
    "## List Packages\n",
    "\n",
    "Use the `list` command to list all the packages on you system.:"
   ]
  },
  {
   "cell_type": "code",
   "execution_count": null,
   "id": "9126df7c",
   "metadata": {},
   "outputs": [
    {
     "name": "stdout",
     "output_type": "stream",
     "text": [
      "Package                 Version\n",
      "----------------------- -----------\n",
      "appnope                 0.1.4\n",
      "asttokens               3.0.0\n",
      "blinker                 1.9.0\n",
      "certifi                 2025.6.15\n",
      "charset-normalizer      3.4.2\n",
      "click                   8.1.8\n",
      "comm                    0.2.2\n",
      "contourpy               1.3.2\n",
      "cycler                  0.12.1\n",
      "debugpy                 1.8.14\n",
      "decorator               5.2.1\n",
      "executing               2.2.0\n",
      "Flask                   3.1.0\n",
      "fonttools               4.58.4\n",
      "idna                    3.10\n",
      "imageio                 2.37.0\n",
      "ipykernel               6.29.5\n",
      "ipython                 9.3.0\n",
      "ipython_pygments_lexers 1.1.1\n",
      "itsdangerous            2.2.0\n",
      "jedi                    0.19.2\n",
      "Jinja2                  3.1.5\n",
      "jupyter_client          8.6.3\n",
      "jupyter_core            5.8.1\n",
      "kiwisolver              1.4.8\n",
      "lazy_loader             0.4\n",
      "MarkupSafe              3.0.2\n",
      "matplotlib              3.10.3\n",
      "matplotlib-inline       0.1.7\n",
      "nest-asyncio            1.6.0\n",
      "networkx                3.5\n",
      "numpy                   2.3.0\n",
      "packaging               25.0\n",
      "pandas                  2.3.0\n",
      "parso                   0.8.4\n",
      "pexpect                 4.9.0\n",
      "pillow                  11.2.1\n",
      "pip                     25.1.1\n",
      "platformdirs            4.3.8\n",
      "prompt_toolkit          3.0.51\n",
      "psutil                  7.0.0\n",
      "ptyprocess              0.7.0\n",
      "pure_eval               0.2.3\n",
      "Pygments                2.19.1\n",
      "pyparsing               3.2.3\n",
      "python-dateutil         2.9.0.post0\n",
      "pytz                    2025.2\n",
      "pyzmq                   27.0.0\n",
      "qrcode                  8.2\n",
      "requests                2.32.4\n",
      "scikit-image            0.25.2\n",
      "scipy                   1.15.3\n",
      "setuptools              65.5.0\n",
      "six                     1.17.0\n",
      "stack-data              0.6.3\n",
      "tifffile                2025.6.11\n",
      "tornado                 6.5.1\n",
      "traitlets               5.14.3\n",
      "typing_extensions       4.14.0\n",
      "tzdata                  2025.2\n",
      "urllib3                 2.5.0\n",
      "wcwidth                 0.2.13\n",
      "Werkzeug                3.1.3\n",
      "Note: you may need to restart the kernel to use updated packages.\n"
     ]
    }
   ],
   "source": [
    "pip list # lists all packages intalled int he Python environment that the current notebook kernel is using"
   ]
  },
  {
   "cell_type": "code",
   "execution_count": null,
   "id": "969521ab",
   "metadata": {},
   "outputs": [
    {
     "name": "stdout",
     "output_type": "stream",
     "text": [
      "Package                 Version\n",
      "----------------------- -----------\n",
      "appnope                 0.1.4\n",
      "asttokens               3.0.0\n",
      "blinker                 1.9.0\n",
      "certifi                 2025.6.15\n",
      "charset-normalizer      3.4.2\n",
      "click                   8.1.8\n",
      "comm                    0.2.2\n",
      "contourpy               1.3.2\n",
      "cycler                  0.12.1\n",
      "debugpy                 1.8.14\n",
      "decorator               5.2.1\n",
      "executing               2.2.0\n",
      "Flask                   3.1.0\n",
      "fonttools               4.58.4\n",
      "idna                    3.10\n",
      "imageio                 2.37.0\n",
      "ipykernel               6.29.5\n",
      "ipython                 9.3.0\n",
      "ipython_pygments_lexers 1.1.1\n",
      "itsdangerous            2.2.0\n",
      "jedi                    0.19.2\n",
      "Jinja2                  3.1.5\n",
      "jupyter_client          8.6.3\n",
      "jupyter_core            5.8.1\n",
      "kiwisolver              1.4.8\n",
      "lazy_loader             0.4\n",
      "MarkupSafe              3.0.2\n",
      "matplotlib              3.10.3\n",
      "matplotlib-inline       0.1.7\n",
      "nest-asyncio            1.6.0\n",
      "networkx                3.5\n",
      "numpy                   2.3.0\n",
      "packaging               25.0\n",
      "pandas                  2.3.0\n",
      "parso                   0.8.4\n",
      "pexpect                 4.9.0\n",
      "pillow                  11.2.1\n",
      "pip                     25.1.1\n",
      "platformdirs            4.3.8\n",
      "prompt_toolkit          3.0.51\n",
      "psutil                  7.0.0\n",
      "ptyprocess              0.7.0\n",
      "pure_eval               0.2.3\n",
      "Pygments                2.19.1\n",
      "pyparsing               3.2.3\n",
      "python-dateutil         2.9.0.post0\n",
      "pytz                    2025.2\n",
      "pyzmq                   27.0.0\n",
      "qrcode                  8.2\n",
      "requests                2.32.4\n",
      "scikit-image            0.25.2\n",
      "scipy                   1.15.3\n",
      "setuptools              65.5.0\n",
      "six                     1.17.0\n",
      "stack-data              0.6.3\n",
      "tifffile                2025.6.11\n",
      "tornado                 6.5.1\n",
      "traitlets               5.14.3\n",
      "typing_extensions       4.14.0\n",
      "tzdata                  2025.2\n",
      "urllib3                 2.5.0\n",
      "wcwidth                 0.2.13\n",
      "Werkzeug                3.1.3\n"
     ]
    }
   ],
   "source": [
    "# Points to Python 3 installed on the system (your Mac’s Python 3 environment)\n",
    "!pip3 list # run shell commands from the notebook"
   ]
  },
  {
   "cell_type": "code",
   "execution_count": 13,
   "id": "f6c3ca8c",
   "metadata": {},
   "outputs": [
    {
     "name": "stdout",
     "output_type": "stream",
     "text": [
      "Package                 Version\n",
      "----------------------- -----------\n",
      "appnope                 0.1.4\n",
      "asttokens               3.0.0\n",
      "blinker                 1.9.0\n",
      "certifi                 2025.6.15\n",
      "charset-normalizer      3.4.2\n",
      "click                   8.1.8\n",
      "comm                    0.2.2\n",
      "contourpy               1.3.2\n",
      "cycler                  0.12.1\n",
      "debugpy                 1.8.14\n",
      "decorator               5.2.1\n",
      "executing               2.2.0\n",
      "Flask                   3.1.0\n",
      "fonttools               4.58.4\n",
      "idna                    3.10\n",
      "imageio                 2.37.0\n",
      "ipykernel               6.29.5\n",
      "ipython                 9.3.0\n",
      "ipython_pygments_lexers 1.1.1\n",
      "itsdangerous            2.2.0\n",
      "jedi                    0.19.2\n",
      "Jinja2                  3.1.5\n",
      "jupyter_client          8.6.3\n",
      "jupyter_core            5.8.1\n",
      "kiwisolver              1.4.8\n",
      "lazy_loader             0.4\n",
      "MarkupSafe              3.0.2\n",
      "matplotlib              3.10.3\n",
      "matplotlib-inline       0.1.7\n",
      "nest-asyncio            1.6.0\n",
      "networkx                3.5\n",
      "numpy                   2.3.0\n",
      "packaging               25.0\n",
      "pandas                  2.3.0\n",
      "parso                   0.8.4\n",
      "pexpect                 4.9.0\n",
      "pillow                  11.2.1\n",
      "pip                     25.1.1\n",
      "platformdirs            4.3.8\n",
      "prompt_toolkit          3.0.51\n",
      "psutil                  7.0.0\n",
      "ptyprocess              0.7.0\n",
      "pure_eval               0.2.3\n",
      "Pygments                2.19.1\n",
      "pyparsing               3.2.3\n",
      "python-dateutil         2.9.0.post0\n",
      "pytz                    2025.2\n",
      "pyzmq                   27.0.0\n",
      "qrcode                  8.2\n",
      "requests                2.32.4\n",
      "scikit-image            0.25.2\n",
      "scipy                   1.15.3\n",
      "setuptools              65.5.0\n",
      "six                     1.17.0\n",
      "stack-data              0.6.3\n",
      "tifffile                2025.6.11\n",
      "tornado                 6.5.1\n",
      "traitlets               5.14.3\n",
      "typing_extensions       4.14.0\n",
      "tzdata                  2025.2\n",
      "urllib3                 2.5.0\n",
      "wcwidth                 0.2.13\n",
      "Werkzeug                3.1.3\n",
      "Note: you may need to restart the kernel to use updated packages.\n"
     ]
    }
   ],
   "source": [
    "%pip list"
   ]
  },
  {
   "cell_type": "markdown",
   "id": "5fc68c8d",
   "metadata": {},
   "source": [
    "-\t%pip → always safe for notebooks. Shows what the notebook can use.\n",
    "-\t!pip3 → shows system-wide packages, may not reflect the notebook environment."
   ]
  },
  {
   "cell_type": "code",
   "execution_count": null,
   "id": "9f07e93d",
   "metadata": {},
   "outputs": [],
   "source": []
  }
 ],
 "metadata": {
  "kernelspec": {
   "display_name": "Python 3",
   "language": "python",
   "name": "python3"
  },
  "language_info": {
   "codemirror_mode": {
    "name": "ipython",
    "version": 3
   },
   "file_extension": ".py",
   "mimetype": "text/x-python",
   "name": "python",
   "nbconvert_exporter": "python",
   "pygments_lexer": "ipython3",
   "version": "3.11.4"
  }
 },
 "nbformat": 4,
 "nbformat_minor": 5
}
