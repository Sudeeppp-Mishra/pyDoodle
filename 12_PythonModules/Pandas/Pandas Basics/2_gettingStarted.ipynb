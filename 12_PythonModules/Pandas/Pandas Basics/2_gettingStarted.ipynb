{
 "cells": [
  {
   "cell_type": "markdown",
   "id": "69f8d09c",
   "metadata": {},
   "source": [
    "## Installation of Pandas\n",
    "\n",
    "If you have Python and PIP already installed on a system, them installation of Pandas is very easy.\n",
    "\n",
    "`pip install pandas`\n",
    "\n",
    "If this command fails, then use a python distribution that already has Pandas installed like, Anaconda, Spyder etc."
   ]
  },
  {
   "cell_type": "code",
   "execution_count": null,
   "id": "d92189cb",
   "metadata": {},
   "outputs": [
    {
     "name": "stdout",
     "output_type": "stream",
     "text": [
      "Requirement already satisfied: pandas in /Library/Frameworks/Python.framework/Versions/3.11/lib/python3.11/site-packages (2.3.0)\n",
      "Requirement already satisfied: numpy>=1.23.2 in /Library/Frameworks/Python.framework/Versions/3.11/lib/python3.11/site-packages (from pandas) (2.3.0)\n",
      "Requirement already satisfied: python-dateutil>=2.8.2 in /Users/sudeepdemishra/Library/Python/3.11/lib/python/site-packages (from pandas) (2.9.0.post0)\n",
      "Requirement already satisfied: pytz>=2020.1 in /Library/Frameworks/Python.framework/Versions/3.11/lib/python3.11/site-packages (from pandas) (2025.2)\n",
      "Requirement already satisfied: tzdata>=2022.7 in /Library/Frameworks/Python.framework/Versions/3.11/lib/python3.11/site-packages (from pandas) (2025.2)\n",
      "Requirement already satisfied: six>=1.5 in /Users/sudeepdemishra/Library/Python/3.11/lib/python/site-packages (from python-dateutil>=2.8.2->pandas) (1.17.0)\n",
      "Note: you may need to restart the kernel to use updated packages.\n"
     ]
    }
   ],
   "source": [
    "%pip install pandas # I already have pandas so it will just show requirement already satisfied"
   ]
  },
  {
   "cell_type": "markdown",
   "id": "3359300f",
   "metadata": {},
   "source": [
    "## Import Pandas\n",
    "\n",
    "then you can use it"
   ]
  },
  {
   "cell_type": "code",
   "execution_count": 2,
   "id": "d730e76c",
   "metadata": {},
   "outputs": [
    {
     "name": "stdout",
     "output_type": "stream",
     "text": [
      "       cars  passings\n",
      "0       BMW         3\n",
      "1    Toyota         5\n",
      "2  Mercedes         7\n"
     ]
    }
   ],
   "source": [
    "import pandas\n",
    "\n",
    "mydataset = {\n",
    "    'cars': [\"BMW\", \"Toyota\", \"Mercedes\"],\n",
    "    'passings': [3, 5, 7]\n",
    "}\n",
    "\n",
    "myvar = pandas.DataFrame(mydataset)\n",
    "\n",
    "print(myvar)"
   ]
  },
  {
   "cell_type": "markdown",
   "id": "7c49a1c2",
   "metadata": {},
   "source": [
    "## Pandas as pd\n",
    "\n",
    "Pandas is usually imported under the `pd` alias.\n",
    "\n",
    "> **alias**: In Python alias are an alternative name for referring to the same thing.\n",
    "\n",
    "## Checking Pandas Version\n",
    "\n",
    "the version string is stored under `__version__` attribute."
   ]
  },
  {
   "cell_type": "code",
   "execution_count": 3,
   "id": "1366ba2e",
   "metadata": {},
   "outputs": [
    {
     "name": "stdout",
     "output_type": "stream",
     "text": [
      "2.3.0\n"
     ]
    }
   ],
   "source": [
    "import pandas as pd\n",
    "\n",
    "print(pd.__version__)"
   ]
  }
 ],
 "metadata": {
  "kernelspec": {
   "display_name": "Python 3",
   "language": "python",
   "name": "python3"
  },
  "language_info": {
   "codemirror_mode": {
    "name": "ipython",
    "version": 3
   },
   "file_extension": ".py",
   "mimetype": "text/x-python",
   "name": "python",
   "nbconvert_exporter": "python",
   "pygments_lexer": "ipython3",
   "version": "3.11.4"
  }
 },
 "nbformat": 4,
 "nbformat_minor": 5
}
