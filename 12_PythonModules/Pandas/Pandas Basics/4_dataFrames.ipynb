{
 "cells": [
  {
   "cell_type": "markdown",
   "id": "1522229c",
   "metadata": {},
   "source": [
    "# Pandas DataFrames\n",
    "\n",
    "## What is a DataFrame?\n",
    "\n",
    "A Pandas DataFrame is a 2 dimensional data structure, like a 2 dimensional array, or a table with rows and columns.\n",
    "\n",
    "Eg: Create a simple Pandas DataFrame:"
   ]
  },
  {
   "cell_type": "code",
   "execution_count": 1,
   "id": "4d7145be",
   "metadata": {},
   "outputs": [
    {
     "name": "stdout",
     "output_type": "stream",
     "text": [
      "   calories  duration\n",
      "0       320        20\n",
      "1       400        30\n",
      "2       200        50\n"
     ]
    }
   ],
   "source": [
    "import pandas as pd\n",
    "\n",
    "data = {\n",
    "    'calories': [320, 400, 200],\n",
    "    'duration': [20, 30, 50]\n",
    "}\n",
    "\n",
    "# load data into a DataFrame object:\n",
    "df = pd.DataFrame(data)\n",
    "\n",
    "print(df)"
   ]
  },
  {
   "cell_type": "markdown",
   "id": "f6cfe247",
   "metadata": {},
   "source": [
    "## Locate Row\n",
    "\n",
    "As you can see from the result above, the DataFrame is like a table with rows and columns.\n",
    "\n",
    "Pandas use the `loc` attribute to return one or more specified row(s)\n",
    "\n",
    "Eg: return row 0:"
   ]
  },
  {
   "cell_type": "code",
   "execution_count": 2,
   "id": "ed9cb0a3",
   "metadata": {},
   "outputs": [
    {
     "name": "stdout",
     "output_type": "stream",
     "text": [
      "calories    320\n",
      "duration     20\n",
      "Name: 0, dtype: int64\n"
     ]
    }
   ],
   "source": [
    "# refer to the row index:\n",
    "print(df.loc[0])"
   ]
  },
  {
   "cell_type": "markdown",
   "id": "370c5532",
   "metadata": {},
   "source": [
    "> **Note**: This example returns a Pandas **Series**.\n",
    "\n",
    "Eg: Return row 0 and 1:"
   ]
  },
  {
   "cell_type": "code",
   "execution_count": 3,
   "id": "c847de9e",
   "metadata": {},
   "outputs": [
    {
     "name": "stdout",
     "output_type": "stream",
     "text": [
      "   calories  duration\n",
      "0       320        20\n",
      "1       400        30\n"
     ]
    }
   ],
   "source": [
    "# use a list of indexes:\n",
    "print(df.loc[[0, 1]])"
   ]
  },
  {
   "cell_type": "markdown",
   "id": "ee20ea1b",
   "metadata": {},
   "source": [
    "> **Note**: When using `[]`, the result is a Pandas **DataFrame**.\n",
    "\n",
    "## Named Indexes\n",
    "\n",
    "With the `index` argument, you can name your own indexes.\n",
    "\n",
    "Eg: Add a list of names to give each row a name:"
   ]
  },
  {
   "cell_type": "code",
   "execution_count": 4,
   "id": "5e0a86af",
   "metadata": {},
   "outputs": [
    {
     "name": "stdout",
     "output_type": "stream",
     "text": [
      "      calories  duration\n",
      "day1       320        20\n",
      "day2       400        30\n",
      "day3       200        50\n"
     ]
    }
   ],
   "source": [
    "import pandas as pd\n",
    "\n",
    "data = {\n",
    "    'calories': [320, 400, 200],\n",
    "    'duration': [20, 30, 50]\n",
    "}\n",
    "\n",
    "df = pd.DataFrame(data, index=['day1', 'day2', 'day3'])\n",
    "\n",
    "print(df)"
   ]
  },
  {
   "cell_type": "markdown",
   "id": "ad46d61e",
   "metadata": {},
   "source": [
    "## Locate Named Indexes\n",
    "\n",
    "Use the named index in the `loc` attribute to return the specified row(s).\n",
    "\n",
    "Eg: Return 'day2':"
   ]
  },
  {
   "cell_type": "code",
   "execution_count": 5,
   "id": "4b394de6",
   "metadata": {},
   "outputs": [
    {
     "name": "stdout",
     "output_type": "stream",
     "text": [
      "calories    400\n",
      "duration     30\n",
      "Name: day2, dtype: int64\n"
     ]
    }
   ],
   "source": [
    "# refer to the named index:\n",
    "print(df.loc['day2'])"
   ]
  },
  {
   "cell_type": "markdown",
   "id": "9b112f07",
   "metadata": {},
   "source": [
    "## Load Files Into a DataFrame\n",
    "\n",
    "If your data sets are stored in a file, Pandas can load them into a DataFrame.\n",
    "\n",
    "Eg: Load a comma separated file (CSV file) into a DataFrame:"
   ]
  },
  {
   "cell_type": "code",
   "execution_count": 6,
   "id": "5aa74ebe",
   "metadata": {},
   "outputs": [
    {
     "name": "stdout",
     "output_type": "stream",
     "text": [
      "     Duration  Pulse  Maxpulse  Calories\n",
      "0          60    110       130     409.1\n",
      "1          60    117       145     479.0\n",
      "2          60    103       135     340.0\n",
      "3          45    109       175     282.4\n",
      "4          45    117       148     406.0\n",
      "..        ...    ...       ...       ...\n",
      "164        60    105       140     290.8\n",
      "165        60    110       145     300.4\n",
      "166        60    115       145     310.2\n",
      "167        75    120       150     320.4\n",
      "168        75    125       150     330.4\n",
      "\n",
      "[169 rows x 4 columns]\n"
     ]
    }
   ],
   "source": [
    "import pandas as pd\n",
    "\n",
    "df = pd.read_csv('1_data.csv')\n",
    "\n",
    "print(df)"
   ]
  }
 ],
 "metadata": {
  "kernelspec": {
   "display_name": "Python 3",
   "language": "python",
   "name": "python3"
  },
  "language_info": {
   "codemirror_mode": {
    "name": "ipython",
    "version": 3
   },
   "file_extension": ".py",
   "mimetype": "text/x-python",
   "name": "python",
   "nbconvert_exporter": "python",
   "pygments_lexer": "ipython3",
   "version": "3.11.4"
  }
 },
 "nbformat": 4,
 "nbformat_minor": 5
}
