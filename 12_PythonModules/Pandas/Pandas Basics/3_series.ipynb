{
 "cells": [
  {
   "cell_type": "markdown",
   "id": "409d29b9",
   "metadata": {},
   "source": [
    "# Pandas Series\n",
    "\n",
    "## What is a Series?\n",
    "\n",
    "A Pandas Series is like a column in a table.\n",
    "\n",
    "It is a one-dimensional array holding data of any type.\n",
    "\n",
    "Eg: Create a simple Pandas Series from a list:"
   ]
  },
  {
   "cell_type": "code",
   "execution_count": 1,
   "id": "6e57d538",
   "metadata": {},
   "outputs": [
    {
     "name": "stdout",
     "output_type": "stream",
     "text": [
      "0    1\n",
      "1    7\n",
      "2    2\n",
      "dtype: int64\n"
     ]
    }
   ],
   "source": [
    "import pandas as pd\n",
    "\n",
    "a = [1, 7, 2]\n",
    "\n",
    "myvar = pd.Series(a)\n",
    "\n",
    "print(myvar)"
   ]
  },
  {
   "cell_type": "markdown",
   "id": "48de8591",
   "metadata": {},
   "source": [
    "## Labels\n",
    "\n",
    "If nothing else is specified, the values are labeled with thier index number. First value has index 0, second value has index 1 etc.\n",
    "\n",
    "This label can be used to access a specified value.\n",
    "\n",
    "Eg: Return the first value fo the series:"
   ]
  },
  {
   "cell_type": "code",
   "execution_count": 2,
   "id": "403e3a34",
   "metadata": {},
   "outputs": [
    {
     "name": "stdout",
     "output_type": "stream",
     "text": [
      "0    1\n",
      "1    7\n",
      "2    2\n",
      "dtype: int64\n",
      "1\n"
     ]
    }
   ],
   "source": [
    "import pandas as pd\n",
    "\n",
    "a = [1, 7, 2]\n",
    "\n",
    "myvar = pd.Series(a)\n",
    "\n",
    "print(myvar)\n",
    "\n",
    "print(myvar[0])"
   ]
  },
  {
   "cell_type": "markdown",
   "id": "8d2a2efd",
   "metadata": {},
   "source": [
    "## Create Labels\n",
    "\n",
    "With the `index` argument, we can name our own labels."
   ]
  },
  {
   "cell_type": "code",
   "execution_count": 3,
   "id": "ae3a5dee",
   "metadata": {},
   "outputs": [
    {
     "name": "stdout",
     "output_type": "stream",
     "text": [
      "x    1\n",
      "y    7\n",
      "z    2\n",
      "dtype: int64\n"
     ]
    }
   ],
   "source": [
    "import pandas as pd\n",
    "\n",
    "a = [1, 7, 2]\n",
    "\n",
    "myvar = pd.Series(a, index=['x', 'y', 'z'])\n",
    "\n",
    "print(myvar)"
   ]
  },
  {
   "cell_type": "markdown",
   "id": "ed7094f2",
   "metadata": {},
   "source": [
    "When you have created lables, you can access an item by referring to the label."
   ]
  },
  {
   "cell_type": "code",
   "execution_count": 4,
   "id": "fb7af742",
   "metadata": {},
   "outputs": [
    {
     "name": "stdout",
     "output_type": "stream",
     "text": [
      "2\n"
     ]
    }
   ],
   "source": [
    "print(myvar['z'])"
   ]
  },
  {
   "cell_type": "markdown",
   "id": "778775ab",
   "metadata": {},
   "source": [
    "## Key/Value Objects as Series\n",
    "\n",
    "You can also use a key/value object, like a dictionary, when creating a Series."
   ]
  },
  {
   "cell_type": "code",
   "execution_count": 5,
   "id": "6246a08a",
   "metadata": {},
   "outputs": [
    {
     "name": "stdout",
     "output_type": "stream",
     "text": [
      "day1    500\n",
      "day2    800\n",
      "day3    300\n",
      "dtype: int64\n"
     ]
    }
   ],
   "source": [
    "import pandas as pd\n",
    "\n",
    "calories = {'day1': 500, 'day2': 800, 'day3': 300}\n",
    "\n",
    "myvar = pd.Series(calories)\n",
    "\n",
    "print(myvar)"
   ]
  },
  {
   "cell_type": "markdown",
   "id": "0354e011",
   "metadata": {},
   "source": [
    "> **Note**: The keys of the dictionary become the labels\n",
    "\n",
    "To select only some of the items in the dictionary, use the `index` argument and specify only the items you want to include in the Series."
   ]
  },
  {
   "cell_type": "code",
   "execution_count": 6,
   "id": "14f3a293",
   "metadata": {},
   "outputs": [
    {
     "name": "stdout",
     "output_type": "stream",
     "text": [
      "day1    500\n",
      "day2    800\n",
      "dtype: int64\n"
     ]
    }
   ],
   "source": [
    "import pandas as pd\n",
    "\n",
    "calories = {'day1': 500, 'day2': 800, 'day3': 300}\n",
    "\n",
    "myvar = pd.Series(calories, index = ['day1', 'day2'])\n",
    "\n",
    "print(myvar)"
   ]
  },
  {
   "cell_type": "markdown",
   "id": "7adc4b2e",
   "metadata": {},
   "source": [
    "## DataFrames\n",
    "\n",
    "Data sets in Pandas are usually multi-dimensional tables, called DataFrames.\n",
    "\n",
    "Series is like a column, a DataFrame is the whole table.\n",
    "\n",
    "Eg: Create a DataFrame from two Series:"
   ]
  },
  {
   "cell_type": "code",
   "execution_count": 7,
   "id": "08f5e269",
   "metadata": {},
   "outputs": [
    {
     "name": "stdout",
     "output_type": "stream",
     "text": [
      "   calories  duration\n",
      "0       300        30\n",
      "1       100        40\n",
      "2       300        50\n"
     ]
    }
   ],
   "source": [
    "import pandas as pd\n",
    "\n",
    "data = {\n",
    "    'calories': [300, 100, 300],\n",
    "    'duration': [30, 40, 50]\n",
    "}\n",
    "\n",
    "myvar = pd.DataFrame(data)\n",
    "\n",
    "print(myvar)"
   ]
  }
 ],
 "metadata": {
  "kernelspec": {
   "display_name": "Python 3",
   "language": "python",
   "name": "python3"
  },
  "language_info": {
   "codemirror_mode": {
    "name": "ipython",
    "version": 3
   },
   "file_extension": ".py",
   "mimetype": "text/x-python",
   "name": "python",
   "nbconvert_exporter": "python",
   "pygments_lexer": "ipython3",
   "version": "3.11.4"
  }
 },
 "nbformat": 4,
 "nbformat_minor": 5
}
