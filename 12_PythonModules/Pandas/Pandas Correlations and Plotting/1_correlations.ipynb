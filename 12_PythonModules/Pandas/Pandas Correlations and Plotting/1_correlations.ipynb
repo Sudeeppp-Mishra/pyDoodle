{
 "cells": [
  {
   "cell_type": "markdown",
   "id": "70087456",
   "metadata": {},
   "source": [
    "# Pandas - Data Correlations\n",
    "\n",
    "## Finding Relationships\n",
    "\n",
    "A great aspect of the Pandas module is the `corr()` method.\n",
    "\n",
    "The `corr()` method calculates the relationship between each column in your data set.\n",
    "\n",
    "We will use `data.csv` dataset:"
   ]
  },
  {
   "cell_type": "code",
   "execution_count": 1,
   "id": "dda8af4b",
   "metadata": {},
   "outputs": [
    {
     "name": "stdout",
     "output_type": "stream",
     "text": [
      "     Duration  Pulse  Maxpulse  Calories\n",
      "0          60    110       130     409.1\n",
      "1          60    117       145     479.0\n",
      "2          60    103       135     340.0\n",
      "3          45    109       175     282.4\n",
      "4          45    117       148     406.0\n",
      "..        ...    ...       ...       ...\n",
      "164        60    105       140     290.8\n",
      "165        60    110       145     300.0\n",
      "166        60    115       145     310.2\n",
      "167        75    120       150     320.4\n",
      "168        75    125       150     330.4\n",
      "\n",
      "[169 rows x 4 columns]\n"
     ]
    }
   ],
   "source": [
    "import pandas as pd\n",
    "\n",
    "df = pd.read_csv('data.csv')\n",
    "\n",
    "print(df)"
   ]
  },
  {
   "cell_type": "markdown",
   "id": "e44b4a59",
   "metadata": {},
   "source": [
    "Eg: Show the relationship between the columns:"
   ]
  },
  {
   "cell_type": "code",
   "execution_count": 2,
   "id": "34a69fde",
   "metadata": {},
   "outputs": [
    {
     "data": {
      "text/html": [
       "<div>\n",
       "<style scoped>\n",
       "    .dataframe tbody tr th:only-of-type {\n",
       "        vertical-align: middle;\n",
       "    }\n",
       "\n",
       "    .dataframe tbody tr th {\n",
       "        vertical-align: top;\n",
       "    }\n",
       "\n",
       "    .dataframe thead th {\n",
       "        text-align: right;\n",
       "    }\n",
       "</style>\n",
       "<table border=\"1\" class=\"dataframe\">\n",
       "  <thead>\n",
       "    <tr style=\"text-align: right;\">\n",
       "      <th></th>\n",
       "      <th>Duration</th>\n",
       "      <th>Pulse</th>\n",
       "      <th>Maxpulse</th>\n",
       "      <th>Calories</th>\n",
       "    </tr>\n",
       "  </thead>\n",
       "  <tbody>\n",
       "    <tr>\n",
       "      <th>Duration</th>\n",
       "      <td>1.000000</td>\n",
       "      <td>-0.155408</td>\n",
       "      <td>0.009403</td>\n",
       "      <td>0.922717</td>\n",
       "    </tr>\n",
       "    <tr>\n",
       "      <th>Pulse</th>\n",
       "      <td>-0.155408</td>\n",
       "      <td>1.000000</td>\n",
       "      <td>0.786535</td>\n",
       "      <td>0.025121</td>\n",
       "    </tr>\n",
       "    <tr>\n",
       "      <th>Maxpulse</th>\n",
       "      <td>0.009403</td>\n",
       "      <td>0.786535</td>\n",
       "      <td>1.000000</td>\n",
       "      <td>0.203813</td>\n",
       "    </tr>\n",
       "    <tr>\n",
       "      <th>Calories</th>\n",
       "      <td>0.922717</td>\n",
       "      <td>0.025121</td>\n",
       "      <td>0.203813</td>\n",
       "      <td>1.000000</td>\n",
       "    </tr>\n",
       "  </tbody>\n",
       "</table>\n",
       "</div>"
      ],
      "text/plain": [
       "          Duration     Pulse  Maxpulse  Calories\n",
       "Duration  1.000000 -0.155408  0.009403  0.922717\n",
       "Pulse    -0.155408  1.000000  0.786535  0.025121\n",
       "Maxpulse  0.009403  0.786535  1.000000  0.203813\n",
       "Calories  0.922717  0.025121  0.203813  1.000000"
      ]
     },
     "execution_count": 2,
     "metadata": {},
     "output_type": "execute_result"
    }
   ],
   "source": [
    "df.corr()"
   ]
  },
  {
   "cell_type": "markdown",
   "id": "3008ac5f",
   "metadata": {},
   "source": [
    "> **Note**: The `corr()` method ignores \"not numeric\" columns."
   ]
  },
  {
   "cell_type": "markdown",
   "id": "fd259a28",
   "metadata": {},
   "source": [
    "## Result Expained\n",
    "\n",
    "The Result of the `corr()` method is a table with a lot of no.s that represents how well the relationship is between two columns.<br><br><br>\n",
    "\n",
    "The number varies from -1 to 1.<br><br>   \n",
    "\n",
    "1 means that there is a 1 to 1 relationship (a perfect correlation), and for this data set, each time a value went up in the first column, the other one went up as well.<br><br>\n",
    "\n",
    "0.9 is also a good relationship, and if you increase one value, the other will probably increase as well.<br><br>\n",
    "\n",
    "-0.9 would be just as good relationship as 0.9, but if you increase one value, the other will probably go down.<br><br>\n",
    "\n",
    "0.2 means NOT a good relationship, meaning that if one values goes up does not mean that the other will.<br><br><br>\n",
    "\n",
    "> **What is a good correlation?** It depends on the use, but I think it is safe to say you have to have at least `0.6` (or `-0.6`) to call it a good correlation.\n",
    "\n",
    "Perfect Correlation:\n",
    "\n",
    "We can see that \"Duration\" and \"Duration\" got the no. `1.000000`, which makes sense, each column always has a perfect relationship with itself.\n",
    "\n",
    "## Good Correlation:\n",
    "\n",
    "\"Duration\" and \"Calories\" got a `0.922721` correlation, which is a very good correlation, and we can predict that the longer you work out, the more caloreis you burn, and the other way around: if you burned a lot of calories, you probably had a long work out.\n",
    "\n",
    "## Bad Correlation:\n",
    "\n",
    "\"Duration\" and \"Maxpulse\" got a `0.009403` correlation, which is a very bad correlation, meaning that we can not predict the max pulse by just looking at the duration of the work out, and vice versa."
   ]
  }
 ],
 "metadata": {
  "kernelspec": {
   "display_name": "Python 3",
   "language": "python",
   "name": "python3"
  },
  "language_info": {
   "codemirror_mode": {
    "name": "ipython",
    "version": 3
   },
   "file_extension": ".py",
   "mimetype": "text/x-python",
   "name": "python",
   "nbconvert_exporter": "python",
   "pygments_lexer": "ipython3",
   "version": "3.11.4"
  }
 },
 "nbformat": 4,
 "nbformat_minor": 5
}
