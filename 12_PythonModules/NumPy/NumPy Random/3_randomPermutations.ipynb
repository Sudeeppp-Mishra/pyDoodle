{
 "cells": [
  {
   "cell_type": "markdown",
   "id": "c9b795fc",
   "metadata": {},
   "source": [
    "## Random Permutations of Elements\n",
    "\n",
    "A permutation refers to an arrangement of elements. e.g., [3, 2, 1] is a permutation of [1, 2, 3] and vice-versa.\n",
    "\n",
    "The NumPy Random module provides two methods for this: `shuffle()` and `permutation()`.\n",
    "\n",
    "---\n",
    "\n",
    "## Shuffling Arrays\n",
    "\n",
    "Shuffle means changing arrangement of elements in-place. i.e., in the array itself.\n",
    "\n",
    "Eg: Randomly shuffle elements of following array:"
   ]
  },
  {
   "cell_type": "code",
   "execution_count": 1,
   "id": "bc144265",
   "metadata": {},
   "outputs": [
    {
     "name": "stdout",
     "output_type": "stream",
     "text": [
      "[2 5 1 3 4]\n"
     ]
    }
   ],
   "source": [
    "from numpy import random\n",
    "import numpy as np\n",
    "\n",
    "arr = np.array([1, 2, 3, 4, 5])\n",
    "\n",
    "random.shuffle(arr)\n",
    "\n",
    "print(arr)"
   ]
  },
  {
   "cell_type": "markdown",
   "id": "afd939a3",
   "metadata": {},
   "source": [
    "> The `shuffle()` method makes changes to the original array."
   ]
  },
  {
   "cell_type": "markdown",
   "id": "79f345e7",
   "metadata": {},
   "source": [
    "## Generating Permuation of Arrays"
   ]
  },
  {
   "cell_type": "code",
   "execution_count": 2,
   "id": "cef0bb95",
   "metadata": {},
   "outputs": [
    {
     "name": "stdout",
     "output_type": "stream",
     "text": [
      "[5 1 4 3 2]\n"
     ]
    }
   ],
   "source": [
    "from numpy import random\n",
    "import numpy as np\n",
    "\n",
    "arr = np.array([1, 2, 3, 4, 5])\n",
    "\n",
    "print(random.permutation(arr))"
   ]
  },
  {
   "cell_type": "markdown",
   "id": "2c4c9601",
   "metadata": {},
   "source": [
    "> The `permutation()` method *returns* a re-arranged array (and leaves the original array un-changed)."
   ]
  }
 ],
 "metadata": {
  "kernelspec": {
   "display_name": "Python 3",
   "language": "python",
   "name": "python3"
  },
  "language_info": {
   "codemirror_mode": {
    "name": "ipython",
    "version": 3
   },
   "file_extension": ".py",
   "mimetype": "text/x-python",
   "name": "python",
   "nbconvert_exporter": "python",
   "pygments_lexer": "ipython3",
   "version": "3.11.4"
  }
 },
 "nbformat": 4,
 "nbformat_minor": 5
}
