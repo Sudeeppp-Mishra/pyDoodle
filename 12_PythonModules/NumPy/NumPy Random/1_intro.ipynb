{
 "cells": [
  {
   "cell_type": "markdown",
   "id": "81d396ea",
   "metadata": {},
   "source": [
    "# Random Numbers in NumPy\n",
    "\n",
    "## What is a Random Number?\n",
    "\n",
    "Random number does NOT mean a different number every time. Random means something that can not be predicted logically.\n",
    "\n",
    "---\n",
    "\n",
    "## Pseudo Random and True Random\n",
    "\n",
    "Computers work on programs, and programs are definitive set of instructions. So it means there must be some algorithm to generate a random number as well.\n",
    "\n",
    "If there is a prgoram to generate random number it can be predicted, thus it is not truly random.\n",
    "\n",
    "Random numbers generated through a generation algorithm are called *pseudo random*.\n",
    "\n",
    "---\n",
    "\n",
    "### Can we make truly random numbers?\n",
    "\n",
    "Yes. In order to generate a truly random number on our computers we need to get the random data from some outside source. This outside source is generally our keystrokes, mouse movements, data on network etc.\n",
    "\n",
    "We do not need truly random numbers, unless it is related to security (e.g., encryption keys) or the basis of application is the randomness (e.g. Digital roulette wheels (is basically traditional casino roulette wheel but intead of the physical ball handled by software))\n",
    "\n",
    "Here we will be using pseudo random numbers...\n",
    "\n",
    "---\n",
    "\n",
    "## Generate Random Number\n",
    "\n",
    "NumPy offers the `random` module to work with random numbers.\n",
    "\n",
    "Eg: Generating a random integer from 0 to 100:"
   ]
  },
  {
   "cell_type": "code",
   "execution_count": 1,
   "id": "7127a059",
   "metadata": {},
   "outputs": [
    {
     "name": "stdout",
     "output_type": "stream",
     "text": [
      "63\n"
     ]
    }
   ],
   "source": [
    "from numpy import random\n",
    "\n",
    "x = random.randint(100)\n",
    "\n",
    "print(x)"
   ]
  },
  {
   "cell_type": "markdown",
   "id": "26946c22",
   "metadata": {},
   "source": [
    "## Generate Random Float\n",
    "\n",
    "The random module's `rand()` method retuns a random float between 0 and 1"
   ]
  },
  {
   "cell_type": "code",
   "execution_count": 3,
   "id": "5f7fb632",
   "metadata": {},
   "outputs": [
    {
     "name": "stdout",
     "output_type": "stream",
     "text": [
      "0.32704947843501453\n"
     ]
    }
   ],
   "source": [
    "from numpy import random\n",
    "\n",
    "x = random.rand()\n",
    "\n",
    "print(x)"
   ]
  },
  {
   "cell_type": "markdown",
   "id": "52d69c5d",
   "metadata": {},
   "source": [
    "## Generate Random Array\n",
    "\n",
    "In NumPy we work with arrays, and you can use the two methods from the above examples to make random arrays.\n",
    "\n",
    "#### Integers\n",
    "\n",
    "The `randint()` method takes a `size` parameter where you can specify the shape of an array.\n",
    "\n",
    "Eg: Generate a 1-D array containing 5 random integers from 0 to 100:"
   ]
  },
  {
   "cell_type": "code",
   "execution_count": 4,
   "id": "9fe67d7a",
   "metadata": {},
   "outputs": [
    {
     "name": "stdout",
     "output_type": "stream",
     "text": [
      "[22 96 12 34 87]\n"
     ]
    }
   ],
   "source": [
    "from numpy import random\n",
    "\n",
    "x = random.randint(100, size=(5))\n",
    "\n",
    "print(x)"
   ]
  },
  {
   "cell_type": "markdown",
   "id": "f4a8d355",
   "metadata": {},
   "source": [
    "Eg: Generate a 2-D array with 3 rows, each row containing 5 random integers from 0 to 100:"
   ]
  },
  {
   "cell_type": "code",
   "execution_count": 5,
   "id": "f129579e",
   "metadata": {},
   "outputs": [
    {
     "name": "stdout",
     "output_type": "stream",
     "text": [
      "[[ 3  1  1 13 53]\n",
      " [69 10 87 65  1]\n",
      " [87 68 86  5  4]]\n"
     ]
    }
   ],
   "source": [
    "from numpy import random\n",
    "\n",
    "x = random.randint(100, size=(3, 5))\n",
    "\n",
    "print(x)"
   ]
  },
  {
   "cell_type": "markdown",
   "id": "5efc3c29",
   "metadata": {},
   "source": [
    "#### Floats\n",
    "\n",
    "The `rand()` method also allows you to specify the shape of the array.\n",
    "\n",
    "Eg: Generate a 1-D array containing 5 random floats:"
   ]
  },
  {
   "cell_type": "code",
   "execution_count": 9,
   "id": "21a4ed31",
   "metadata": {},
   "outputs": [
    {
     "name": "stdout",
     "output_type": "stream",
     "text": [
      "[0.3132281  0.98618021 0.41483188 0.65431269 0.09559069]\n"
     ]
    }
   ],
   "source": [
    "from numpy import random\n",
    "\n",
    "x = random.rand(5)\n",
    "\n",
    "print(x)"
   ]
  },
  {
   "cell_type": "markdown",
   "id": "3f8ec3f1",
   "metadata": {},
   "source": [
    "Eg: Generate a 2-D array with 3 rows, each containing 5 random numbers"
   ]
  },
  {
   "cell_type": "code",
   "execution_count": 10,
   "id": "7ee0c831",
   "metadata": {},
   "outputs": [
    {
     "name": "stdout",
     "output_type": "stream",
     "text": [
      "[[0.06215761 0.27261206 0.84835481 0.66571895 0.2953799 ]\n",
      " [0.49020529 0.48728388 0.46503296 0.18960289 0.51759116]\n",
      " [0.0617695  0.36138671 0.85295465 0.77634293 0.66962164]]\n"
     ]
    }
   ],
   "source": [
    "from numpy import random\n",
    "\n",
    "x = random.rand(3, 5)\n",
    "\n",
    "print(x)"
   ]
  },
  {
   "cell_type": "markdown",
   "id": "1641c54f",
   "metadata": {},
   "source": [
    "## Generate Random Number From Array\n",
    "\n",
    "The `choice()` method allows you to generate a random value based on an array of values.\n",
    "\n",
    "The `choice()` method takes an array as a parameter and randomly returns one of the values.\n",
    "\n",
    "Eg: Return one of the values in an array:"
   ]
  },
  {
   "cell_type": "code",
   "execution_count": 14,
   "id": "e5db5b5a",
   "metadata": {},
   "outputs": [
    {
     "name": "stdout",
     "output_type": "stream",
     "text": [
      "8\n"
     ]
    }
   ],
   "source": [
    "from numpy import random\n",
    "\n",
    "x = random.choice([3, 5, 8, 9])\n",
    "\n",
    "print(x)"
   ]
  },
  {
   "cell_type": "markdown",
   "id": "8cc8da5e",
   "metadata": {},
   "source": [
    "The `choice()` method also allows you to return an *array* of values.\n",
    "\n",
    "Add a `size` parameter to specify the shape of the array.\n",
    "\n",
    "Eg: Generate a 2-D array that consists of the value in the array parameter (3, 5, 7, and 9):"
   ]
  },
  {
   "cell_type": "code",
   "execution_count": 15,
   "id": "386a9545",
   "metadata": {},
   "outputs": [
    {
     "name": "stdout",
     "output_type": "stream",
     "text": [
      "[[9 9 7 7 3]\n",
      " [7 7 5 3 3]\n",
      " [7 9 5 3 9]]\n"
     ]
    }
   ],
   "source": [
    "from numpy import random\n",
    "\n",
    "x = random.choice([3, 5, 7, 9], size=(3, 5))\n",
    "\n",
    "print(x)"
   ]
  },
  {
   "cell_type": "markdown",
   "id": "60464bc5",
   "metadata": {},
   "source": [
    "# Two “randoms”\n",
    "1.\tPython standard library → import random\n",
    "\t-\tComes with Python.\n",
    "\t-\tSimpler, slower, fewer options.\n",
    "\n",
    "```python\n",
    "Example:\n",
    "\n",
    "import random\n",
    "print(random.randint(1, 10))  # random int 1–10\n",
    "\n",
    "```\n",
    "\n",
    "2.\tNumPy random module → import numpy as np then np.random\n",
    "\t-\tPart of NumPy.\n",
    "\t-\tMuch faster (optimized in C).\n",
    "\t-\tSupports arrays and scientific distributions.\n",
    "\t\n",
    "```python\n",
    "Example:\n",
    "\n",
    "import numpy as np\n",
    "print(np.random.randint(1, 10, size=5))  # 5 random ints\n",
    "```\n",
    "\n",
    "# When to use which?\n",
    "-\tUse random (Python’s) if you just need simple randomness for small tasks.\n",
    "-\tUse np.random if you’re doing data science, simulations, ML, or need random arrays."
   ]
  }
 ],
 "metadata": {
  "kernelspec": {
   "display_name": "Python 3",
   "language": "python",
   "name": "python3"
  },
  "language_info": {
   "codemirror_mode": {
    "name": "ipython",
    "version": 3
   },
   "file_extension": ".py",
   "mimetype": "text/x-python",
   "name": "python",
   "nbconvert_exporter": "python",
   "pygments_lexer": "ipython3",
   "version": "3.11.4"
  }
 },
 "nbformat": 4,
 "nbformat_minor": 5
}
