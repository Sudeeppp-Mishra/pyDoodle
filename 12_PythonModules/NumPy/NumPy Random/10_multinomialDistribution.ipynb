{
 "cells": [
  {
   "cell_type": "markdown",
   "id": "22e8be7c",
   "metadata": {},
   "source": [
    "## Multinomial Distribution\n",
    "\n",
    "Multinomial distribution is a generalization of binomial distribution.\n",
    "\n",
    "It describes outcomes of multi-nomial scenarios unlike binomial where scenarios must be only one of two. e.g., Blood type of a population, dice rool outcome.\n",
    "\n",
    "It has three parameters:\n",
    "\n",
    "`n` - number of times to run the experiment\n",
    "\n",
    "`pvals` - list of probabilities of outcomes (e.g. [1/6, 1/6, 1/6, 1/6, 1/6, 1/6] for dice roll)\n",
    "\n",
    "`size` - the shape of the returned array\n",
    "\n",
    "Eg: Draw out a sample for dice roll:"
   ]
  },
  {
   "cell_type": "code",
   "execution_count": 2,
   "id": "3578a0f7",
   "metadata": {},
   "outputs": [
    {
     "name": "stdout",
     "output_type": "stream",
     "text": [
      "[3 0 1 1 1 0]\n"
     ]
    }
   ],
   "source": [
    "from numpy import random\n",
    "\n",
    "x = random.multinomial(n=6, pvals=[1/6, 1/6, 1/6, 1/6, 1/6, 1/6])\n",
    "\n",
    "print(x)"
   ]
  },
  {
   "cell_type": "markdown",
   "id": "3883802b",
   "metadata": {},
   "source": [
    "> **Note**: Multinomial samples will NOT produce a single value! They will produce one value for each `pval`.\n",
    "\n",
    "> **Note**: As they are generalization of binomial distribution their visual representation and similarity of normal distribution is same as that of multiple binomial distributions."
   ]
  }
 ],
 "metadata": {
  "kernelspec": {
   "display_name": "Python 3",
   "language": "python",
   "name": "python3"
  },
  "language_info": {
   "codemirror_mode": {
    "name": "ipython",
    "version": 3
   },
   "file_extension": ".py",
   "mimetype": "text/x-python",
   "name": "python",
   "nbconvert_exporter": "python",
   "pygments_lexer": "ipython3",
   "version": "3.11.4"
  }
 },
 "nbformat": 4,
 "nbformat_minor": 5
}
