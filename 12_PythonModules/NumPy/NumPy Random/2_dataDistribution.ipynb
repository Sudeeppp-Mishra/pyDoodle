{
 "cells": [
  {
   "cell_type": "markdown",
   "id": "ced87fd3",
   "metadata": {},
   "source": [
    "# Random Data Distribution\n",
    "\n",
    "## What is Data Distribution?\n",
    "\n",
    "Data Distribution is a list of all possible values, and how often each value occurs.\n",
    "\n",
    "Such lists are important when working with statistics and data science.\n",
    "\n",
    "The random module offer methods that returns randomly generated data distributions.\n",
    "\n",
    "---\n",
    "\n",
    "## Random Distribution\n",
    "\n",
    "A random distribution is a set of random no.s that follow a certain *probability density function*.\n",
    "\n",
    "> **Probablity Density Function**: A function that describes a continuous probability. i.e., probability of all values in an array.\n",
    "\n",
    "We can generate random numbers based on defined probabilities using the `choice()` method of the `random` module.\n",
    "\n",
    "The `choice()` method allows us to specify the probability for each value.\n",
    "\n",
    "The probability is set by a no. between 0 and 1, where 0 means that the value will never occur and 1 means that the value will always occur.\n",
    "\n",
    "Eg:"
   ]
  },
  {
   "cell_type": "markdown",
   "id": "8a4b96d8",
   "metadata": {},
   "source": [
    "Generate a 1-D array containing 100 values, where each value has to be 3, 5, 7, or 9.\n",
    "\n",
    "The probability for the value to be 3 is set to be 0.1\n",
    "\n",
    "The probability for the value to be 5 is set to be 0.3\n",
    "\n",
    "The probability for the value to be 7 is set to be 0.6\n",
    "\n",
    "The probability for the value to be 9 is set to be 0"
   ]
  },
  {
   "cell_type": "code",
   "execution_count": 1,
   "id": "9301e9ea",
   "metadata": {},
   "outputs": [
    {
     "name": "stdout",
     "output_type": "stream",
     "text": [
      "[5 7 7 7 5 5 7 7 7 3 5 7 7 7 7 3 7 5 7 7 5 5 7 7 5 5 3 3 7 5 5 7 7 7 7 7 7\n",
      " 7 3 3 7 7 7 7 7 7 5 7 7 7 7 7 7 3 5 5 7 7 7 3 5 5 5 3 5 3 3 3 3 5 7 7 7 7\n",
      " 7 5 5 7 7 7 7 7 7 7 7 5 7 3 5 7 7 3 5 7 7 7 7 7 7 5]\n"
     ]
    }
   ],
   "source": [
    "from numpy import random\n",
    "\n",
    "\n",
    "x = random.choice([3, 5, 7, 9], p=[0.1, 0.3, 0.6, 0.0], size=(100))\n",
    "\n",
    "print(x)"
   ]
  },
  {
   "cell_type": "markdown",
   "id": "e9899031",
   "metadata": {},
   "source": [
    "> The sum of all probability no.s should be 1.\n",
    "\n",
    "Even if you run the example above 100 times, the value 9 will never occur.\n",
    "\n",
    "You can return arrays of any shape and size by specifying the shape in the `size` parameter.\n",
    "\n",
    "Eg: Same example as above, but return a 2-D array with 3 rows, each containing 5 values."
   ]
  },
  {
   "cell_type": "code",
   "execution_count": 2,
   "id": "0044077b",
   "metadata": {},
   "outputs": [
    {
     "name": "stdout",
     "output_type": "stream",
     "text": [
      "[[7 7 7 5 7]\n",
      " [7 7 3 5 7]\n",
      " [7 7 7 5 3]]\n"
     ]
    }
   ],
   "source": [
    "from numpy import random\n",
    "\n",
    "\n",
    "x = random.choice([3, 5, 7, 9], p=[0.1, 0.3, 0.6, 0.0], size=(3, 5))\n",
    "\n",
    "print(x)"
   ]
  },
  {
   "cell_type": "code",
   "execution_count": null,
   "id": "b8f0a3e7",
   "metadata": {},
   "outputs": [],
   "source": []
  }
 ],
 "metadata": {
  "kernelspec": {
   "display_name": "Python 3",
   "language": "python",
   "name": "python3"
  },
  "language_info": {
   "codemirror_mode": {
    "name": "ipython",
    "version": 3
   },
   "file_extension": ".py",
   "mimetype": "text/x-python",
   "name": "python",
   "nbconvert_exporter": "python",
   "pygments_lexer": "ipython3",
   "version": "3.11.4"
  }
 },
 "nbformat": 4,
 "nbformat_minor": 5
}
