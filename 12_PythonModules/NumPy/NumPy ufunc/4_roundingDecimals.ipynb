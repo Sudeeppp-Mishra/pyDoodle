{
 "cells": [
  {
   "cell_type": "markdown",
   "id": "e28aaaab",
   "metadata": {},
   "source": [
    "## Rounding Decimals\n",
    "\n",
    "There are primarily five ways of rounding off decimals in NumPy:\n",
    "\n",
    "- truncation\n",
    "- fix\n",
    "- rounding\n",
    "- floor\n",
    "- ceil\n",
    "\n",
    "---\n",
    "\n",
    "## Truncation\n",
    "\n",
    "Remove the decimals, and return the float number closest to zero. Use the `trunc()` and `fix()` functions."
   ]
  },
  {
   "cell_type": "code",
   "execution_count": 2,
   "id": "e782c7b2",
   "metadata": {},
   "outputs": [
    {
     "name": "stdout",
     "output_type": "stream",
     "text": [
      "[-3.  3.]\n",
      "[-3.  3.]\n"
     ]
    }
   ],
   "source": [
    "import numpy as np\n",
    "\n",
    "arr = np.trunc([-3.1666, 3.6667])\n",
    "\n",
    "arr1 = np.fix([-3.1666, 3.6667])\n",
    "\n",
    "print(f'{arr}\\n{arr1}')"
   ]
  },
  {
   "cell_type": "markdown",
   "id": "d058ea01",
   "metadata": {},
   "source": [
    "## Rounding\n",
    "\n",
    "The `around()` function increments preceding digit or decimal by 1 if >=5 else do nothing.\n",
    "\n",
    "Eg: Round off 3.1666 to 2 decimal places:"
   ]
  },
  {
   "cell_type": "code",
   "execution_count": 3,
   "id": "c17eea7c",
   "metadata": {},
   "outputs": [
    {
     "name": "stdout",
     "output_type": "stream",
     "text": [
      "3.17\n"
     ]
    }
   ],
   "source": [
    "import numpy as np\n",
    "\n",
    "arr = np.around(3.1666, 2)\n",
    "\n",
    "print(arr)"
   ]
  },
  {
   "cell_type": "code",
   "execution_count": 4,
   "id": "5d18353d",
   "metadata": {},
   "outputs": [
    {
     "name": "stdout",
     "output_type": "stream",
     "text": [
      "[3.17 3.46]\n"
     ]
    }
   ],
   "source": [
    "arr = np.array([3.165655, 3.456])\n",
    "\n",
    "print(np.around(arr, 2))"
   ]
  },
  {
   "cell_type": "markdown",
   "id": "5b809fdf",
   "metadata": {},
   "source": [
    "## Floor\n",
    "\n",
    "The `floor()` function rounds off decimal to nearest lower integer."
   ]
  },
  {
   "cell_type": "code",
   "execution_count": 5,
   "id": "af084349",
   "metadata": {},
   "outputs": [
    {
     "name": "stdout",
     "output_type": "stream",
     "text": [
      "[-4.  3.]\n"
     ]
    }
   ],
   "source": [
    "import numpy as np\n",
    "\n",
    "arr = np.floor([-3.1666, 3.6668])\n",
    "\n",
    "print(arr)"
   ]
  },
  {
   "cell_type": "markdown",
   "id": "1beb422e",
   "metadata": {},
   "source": [
    "## Ceil\n",
    "\n",
    "The `ceil()` function rounds off decimal to nearest upper integer."
   ]
  },
  {
   "cell_type": "code",
   "execution_count": 6,
   "id": "a09a6ea9",
   "metadata": {},
   "outputs": [
    {
     "name": "stdout",
     "output_type": "stream",
     "text": [
      "[-3.  4.]\n"
     ]
    }
   ],
   "source": [
    "import numpy as np\n",
    "\n",
    "arr = np.ceil([-3.1666, 3.6668])\n",
    "\n",
    "print(arr)"
   ]
  }
 ],
 "metadata": {
  "kernelspec": {
   "display_name": "Python 3",
   "language": "python",
   "name": "python3"
  },
  "language_info": {
   "codemirror_mode": {
    "name": "ipython",
    "version": 3
   },
   "file_extension": ".py",
   "mimetype": "text/x-python",
   "name": "python",
   "nbconvert_exporter": "python",
   "pygments_lexer": "ipython3",
   "version": "3.11.4"
  }
 },
 "nbformat": 4,
 "nbformat_minor": 5
}
