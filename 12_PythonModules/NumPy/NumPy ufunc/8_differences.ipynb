{
 "cells": [
  {
   "cell_type": "markdown",
   "id": "62e1a167",
   "metadata": {},
   "source": [
    "# NumPy Differences\n",
    "\n",
    "## Differences\n",
    "\n",
    "A discrete difference means subtracting two successive elements.\n",
    "\n",
    "Eg: for [1, 2, 3, 4], the discrete difference would be [2-1, 3-2, 4-3] = [1, 1, 1]\n",
    "\n",
    "to find the discrete difference, use the `diff()` function."
   ]
  },
  {
   "cell_type": "code",
   "execution_count": 1,
   "id": "6d7a490a",
   "metadata": {},
   "outputs": [
    {
     "name": "stdout",
     "output_type": "stream",
     "text": [
      "[  5  10 -20]\n"
     ]
    }
   ],
   "source": [
    "import numpy as np\n",
    "\n",
    "arr = np.array([10, 15, 25, 5])\n",
    "\n",
    "newarr = np.diff(arr)\n",
    "\n",
    "print(newarr)"
   ]
  },
  {
   "cell_type": "markdown",
   "id": "c17abf4a",
   "metadata": {},
   "source": [
    "We can perfomr this operation repeatedly by giving parameter `n`.\n",
    "\n",
    "Eg: for [1, 2, 3, 4], the discrete differnece with n = 2 would be [2-1, 3-2, 4-3] = [1, 1, 1], then, since n=2, we will do it once more, with the new result: [1-1, 1-1] = [0, 0]"
   ]
  },
  {
   "cell_type": "code",
   "execution_count": null,
   "id": "7e9416d2",
   "metadata": {},
   "outputs": [
    {
     "name": "stdout",
     "output_type": "stream",
     "text": [
      "[  5 -30]\n"
     ]
    }
   ],
   "source": [
    "import numpy as np\n",
    "\n",
    "arr = np.array([10, 15, 25, 5])\n",
    "\n",
    "newarr = np.diff(arr, n=2) #[15-10, 25-15, 5-25] = [5, 10, -20] -> [10-5, -20-10] = [5, -30]\n",
    "\n",
    "print(newarr)"
   ]
  }
 ],
 "metadata": {
  "kernelspec": {
   "display_name": "Python 3",
   "language": "python",
   "name": "python3"
  },
  "language_info": {
   "codemirror_mode": {
    "name": "ipython",
    "version": 3
   },
   "file_extension": ".py",
   "mimetype": "text/x-python",
   "name": "python",
   "nbconvert_exporter": "python",
   "pygments_lexer": "ipython3",
   "version": "3.11.4"
  }
 },
 "nbformat": 4,
 "nbformat_minor": 5
}
