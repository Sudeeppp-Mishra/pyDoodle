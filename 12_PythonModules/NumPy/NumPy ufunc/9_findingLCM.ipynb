{
 "cells": [
  {
   "cell_type": "markdown",
   "id": "85d80154",
   "metadata": {},
   "source": [
    "# NumPy LCM(Lowest Common Multiple)\n",
    "\n",
    "## Finding LCM\n",
    "\n",
    "The LCM is the smallest number that is a common multiple of two no.s.\n",
    "\n",
    "Eg: Find the LCM of the following two no.s:"
   ]
  },
  {
   "cell_type": "code",
   "execution_count": 1,
   "id": "8a2162d4",
   "metadata": {},
   "outputs": [
    {
     "name": "stdout",
     "output_type": "stream",
     "text": [
      "12\n"
     ]
    }
   ],
   "source": [
    "import numpy as np\n",
    "\n",
    "num1 = 4\n",
    "num2 = 6\n",
    "\n",
    "x = np.lcm(num1, num2)\n",
    "\n",
    "print(x)"
   ]
  },
  {
   "cell_type": "markdown",
   "id": "e90849eb",
   "metadata": {},
   "source": [
    "## Finding LCM in Arrays\n",
    "\n",
    "To find the LCM of all values in an array, you can use `reduce()` method.\n",
    "\n",
    "> The `reduce()` method will use the ufuc, in this case the `lcm()` function, on each element, and reduce the array by one dimension."
   ]
  },
  {
   "cell_type": "code",
   "execution_count": 2,
   "id": "29495fb9",
   "metadata": {},
   "outputs": [
    {
     "name": "stdout",
     "output_type": "stream",
     "text": [
      "18\n"
     ]
    }
   ],
   "source": [
    "import numpy as np\n",
    "\n",
    "arr = np.array([3, 6, 9])\n",
    "\n",
    "x = np.lcm.reduce(arr)\n",
    "\n",
    "print(x)"
   ]
  },
  {
   "cell_type": "markdown",
   "id": "de69a666",
   "metadata": {},
   "source": [
    "> 18 cuz the lowest common multiple of all three no.s (3*6 = 18, 6*3 = 18, 9*2 = 18)."
   ]
  },
  {
   "cell_type": "markdown",
   "id": "fd9c12f5",
   "metadata": {},
   "source": [
    "Eg: Find the LCM of all values of an array where the array contains all integers from 1 to 10:"
   ]
  },
  {
   "cell_type": "code",
   "execution_count": 3,
   "id": "5fff4d0a",
   "metadata": {},
   "outputs": [
    {
     "name": "stdout",
     "output_type": "stream",
     "text": [
      "2520\n"
     ]
    }
   ],
   "source": [
    "import numpy as np\n",
    "\n",
    "arr = np.arange(1, 11)\n",
    "\n",
    "x = np.lcm.reduce(arr)\n",
    "\n",
    "print(x)"
   ]
  }
 ],
 "metadata": {
  "kernelspec": {
   "display_name": "Python 3",
   "language": "python",
   "name": "python3"
  },
  "language_info": {
   "codemirror_mode": {
    "name": "ipython",
    "version": 3
   },
   "file_extension": ".py",
   "mimetype": "text/x-python",
   "name": "python",
   "nbconvert_exporter": "python",
   "pygments_lexer": "ipython3",
   "version": "3.11.4"
  }
 },
 "nbformat": 4,
 "nbformat_minor": 5
}
