{
 "cells": [
  {
   "cell_type": "markdown",
   "id": "b96972bb",
   "metadata": {},
   "source": [
    "# NumPy ufuncs\n",
    "\n",
    "## What are ufuncs?\n",
    "\n",
    "ufuncs stands for \"Universal Functions\" and they are NumPy functions that operate on the `ndarray` object.\n",
    "\n",
    "## Why use ufuncs?\n",
    "\n",
    "ufuncs are used to implement *vectorization* in NumPy which is way faster than iteration over elements.\n",
    "\n",
    "They also provide broadcasting and additional methods like reduce, accumulate etc. that are very helpful for computation.\n",
    "\n",
    "ufuncs also take additional arguments, like:\n",
    "\n",
    "`where` boolean array or condition defining where the operations should take place.\n",
    "\n",
    "`dtype` defining the return type of elements.\n",
    "\n",
    "`out` output array where the return value should be copied.\n",
    "\n",
    "---\n",
    "\n",
    "## What is Vectorization?\n",
    "\n",
    "Converting iterative statements into a vector based operation is called vectorization.\n",
    "\n",
    "It is faster as modern CPUs are optimized for such operations.\n",
    "\n",
    "### Add the Elements of Two Lists\n",
    "\n",
    "list 1: [1, 2, 3, 4]\n",
    "\n",
    "list 2: [4, 5, 6, 7]\n",
    "\n",
    "One way of doing it is to iterate over both of the lists and then sum each elements.\n",
    "\n",
    "Eg: Without ufunc, we can use Python's built-in `zip()` method:"
   ]
  },
  {
   "cell_type": "code",
   "execution_count": 1,
   "id": "53367acb",
   "metadata": {},
   "outputs": [
    {
     "name": "stdout",
     "output_type": "stream",
     "text": [
      "[5, 7, 9, 11]\n"
     ]
    }
   ],
   "source": [
    "x = [1, 2, 3, 4]\n",
    "y = [4, 5, 6, 7]\n",
    "z = []\n",
    "\n",
    "for i, j in zip(x, y):\n",
    "    z.append(i+j)\n",
    "print(z)"
   ]
  },
  {
   "cell_type": "markdown",
   "id": "c629becc",
   "metadata": {},
   "source": [
    "NumPy has a ufunc for this, called `add(x, y)` that will produce the small result."
   ]
  },
  {
   "cell_type": "code",
   "execution_count": 2,
   "id": "8c333a57",
   "metadata": {},
   "outputs": [
    {
     "name": "stdout",
     "output_type": "stream",
     "text": [
      "[ 5  7  9 11]\n"
     ]
    }
   ],
   "source": [
    "import numpy as np\n",
    "\n",
    "x = [1, 2, 3, 4]\n",
    "y = [4, 5, 6, 7]\n",
    "z = np.add(x, y)\n",
    "\n",
    "print(z)"
   ]
  }
 ],
 "metadata": {
  "kernelspec": {
   "display_name": "Python 3",
   "language": "python",
   "name": "python3"
  },
  "language_info": {
   "codemirror_mode": {
    "name": "ipython",
    "version": 3
   },
   "file_extension": ".py",
   "mimetype": "text/x-python",
   "name": "python",
   "nbconvert_exporter": "python",
   "pygments_lexer": "ipython3",
   "version": "3.11.4"
  }
 },
 "nbformat": 4,
 "nbformat_minor": 5
}
