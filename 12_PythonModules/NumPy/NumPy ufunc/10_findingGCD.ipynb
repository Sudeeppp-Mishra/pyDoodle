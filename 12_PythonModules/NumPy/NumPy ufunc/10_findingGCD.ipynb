{
 "cells": [
  {
   "cell_type": "markdown",
   "id": "64327969",
   "metadata": {},
   "source": [
    "# NumPy GCD (Greatest Common Divisor)\n",
    "\n",
    "## Finding GCD \n",
    "\n",
    "The GCD, also known as HCF (Highest Common Factor) is the biggest no. that is a common factor of both of the no.s."
   ]
  },
  {
   "cell_type": "code",
   "execution_count": 1,
   "id": "6f6e3eab",
   "metadata": {},
   "outputs": [
    {
     "name": "stdout",
     "output_type": "stream",
     "text": [
      "3\n"
     ]
    }
   ],
   "source": [
    "import numpy as np\n",
    "\n",
    "num1 = 6\n",
    "num2 = 9\n",
    "\n",
    "x = np.gcd(num1, num2)\n",
    "\n",
    "print(x)"
   ]
  },
  {
   "cell_type": "markdown",
   "id": "afd58559",
   "metadata": {},
   "source": [
    "## Finding GCD in Arrays\n",
    "\n",
    "To find the HCF of all values in an array, you can use the `reduce()` method.\n",
    "\n",
    "> The `reduce()` method will use the ufunc, in this case the `gcd()` function, on each element, and reduce the array by one dimension."
   ]
  },
  {
   "cell_type": "code",
   "execution_count": 2,
   "id": "0df20fc2",
   "metadata": {},
   "outputs": [
    {
     "name": "stdout",
     "output_type": "stream",
     "text": [
      "4\n"
     ]
    }
   ],
   "source": [
    "import numpy as np\n",
    "\n",
    "arr = np.array([20, 8, 32, 36, 16])\n",
    "\n",
    "x = np.gcd.reduce(arr)\n",
    "\n",
    "print(x)"
   ]
  }
 ],
 "metadata": {
  "kernelspec": {
   "display_name": "Python 3",
   "language": "python",
   "name": "python3"
  },
  "language_info": {
   "codemirror_mode": {
    "name": "ipython",
    "version": 3
   },
   "file_extension": ".py",
   "mimetype": "text/x-python",
   "name": "python",
   "nbconvert_exporter": "python",
   "pygments_lexer": "ipython3",
   "version": "3.11.4"
  }
 },
 "nbformat": 4,
 "nbformat_minor": 5
}
