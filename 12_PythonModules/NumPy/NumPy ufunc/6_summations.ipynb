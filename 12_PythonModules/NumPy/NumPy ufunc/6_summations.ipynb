{
 "cells": [
  {
   "cell_type": "markdown",
   "id": "dba429a3",
   "metadata": {},
   "source": [
    "# NumPy Summations\n",
    "\n",
    "## Summations\n",
    "\n",
    "What is the difference between summation and addition?\n",
    "\n",
    "Addition is done between two arguments whereas summation happens over n elements.\n",
    "\n",
    "Eg: Add the values in arr1 to the values in arr2:"
   ]
  },
  {
   "cell_type": "code",
   "execution_count": 1,
   "id": "89ec6730",
   "metadata": {},
   "outputs": [
    {
     "name": "stdout",
     "output_type": "stream",
     "text": [
      "[2 4 6]\n"
     ]
    }
   ],
   "source": [
    "import numpy as np\n",
    "\n",
    "arr1 = np.array([1, 2, 3])\n",
    "arr2 = np.array([1, 2, 3])\n",
    "\n",
    "newarr = np.add(arr1, arr2)\n",
    "\n",
    "print(newarr)"
   ]
  },
  {
   "cell_type": "markdown",
   "id": "ac9b68a2",
   "metadata": {},
   "source": [
    "Eg: Sum the values in arr1 and the values in arr2:"
   ]
  },
  {
   "cell_type": "code",
   "execution_count": 2,
   "id": "82114cf5",
   "metadata": {},
   "outputs": [
    {
     "name": "stdout",
     "output_type": "stream",
     "text": [
      "12\n"
     ]
    }
   ],
   "source": [
    "newarr = np.sum([arr1, arr2])\n",
    "\n",
    "print(newarr)"
   ]
  },
  {
   "cell_type": "markdown",
   "id": "ddefebb6",
   "metadata": {},
   "source": [
    "## Summation Over an Axis\n",
    "\n",
    "If you specify `axis=1`, NumPy will sum the numbers in each array.\n",
    "\n",
    "Eg: Perform summation in the following array over 1st axis:"
   ]
  },
  {
   "cell_type": "code",
   "execution_count": 3,
   "id": "8e1012a3",
   "metadata": {},
   "outputs": [
    {
     "name": "stdout",
     "output_type": "stream",
     "text": [
      "[6 6]\n"
     ]
    }
   ],
   "source": [
    "import numpy as np\n",
    "\n",
    "arr1 = np.array([1, 2, 3])\n",
    "arr2 = np.array([1, 2, 3])\n",
    "\n",
    "newarr = np.sum([arr1, arr2], axis=1)\n",
    "\n",
    "print(newarr)"
   ]
  },
  {
   "cell_type": "markdown",
   "id": "dd6dcafa",
   "metadata": {},
   "source": [
    "## Cummulative Sum\n",
    "\n",
    "Cummulative sum means partially adding the elements in array.\n",
    "\n",
    "Eg: The partial sum of [1, 2, 3, 4] would be [1, 1+2, 1+2+3, 1+2+3+4] = [1, 3, 6, 10].\n",
    "\n",
    "Perform partiaal sum with the `cumsum()` function."
   ]
  },
  {
   "cell_type": "code",
   "execution_count": 4,
   "id": "4685cf80",
   "metadata": {},
   "outputs": [
    {
     "name": "stdout",
     "output_type": "stream",
     "text": [
      "[1 3 6]\n"
     ]
    }
   ],
   "source": [
    "import numpy as np\n",
    "\n",
    "arr = np.array([1, 2, 3])\n",
    "\n",
    "newarr = np.cumsum(arr)\n",
    "\n",
    "print(newarr)"
   ]
  }
 ],
 "metadata": {
  "kernelspec": {
   "display_name": "Python 3",
   "language": "python",
   "name": "python3"
  },
  "language_info": {
   "codemirror_mode": {
    "name": "ipython",
    "version": 3
   },
   "file_extension": ".py",
   "mimetype": "text/x-python",
   "name": "python",
   "nbconvert_exporter": "python",
   "pygments_lexer": "ipython3",
   "version": "3.11.4"
  }
 },
 "nbformat": 4,
 "nbformat_minor": 5
}
