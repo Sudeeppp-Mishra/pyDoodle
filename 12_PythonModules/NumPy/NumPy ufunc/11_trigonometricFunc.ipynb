{
 "cells": [
  {
   "cell_type": "markdown",
   "id": "0654a25f",
   "metadata": {},
   "source": [
    "# NumPy Trigonometric Functions\n",
    "\n",
    "## Trigonometric Functions\n",
    "\n",
    "NumPy provides the ufuncs `sin()`, `cos()`, and `tan()` that takes values in radians and produce the corresponding sin, cos, and tan valuess."
   ]
  },
  {
   "cell_type": "code",
   "execution_count": 1,
   "id": "a0c68260",
   "metadata": {},
   "outputs": [
    {
     "name": "stdout",
     "output_type": "stream",
     "text": [
      "1.0\n"
     ]
    }
   ],
   "source": [
    "import numpy as np\n",
    "\n",
    "x = np.sin(np.pi/2)\n",
    "\n",
    "print(x)"
   ]
  },
  {
   "cell_type": "code",
   "execution_count": 2,
   "id": "74e759ee",
   "metadata": {},
   "outputs": [
    {
     "name": "stdout",
     "output_type": "stream",
     "text": [
      "[1.         0.8660254  0.70710678 0.58778525]\n"
     ]
    }
   ],
   "source": [
    "import numpy as np\n",
    "\n",
    "arr = np.array([np.pi/2, np.pi/3, np.pi/4, np.pi/5])\n",
    "\n",
    "x = np.sin(arr)\n",
    "\n",
    "print(x)"
   ]
  },
  {
   "cell_type": "markdown",
   "id": "6f9d48d9",
   "metadata": {},
   "source": [
    "## Convert Degrees Into Radians\n",
    "\n",
    "By default all of the trigonometric functions take radians as parameters but we can convert radians to degrees and vice versa as well in NumPy.\n",
    "\n",
    "> **Note**: radians values are pi/180 degree\n",
    "\n",
    "Eg: Convert all of teh values in following array arr to radians:"
   ]
  },
  {
   "cell_type": "code",
   "execution_count": 3,
   "id": "d7ff367d",
   "metadata": {},
   "outputs": [
    {
     "name": "stdout",
     "output_type": "stream",
     "text": [
      "[1.57079633 3.14159265 4.71238898 6.28318531]\n"
     ]
    }
   ],
   "source": [
    "import numpy as np\n",
    "\n",
    "arr = np.array([90, 180, 270, 360])\n",
    "\n",
    "x = np.deg2rad(arr)\n",
    "\n",
    "print(x)"
   ]
  },
  {
   "cell_type": "markdown",
   "id": "146b6cd3",
   "metadata": {},
   "source": [
    "## Radians to Degrees"
   ]
  },
  {
   "cell_type": "code",
   "execution_count": 4,
   "id": "a4ebf237",
   "metadata": {},
   "outputs": [
    {
     "name": "stdout",
     "output_type": "stream",
     "text": [
      "[ 90. 180. 270. 360.]\n"
     ]
    }
   ],
   "source": [
    "import numpy as np\n",
    "\n",
    "arr = np.array([np.pi/2, np.pi, 1.5*np.pi, 2*np.pi])\n",
    "\n",
    "x = np.rad2deg(arr)\n",
    "\n",
    "print(x)"
   ]
  },
  {
   "cell_type": "markdown",
   "id": "adef42e8",
   "metadata": {},
   "source": [
    "## Finding Angles\n",
    "\n",
    "Finding angles from values of sine, cos, tan. Eg: sin, cos and tan inverse (arcsin, arccos, arctan).\n",
    "\n",
    "NumPy provides ufuncs `arcsin()`, `arccos()` and `arctan()` that produce radian values for corresponding sin, cos and tan values given.\n",
    "\n",
    "Eg: Find the angle of 1.0"
   ]
  },
  {
   "cell_type": "code",
   "execution_count": 5,
   "id": "173f432c",
   "metadata": {},
   "outputs": [
    {
     "name": "stdout",
     "output_type": "stream",
     "text": [
      "1.5707963267948966\n"
     ]
    }
   ],
   "source": [
    "import numpy as np\n",
    "\n",
    "x = np.arcsin(1.0)\n",
    "\n",
    "print(x)"
   ]
  },
  {
   "cell_type": "markdown",
   "id": "d3618574",
   "metadata": {},
   "source": [
    "## Angles for Each Values in Arrays\n",
    "\n",
    "Eg: Find the angle for all of the sine values in the array"
   ]
  },
  {
   "cell_type": "code",
   "execution_count": 6,
   "id": "67662d33",
   "metadata": {},
   "outputs": [
    {
     "name": "stdout",
     "output_type": "stream",
     "text": [
      "[ 1.57079633 -1.57079633  0.10016742]\n"
     ]
    }
   ],
   "source": [
    "import numpy as np\n",
    "\n",
    "arr = np.array([1, -1, 0.1])\n",
    "\n",
    "x = np.arcsin(arr)\n",
    "\n",
    "print(x)"
   ]
  },
  {
   "cell_type": "markdown",
   "id": "fc6c5fbe",
   "metadata": {},
   "source": [
    "## Hypotenues\n",
    "\n",
    "Finding hypotenues using pythagoras theorem in NumPy.\n",
    "\n",
    "NumPy provides the `hypot()` function that takes the base and perpendicular values and produces hypotenues based on pythagoras theorem.\n",
    "\n",
    "Eg: Find the hypotenues for 4 base and 3 perpendicular:"
   ]
  },
  {
   "cell_type": "code",
   "execution_count": 7,
   "id": "d1c8f6c7",
   "metadata": {},
   "outputs": [
    {
     "name": "stdout",
     "output_type": "stream",
     "text": [
      "5.0\n"
     ]
    }
   ],
   "source": [
    "import numpy as np\n",
    "\n",
    "base = 3\n",
    "perp = 4\n",
    "\n",
    "x = np.hypot(base, perp)\n",
    "\n",
    "print(x)"
   ]
  }
 ],
 "metadata": {
  "kernelspec": {
   "display_name": "Python 3",
   "language": "python",
   "name": "python3"
  },
  "language_info": {
   "codemirror_mode": {
    "name": "ipython",
    "version": 3
   },
   "file_extension": ".py",
   "mimetype": "text/x-python",
   "name": "python",
   "nbconvert_exporter": "python",
   "pygments_lexer": "ipython3",
   "version": "3.11.4"
  }
 },
 "nbformat": 4,
 "nbformat_minor": 5
}
