{
 "cells": [
  {
   "cell_type": "markdown",
   "id": "b707e2d8",
   "metadata": {},
   "source": [
    "# NumPy Hyperbolic Functions\n",
    "\n",
    "## Hyperboic Functions\n",
    "\n",
    "NumPy provides the ufuncs `sinh()`, `cosh()`, and `tanh()` that take values in radians and produce the corresponding sinh, cosh and tanh values.\n",
    "\n",
    "Eg: Find sinh value of PI/2"
   ]
  },
  {
   "cell_type": "code",
   "execution_count": 1,
   "id": "d2cc6f6a",
   "metadata": {},
   "outputs": [
    {
     "name": "stdout",
     "output_type": "stream",
     "text": [
      "2.3012989023072947\n"
     ]
    }
   ],
   "source": [
    "import numpy as np\n",
    "\n",
    "x = np.sinh(np.pi/2)\n",
    "\n",
    "print(x)"
   ]
  },
  {
   "cell_type": "markdown",
   "id": "da6f1966",
   "metadata": {},
   "source": [
    "Eg: Find cosh value for all of the values in arr:"
   ]
  },
  {
   "cell_type": "code",
   "execution_count": 2,
   "id": "985a8310",
   "metadata": {},
   "outputs": [
    {
     "name": "stdout",
     "output_type": "stream",
     "text": [
      "[2.50917848 1.60028686 1.32460909 1.20397209]\n"
     ]
    }
   ],
   "source": [
    "import numpy as np\n",
    "\n",
    "arr = np.array([np.pi/2, np.pi/3, np.pi/4, np.pi/5])\n",
    "\n",
    "x = np.cosh(arr)\n",
    "\n",
    "print(x)"
   ]
  },
  {
   "cell_type": "markdown",
   "id": "76ce8559",
   "metadata": {},
   "source": [
    "## Finding Angles\n",
    "\n",
    "Finding angles from values of hyperbolic sine, cos, tan. Eg: sinh, cosh and tanh inverse (arcsinh, arccosh, arctanh).\n",
    "\n",
    "NumPy provides ufuncs `arcsinh()`, `arccosh()`, and `arctanh()` that produce radian values for corresponding sinh, cosh and tanh values given.\n",
    "\n",
    "Eg: Find the angle of 1.0:"
   ]
  },
  {
   "cell_type": "code",
   "execution_count": 3,
   "id": "f2298d51",
   "metadata": {},
   "outputs": [
    {
     "name": "stdout",
     "output_type": "stream",
     "text": [
      "0.881373587019543\n"
     ]
    }
   ],
   "source": [
    "import numpy as np\n",
    "\n",
    "x = np.arcsinh(1.0)\n",
    "\n",
    "print(x)"
   ]
  },
  {
   "cell_type": "markdown",
   "id": "5c674ce4",
   "metadata": {},
   "source": [
    "## Angles of Each Value in Arrays\n",
    "\n",
    "Eg: Find the angle for all the tanh values in array:"
   ]
  },
  {
   "cell_type": "code",
   "execution_count": 4,
   "id": "3c9dce94",
   "metadata": {},
   "outputs": [
    {
     "name": "stdout",
     "output_type": "stream",
     "text": [
      "[0.10033535 0.20273255 0.54930614]\n"
     ]
    }
   ],
   "source": [
    "import numpy as np\n",
    "\n",
    "arr = np.array([0.1, 0.2, 0.5])\n",
    "\n",
    "x = np.arctanh(arr)\n",
    "\n",
    "print(x)"
   ]
  }
 ],
 "metadata": {
  "kernelspec": {
   "display_name": "Python 3",
   "language": "python",
   "name": "python3"
  },
  "language_info": {
   "codemirror_mode": {
    "name": "ipython",
    "version": 3
   },
   "file_extension": ".py",
   "mimetype": "text/x-python",
   "name": "python",
   "nbconvert_exporter": "python",
   "pygments_lexer": "ipython3",
   "version": "3.11.4"
  }
 },
 "nbformat": 4,
 "nbformat_minor": 5
}
