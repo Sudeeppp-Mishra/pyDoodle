{
 "cells": [
  {
   "cell_type": "markdown",
   "id": "03586e55",
   "metadata": {},
   "source": [
    "# NumPy Set Operations\n",
    "\n",
    "## What is a Set?\n",
    "\n",
    "A set in mathematics is a colelction of unique elements.\n",
    "\n",
    "Sets are used for operations involving frequent intersection, union and difference operations. \n",
    "\n",
    "---\n",
    "\n",
    "## Create Sets in NumPy\n",
    "\n",
    "We can use NumPy's `unique()` method to find unique elements from any array. Eg: create a set array, but remember that the set arrays should only be 1-D arrays.\n",
    "\n",
    "Eg: Convert following array with repeated elements to a set:"
   ]
  },
  {
   "cell_type": "code",
   "execution_count": 1,
   "id": "586f62a8",
   "metadata": {},
   "outputs": [
    {
     "name": "stdout",
     "output_type": "stream",
     "text": [
      "[1 2 3 4 5 6 7]\n"
     ]
    }
   ],
   "source": [
    "import numpy as np\n",
    "\n",
    "arr = np.array([1, 1, 1, 2, 3, 4, 5, 5, 6, 7])\n",
    "\n",
    "x = np.unique(arr)\n",
    "\n",
    "print(x)"
   ]
  },
  {
   "cell_type": "markdown",
   "id": "3e2f8ebf",
   "metadata": {},
   "source": [
    "## Finding Union\n",
    "\n",
    "To find the unique values of two arrays, use the `union1d()` method.\n",
    "\n",
    "Eg: Find union of the following two set arrays:"
   ]
  },
  {
   "cell_type": "code",
   "execution_count": 4,
   "id": "16ebce72",
   "metadata": {},
   "outputs": [
    {
     "name": "stdout",
     "output_type": "stream",
     "text": [
      "[1 2 3 4 5 6]\n"
     ]
    }
   ],
   "source": [
    "import numpy as np\n",
    "\n",
    "arr1 = np.array([1, 2, 3, 4])\n",
    "arr2 = np.array([3, 4, 5, 6])\n",
    "\n",
    "newarr = np.union1d(arr1, arr2)\n",
    "\n",
    "print(newarr)"
   ]
  },
  {
   "cell_type": "markdown",
   "id": "3c8c3792",
   "metadata": {},
   "source": [
    "## Finding Intersection\n",
    "\n",
    "To find only the values that are present in both arrays, use the `intersect1d()` method."
   ]
  },
  {
   "cell_type": "code",
   "execution_count": 5,
   "id": "85311f5b",
   "metadata": {},
   "outputs": [
    {
     "name": "stdout",
     "output_type": "stream",
     "text": [
      "[3 4]\n"
     ]
    }
   ],
   "source": [
    "import numpy as np\n",
    "\n",
    "arr1 = np.array([1, 2, 3, 4])\n",
    "arr2 = np.array([3, 4, 5, 6])\n",
    "\n",
    "newarr = np.intersect1d(arr1, arr2, assume_unique=True)\n",
    "\n",
    "print(newarr)"
   ]
  },
  {
   "cell_type": "markdown",
   "id": "8e8c9b69",
   "metadata": {},
   "source": [
    "> **Note**: the `intersect1d()` method takes an optional argument `assume_unique`, which if set to True can speed up computation. It should always be set to True when dealing with sets.\n",
    "\n",
    "## Finding Difference\n",
    "\n",
    "To find only the values in the first set that is NOT present in the second set, use the `setdiff1d()` method."
   ]
  },
  {
   "cell_type": "markdown",
   "id": "dc4f33b0",
   "metadata": {},
   "source": [
    "Eg: Find the difference of the set1 from set2:"
   ]
  },
  {
   "cell_type": "code",
   "execution_count": 6,
   "id": "6d25efd2",
   "metadata": {},
   "outputs": [
    {
     "name": "stdout",
     "output_type": "stream",
     "text": [
      "[1 2]\n"
     ]
    }
   ],
   "source": [
    "import numpy as np\n",
    "\n",
    "set1 = np.array([1, 2, 3, 4])\n",
    "set2 = np.array([3, 4, 5, 6])\n",
    "\n",
    "newarr = np.setdiff1d(set1, set2, assume_unique=True)\n",
    "\n",
    "print(newarr)"
   ]
  },
  {
   "cell_type": "markdown",
   "id": "ac66d9f0",
   "metadata": {},
   "source": [
    "> **Note**: the `setdifft1d()` method takes an optional argument `assume_unique`, which if set to True can speed up computation. It should always be set to True when dealing with sets.\n",
    "\n",
    "## Finding Symmetric Difference\n",
    "\n",
    "To find only the values that are NOT present in BOTH sets, use the `setxor1d()` method."
   ]
  },
  {
   "cell_type": "code",
   "execution_count": 7,
   "id": "6eeaf64e",
   "metadata": {},
   "outputs": [
    {
     "name": "stdout",
     "output_type": "stream",
     "text": [
      "[1 2 5 6]\n"
     ]
    }
   ],
   "source": [
    "import numpy as np\n",
    "\n",
    "set1 = np.array([1, 2, 3, 4])\n",
    "set2 = np.array([3, 4, 5, 6])\n",
    "\n",
    "newarr = np.setxor1d(set1, set2, assume_unique=True)\n",
    "\n",
    "print(newarr)"
   ]
  },
  {
   "cell_type": "markdown",
   "id": "d91c9ed9",
   "metadata": {},
   "source": [
    "> **Note**: the `setxor1d()` method takes an optional argument `assume_unique`, which if set to True can speed up computation. It should always be set to True when dealing with sets."
   ]
  }
 ],
 "metadata": {
  "kernelspec": {
   "display_name": "Python 3",
   "language": "python",
   "name": "python3"
  },
  "language_info": {
   "codemirror_mode": {
    "name": "ipython",
    "version": 3
   },
   "file_extension": ".py",
   "mimetype": "text/x-python",
   "name": "python",
   "nbconvert_exporter": "python",
   "pygments_lexer": "ipython3",
   "version": "3.11.4"
  }
 },
 "nbformat": 4,
 "nbformat_minor": 5
}
