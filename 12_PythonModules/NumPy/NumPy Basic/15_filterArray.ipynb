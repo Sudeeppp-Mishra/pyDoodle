{
 "cells": [
  {
   "cell_type": "markdown",
   "id": "d3914cb0",
   "metadata": {},
   "source": [
    "## Filtering Arrays\n",
    "\n",
    "Getting some elements out of an existing array and creating a new array out of them is called *filtering*.\n",
    "\n",
    "In NumPy, you filter an array using a *boolean index list*."
   ]
  },
  {
   "cell_type": "markdown",
   "id": "da3d3209",
   "metadata": {},
   "source": [
    "> A *boolean index list* is a list of booleans corresponding to indexes in the array.\n",
    "\n",
    "If the value at an index is `True` that element is contained in the filtered array, if the value at that index is `False` that element is excluded from the filtered array.\n",
    "\n",
    "Eg: Create an array from the elements on index 0 and 2"
   ]
  },
  {
   "cell_type": "code",
   "execution_count": 1,
   "id": "2b7f57cd",
   "metadata": {},
   "outputs": [
    {
     "name": "stdout",
     "output_type": "stream",
     "text": [
      "[41 43]\n"
     ]
    }
   ],
   "source": [
    "import numpy as np\n",
    "\n",
    "arr = np.array([41, 42, 43, 44])\n",
    "\n",
    "x = [True, False, True, False]\n",
    "\n",
    "newarr = arr[x]\n",
    "\n",
    "print(newarr)"
   ]
  },
  {
   "cell_type": "markdown",
   "id": "57c81373",
   "metadata": {},
   "source": [
    "The example above will return [41, 43], why?\n",
    "\n",
    "Because the new array contains only the values where the filter array had the value True, in this case, index 0 and 2."
   ]
  },
  {
   "cell_type": "markdown",
   "id": "e8d2f7e4",
   "metadata": {},
   "source": [
    "## Creating the Filter Array\n",
    "\n",
    "In the example above we hard-coded the `True` and `False` values, but the common use is to create a filter array based on conditions.\n",
    "\n",
    "Eg: Create a filter array that will return only values higher than 42:"
   ]
  },
  {
   "cell_type": "code",
   "execution_count": 2,
   "id": "2565723a",
   "metadata": {},
   "outputs": [
    {
     "name": "stdout",
     "output_type": "stream",
     "text": [
      "[False, False, True, True]\n",
      "[43 44]\n"
     ]
    }
   ],
   "source": [
    "import numpy as np\n",
    "\n",
    "arr = np.array([41, 42, 43, 44])\n",
    "\n",
    "# Create an empty list\n",
    "\n",
    "filter_arr = []\n",
    "\n",
    "# go through each element in arr\n",
    "for element in arr:\n",
    "    if element>42:\n",
    "        filter_arr.append(True)\n",
    "    else:\n",
    "        filter_arr.append(False)\n",
    "        \n",
    "newarr = arr[filter_arr]\n",
    "\n",
    "print(filter_arr)\n",
    "print(newarr)"
   ]
  },
  {
   "cell_type": "markdown",
   "id": "c8c4585b",
   "metadata": {},
   "source": [
    "Eg: Create a filter array that will return only even elements from teh original array:"
   ]
  },
  {
   "cell_type": "code",
   "execution_count": 3,
   "id": "d3b937be",
   "metadata": {},
   "outputs": [
    {
     "name": "stdout",
     "output_type": "stream",
     "text": [
      "[False, True, False, True, False, True, False]\n",
      "[2 4 6]\n"
     ]
    }
   ],
   "source": [
    "import numpy as np\n",
    "\n",
    "arr = np.array([1, 2, 3, 4, 5, 6, 7])\n",
    "\n",
    "filter_arr = []\n",
    "\n",
    "for element in arr:\n",
    "    if element%2==0:\n",
    "        filter_arr.append(True)\n",
    "    else:\n",
    "        filter_arr.append(False)\n",
    "        \n",
    "newarr = arr[filter_arr]\n",
    "\n",
    "print(filter_arr)\n",
    "print(newarr)"
   ]
  },
  {
   "cell_type": "markdown",
   "id": "7dce89d7",
   "metadata": {},
   "source": [
    "## Creating Filter Directly From Array\n",
    "\n",
    "The above example is quite comman task in NumPy and NumPy provides a nice way to tackle it.\n",
    "\n",
    "We can directly substitue the array instead of the iterable variable in our condition and it will work just as we expect it to."
   ]
  },
  {
   "cell_type": "markdown",
   "id": "07cd6984",
   "metadata": {},
   "source": [
    "Eg: Filter for no. > 42"
   ]
  },
  {
   "cell_type": "code",
   "execution_count": 4,
   "id": "6f8b16a4",
   "metadata": {},
   "outputs": [
    {
     "name": "stdout",
     "output_type": "stream",
     "text": [
      "[False False  True  True]\n",
      "[43 44]\n"
     ]
    }
   ],
   "source": [
    "import numpy as np\n",
    "\n",
    "arr = np.array([41, 42, 43, 44])\n",
    "\n",
    "filter_arr = arr>42\n",
    "\n",
    "newarr = arr[filter_arr]\n",
    "\n",
    "print(filter_arr)\n",
    "print(newarr)"
   ]
  },
  {
   "cell_type": "markdown",
   "id": "0a780df9",
   "metadata": {},
   "source": [
    "Eg: Filter for even no.s only"
   ]
  },
  {
   "cell_type": "code",
   "execution_count": null,
   "id": "c1ddc82f",
   "metadata": {},
   "outputs": [],
   "source": []
  },
  {
   "cell_type": "code",
   "execution_count": 5,
   "id": "3809407b",
   "metadata": {},
   "outputs": [
    {
     "name": "stdout",
     "output_type": "stream",
     "text": [
      "[False  True False  True False  True False  True]\n",
      "[2 4 6 8]\n"
     ]
    }
   ],
   "source": [
    "import numpy as np\n",
    "\n",
    "arr = np.array([1, 2, 3, 4, 5, 6, 7, 8])\n",
    "\n",
    "filter_arr = arr%2==0\n",
    "\n",
    "newarr = arr[filter_arr]\n",
    "\n",
    "print(filter_arr)\n",
    "print(newarr)"
   ]
  }
 ],
 "metadata": {
  "kernelspec": {
   "display_name": "Python 3",
   "language": "python",
   "name": "python3"
  },
  "language_info": {
   "codemirror_mode": {
    "name": "ipython",
    "version": 3
   },
   "file_extension": ".py",
   "mimetype": "text/x-python",
   "name": "python",
   "nbconvert_exporter": "python",
   "pygments_lexer": "ipython3",
   "version": "3.11.4"
  }
 },
 "nbformat": 4,
 "nbformat_minor": 5
}
