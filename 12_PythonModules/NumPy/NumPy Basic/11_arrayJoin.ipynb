{
 "cells": [
  {
   "cell_type": "markdown",
   "id": "9b423d90",
   "metadata": {},
   "source": [
    "# NumPy Joining Array\n",
    "\n",
    "## Joining NumPy Arrays\n",
    "\n",
    "Joining means putting contents of two or more arrays in a single array.\n",
    "\n",
    "In SQL we join tables based on a key, whereas in NumPy we join arrays by axes.\n",
    "\n",
    "We pass a sequence of arrays that we want to join in the `concatenate()` function, along with the axis. If axis is not explicitly passed, it is taken as 0."
   ]
  },
  {
   "cell_type": "code",
   "execution_count": 3,
   "id": "9d2ea7e5",
   "metadata": {},
   "outputs": [
    {
     "name": "stdout",
     "output_type": "stream",
     "text": [
      "[1 2 4 4 5 6]\n"
     ]
    }
   ],
   "source": [
    "# Join two arrays\n",
    "import numpy as np\n",
    "\n",
    "arr1 = np.array([1, 2, 4])\n",
    "arr2 = np.array([4, 5, 6])\n",
    "\n",
    "concat_arr = np.concatenate((arr1, arr2))\n",
    "print(concat_arr)"
   ]
  },
  {
   "cell_type": "markdown",
   "id": "db7e803f",
   "metadata": {},
   "source": [
    "Eg: Join two 2-D arrays along rows (axis = 1):"
   ]
  },
  {
   "cell_type": "code",
   "execution_count": 5,
   "id": "c466ff41",
   "metadata": {},
   "outputs": [
    {
     "name": "stdout",
     "output_type": "stream",
     "text": [
      "[[1 2 5 6]\n",
      " [3 4 7 8]]\n"
     ]
    }
   ],
   "source": [
    "import numpy as np\n",
    "\n",
    "arr1 = np.array([[1, 2], [3, 4]])\n",
    "arr2 = np.array([[5, 6], [7, 8]])\n",
    "\n",
    "concat_arr = np.concatenate((arr1, arr2), axis=1)\n",
    "\n",
    "print(concat_arr)"
   ]
  },
  {
   "cell_type": "code",
   "execution_count": 6,
   "id": "2556f413",
   "metadata": {},
   "outputs": [
    {
     "name": "stdout",
     "output_type": "stream",
     "text": [
      "[[1 2]\n",
      " [3 4]\n",
      " [5 6]\n",
      " [7 8]]\n"
     ]
    }
   ],
   "source": [
    "import numpy as np\n",
    "\n",
    "arr1 = np.array([[1, 2], [3, 4]])\n",
    "arr2 = np.array([[5, 6], [7, 8]])\n",
    "\n",
    "concat_arr = np.concatenate((arr1, arr2), axis=0)\n",
    "\n",
    "print(concat_arr)"
   ]
  },
  {
   "cell_type": "markdown",
   "id": "5ff22f7e",
   "metadata": {},
   "source": [
    "## Joining Arrays Using Stack Functions\n",
    "\n",
    "Stacking is same as concatenation, the only difference is that stacking is done along a new axis.\n",
    "\n",
    "We can concatenate two 1-D arrays along the second axis which would result in putting them one over the otehr, i.e., stacking.\n",
    "\n",
    "We pass a sequence of arrays that we want to join to the `stack()` method along with the axis. If axis is not explicitly passed it is taken as 0."
   ]
  },
  {
   "cell_type": "code",
   "execution_count": 9,
   "id": "67dfa63d",
   "metadata": {},
   "outputs": [
    {
     "name": "stdout",
     "output_type": "stream",
     "text": [
      "[[1 4]\n",
      " [2 5]\n",
      " [3 6]]\n"
     ]
    }
   ],
   "source": [
    "import numpy as np\n",
    "\n",
    "arr1 = np.array([1, 2, 3])\n",
    "arr2 = np.array([4, 5, 6])\n",
    "\n",
    "concat_arr = np.stack((arr1, arr2), axis=1)\n",
    "print(concat_arr)"
   ]
  },
  {
   "cell_type": "markdown",
   "id": "359b3ddf",
   "metadata": {},
   "source": [
    "## Stacking Along Rows\n",
    "\n",
    "NumPy provides a helper function: `hstack()` to stack along rows."
   ]
  },
  {
   "cell_type": "code",
   "execution_count": 10,
   "id": "2dd6924d",
   "metadata": {},
   "outputs": [
    {
     "name": "stdout",
     "output_type": "stream",
     "text": [
      "[1 2 3 4 5 6]\n"
     ]
    }
   ],
   "source": [
    "concat_arr_hstack = np.hstack((arr1, arr2))\n",
    "print(concat_arr_hstack)"
   ]
  },
  {
   "cell_type": "markdown",
   "id": "882ddbc1",
   "metadata": {},
   "source": [
    "## Stacking Along Columns\n",
    "\n",
    "NumPy provides a helper function: `vstack()` to stack along columns."
   ]
  },
  {
   "cell_type": "code",
   "execution_count": 12,
   "id": "04a7c776",
   "metadata": {},
   "outputs": [
    {
     "name": "stdout",
     "output_type": "stream",
     "text": [
      "[[1 2 3]\n",
      " [4 5 6]]\n"
     ]
    }
   ],
   "source": [
    "import numpy as np\n",
    "\n",
    "arr1 = np.array([1, 2, 3])\n",
    "arr2 = np.array([4, 5, 6])\n",
    "\n",
    "concat_arr_vstack = np.vstack((arr1, arr2))\n",
    "\n",
    "print(concat_arr_vstack)"
   ]
  },
  {
   "cell_type": "markdown",
   "id": "8c9f782c",
   "metadata": {},
   "source": [
    "## Stacking Along Height (depth)\n",
    "\n",
    "NumPy provides a helper function: `dstack()` to stack along height, which is same as depth."
   ]
  },
  {
   "cell_type": "code",
   "execution_count": 13,
   "id": "2a43c5db",
   "metadata": {},
   "outputs": [
    {
     "name": "stdout",
     "output_type": "stream",
     "text": [
      "[[[1 4]\n",
      "  [2 5]\n",
      "  [3 6]]]\n"
     ]
    }
   ],
   "source": [
    "import numpy as np\n",
    "\n",
    "arr1 = np.array([1, 2, 3])\n",
    "arr2 = np.array([4, 5, 6])\n",
    "\n",
    "dstack_arr = np.dstack((arr1, arr2))\n",
    "\n",
    "print(dstack_arr)"
   ]
  }
 ],
 "metadata": {
  "kernelspec": {
   "display_name": "Python 3",
   "language": "python",
   "name": "python3"
  },
  "language_info": {
   "codemirror_mode": {
    "name": "ipython",
    "version": 3
   },
   "file_extension": ".py",
   "mimetype": "text/x-python",
   "name": "python",
   "nbconvert_exporter": "python",
   "pygments_lexer": "ipython3",
   "version": "3.11.4"
  }
 },
 "nbformat": 4,
 "nbformat_minor": 5
}
