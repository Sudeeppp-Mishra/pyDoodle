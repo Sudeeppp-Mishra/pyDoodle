{
 "cells": [
  {
   "cell_type": "markdown",
   "id": "424d6dc6",
   "metadata": {},
   "source": [
    "# NumPy Array Slicing\n",
    "\n",
    "## Slicing arrays\n",
    "\n",
    "Slicing in python means taking elements from one given index to another given index.\n",
    "\n",
    "We pass slice instead of index like this: `[start: end]`\n",
    "\n",
    "We can also define the step, like this: `[start:end:step]`\n",
    "\n",
    "If we don't pass start its considered 0\n",
    "\n",
    "If we don't pass end its considered length of array in that dimension\n",
    "\n",
    "If we don't pass step its considered 1"
   ]
  },
  {
   "cell_type": "markdown",
   "id": "8cf27317",
   "metadata": {},
   "source": [
    "Eg: Slice elements from index 1 to index 5 from the following array:"
   ]
  },
  {
   "cell_type": "code",
   "execution_count": 1,
   "id": "65312224",
   "metadata": {},
   "outputs": [
    {
     "name": "stdout",
     "output_type": "stream",
     "text": [
      "[2 3 4 5]\n"
     ]
    }
   ],
   "source": [
    "import numpy as np\n",
    "\n",
    "arr = np.array([1, 2, 3, 4, 5, 6, 7, 8])\n",
    "\n",
    "print(arr[1:5])"
   ]
  },
  {
   "cell_type": "markdown",
   "id": "a5b5cd9c",
   "metadata": {},
   "source": [
    "> Note: The result includes the start index, but excludes the end index"
   ]
  },
  {
   "cell_type": "markdown",
   "id": "1418da57",
   "metadata": {},
   "source": [
    "Eg: Slice elements from index 4 to the end of the array:"
   ]
  },
  {
   "cell_type": "code",
   "execution_count": 2,
   "id": "e59032b2",
   "metadata": {},
   "outputs": [
    {
     "name": "stdout",
     "output_type": "stream",
     "text": [
      "[5 6 7 8]\n"
     ]
    }
   ],
   "source": [
    "print(arr[4:])"
   ]
  },
  {
   "cell_type": "markdown",
   "id": "c4cf5c35",
   "metadata": {},
   "source": [
    "Eg: Slice elements from the beginning to the index 4 (not included)"
   ]
  },
  {
   "cell_type": "code",
   "execution_count": 3,
   "id": "89bac313",
   "metadata": {},
   "outputs": [
    {
     "name": "stdout",
     "output_type": "stream",
     "text": [
      "[1 2 3 4]\n"
     ]
    }
   ],
   "source": [
    "print(arr[:4])"
   ]
  },
  {
   "cell_type": "markdown",
   "id": "751bed09",
   "metadata": {},
   "source": [
    "## Negative Slicing\n",
    "\n",
    "Use the minus operator to refer to an index from the end:\n",
    "\n",
    "Eg: Slice from the index 3 from the end to index 1 from the end:"
   ]
  },
  {
   "cell_type": "code",
   "execution_count": 4,
   "id": "7663e62e",
   "metadata": {},
   "outputs": [
    {
     "name": "stdout",
     "output_type": "stream",
     "text": [
      "[6 7]\n"
     ]
    }
   ],
   "source": [
    "print(arr[-3: -1])"
   ]
  },
  {
   "cell_type": "markdown",
   "id": "e69eb290",
   "metadata": {},
   "source": [
    "## STEP\n",
    "\n",
    "Use the `step` value to determine the step of the slicing.\n",
    "\n",
    "Eg: Return every otehr element from index 1 to index 5:"
   ]
  },
  {
   "cell_type": "code",
   "execution_count": 5,
   "id": "c5c4c6be",
   "metadata": {},
   "outputs": [
    {
     "name": "stdout",
     "output_type": "stream",
     "text": [
      "[2 4]\n"
     ]
    }
   ],
   "source": [
    "print(arr[1:5:2])"
   ]
  },
  {
   "cell_type": "markdown",
   "id": "ea4f0ee6",
   "metadata": {},
   "source": [
    "Eg: Return every other element from teh entire array:"
   ]
  },
  {
   "cell_type": "code",
   "execution_count": 6,
   "id": "a9fca5bf",
   "metadata": {},
   "outputs": [
    {
     "name": "stdout",
     "output_type": "stream",
     "text": [
      "[1 3 5 7]\n"
     ]
    }
   ],
   "source": [
    "print(arr[::2])"
   ]
  },
  {
   "cell_type": "markdown",
   "id": "97b4a1a3",
   "metadata": {},
   "source": [
    "## Slicing 2-D Arrays\n",
    "\n",
    "Eg: From the 2nd element, slice elements from index 1 to index 4 (not included):"
   ]
  },
  {
   "cell_type": "code",
   "execution_count": 7,
   "id": "b2f1fc83",
   "metadata": {},
   "outputs": [
    {
     "name": "stdout",
     "output_type": "stream",
     "text": [
      "[ 8  9 10]\n"
     ]
    }
   ],
   "source": [
    "import numpy as np\n",
    "\n",
    "arr = np.array([[1, 2, 3, 4, 5, 6], [7, 8, 9, 10, 11, 12]])\n",
    "\n",
    "print(arr[1, 1:4])"
   ]
  },
  {
   "cell_type": "markdown",
   "id": "32ce8bc8",
   "metadata": {},
   "source": [
    "> Note: Remember that 2nd element has index 1"
   ]
  },
  {
   "cell_type": "markdown",
   "id": "119e50e2",
   "metadata": {},
   "source": [
    "Eg: From both elements, return index 2:"
   ]
  },
  {
   "cell_type": "code",
   "execution_count": 8,
   "id": "5bd2a4ad",
   "metadata": {},
   "outputs": [
    {
     "name": "stdout",
     "output_type": "stream",
     "text": [
      "[3 9]\n"
     ]
    }
   ],
   "source": [
    "print(arr[0:2, 2])"
   ]
  },
  {
   "cell_type": "markdown",
   "id": "ff23a6d8",
   "metadata": {},
   "source": [
    "Eg: From both elements, slice index 1 to index 4 (not included), this will return a 2-D array:"
   ]
  },
  {
   "cell_type": "code",
   "execution_count": 9,
   "id": "5d9c1ccb",
   "metadata": {},
   "outputs": [
    {
     "name": "stdout",
     "output_type": "stream",
     "text": [
      "[[ 2  3  4]\n",
      " [ 8  9 10]]\n"
     ]
    }
   ],
   "source": [
    "print(arr[0:2, 1:4])"
   ]
  }
 ],
 "metadata": {
  "kernelspec": {
   "display_name": "Python 3",
   "language": "python",
   "name": "python3"
  },
  "language_info": {
   "codemirror_mode": {
    "name": "ipython",
    "version": 3
   },
   "file_extension": ".py",
   "mimetype": "text/x-python",
   "name": "python",
   "nbconvert_exporter": "python",
   "pygments_lexer": "ipython3",
   "version": "3.11.4"
  }
 },
 "nbformat": 4,
 "nbformat_minor": 5
}
