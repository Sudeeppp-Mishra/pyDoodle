{
 "cells": [
  {
   "cell_type": "markdown",
   "id": "4ebaa23c",
   "metadata": {},
   "source": [
    "# NumPy Array Indexing\n",
    "\n",
    "## Access Array Elements\n",
    "\n",
    "Array indexing is the same as accessing an array element.\n",
    "\n",
    "You can access an array element by referring to its index number.\n",
    "\n",
    "The indexes in NumPy arrays start with 0, meaning that the first element has index 0, and the 2nd has index 1 and so on."
   ]
  },
  {
   "cell_type": "code",
   "execution_count": 2,
   "id": "e20b1ccf",
   "metadata": {},
   "outputs": [
    {
     "name": "stdout",
     "output_type": "stream",
     "text": [
      "1\n",
      "3\n",
      "5\n"
     ]
    }
   ],
   "source": [
    "import numpy as np\n",
    "\n",
    "arr = np.array([1, 2, 3])\n",
    "\n",
    "print(arr[0])\n",
    "\n",
    "print(arr[2])\n",
    "\n",
    "print(arr[1]+arr[2])"
   ]
  },
  {
   "cell_type": "markdown",
   "id": "a338496e",
   "metadata": {},
   "source": [
    "## Access 2-D Arrays\n",
    "\n",
    "To access elements from 2-D arrays we can use comma separated integers representing the dimension and the index of the element.\n",
    "\n",
    "Think of 2-D arrays like a table with rows and columns, where the dimension represents the row and the index represents the column.\n",
    "\n",
    "Eg: Access the element in the first row, second column:"
   ]
  },
  {
   "cell_type": "code",
   "execution_count": 5,
   "id": "4cc572ef",
   "metadata": {},
   "outputs": [
    {
     "name": "stdout",
     "output_type": "stream",
     "text": [
      "2nd element on 1st row:  2\n",
      "5th element on 2nd row:  9\n"
     ]
    }
   ],
   "source": [
    "import numpy as np\n",
    "\n",
    "arr = np.array([[1, 2, 3, 8, 2], [4, 5, 6, 8, 9]])\n",
    "\n",
    "print('2nd element on 1st row: ', arr[0, 1])\n",
    "\n",
    "print('5th element on 2nd row: ', arr[1, 4])"
   ]
  },
  {
   "cell_type": "markdown",
   "id": "d1d55a64",
   "metadata": {},
   "source": [
    "## Access 3-D Arrays\n",
    "\n",
    "To access elements from 3-D arrays we can use comma separated integers representing the dimensions and the index of the element.\n",
    "\n",
    "Eg: Access the third element of the second array of the first array"
   ]
  },
  {
   "cell_type": "code",
   "execution_count": 7,
   "id": "6479e205",
   "metadata": {},
   "outputs": [
    {
     "name": "stdout",
     "output_type": "stream",
     "text": [
      "6\n"
     ]
    }
   ],
   "source": [
    "import numpy as np\n",
    "\n",
    "arr = np.array([[[1, 2, 3], [4, 5, 6]], [[7, 8, 9], [10, 11, 12]]])\n",
    "\n",
    "print(arr[0, 1, 2])"
   ]
  },
  {
   "cell_type": "markdown",
   "id": "a51c8d02",
   "metadata": {},
   "source": [
    "#### Example Explained\n",
    "arr[0, 1, 2] prints the value 6.\n",
    "\n",
    "And this is why:\n",
    "\n",
    "The first number represents the first dimension, which contains two arrays:\n",
    "\n",
    "[[1, 2, 3], [4, 5, 6]]\n",
    "\n",
    "and:\n",
    "\n",
    "[[7, 8, 9], [10, 11, 12]]\n",
    "\n",
    "Since we selected 0, we are left with the first array:\n",
    "\n",
    "[[1, 2, 3], [4, 5, 6]]\n",
    "\n",
    "The second number represents the second dimension, which also contains two arrays:\n",
    "\n",
    "[1, 2, 3]\n",
    "\n",
    "and:\n",
    "\n",
    "[4, 5, 6]\n",
    "\n",
    "Since we selected 1, we are left with the second array:\n",
    "\n",
    "[4, 5, 6]\n",
    "\n",
    "The third number represents the third dimension, which contains three values:\n",
    "\n",
    "4\n",
    "5\n",
    "6\n",
    "\n",
    "Since we selected 2, we end up with the third value:\n",
    "\n",
    "6"
   ]
  },
  {
   "cell_type": "markdown",
   "id": "b43dfa30",
   "metadata": {},
   "source": [
    "## Negative Indexing\n",
    "\n",
    "Use negative indexing to access an array from the end."
   ]
  },
  {
   "cell_type": "code",
   "execution_count": 8,
   "id": "0cd8dbb4",
   "metadata": {},
   "outputs": [
    {
     "name": "stdout",
     "output_type": "stream",
     "text": [
      "Last element of 2nd dim:  10\n"
     ]
    }
   ],
   "source": [
    "import numpy as np\n",
    "\n",
    "arr = np.array([[1, 2, 3, 4, 5], [6, 7, 8, 9, 10]])\n",
    "\n",
    "print('Last element of 2nd dim: ', arr[1, -1])"
   ]
  },
  {
   "cell_type": "code",
   "execution_count": null,
   "id": "bf8bdbf9",
   "metadata": {},
   "outputs": [],
   "source": []
  }
 ],
 "metadata": {
  "kernelspec": {
   "display_name": "Python 3",
   "language": "python",
   "name": "python3"
  },
  "language_info": {
   "codemirror_mode": {
    "name": "ipython",
    "version": 3
   },
   "file_extension": ".py",
   "mimetype": "text/x-python",
   "name": "python",
   "nbconvert_exporter": "python",
   "pygments_lexer": "ipython3",
   "version": "3.11.4"
  }
 },
 "nbformat": 4,
 "nbformat_minor": 5
}
