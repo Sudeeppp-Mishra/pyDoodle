{
 "cells": [
  {
   "cell_type": "markdown",
   "id": "f7cfb99f",
   "metadata": {},
   "source": [
    "# NumPy Creating Arrays\n",
    "\n",
    "## Create a NumPy ndarray Object\n",
    "\n",
    "NumPy is used to work with arrays. The arrray object in NumPy is called `ndarray`.\n",
    "\n",
    "We can create a NumPy `ndarray` object by using the `array()` function."
   ]
  },
  {
   "cell_type": "code",
   "execution_count": 1,
   "id": "7d752c85",
   "metadata": {},
   "outputs": [
    {
     "name": "stdout",
     "output_type": "stream",
     "text": [
      "[1 2 4 5]\n",
      "<class 'numpy.ndarray'>\n"
     ]
    }
   ],
   "source": [
    "import numpy as np\n",
    "\n",
    "arr = np.array([1, 2, 4, 5])\n",
    "\n",
    "print(arr)\n",
    "\n",
    "print(type(arr))"
   ]
  },
  {
   "cell_type": "markdown",
   "id": "6ceacb43",
   "metadata": {},
   "source": [
    "> **type()**: this built-in Python func tells us the type of the object passed to it.\n",
    "\n",
    "To create an `ndarray`, we can pass a list, tuple,, or any array-like object into the `array()` method, and it will be converted into an `ndarray`.\n",
    "\n",
    "Eg:: use a tuple to create a NumPy array:"
   ]
  },
  {
   "cell_type": "code",
   "execution_count": 2,
   "id": "973b8da9",
   "metadata": {},
   "outputs": [
    {
     "name": "stdout",
     "output_type": "stream",
     "text": [
      "[1 2 3]\n"
     ]
    }
   ],
   "source": [
    "import numpy as np\n",
    "\n",
    "arr = np.array((1, 2, 3))\n",
    "\n",
    "print(arr)"
   ]
  },
  {
   "cell_type": "markdown",
   "id": "ea47eefb",
   "metadata": {},
   "source": [
    "## Dimensions in Arrays\n",
    "\n",
    "A dimension in arrays is one level of array depth (nested arrays).\n",
    "\n",
    "> **nested array**: are arrays that have arrays as their elements"
   ]
  },
  {
   "cell_type": "markdown",
   "id": "8cc5fc69",
   "metadata": {},
   "source": [
    "## 0-D Arrays\n",
    "\n",
    "0-D arrays, or Scalars, are the elements in an array. Ech value in an array is a 0-D array"
   ]
  },
  {
   "cell_type": "code",
   "execution_count": 3,
   "id": "fe09fbf6",
   "metadata": {},
   "outputs": [
    {
     "name": "stdout",
     "output_type": "stream",
     "text": [
      "35\n"
     ]
    }
   ],
   "source": [
    "import numpy as np\n",
    "\n",
    "arr = np.array(35)\n",
    "\n",
    "print(arr)"
   ]
  },
  {
   "cell_type": "markdown",
   "id": "791bbe35",
   "metadata": {},
   "source": [
    "## 1-D Arrays\n",
    "\n",
    "An array that has 0-D arrays as its elements is called uni-dimensional or 1-D array.\n",
    "\n",
    "These are the most common and basic arrays."
   ]
  },
  {
   "cell_type": "code",
   "execution_count": 4,
   "id": "d92d910d",
   "metadata": {},
   "outputs": [
    {
     "name": "stdout",
     "output_type": "stream",
     "text": [
      "[1 3 5 7]\n"
     ]
    }
   ],
   "source": [
    "import numpy as np\n",
    "\n",
    "arr = np.array([1, 3, 5, 7])\n",
    "\n",
    "print(arr)"
   ]
  },
  {
   "cell_type": "markdown",
   "id": "f5373792",
   "metadata": {},
   "source": [
    "## 2-D Arrays\n",
    "\n",
    "An array that has 1-D arrays as its elements is called a 2-D array.\n",
    "\n",
    "These are often used to represent matrix or 2nd order tensors.\n",
    "\n",
    "> NumPy has a whole sub module dedicated towards matrix operation called `numpy.mat`"
   ]
  },
  {
   "cell_type": "code",
   "execution_count": 5,
   "id": "bcb0f139",
   "metadata": {},
   "outputs": [
    {
     "name": "stdout",
     "output_type": "stream",
     "text": [
      "[[1 2 3]\n",
      " [4 3 1]]\n"
     ]
    }
   ],
   "source": [
    "import numpy as np\n",
    "\n",
    "arr = np.array([[1, 2, 3], [4, 3, 1]])\n",
    "\n",
    "print(arr)"
   ]
  },
  {
   "cell_type": "markdown",
   "id": "48160c5b",
   "metadata": {},
   "source": [
    "## 3-D Arrays\n",
    "\n",
    "An array that has 2-D arrays (matrices) as its elements is called 3-D array.\n",
    "\n",
    "These are often used to represent a 3rd order tensor."
   ]
  },
  {
   "cell_type": "code",
   "execution_count": 6,
   "id": "cdd9d815",
   "metadata": {},
   "outputs": [
    {
     "name": "stdout",
     "output_type": "stream",
     "text": [
      "[[[ 1  2  3]\n",
      "  [ 4  5  6]]\n",
      "\n",
      " [[ 7  8  9]\n",
      "  [10 11 12]]]\n"
     ]
    }
   ],
   "source": [
    "import numpy as np\n",
    "\n",
    "arr = np.array([[[1, 2, 3], [4, 5, 6]], [[7, 8, 9], [10, 11, 12]]])\n",
    "\n",
    "print(arr)"
   ]
  },
  {
   "cell_type": "markdown",
   "id": "25e2af5e",
   "metadata": {},
   "source": [
    "## Check Number of Dimensions?\n",
    "\n",
    "NumPy Arrays provides the `ndim` attribute that returns an integer that tells us how many dimensions the array have."
   ]
  },
  {
   "cell_type": "code",
   "execution_count": 7,
   "id": "a28f79af",
   "metadata": {},
   "outputs": [
    {
     "name": "stdout",
     "output_type": "stream",
     "text": [
      "0\n",
      "1\n",
      "2\n",
      "3\n"
     ]
    }
   ],
   "source": [
    "import numpy as np\n",
    "\n",
    "arr1 = np.array(40)\n",
    "arr2 = np.array([1, 2, 4])\n",
    "arr3 = np.array([[1, 2, 3], [3, 5, 7]])\n",
    "arr4 = np.array([[[1, 2, 3], [4, 3, 5]], [[4, 5, 3], [ 4, 2, 56]]])\n",
    "\n",
    "print(arr1.ndim)\n",
    "print(arr2.ndim)\n",
    "print(arr3.ndim)\n",
    "print(arr4.ndim)"
   ]
  },
  {
   "cell_type": "markdown",
   "id": "a375e4ea",
   "metadata": {},
   "source": [
    "## Higher Dimensional Arrays\n",
    "\n",
    "An array can have any no. of dimensions.\n",
    "\n",
    "When the array is created, you can define the number of dimensions by using hte ndmin argument.\n",
    "\n",
    "Eg: create an array with 5 dimesnions and verify that it has 5 dimensions:"
   ]
  },
  {
   "cell_type": "code",
   "execution_count": 8,
   "id": "f6d6a843",
   "metadata": {},
   "outputs": [
    {
     "name": "stdout",
     "output_type": "stream",
     "text": [
      "[[[[[1 2 3 4]]]]]\n",
      "no. of dimensions:  5\n"
     ]
    }
   ],
   "source": [
    "import numpy as np\n",
    "\n",
    "arr = np.array([1,2,3,4], ndmin=5)\n",
    "\n",
    "print(arr)\n",
    "print('no. of dimensions: ', arr.ndim)"
   ]
  },
  {
   "cell_type": "markdown",
   "id": "ad237db5",
   "metadata": {},
   "source": [
    "In this array the innermost dimension (5th dim) has 4 elements, the 4th dim has 1 element that is the vector, the 3rd dim has 1 element that is the matrix with the vector, the 2nd dim has 1 element that is 3D array and 1st dim has 1 element that is a 4D array."
   ]
  }
 ],
 "metadata": {
  "kernelspec": {
   "display_name": "Python 3",
   "language": "python",
   "name": "python3"
  },
  "language_info": {
   "codemirror_mode": {
    "name": "ipython",
    "version": 3
   },
   "file_extension": ".py",
   "mimetype": "text/x-python",
   "name": "python",
   "nbconvert_exporter": "python",
   "pygments_lexer": "ipython3",
   "version": "3.11.4"
  }
 },
 "nbformat": 4,
 "nbformat_minor": 5
}
