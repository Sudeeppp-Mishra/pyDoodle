{
 "cells": [
  {
   "cell_type": "markdown",
   "id": "19630746",
   "metadata": {},
   "source": [
    "# NumPy Array Copy vs View\n",
    "\n",
    "## The Difference Between Copy and View\n",
    "\n",
    "The main difference between a copy and a view of an array is that the copy is a new array, and the view is just a view of the original arrya.\n",
    "\n",
    "The copy owns the data and any changes made to the copy will not affect original array, and any changes made to the original array will not affect the copy.\n",
    "\n",
    "The view *does not own* the data and any changes made to the view will affect the original array, and any changes made to the original array will affect the view.\n",
    "\n",
    "## COPY:\n",
    "\n",
    "Eg: Make a copy, change the original array, and display both arrays:"
   ]
  },
  {
   "cell_type": "code",
   "execution_count": 1,
   "id": "09e15361",
   "metadata": {},
   "outputs": [
    {
     "name": "stdout",
     "output_type": "stream",
     "text": [
      "[10  2  3]\n",
      "[1 2 3]\n"
     ]
    }
   ],
   "source": [
    "import numpy as np\n",
    "\n",
    "arr = np.array([1, 2, 3])\n",
    "\n",
    "copyarr = arr.copy()\n",
    "\n",
    "arr[0] = 10\n",
    "\n",
    "print(arr)\n",
    "print(copyarr)"
   ]
  },
  {
   "cell_type": "markdown",
   "id": "719f851a",
   "metadata": {},
   "source": [
    ">The copy SHOULD NOT be affected by the changes made to the original array."
   ]
  },
  {
   "cell_type": "markdown",
   "id": "6fea1a56",
   "metadata": {},
   "source": [
    "## VIEW:\n",
    "\n",
    "Eg: Make a view,  change the original array, and display both arrays:"
   ]
  },
  {
   "cell_type": "code",
   "execution_count": 3,
   "id": "abe36eeb",
   "metadata": {},
   "outputs": [
    {
     "name": "stdout",
     "output_type": "stream",
     "text": [
      "[ 1 10  4]\n",
      "[ 1 10  4]\n"
     ]
    }
   ],
   "source": [
    "import numpy as np\n",
    "\n",
    "arr = np.array([1, 2, 4])\n",
    "viewarr = arr.view()\n",
    "arr[1] = 10\n",
    "\n",
    "print(arr)\n",
    "print(viewarr)"
   ]
  },
  {
   "cell_type": "markdown",
   "id": "419e268c",
   "metadata": {},
   "source": [
    ">The view SHOULD be affected by the changes made to the original array."
   ]
  },
  {
   "cell_type": "markdown",
   "id": "60997609",
   "metadata": {},
   "source": [
    "## Make Changes in the VIEW:\n",
    "\n",
    "Eg: Make a view, change the view, and display both arrays:"
   ]
  },
  {
   "cell_type": "code",
   "execution_count": 5,
   "id": "14e251f8",
   "metadata": {},
   "outputs": [
    {
     "name": "stdout",
     "output_type": "stream",
     "text": [
      "[   1 1000    3]\n",
      "[   1 1000    3]\n"
     ]
    }
   ],
   "source": [
    "import numpy as np\n",
    "\n",
    "arr = np.array([1, 2, 3])\n",
    "viewarr = arr.view()\n",
    "viewarr[1] = 1000\n",
    "\n",
    "print(arr)\n",
    "print(viewarr)"
   ]
  },
  {
   "cell_type": "markdown",
   "id": "be3f5a58",
   "metadata": {},
   "source": [
    "> The original array SHOULD be affected by the changes made to the view."
   ]
  },
  {
   "cell_type": "markdown",
   "id": "4ba181e7",
   "metadata": {},
   "source": [
    "## Check if Array Owns its Data\n",
    "\n",
    "- copies *owns* the data, and view *does not own* the data\n",
    "\n",
    "So, how to check this?\n",
    "\n",
    "Every NumPy array has the attribute `base` that returns `None` if the array owns the data.\n",
    "\n",
    "Otherwise, the `base` attribute refers to the original object."
   ]
  },
  {
   "cell_type": "code",
   "execution_count": 6,
   "id": "12824cc0",
   "metadata": {},
   "outputs": [
    {
     "name": "stdout",
     "output_type": "stream",
     "text": [
      "None\n",
      "[1 2 3]\n"
     ]
    }
   ],
   "source": [
    "import numpy as np\n",
    "\n",
    "arr = np.array([1, 2, 3])\n",
    "\n",
    "copyarr = arr.copy()\n",
    "viewarr = arr.view()\n",
    "\n",
    "print(copyarr.base)\n",
    "print(viewarr.base)"
   ]
  }
 ],
 "metadata": {
  "kernelspec": {
   "display_name": "Python 3",
   "language": "python",
   "name": "python3"
  },
  "language_info": {
   "codemirror_mode": {
    "name": "ipython",
    "version": 3
   },
   "file_extension": ".py",
   "mimetype": "text/x-python",
   "name": "python",
   "nbconvert_exporter": "python",
   "pygments_lexer": "ipython3",
   "version": "3.11.4"
  }
 },
 "nbformat": 4,
 "nbformat_minor": 5
}
