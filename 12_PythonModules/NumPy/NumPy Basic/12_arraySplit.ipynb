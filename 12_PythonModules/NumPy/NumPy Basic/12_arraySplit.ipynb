{
 "cells": [
  {
   "cell_type": "markdown",
   "id": "f1556315",
   "metadata": {},
   "source": [
    "# NumPy Splitting Array\n",
    "\n",
    "## Splitting NumPY Arrays\n",
    "\n",
    "Splitting is a reverse operation of Joining.\n",
    "\n",
    "Joining merges multiple arrays into one and Splitting breaks one array into multiple.\n",
    "\n",
    "We use `array_split()` for splitting arrays, we pass it the array we want to split and the no. of splits.\n",
    "\n",
    "Eg: Split the array in 3 parts:"
   ]
  },
  {
   "cell_type": "code",
   "execution_count": 2,
   "id": "79516a5d",
   "metadata": {},
   "outputs": [
    {
     "name": "stdout",
     "output_type": "stream",
     "text": [
      "[array([1, 2]), array([3, 4]), array([5, 6])]\n"
     ]
    }
   ],
   "source": [
    "import numpy as np\n",
    "\n",
    "arr = np.array([1, 2, 3, 4, 5, 6])\n",
    "\n",
    "split_arr = np.array_split(arr, 3)\n",
    "\n",
    "print(split_arr)"
   ]
  },
  {
   "cell_type": "markdown",
   "id": "902789e5",
   "metadata": {},
   "source": [
    "> **Note**: The return value is a list containing 3 arrays"
   ]
  },
  {
   "cell_type": "markdown",
   "id": "91302cc2",
   "metadata": {},
   "source": [
    "If the array has less elements than required, it will adjust from the end accordingly..."
   ]
  },
  {
   "cell_type": "code",
   "execution_count": 3,
   "id": "19d7d054",
   "metadata": {},
   "outputs": [
    {
     "name": "stdout",
     "output_type": "stream",
     "text": [
      "[array([1, 2]), array([3, 4]), array([5]), array([6])]\n"
     ]
    }
   ],
   "source": [
    "split_arr = np.array_split(arr, 4)\n",
    "\n",
    "print(split_arr)"
   ]
  },
  {
   "cell_type": "markdown",
   "id": "65a60612",
   "metadata": {},
   "source": [
    "> **Note**: We also have the method `split()` available but it will not adjust the elements when elements are less in source array for splitting like in example above, `array_split()` worked properly but `split()` would faile."
   ]
  },
  {
   "cell_type": "markdown",
   "id": "d7e0fad9",
   "metadata": {},
   "source": [
    "## Split Into Arrays\n",
    "\n",
    "The return value of the `array_split()` method is a list containing each of the split as an array.\n",
    "\n",
    "If we split an array into 3 arrays, we can access them from the result just like any array element>\n",
    "\n",
    "Eg: Access the splitted arrays"
   ]
  },
  {
   "cell_type": "code",
   "execution_count": 4,
   "id": "44c9882c",
   "metadata": {},
   "outputs": [
    {
     "name": "stdout",
     "output_type": "stream",
     "text": [
      "[1 2]\n",
      "[3 4]\n",
      "[5 6]\n"
     ]
    }
   ],
   "source": [
    "import numpy as np\n",
    "\n",
    "arr = np.array([1, 2, 3, 4, 5, 6])\n",
    "\n",
    "split_arr = np.array_split(arr, 3)\n",
    "\n",
    "print(split_arr[0])\n",
    "print(split_arr[1])\n",
    "print(split_arr[2])"
   ]
  },
  {
   "cell_type": "markdown",
   "id": "bd55194d",
   "metadata": {},
   "source": [
    "## Splitting 2-D Arrays\n",
    "\n",
    "Use the same syntax when splitting 2-D arrays.\n",
    "\n",
    "Use the `array_split()` method, pass in the array you want to split and the no. of splits you want to do."
   ]
  },
  {
   "cell_type": "code",
   "execution_count": 5,
   "id": "d49d3049",
   "metadata": {},
   "outputs": [
    {
     "name": "stdout",
     "output_type": "stream",
     "text": [
      "[array([[1, 2],\n",
      "       [3, 4]]), array([[5, 6],\n",
      "       [7, 8]]), array([[ 9, 10],\n",
      "       [11, 12]])]\n"
     ]
    }
   ],
   "source": [
    "import numpy as np\n",
    "\n",
    "arr = np.array([[1, 2], [3, 4], [5, 6], [7,8], [9, 10], [11, 12]])\n",
    "\n",
    "split_arr = np.array_split(arr, 3)\n",
    "\n",
    "print(split_arr)"
   ]
  },
  {
   "cell_type": "markdown",
   "id": "063b769c",
   "metadata": {},
   "source": [
    "It returns three 2-D arrays."
   ]
  },
  {
   "cell_type": "code",
   "execution_count": 6,
   "id": "612af2d0",
   "metadata": {},
   "outputs": [
    {
     "name": "stdout",
     "output_type": "stream",
     "text": [
      "[array([[1, 2, 3],\n",
      "       [4, 5, 6]]), array([[ 7,  8,  9],\n",
      "       [10, 11, 12]]), array([[13, 14, 15],\n",
      "       [16, 17, 18]])]\n"
     ]
    }
   ],
   "source": [
    "import numpy as np\n",
    "\n",
    "arr = np.array([[1, 2, 3], [4, 5, 6], [7, 8, 9], [10, 11, 12], [13, 14, 15], [16, 17, 18]])\n",
    "\n",
    "split_arr = np.array_split(arr, 3)\n",
    "\n",
    "print(split_arr)"
   ]
  },
  {
   "cell_type": "markdown",
   "id": "1d64a510",
   "metadata": {},
   "source": [
    "In addition, we can specify which axis we want to do the split around.\n",
    "\n",
    "The example below also returns three 2-D arrays, but they are split along the column (axis=1)."
   ]
  },
  {
   "cell_type": "code",
   "execution_count": 7,
   "id": "113b32a9",
   "metadata": {},
   "outputs": [
    {
     "name": "stdout",
     "output_type": "stream",
     "text": [
      "[array([[ 1],\n",
      "       [ 4],\n",
      "       [ 7],\n",
      "       [10],\n",
      "       [13],\n",
      "       [16]]), array([[ 2],\n",
      "       [ 5],\n",
      "       [ 8],\n",
      "       [11],\n",
      "       [14],\n",
      "       [17]]), array([[ 3],\n",
      "       [ 6],\n",
      "       [ 9],\n",
      "       [12],\n",
      "       [15],\n",
      "       [18]])]\n"
     ]
    }
   ],
   "source": [
    "import numpy as np\n",
    "\n",
    "arr = np.array([[1, 2, 3], [4, 5, 6], [7, 8, 9], [10, 11, 12], [13, 14, 15], [16, 17, 18]])\n",
    "\n",
    "split_arr = np.array_split(arr, 3, axis=1)\n",
    "\n",
    "print(split_arr)"
   ]
  },
  {
   "cell_type": "markdown",
   "id": "0ddb60cc",
   "metadata": {},
   "source": [
    "An alternate solution is using `hsplit()` opposite of `hstack()`\n",
    "\n",
    "Eg: Use the `hsplit()` method to split the 2-D array into three 2-D arrays along columns."
   ]
  },
  {
   "cell_type": "code",
   "execution_count": 8,
   "id": "702a47c8",
   "metadata": {},
   "outputs": [
    {
     "name": "stdout",
     "output_type": "stream",
     "text": [
      "[array([[ 1],\n",
      "       [ 4],\n",
      "       [ 7],\n",
      "       [10],\n",
      "       [13],\n",
      "       [16]]), array([[ 2],\n",
      "       [ 5],\n",
      "       [ 8],\n",
      "       [11],\n",
      "       [14],\n",
      "       [17]]), array([[ 3],\n",
      "       [ 6],\n",
      "       [ 9],\n",
      "       [12],\n",
      "       [15],\n",
      "       [18]])]\n"
     ]
    }
   ],
   "source": [
    "import numpy as np\n",
    "\n",
    "arr = np.array([[1, 2, 3], [4, 5, 6], [7, 8, 9], [10, 11, 12], [13, 14, 15], [16, 17, 18]])\n",
    "\n",
    "split_arr = np.hsplit(arr, 3)\n",
    "\n",
    "print(split_arr)"
   ]
  },
  {
   "cell_type": "markdown",
   "id": "a45f14b1",
   "metadata": {},
   "source": [
    "> **Note:** Similar alternates to `vstack()` and `dstack()` are available as `vsplit()` and `dsplit()`."
   ]
  }
 ],
 "metadata": {
  "kernelspec": {
   "display_name": "Python 3",
   "language": "python",
   "name": "python3"
  },
  "language_info": {
   "codemirror_mode": {
    "name": "ipython",
    "version": 3
   },
   "file_extension": ".py",
   "mimetype": "text/x-python",
   "name": "python",
   "nbconvert_exporter": "python",
   "pygments_lexer": "ipython3",
   "version": "3.11.4"
  }
 },
 "nbformat": 4,
 "nbformat_minor": 5
}
