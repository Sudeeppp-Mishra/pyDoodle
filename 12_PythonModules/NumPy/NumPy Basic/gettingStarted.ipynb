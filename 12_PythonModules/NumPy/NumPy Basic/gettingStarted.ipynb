{
 "cells": [
  {
   "cell_type": "markdown",
   "id": "549a42f4",
   "metadata": {},
   "source": [
    "## Installation of NumPy\n",
    "\n",
    "`pip install numpy`"
   ]
  },
  {
   "cell_type": "code",
   "execution_count": null,
   "id": "19996816",
   "metadata": {},
   "outputs": [
    {
     "name": "stdout",
     "output_type": "stream",
     "text": [
      "Requirement already satisfied: numpy in /Library/Frameworks/Python.framework/Versions/3.11/lib/python3.11/site-packages (2.3.0)\n",
      "Note: you may need to restart the kernel to use updated packages.\n"
     ]
    }
   ],
   "source": [
    "%pip install numpy # I already have it installed so it says Requirement already satisfied..."
   ]
  },
  {
   "cell_type": "markdown",
   "id": "8e1a55fa",
   "metadata": {},
   "source": [
    "\n",
    "If this command fails, then use a python distribution that already has NumPy installed like, Anaconda, Spyder etc.\n",
    "\n",
    "## Import NumPy and it is ready to use"
   ]
  },
  {
   "cell_type": "code",
   "execution_count": 2,
   "id": "66af3953",
   "metadata": {},
   "outputs": [
    {
     "name": "stdout",
     "output_type": "stream",
     "text": [
      "[1 2 3 4]\n"
     ]
    }
   ],
   "source": [
    "import numpy\n",
    "\n",
    "arr = numpy.array([1, 2, 3, 4])\n",
    "\n",
    "print(arr)"
   ]
  },
  {
   "cell_type": "markdown",
   "id": "db61e1ed",
   "metadata": {},
   "source": [
    "## NumPy as np\n",
    "\n",
    "NumPy is usually imported under the `np`` alias.\n",
    "\n",
    "> **alias**: In Python alias are an alternate name for referring to the smae thing.\n",
    "\n",
    "Create an alias with the `as` keyword while importing"
   ]
  },
  {
   "cell_type": "code",
   "execution_count": 3,
   "id": "9e02d6b6",
   "metadata": {},
   "outputs": [
    {
     "name": "stdout",
     "output_type": "stream",
     "text": [
      "[1 2 3 4 5]\n"
     ]
    }
   ],
   "source": [
    "import numpy as np # Now the NumPy package can be referred to as \"np\" instead of \"numpy\"\n",
    "\n",
    "arr = np.array([1, 2, 3, 4, 5])\n",
    "\n",
    "print(arr)"
   ]
  },
  {
   "cell_type": "markdown",
   "id": "30996ced",
   "metadata": {},
   "source": [
    "## Checking NumPy Version\n",
    "\n",
    "The version string is stored under `__version__` attribute."
   ]
  },
  {
   "cell_type": "code",
   "execution_count": 4,
   "id": "1c7061a2",
   "metadata": {},
   "outputs": [
    {
     "name": "stdout",
     "output_type": "stream",
     "text": [
      "2.3.0\n"
     ]
    }
   ],
   "source": [
    "import numpy as np\n",
    "\n",
    "print(np.__version__)"
   ]
  }
 ],
 "metadata": {
  "kernelspec": {
   "display_name": "Python 3",
   "language": "python",
   "name": "python3"
  },
  "language_info": {
   "codemirror_mode": {
    "name": "ipython",
    "version": 3
   },
   "file_extension": ".py",
   "mimetype": "text/x-python",
   "name": "python",
   "nbconvert_exporter": "python",
   "pygments_lexer": "ipython3",
   "version": "3.11.4"
  }
 },
 "nbformat": 4,
 "nbformat_minor": 5
}
