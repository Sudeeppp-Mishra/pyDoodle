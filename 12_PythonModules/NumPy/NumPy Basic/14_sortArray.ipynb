{
 "cells": [
  {
   "cell_type": "markdown",
   "id": "de8babb4",
   "metadata": {},
   "source": [
    "## Sorting Arrays\n",
    "\n",
    "Sorting means putting elements in an *ordered sequence*.\n",
    "\n",
    "*Ordered sequence* is any sequence that has an order corresponding to elements, like numeric or alphabetical, ascending or descending.\n",
    "\n",
    "The NumPy ndarray object has a function called `sort()`, that will sort a specified array."
   ]
  },
  {
   "cell_type": "code",
   "execution_count": 1,
   "id": "d3bb3567",
   "metadata": {},
   "outputs": [
    {
     "name": "stdout",
     "output_type": "stream",
     "text": [
      "[0 1 2 3]\n"
     ]
    }
   ],
   "source": [
    "import numpy as np\n",
    "\n",
    "arr = np.array([3, 2, 0, 1])\n",
    "\n",
    "print(np.sort(arr))"
   ]
  },
  {
   "cell_type": "markdown",
   "id": "135d0205",
   "metadata": {},
   "source": [
    "> **Note:** This method returns a copy of the array, leaving the original array unchanged.\n",
    "\n",
    "You can also sort arrays of string, or any other data type."
   ]
  },
  {
   "cell_type": "code",
   "execution_count": 3,
   "id": "a122c7b7",
   "metadata": {},
   "outputs": [
    {
     "name": "stdout",
     "output_type": "stream",
     "text": [
      "['apple' 'banana' 'cherry']\n"
     ]
    }
   ],
   "source": [
    "import numpy as np\n",
    "\n",
    "arr = np.array(['banana', 'cherry', 'apple'])\n",
    "\n",
    "print(np.sort(arr))"
   ]
  },
  {
   "cell_type": "markdown",
   "id": "2e7b2777",
   "metadata": {},
   "source": [
    "Sorting a boolean array"
   ]
  },
  {
   "cell_type": "code",
   "execution_count": 5,
   "id": "2ee85e09",
   "metadata": {},
   "outputs": [
    {
     "name": "stdout",
     "output_type": "stream",
     "text": [
      "[False  True  True]\n"
     ]
    }
   ],
   "source": [
    "import numpy as np\n",
    "\n",
    "arr = np.array([True, False, True])\n",
    "\n",
    "print(np.sort(arr))"
   ]
  },
  {
   "cell_type": "markdown",
   "id": "e2341140",
   "metadata": {},
   "source": [
    "## Sorting a 2-D Array\n",
    "\n",
    "If you use the sort() method on a 2-D array, both arrays will be sorted:"
   ]
  },
  {
   "cell_type": "code",
   "execution_count": 4,
   "id": "9344e11d",
   "metadata": {},
   "outputs": [
    {
     "name": "stdout",
     "output_type": "stream",
     "text": [
      "[[2 3 4]\n",
      " [0 1 5]]\n"
     ]
    }
   ],
   "source": [
    "import numpy as np\n",
    "\n",
    "arr = np.array([[3, 2, 4], [5, 0, 1]])\n",
    "\n",
    "print(np.sort(arr))"
   ]
  }
 ],
 "metadata": {
  "kernelspec": {
   "display_name": "Python 3",
   "language": "python",
   "name": "python3"
  },
  "language_info": {
   "codemirror_mode": {
    "name": "ipython",
    "version": 3
   },
   "file_extension": ".py",
   "mimetype": "text/x-python",
   "name": "python",
   "nbconvert_exporter": "python",
   "pygments_lexer": "ipython3",
   "version": "3.11.4"
  }
 },
 "nbformat": 4,
 "nbformat_minor": 5
}
