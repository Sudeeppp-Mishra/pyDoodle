{
 "cells": [
  {
   "cell_type": "markdown",
   "id": "614b3ad1",
   "metadata": {},
   "source": [
    "# Functions\n",
    "A function is a block of code which only runs when it is called.\n",
    "\n",
    "We can pass data, known as paramenters, into function.\n",
    "\n",
    "A function can return data as a result.\n",
    "\n",
    "## Creating a Function\n",
    "\n",
    "In Python a function is defined using the `def` keyword:"
   ]
  },
  {
   "cell_type": "code",
   "execution_count": 2,
   "id": "63037fbf",
   "metadata": {},
   "outputs": [],
   "source": [
    "def my_function():\n",
    "    print(\"Hello form a function\")"
   ]
  },
  {
   "cell_type": "markdown",
   "id": "7d88a47d",
   "metadata": {},
   "source": [
    "## Calling a Function\n",
    "\n",
    "To call a function, use the function name followed by parenthesis:"
   ]
  },
  {
   "cell_type": "code",
   "execution_count": 3,
   "id": "5d43a330",
   "metadata": {},
   "outputs": [
    {
     "name": "stdout",
     "output_type": "stream",
     "text": [
      "Hello form a function\n"
     ]
    }
   ],
   "source": [
    "my_function()"
   ]
  },
  {
   "cell_type": "markdown",
   "id": "76e858b2",
   "metadata": {},
   "source": [
    "## Arguments\n",
    "\n",
    "info can be passed into functions as arguments\n",
    "\n",
    "Arguments are specified after the function name, inside the parentheses. We can add as many arguments as we want, just by separating them with comma."
   ]
  },
  {
   "cell_type": "code",
   "execution_count": 4,
   "id": "583f7145",
   "metadata": {},
   "outputs": [
    {
     "name": "stdout",
     "output_type": "stream",
     "text": [
      "Jim Carry\n",
      "John Carry\n",
      "Vin Carry\n"
     ]
    }
   ],
   "source": [
    "def my_function(fname):\n",
    "    print(fname +\" Carry\")\n",
    "    \n",
    "my_function(\"Jim\")\n",
    "my_function(\"John\")\n",
    "my_function(\"Vin\")"
   ]
  },
  {
   "cell_type": "markdown",
   "id": "e0701736",
   "metadata": {},
   "source": [
    "> *Arguemnts* are often shortened to *args* in Python documentations."
   ]
  },
  {
   "cell_type": "markdown",
   "id": "c53e4e2c",
   "metadata": {},
   "source": [
    "## *Parameters or Arguments?*\n",
    "\n",
    "The terms *parameter* and *argument* can be used for the smae thing: information that are passed into a function.\n",
    "\n",
    "\n",
    "From a function's perspective:\n",
    "- A parameter is the variable listed inside the parentheses in the function definition.\n",
    "- An argument is the value that is sent to the function when it is called."
   ]
  },
  {
   "cell_type": "markdown",
   "id": "3b8d56f7",
   "metadata": {},
   "source": [
    "## Number of Arguments\n",
    "By default, a function must be called with the correct no. of args. Meaning that if our function expects 2 args, we have to call the fucntion with 2 args, not more, and not less."
   ]
  },
  {
   "cell_type": "code",
   "execution_count": 5,
   "id": "ba4a93ce",
   "metadata": {},
   "outputs": [
    {
     "name": "stdout",
     "output_type": "stream",
     "text": [
      "Krishna Sha\n"
     ]
    }
   ],
   "source": [
    "def my_function(fname, lname):\n",
    "    print(fname+\" \"+lname)\n",
    "    \n",
    "my_function(\"Krishna\", \"Sha\")"
   ]
  },
  {
   "cell_type": "code",
   "execution_count": 6,
   "id": "d4973cf2",
   "metadata": {},
   "outputs": [
    {
     "ename": "TypeError",
     "evalue": "my_function() missing 1 required positional argument: 'lname'",
     "output_type": "error",
     "traceback": [
      "\u001b[31m---------------------------------------------------------------------------\u001b[39m",
      "\u001b[31mTypeError\u001b[39m                                 Traceback (most recent call last)",
      "\u001b[36mCell\u001b[39m\u001b[36m \u001b[39m\u001b[32mIn[6]\u001b[39m\u001b[32m, line 4\u001b[39m\n\u001b[32m      1\u001b[39m \u001b[38;5;28;01mdef\u001b[39;00m\u001b[38;5;250m \u001b[39m\u001b[34mmy_function\u001b[39m(fname, lname):\n\u001b[32m      2\u001b[39m   \u001b[38;5;28mprint\u001b[39m(fname + \u001b[33m\"\u001b[39m\u001b[33m \u001b[39m\u001b[33m\"\u001b[39m + lname)\n\u001b[32m----> \u001b[39m\u001b[32m4\u001b[39m \u001b[43mmy_function\u001b[49m\u001b[43m(\u001b[49m\u001b[33;43m\"\u001b[39;49m\u001b[33;43mEmil\u001b[39;49m\u001b[33;43m\"\u001b[39;49m\u001b[43m)\u001b[49m \u001b[38;5;66;03m# ERROR as my_function() expects two arguments\u001b[39;00m\n",
      "\u001b[31mTypeError\u001b[39m: my_function() missing 1 required positional argument: 'lname'"
     ]
    }
   ],
   "source": [
    "def my_function(fname, lname):\n",
    "  print(fname + \" \" + lname)\n",
    "\n",
    "my_function(\"Emil\") # ERROR as my_function() expects two arguments"
   ]
  },
  {
   "cell_type": "markdown",
   "id": "4a635ebc",
   "metadata": {},
   "source": [
    "## Arbitrary Arguments, *args\n",
    "\n",
    "If you don't know how many arguments that will be passed into your function, add `*` before the parameter name in the function definition.\n",
    "\n",
    "This way the function will receive a *tuple* of arguments, and can access the items accordingly:"
   ]
  },
  {
   "cell_type": "code",
   "execution_count": 7,
   "id": "d86de1db",
   "metadata": {},
   "outputs": [
    {
     "name": "stdout",
     "output_type": "stream",
     "text": [
      "The youngest child is Krishna\n"
     ]
    }
   ],
   "source": [
    "def my_function(*kids):\n",
    "    print(\"The youngest child is \"+kids[2])\n",
    "    \n",
    "my_function(\"Ram\", \"Shyam\", \"Krishna\")"
   ]
  },
  {
   "cell_type": "markdown",
   "id": "9c759f0a",
   "metadata": {},
   "source": [
    "> *Arbitrary Arguments* are often shortened to *\\*args* in Python documentations."
   ]
  },
  {
   "cell_type": "markdown",
   "id": "4e077dbe",
   "metadata": {},
   "source": [
    "## Keyword Arguments\n",
    "\n",
    "We can also send arguments with the *key = value* syntax.\n",
    "\n",
    "This way the order of the arguemnts does not matter."
   ]
  },
  {
   "cell_type": "code",
   "execution_count": 8,
   "id": "74e15b86",
   "metadata": {},
   "outputs": [
    {
     "name": "stdout",
     "output_type": "stream",
     "text": [
      "The youngest child is Linus\n"
     ]
    }
   ],
   "source": [
    "def my_function(child3, child2, child1):\n",
    "    print(\"The youngest child is \"+child3)\n",
    "    \n",
    "my_function(child1 = \"Ram\", child2=\"Jackson\", child3=\"Linus\")"
   ]
  },
  {
   "cell_type": "markdown",
   "id": "19ade511",
   "metadata": {},
   "source": [
    "> The pharase *Keyword Arguments* are often shortened to *kwargs* in Python documentations."
   ]
  },
  {
   "cell_type": "markdown",
   "id": "c2b7b364",
   "metadata": {},
   "source": [
    "## Arbitrary Keyword Arguments, **kwargs\n",
    "\n",
    "If you do not know how many keyword arguments that will be passed into your function, add two asterisk: `**` before the paramenter name in the function definition.\n",
    "\n",
    "This way the function will receive a *dictionary* of arguments, and can access the items accordingly:"
   ]
  },
  {
   "cell_type": "code",
   "execution_count": null,
   "id": "72bb46ec",
   "metadata": {},
   "outputs": [
    {
     "name": "stdout",
     "output_type": "stream",
     "text": [
      "His last name is sharma\n"
     ]
    }
   ],
   "source": [
    "def my_function(**kid):\n",
    "    print(\"His last name is \"+kid[\"lname\"])\n",
    "    \n",
    "my_function(fname=\"ram\", lname=\"sharma\")"
   ]
  },
  {
   "cell_type": "markdown",
   "id": "2f0d6957",
   "metadata": {},
   "source": [
    "> *Arbitary Kword Arguments* are often shortened to *\\*\\*kwargs* in Python documentations."
   ]
  },
  {
   "cell_type": "code",
   "execution_count": 10,
   "id": "122832ba",
   "metadata": {},
   "outputs": [
    {
     "name": "stdout",
     "output_type": "stream",
     "text": [
      "---- Student Profile ----\n",
      "First_name: Ram\n",
      "Last_name: Sharma\n",
      "Age: 21\n",
      "Course: Computer Science\n",
      "Year: 3rd Year\n",
      "Gpa: 3.85\n",
      "City: Kathmandu\n"
     ]
    }
   ],
   "source": [
    "def student_profile(**kwargs):\n",
    "    print(\"---- Student Profile ----\")\n",
    "    for key, value in kwargs.items():\n",
    "        print(f\"{key.capitalize()}: {value}\")\n",
    "\n",
    "# Passing many keyword arguments\n",
    "student_profile(\n",
    "    first_name=\"Ram\",\n",
    "    last_name=\"Sharma\",\n",
    "    age=21,\n",
    "    course=\"Computer Science\",\n",
    "    year=\"3rd Year\",\n",
    "    gpa=3.85,\n",
    "    city=\"Kathmandu\"\n",
    ")"
   ]
  },
  {
   "cell_type": "markdown",
   "id": "53dbc4ea",
   "metadata": {},
   "source": [
    "## Default Parameter Value"
   ]
  },
  {
   "cell_type": "code",
   "execution_count": 1,
   "id": "cfa49cbb",
   "metadata": {},
   "outputs": [
    {
     "name": "stdout",
     "output_type": "stream",
     "text": [
      "I am from China\n",
      "I am from India\n",
      "I am from Nepal\n",
      "I am from US\n"
     ]
    }
   ],
   "source": [
    "def my_function(country=\"Nepal\"):\n",
    "    print(\"I am from \"+country)\n",
    "    \n",
    "my_function(\"China\")\n",
    "my_function(\"India\")\n",
    "my_function()\n",
    "my_function(\"US\")"
   ]
  },
  {
   "cell_type": "markdown",
   "id": "01c46df9",
   "metadata": {},
   "source": [
    "## Passing a list as an Argument\n",
    "\n",
    "We can send any data types of arugment to a function (string, number, list, dictionary, etc.), and it will be treated as the same data type inside the funciton.\n",
    "\n",
    "eg: if we send a List as an argument, it will still be a List when it reaches the function:"
   ]
  },
  {
   "cell_type": "code",
   "execution_count": 2,
   "id": "fde4e666",
   "metadata": {},
   "outputs": [
    {
     "name": "stdout",
     "output_type": "stream",
     "text": [
      "Pomegranate\n",
      "Strawberry\n"
     ]
    }
   ],
   "source": [
    "def my_function(food):\n",
    "    for x in food:\n",
    "        print(x)\n",
    "        \n",
    "fruits = [\"Pomegranate\", \"Strawberry\"]\n",
    "\n",
    "my_function(fruits)"
   ]
  },
  {
   "cell_type": "markdown",
   "id": "de33e5c8",
   "metadata": {},
   "source": [
    "## Return Values\n",
    "`return` statement lets a functioin return a value"
   ]
  },
  {
   "cell_type": "code",
   "execution_count": 3,
   "id": "68ac3c2b",
   "metadata": {},
   "outputs": [
    {
     "name": "stdout",
     "output_type": "stream",
     "text": [
      "25\n",
      "10\n"
     ]
    }
   ],
   "source": [
    "def my_function(x):\n",
    "    return 5*x\n",
    "\n",
    "print(my_function(5))\n",
    "print(my_function(2))"
   ]
  },
  {
   "cell_type": "markdown",
   "id": "d265b18f",
   "metadata": {},
   "source": [
    "## The pass Statement\n",
    "\n",
    "Funciton definitions cannot be empty, but if you for some reason have a funciton definition without content, put in the `pass` statement to avoid getting an error."
   ]
  },
  {
   "cell_type": "code",
   "execution_count": 4,
   "id": "5260f422",
   "metadata": {},
   "outputs": [],
   "source": [
    "def myfuntion():\n",
    "    pass"
   ]
  },
  {
   "cell_type": "markdown",
   "id": "4252d978",
   "metadata": {},
   "source": [
    "## Positional-Only Arguments\n",
    "\n",
    "We can specify that a function can have ONLY positional arguments, or ONLY keyword arguments.\n",
    "\n",
    "To specify that a function can have only positional arugment, add `, /` after the arguments:\n",
    "\n",
    "\n",
    "What does posion only means tho??\n",
    "\n",
    "A positional argument is passed to a function just by its position (order), not by name.\n",
    "\n",
    "```python\n",
    "def greet(name, age):\n",
    "    print(f\"Hello {name}, you are {age} years old.\")\n",
    "\n",
    "greet(\"Ram\", 21)   # \"Ram\" goes to name, 21 goes to age\n",
    "\n",
    "Here:\n",
    "\t•\t\"Ram\" is first → goes to name\n",
    "\t•\t21 is second → goes to age\n",
    "This is positional.\n",
    "\n",
    "```\n",
    "\n",
    "BUT\n",
    "\n",
    "A keyword argument is passed by explicitly naming the parameter.\n",
    "\n",
    "```python\n",
    "greet(name=\"Ram\", age=21)\n",
    "greet(age=21, name=\"Ram\")   # order doesn't matter now\n",
    "```\n",
    "\n",
    "Here you use the parameter names (name, age) directly → that’s keyword.\n",
    "\n"
   ]
  },
  {
   "cell_type": "code",
   "execution_count": 5,
   "id": "a4576b35",
   "metadata": {},
   "outputs": [
    {
     "name": "stdout",
     "output_type": "stream",
     "text": [
      "3\n"
     ]
    }
   ],
   "source": [
    "def my_function(x, /):\n",
    "    print(x)\n",
    "    \n",
    "my_function(3)"
   ]
  },
  {
   "cell_type": "markdown",
   "id": "6518afa7",
   "metadata": {},
   "source": [
    "Without `, /` we are actually allowed to use keyword argument even if the function expects positional arguments:"
   ]
  },
  {
   "cell_type": "code",
   "execution_count": 6,
   "id": "930843aa",
   "metadata": {},
   "outputs": [
    {
     "name": "stdout",
     "output_type": "stream",
     "text": [
      "3\n"
     ]
    }
   ],
   "source": [
    "def my_function(x):\n",
    "    print(x)\n",
    "    \n",
    "my_function(x=3)"
   ]
  },
  {
   "cell_type": "code",
   "execution_count": null,
   "id": "bd7fc7e8",
   "metadata": {},
   "outputs": [
    {
     "ename": "TypeError",
     "evalue": "my_function() got some positional-only arguments passed as keyword arguments: 'x'",
     "output_type": "error",
     "traceback": [
      "\u001b[31m---------------------------------------------------------------------------\u001b[39m",
      "\u001b[31mTypeError\u001b[39m                                 Traceback (most recent call last)",
      "\u001b[36mCell\u001b[39m\u001b[36m \u001b[39m\u001b[32mIn[7]\u001b[39m\u001b[32m, line 4\u001b[39m\n\u001b[32m      1\u001b[39m \u001b[38;5;28;01mdef\u001b[39;00m\u001b[38;5;250m \u001b[39m\u001b[34mmy_function\u001b[39m(x, /):\n\u001b[32m      2\u001b[39m     \u001b[38;5;28mprint\u001b[39m(x)\n\u001b[32m----> \u001b[39m\u001b[32m4\u001b[39m \u001b[43mmy_function\u001b[49m\u001b[43m(\u001b[49m\u001b[43mx\u001b[49m\u001b[43m=\u001b[49m\u001b[32;43m3\u001b[39;49m\u001b[43m)\u001b[49m\n",
      "\u001b[31mTypeError\u001b[39m: my_function() got some positional-only arguments passed as keyword arguments: 'x'"
     ]
    }
   ],
   "source": [
    "def my_function(x, /):\n",
    "    print(x)\n",
    "    \n",
    "my_function(x=3) # Err cuz we have made the function positonaly-only"
   ]
  },
  {
   "cell_type": "markdown",
   "id": "a81d84c6",
   "metadata": {},
   "source": [
    "## Keyword-Only Arguments\n",
    "\n",
    "To specity that a function can have only keyword arguments, add `*, ` before the arguments."
   ]
  },
  {
   "cell_type": "code",
   "execution_count": 8,
   "id": "2ecae89a",
   "metadata": {},
   "outputs": [
    {
     "name": "stdout",
     "output_type": "stream",
     "text": [
      "3\n"
     ]
    }
   ],
   "source": [
    "def my_function(*, x):\n",
    "    print(x)\n",
    "\n",
    "my_function(x=3)"
   ]
  },
  {
   "cell_type": "code",
   "execution_count": 9,
   "id": "8f94e680",
   "metadata": {},
   "outputs": [
    {
     "name": "stdout",
     "output_type": "stream",
     "text": [
      "Item: T-shirt\n",
      "Quantity: 3\n",
      "Discount: 10%\n"
     ]
    }
   ],
   "source": [
    "def add_to_cart(item, *, quantity=1, discount=0):\n",
    "    print(f\"Item: {item}\")\n",
    "    print(f\"Quantity: {quantity}\")\n",
    "    print(f\"Discount: {discount}%\")\n",
    "    \n",
    "add_to_cart(\"T-shirt\", quantity=3, discount=10)"
   ]
  },
  {
   "cell_type": "markdown",
   "id": "0b5b5e63",
   "metadata": {},
   "source": [
    "Without the `*,` we are allowed to use positional arguments even if the function expects keyword arguments:"
   ]
  },
  {
   "cell_type": "code",
   "execution_count": 10,
   "id": "bda359e9",
   "metadata": {},
   "outputs": [
    {
     "name": "stdout",
     "output_type": "stream",
     "text": [
      "3\n"
     ]
    }
   ],
   "source": [
    "def my_function(x):\n",
    "    print(x)\n",
    "    \n",
    "my_function(3)"
   ]
  },
  {
   "cell_type": "code",
   "execution_count": null,
   "id": "974b908d",
   "metadata": {},
   "outputs": [
    {
     "ename": "TypeError",
     "evalue": "my_function() takes 0 positional arguments but 1 was given",
     "output_type": "error",
     "traceback": [
      "\u001b[31m---------------------------------------------------------------------------\u001b[39m",
      "\u001b[31mTypeError\u001b[39m                                 Traceback (most recent call last)",
      "\u001b[36mCell\u001b[39m\u001b[36m \u001b[39m\u001b[32mIn[11]\u001b[39m\u001b[32m, line 4\u001b[39m\n\u001b[32m      1\u001b[39m \u001b[38;5;28;01mdef\u001b[39;00m\u001b[38;5;250m \u001b[39m\u001b[34mmy_function\u001b[39m(*, x):\n\u001b[32m      2\u001b[39m     \u001b[38;5;28mprint\u001b[39m(x)\n\u001b[32m----> \u001b[39m\u001b[32m4\u001b[39m \u001b[43mmy_function\u001b[49m\u001b[43m(\u001b[49m\u001b[32;43m3\u001b[39;49m\u001b[43m)\u001b[49m\n",
      "\u001b[31mTypeError\u001b[39m: my_function() takes 0 positional arguments but 1 was given"
     ]
    }
   ],
   "source": [
    "def my_function(*, x):\n",
    "    print(x)\n",
    "    \n",
    "my_function(3) # Err cuz the funtion is keyword-only"
   ]
  },
  {
   "cell_type": "markdown",
   "id": "6dcdf802",
   "metadata": {},
   "source": [
    "## Combine Positional-Only and Keyword-Only\n",
    "\n",
    "We can combine the two argument types in the same function.\n",
    "\n",
    "Any argument before the `/,` are positional-only, and any argument after the `*,` are keyword-only."
   ]
  },
  {
   "cell_type": "code",
   "execution_count": 13,
   "id": "321698f4",
   "metadata": {},
   "outputs": [
    {
     "name": "stdout",
     "output_type": "stream",
     "text": [
      "Passenger: Ram\n",
      "Destination: London\n",
      "Date: 2025-10-01\n",
      "Seat: Economy\n"
     ]
    }
   ],
   "source": [
    "def book_flight(passenger, /, *, destination, date, seat=\"Economy\"):\n",
    "    print(f\"Passenger: {passenger}\")\n",
    "    print(f\"Destination: {destination}\")\n",
    "    print(f\"Date: {date}\")\n",
    "    print(f\"Seat: {seat}\")\n",
    "    \n",
    "book_flight(\"Ram\", destination=\"London\", date=\"2025-10-01\")"
   ]
  },
  {
   "cell_type": "markdown",
   "id": "e550e7c2",
   "metadata": {},
   "source": [
    "## Recursion\n",
    "\n",
    "Python also accepts function recursion, which means a defined function can call itself\n",
    "\n",
    "Recursion is a common mathematical and programming concept. It means that a fucntion calls itselt. this has the benefit of meaning that you can loop through data to reach a result.\n",
    "\n",
    "The developer should be very careful with recursion as it can be quite easy to slip into writing a function which never terminates, or one that uses excess amojnts of memory or processor power. However, when written correctly recursion can be very efficient and mathematically-elegant approach to programming."
   ]
  },
  {
   "cell_type": "code",
   "execution_count": 14,
   "id": "ef5149db",
   "metadata": {},
   "outputs": [
    {
     "name": "stdout",
     "output_type": "stream",
     "text": [
      "Recursion example results: \n",
      "1\n",
      "3\n",
      "6\n",
      "10\n",
      "15\n",
      "21\n"
     ]
    },
    {
     "data": {
      "text/plain": [
       "21"
      ]
     },
     "execution_count": 14,
     "metadata": {},
     "output_type": "execute_result"
    }
   ],
   "source": [
    "def recursion(i):\n",
    "    if(i>0):\n",
    "        result = i+recursion(i-1)\n",
    "        print(result)\n",
    "    else:\n",
    "        result=0\n",
    "    return result\n",
    "\n",
    "print(\"Recursion example results: \")\n",
    "recursion(6)"
   ]
  },
  {
   "cell_type": "code",
   "execution_count": null,
   "id": "8f8f1472",
   "metadata": {},
   "outputs": [],
   "source": []
  }
 ],
 "metadata": {
  "kernelspec": {
   "display_name": "Python 3",
   "language": "python",
   "name": "python3"
  },
  "language_info": {
   "codemirror_mode": {
    "name": "ipython",
    "version": 3
   },
   "file_extension": ".py",
   "mimetype": "text/x-python",
   "name": "python",
   "nbconvert_exporter": "python",
   "pygments_lexer": "ipython3",
   "version": "3.11.4"
  }
 },
 "nbformat": 4,
 "nbformat_minor": 5
}
