{
 "cells": [
  {
   "cell_type": "markdown",
   "id": "6e042453",
   "metadata": {},
   "source": [
    "# Python Lambda\n",
    "\n",
    "A lambda function in Python is just a small, one-line, unnamed function. It’s mainly used when you need a quick function only once.\n",
    "\n",
    "A lambda function is a small anonymous function.\n",
    "\n",
    "A lambda function can take any no. of args, but can only have one expression.\n",
    "\n",
    "```python\n",
    "Syntax:\n",
    "\n",
    "lambda arguments: expression\n",
    "```\n",
    "\n",
    "The expression is executed and the result is returned."
   ]
  },
  {
   "cell_type": "markdown",
   "id": "7aea5e2c",
   "metadata": {},
   "source": [
    "Example:\n",
    "Add 10 to argument `a`, and return the result:"
   ]
  },
  {
   "cell_type": "code",
   "execution_count": 1,
   "id": "48983ce5",
   "metadata": {},
   "outputs": [
    {
     "name": "stdout",
     "output_type": "stream",
     "text": [
      "15\n"
     ]
    }
   ],
   "source": [
    "x = lambda a : a+10\n",
    "print(x(5))"
   ]
  },
  {
   "cell_type": "markdown",
   "id": "62216765",
   "metadata": {},
   "source": [
    "Lambda functions can take any no. of args."
   ]
  },
  {
   "cell_type": "markdown",
   "id": "4734464a",
   "metadata": {},
   "source": [
    "Example: Multiply arugment `a` with argument `b` and return the result"
   ]
  },
  {
   "cell_type": "code",
   "execution_count": null,
   "id": "d4292371",
   "metadata": {},
   "outputs": [
    {
     "name": "stdout",
     "output_type": "stream",
     "text": [
      "20\n"
     ]
    }
   ],
   "source": [
    "x = lambda a, b : a*b\n",
    "print(x(4,5))"
   ]
  },
  {
   "cell_type": "markdown",
   "id": "3dd56aeb",
   "metadata": {},
   "source": [
    "Example: Summarize args `a`, `b`, and `c` and return the result"
   ]
  },
  {
   "cell_type": "code",
   "execution_count": 3,
   "id": "e919c4b7",
   "metadata": {},
   "outputs": [
    {
     "name": "stdout",
     "output_type": "stream",
     "text": [
      "13\n"
     ]
    }
   ],
   "source": [
    "x = lambda a,b,c : a+b+c\n",
    "print(x(5,6,2))"
   ]
  },
  {
   "cell_type": "markdown",
   "id": "ba793849",
   "metadata": {},
   "source": [
    "## Why use Lambda Functions?\n",
    "\n",
    "The power of lambda is better shown when you use them as an anonymous function inside another function.\n",
    "\n",
    "Say you have a function definition that takes one arg, and that arg will be multiplied with an unknown number:"
   ]
  },
  {
   "cell_type": "code",
   "execution_count": null,
   "id": "07bb2ce9",
   "metadata": {},
   "outputs": [],
   "source": [
    "def myfunc(n):\n",
    "    return lambda a : a*n"
   ]
  },
  {
   "cell_type": "markdown",
   "id": "9fd61181",
   "metadata": {},
   "source": [
    "Use that function definition to make a function that always doubles the number you send in:"
   ]
  },
  {
   "cell_type": "code",
   "execution_count": 5,
   "id": "04e6fd5b",
   "metadata": {},
   "outputs": [
    {
     "name": "stdout",
     "output_type": "stream",
     "text": [
      "22\n"
     ]
    }
   ],
   "source": [
    "mydoubler = myfunc(2)\n",
    "\n",
    "print(mydoubler(11))"
   ]
  },
  {
   "cell_type": "markdown",
   "id": "eb30fe19",
   "metadata": {},
   "source": [
    "Or, use the same function definition to make a function that always triples the number you send in:"
   ]
  },
  {
   "cell_type": "code",
   "execution_count": 6,
   "id": "e51e73f6",
   "metadata": {},
   "outputs": [
    {
     "name": "stdout",
     "output_type": "stream",
     "text": [
      "33\n"
     ]
    }
   ],
   "source": [
    "mytripler = myfunc(3)\n",
    "\n",
    "print(mytripler(11))"
   ]
  },
  {
   "cell_type": "code",
   "execution_count": 7,
   "id": "c24a56a1",
   "metadata": {},
   "outputs": [
    {
     "name": "stdout",
     "output_type": "stream",
     "text": [
      "22\n",
      "33\n"
     ]
    }
   ],
   "source": [
    "def myfunc(n):\n",
    "  return lambda a : a * n\n",
    "\n",
    "mydoubler = myfunc(2)\n",
    "mytripler = myfunc(3)\n",
    "\n",
    "print(mydoubler(11))\n",
    "print(mytripler(11))"
   ]
  },
  {
   "cell_type": "markdown",
   "id": "b7a31d60",
   "metadata": {},
   "source": [
    "> Use lambda functions when an anonymous function is required for a short period of time."
   ]
  }
 ],
 "metadata": {
  "kernelspec": {
   "display_name": "Python 3",
   "language": "python",
   "name": "python3"
  },
  "language_info": {
   "codemirror_mode": {
    "name": "ipython",
    "version": 3
   },
   "file_extension": ".py",
   "mimetype": "text/x-python",
   "name": "python",
   "nbconvert_exporter": "python",
   "pygments_lexer": "ipython3",
   "version": "3.11.4"
  }
 },
 "nbformat": 4,
 "nbformat_minor": 5
}
