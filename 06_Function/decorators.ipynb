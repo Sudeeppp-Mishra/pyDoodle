{
 "cells": [
  {
   "cell_type": "markdown",
   "id": "94e76505",
   "metadata": {},
   "source": [
    "# Python Decorators\n",
    "\n",
    "Decorators let you add extra behavior to a function, without changing the function's code.\n",
    "\n",
    "A decorator is a function that takes another functiona s input and returns a new function."
   ]
  },
  {
   "cell_type": "markdown",
   "id": "924e094b",
   "metadata": {},
   "source": [
    "## What is a Decorator?\n",
    "\n",
    "-\tA decorator in Python is a function that wraps another function to add extra behavior, without changing the original function’s code.\n",
    "-\tThey are applied with the `@decorator_name` syntax.\n",
    "\n",
    "Think of it like:\n",
    "- You have a cake (function).\n",
    "- You add frosting (decorator).\n",
    "- Now the cake looks better, but the cake inside is still the same.\n",
    "\n",
    "## Why use Decorators?\n",
    "- To reuse common logic across multiple functions.\n",
    "- To add functionality without editing existing code.\n",
    "\t- Commonly used in:\n",
    "\t\t-\tLogging\n",
    "\t\t-\tAuthentication\n",
    "\t\t-\tMeasuring execution time\n",
    "\t\t-\tAccess control\n"
   ]
  },
  {
   "cell_type": "markdown",
   "id": "6c71ff3b",
   "metadata": {},
   "source": [
    "## Basic Decorator\n",
    "\n",
    "Define teh decorator first, then apply it with `@decorator_name` above the function.\n"
   ]
  },
  {
   "cell_type": "markdown",
   "id": "f66e096a",
   "metadata": {},
   "source": [
    "## How to make a decorator?"
   ]
  },
  {
   "cell_type": "code",
   "execution_count": null,
   "id": "25f760d6",
   "metadata": {},
   "outputs": [
    {
     "name": "stdout",
     "output_type": "stream",
     "text": [
      "Before the function runs\n",
      "Hello!\n",
      "After the function runs\n"
     ]
    }
   ],
   "source": [
    "def my_decorator(func):\n",
    "    def wrapper():\n",
    "        print(\"Before the function runs\")\n",
    "        func()\n",
    "        print(\"After the function runs\")\n",
    "    return wrapper\n",
    "        \n",
    "@my_decorator \n",
    "def say_hello():\n",
    "    print(\"Hello!\")\n",
    "    \n",
    "say_hello()\n",
    "\n",
    "# Instead of @my_decorator we can do this without writing it:\n",
    "    \n",
    "# say_hello1 = my_decorator(say_hello)\n",
    "# say_hello1()"
   ]
  },
  {
   "cell_type": "markdown",
   "id": "e6f0f2e2",
   "metadata": {},
   "source": [
    "A basic decorator that uppercases the return value of the decorated function:"
   ]
  },
  {
   "cell_type": "code",
   "execution_count": 2,
   "id": "0cb1d0e7",
   "metadata": {},
   "outputs": [
    {
     "name": "stdout",
     "output_type": "stream",
     "text": [
      "HI MAN\n"
     ]
    }
   ],
   "source": [
    "def changecase(func):\n",
    "    def myinner():\n",
    "        return func().upper()\n",
    "    return myinner\n",
    "\n",
    "@changecase\n",
    "def myfunction():\n",
    "    return \"Hi man\"\n",
    "\n",
    "print(myfunction())"
   ]
  },
  {
   "cell_type": "markdown",
   "id": "c489656e",
   "metadata": {},
   "source": [
    "By placing `@changecase` directly above the function definition, the function `myfunction` is being \"decorated\" with the `changecase` function.\n",
    "\n",
    "The function `changecase` is the decorator.\n",
    "\n",
    "The function `myfunction` is the function that gets decorated."
   ]
  },
  {
   "cell_type": "markdown",
   "id": "90a30de3",
   "metadata": {},
   "source": [
    "## Multiple Decorator Calls\n",
    "\n",
    "A decorator can be called multiple times. Just place the decorator above the function you want to decorate."
   ]
  },
  {
   "cell_type": "code",
   "execution_count": 5,
   "id": "2057790b",
   "metadata": {},
   "outputs": [
    {
     "name": "stdout",
     "output_type": "stream",
     "text": [
      "HII\n",
      "HELLO\n"
     ]
    }
   ],
   "source": [
    "def changecase(func):\n",
    "    def wrapper():\n",
    "        return func().upper()\n",
    "    return wrapper\n",
    "\n",
    "@changecase\n",
    "def myfunction():\n",
    "    return \"Hii\"\n",
    "\n",
    "@changecase\n",
    "def otherfunc():\n",
    "    return \"Hello\"\n",
    "\n",
    "print(myfunction())\n",
    "print(otherfunc())"
   ]
  },
  {
   "cell_type": "markdown",
   "id": "b4e1c9a4",
   "metadata": {},
   "source": [
    "## Arguments in the Decorated Function\n",
    "Functions that requires arguments can also be decorated, just make sure you pass the arguments to the wrapper function:"
   ]
  },
  {
   "cell_type": "code",
   "execution_count": 14,
   "id": "0b9c0393",
   "metadata": {},
   "outputs": [
    {
     "name": "stdout",
     "output_type": "stream",
     "text": [
      "HELLO JOHN\n"
     ]
    }
   ],
   "source": [
    "def changecase(func):\n",
    "    def wrapper(x):\n",
    "        return func(x).upper()\n",
    "    return wrapper\n",
    "\n",
    "@changecase\n",
    "def myfunction(name):\n",
    "    return \"Hello \"+name\n",
    "\n",
    "print(myfunction(\"John\"))"
   ]
  },
  {
   "cell_type": "markdown",
   "id": "b74fecc6",
   "metadata": {},
   "source": [
    "## *args and **kwargs\n",
    "Sometimes the decorator function has no control over the arguments passed from decorated function, to solve this problem, add `(*args, **kwargs)` to the wrapper function, this way the wrapper function can accept any number, and any type of arguments, and pass them to the decorated function."
   ]
  },
  {
   "cell_type": "code",
   "execution_count": 16,
   "id": "eee91c6c",
   "metadata": {},
   "outputs": [
    {
     "name": "stdout",
     "output_type": "stream",
     "text": [
      "HI KRISHNA\n"
     ]
    }
   ],
   "source": [
    "def changecase(func):\n",
    "    def myinnner(*args, **kwargs):\n",
    "        return func(*args, **kwargs).upper()\n",
    "    return myinnner\n",
    "\n",
    "@changecase\n",
    "def myfunction(name):\n",
    "    return \"Hi \"+name\n",
    "\n",
    "print(myfunction(\"Krishna\"))"
   ]
  },
  {
   "cell_type": "markdown",
   "id": "7d7ce0fc",
   "metadata": {},
   "source": [
    "## Decorator with Arguments\n",
    "\n",
    "Decorators can accept their own arguments by adding another wrapper level"
   ]
  },
  {
   "cell_type": "markdown",
   "id": "1239cfaa",
   "metadata": {},
   "source": [
    "eg: A decorator factory that takes an argument and transforms the casing based on the argument value"
   ]
  },
  {
   "cell_type": "code",
   "execution_count": 17,
   "id": "1f74bd92",
   "metadata": {},
   "outputs": [
    {
     "name": "stdout",
     "output_type": "stream",
     "text": [
      "hello linus\n"
     ]
    }
   ],
   "source": [
    "def changecase(n):\n",
    "    def changecase(func):\n",
    "        def myinner():\n",
    "            if n==1:\n",
    "                a = func().lower()\n",
    "            else:\n",
    "                a = func().upper()\n",
    "            return a\n",
    "        return myinner\n",
    "    return changecase\n",
    "\n",
    "@changecase(1)\n",
    "def myfunction():\n",
    "    return \"Hello linus\"\n",
    "\n",
    "print(myfunction())"
   ]
  },
  {
   "cell_type": "markdown",
   "id": "f1ff3873",
   "metadata": {},
   "source": [
    "## Multiple Decorators\n",
    "\n",
    "```text\n",
    "We can use multiple decorators on one function.\n",
    "This is done by placing the decorator calls on top of each other.\n",
    "The decorators are called in the order they are specified.\n",
    "```"
   ]
  },
  {
   "cell_type": "code",
   "execution_count": 18,
   "id": "eb737cfd",
   "metadata": {},
   "outputs": [
    {
     "name": "stdout",
     "output_type": "stream",
     "text": [
      "HELLO KRISHNA HAVE A GOOD DAY!\n"
     ]
    }
   ],
   "source": [
    "def changecase(func):\n",
    "    def wrapper():\n",
    "        return func().upper()\n",
    "    return wrapper\n",
    "\n",
    "def addgreeting(func):\n",
    "    def wrapper():\n",
    "        return \"Hello \"+func()+\" Have a good day!\"\n",
    "    return wrapper\n",
    "\n",
    "@changecase\n",
    "@addgreeting\n",
    "def myfunction():\n",
    "    return \"Krishna\"\n",
    "\n",
    "print(myfunction())"
   ]
  },
  {
   "cell_type": "markdown",
   "id": "46c72a44",
   "metadata": {},
   "source": [
    "## Preserving Function Metadata\n",
    "\n",
    "Functions in Python has metadata that can be accessed using the `__name__` and `__doc__` attributes.\n",
    "\n",
    "Normally, a function's name can be returned with the `__name__` attribute:"
   ]
  },
  {
   "cell_type": "code",
   "execution_count": 22,
   "id": "bf4ae898",
   "metadata": {},
   "outputs": [
    {
     "name": "stdout",
     "output_type": "stream",
     "text": [
      "myfunction\n",
      "\n",
      "    Hellooooooo.....this is doc string...\n",
      "    \n"
     ]
    }
   ],
   "source": [
    "def myfunction():\n",
    "    '''\n",
    "    Hellooooooo.....this is doc string...\n",
    "    '''\n",
    "    return \"Have a great day!\"\n",
    "\n",
    "print(myfunction.__name__)\n",
    "print(myfunction.__doc__)"
   ]
  },
  {
   "cell_type": "markdown",
   "id": "efabfe2b",
   "metadata": {},
   "source": [
    "But, when a function is decorated, the metadata of the original function is lost."
   ]
  },
  {
   "cell_type": "code",
   "execution_count": 23,
   "id": "c4bd6f69",
   "metadata": {},
   "outputs": [
    {
     "name": "stdout",
     "output_type": "stream",
     "text": [
      "wrapper\n"
     ]
    }
   ],
   "source": [
    "def changecase(func):\n",
    "    def wrapper():\n",
    "        return func().upper()\n",
    "    return wrapper\n",
    "\n",
    "@changecase\n",
    "def myfunction():\n",
    "    return \"Have a great day!\"\n",
    "\n",
    "print(myfunction.__name__)"
   ]
  },
  {
   "cell_type": "markdown",
   "id": "a63c5f0b",
   "metadata": {},
   "source": [
    "To fix this, Python has a built-in function called `functools.wraps` that can be used to preserve the original function's name and docstring."
   ]
  },
  {
   "cell_type": "code",
   "execution_count": 25,
   "id": "d1cff7a7",
   "metadata": {},
   "outputs": [
    {
     "name": "stdout",
     "output_type": "stream",
     "text": [
      "myfunction\n"
     ]
    }
   ],
   "source": [
    "import functools\n",
    "\n",
    "def changecase(func):\n",
    "    @functools.wraps(func)\n",
    "    def wrapper():\n",
    "        return func().upper()\n",
    "    return wrapper\n",
    "\n",
    "@changecase\n",
    "def myfunction():\n",
    "    return \"Have a great day!\"\n",
    "\n",
    "print(myfunction.__name__)"
   ]
  }
 ],
 "metadata": {
  "kernelspec": {
   "display_name": "Python 3",
   "language": "python",
   "name": "python3"
  },
  "language_info": {
   "codemirror_mode": {
    "name": "ipython",
    "version": 3
   },
   "file_extension": ".py",
   "mimetype": "text/x-python",
   "name": "python",
   "nbconvert_exporter": "python",
   "pygments_lexer": "ipython3",
   "version": "3.11.4"
  }
 },
 "nbformat": 4,
 "nbformat_minor": 5
}
